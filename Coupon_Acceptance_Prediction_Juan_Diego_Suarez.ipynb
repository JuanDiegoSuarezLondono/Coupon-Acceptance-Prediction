{
 "cells": [
  {
   "cell_type": "markdown",
   "metadata": {},
   "source": [
    "### Will a Customer Accept the Coupon?\n",
    "\n",
    "**Context**\n",
    "\n",
    "Imagine driving through town and a coupon is delivered to your cell phone for a restaraunt near where you are driving. Would you accept that coupon and take a short detour to the restaraunt? Would you accept the coupon but use it on a sunbsequent trip? Would you ignore the coupon entirely? What if the coupon was for a bar instead of a restaraunt? What about a coffee house? Would you accept a bar coupon with a minor passenger in the car? What about if it was just you and your partner in the car? Would weather impact the rate of acceptance? What about the time of day?\n",
    "\n",
    "Obviously, proximity to the business is a factor on whether the coupon is delivered to the driver or not, but what are the factors that determine whether a driver accepts the coupon once it is delivered to them? How would you determine whether a driver is likely to accept a coupon?\n",
    "\n",
    "**Overview**\n",
    "\n",
    "The goal of this project is to use what you know about visualizations and probability distributions to distinguish between customers who accepted a driving coupon versus those that did not.\n",
    "\n",
    "**Data**\n",
    "\n",
    "This data comes to us from the UCI Machine Learning repository and was collected via a survey on Amazon Mechanical Turk. The survey describes different driving scenarios including the destination, current time, weather, passenger, etc., and then ask the person whether he will accept the coupon if he is the driver. Answers that the user will drive there ‘right away’ or ‘later before the coupon expires’ are labeled as ‘Y = 1’ and answers ‘no, I do not want the coupon’ are labeled as ‘Y = 0’.  There are five different types of coupons -- less expensive restaurants (under \\\\$20), coffee houses, carry out & take away, bar, and more expensive restaurants (\\\\$20 - \\\\$50). "
   ]
  },
  {
   "cell_type": "markdown",
   "metadata": {},
   "source": [
    "**Deliverables**\n",
    "\n",
    "Your final product should be a brief report that highlights the differences between customers who did and did not accept the coupons.  To explore the data you will utilize your knowledge of plotting, statistical summaries, and visualization using Python. You will publish your findings in a public facing github repository as your first portfolio piece. \n",
    "\n",
    "\n",
    "\n"
   ]
  },
  {
   "cell_type": "markdown",
   "metadata": {},
   "source": [
    "### Data Description\n",
    "Keep in mind that these values mentioned below are average values.\n",
    "\n",
    "The attributes of this data set include:\n",
    "1. User attributes\n",
    "    -  Gender: male, female\n",
    "    -  Age: below 21, 21 to 25, 26 to 30, etc.\n",
    "    -  Marital Status: single, married partner, unmarried partner, or widowed\n",
    "    -  Number of children: 0, 1, or more than 1\n",
    "    -  Education: high school, bachelors degree, associates degree, or graduate degree\n",
    "    -  Occupation: architecture & engineering, business & financial, etc.\n",
    "    -  Annual income: less than \\\\$12500, \\\\$12500 - \\\\$24999, \\\\$25000 - \\\\$37499, etc.\n",
    "    -  Number of times that he/she goes to a bar: 0, less than 1, 1 to 3, 4 to 8 or greater than 8\n",
    "    -  Number of times that he/she buys takeaway food: 0, less than 1, 1 to 3, 4 to 8 or greater\n",
    "    than 8\n",
    "    -  Number of times that he/she goes to a coffee house: 0, less than 1, 1 to 3, 4 to 8 or\n",
    "    greater than 8\n",
    "    -  Number of times that he/she eats at a restaurant with average expense less than \\\\$20 per\n",
    "    person: 0, less than 1, 1 to 3, 4 to 8 or greater than 8\n",
    "    -  Number of times that he/she goes to a bar: 0, less than 1, 1 to 3, 4 to 8 or greater than 8\n",
    "    \n",
    "\n",
    "2. Contextual attributes\n",
    "    - Driving destination: home, work, or no urgent destination\n",
    "    - Location of user, coupon and destination: we provide a map to show the geographical\n",
    "    location of the user, destination, and the venue, and we mark the distance between each\n",
    "    two places with time of driving. The user can see whether the venue is in the same\n",
    "    direction as the destination.\n",
    "    - Weather: sunny, rainy, or snowy\n",
    "    - Temperature: 30F, 55F, or 80F\n",
    "    - Time: 10AM, 2PM, or 6PM\n",
    "    - Passenger: alone, partner, kid(s), or friend(s)\n",
    "\n",
    "\n",
    "3. Coupon attributes\n",
    "    - time before it expires: 2 hours or one day"
   ]
  },
  {
   "cell_type": "code",
   "execution_count": 129,
   "metadata": {},
   "outputs": [],
   "source": [
    "import matplotlib.pyplot as plt\n",
    "import seaborn as sns\n",
    "import pandas as pd\n",
    "import numpy as np\n",
    "import plotly.express as px"
   ]
  },
  {
   "cell_type": "markdown",
   "metadata": {},
   "source": [
    "## Problems\n",
    "\n",
    "Use the prompts below to get started with your data analysis.  \n",
    "\n",
    "### 1. Read in the `coupons.csv` file.\n",
    "\n",
    "\n"
   ]
  },
  {
   "cell_type": "code",
   "execution_count": 130,
   "metadata": {},
   "outputs": [],
   "source": [
    "# Read the CSV file\n",
    "data = pd.read_csv('data/coupons.csv')"
   ]
  },
  {
   "cell_type": "code",
   "execution_count": 131,
   "metadata": {
    "scrolled": false
   },
   "outputs": [
    {
     "data": {
      "text/html": [
       "<div>\n",
       "<style scoped>\n",
       "    .dataframe tbody tr th:only-of-type {\n",
       "        vertical-align: middle;\n",
       "    }\n",
       "\n",
       "    .dataframe tbody tr th {\n",
       "        vertical-align: top;\n",
       "    }\n",
       "\n",
       "    .dataframe thead th {\n",
       "        text-align: right;\n",
       "    }\n",
       "</style>\n",
       "<table border=\"1\" class=\"dataframe\">\n",
       "  <thead>\n",
       "    <tr style=\"text-align: right;\">\n",
       "      <th></th>\n",
       "      <th>destination</th>\n",
       "      <th>passanger</th>\n",
       "      <th>weather</th>\n",
       "      <th>temperature</th>\n",
       "      <th>time</th>\n",
       "      <th>coupon</th>\n",
       "      <th>expiration</th>\n",
       "      <th>gender</th>\n",
       "      <th>age</th>\n",
       "      <th>maritalStatus</th>\n",
       "      <th>...</th>\n",
       "      <th>CoffeeHouse</th>\n",
       "      <th>CarryAway</th>\n",
       "      <th>RestaurantLessThan20</th>\n",
       "      <th>Restaurant20To50</th>\n",
       "      <th>toCoupon_GEQ5min</th>\n",
       "      <th>toCoupon_GEQ15min</th>\n",
       "      <th>toCoupon_GEQ25min</th>\n",
       "      <th>direction_same</th>\n",
       "      <th>direction_opp</th>\n",
       "      <th>Y</th>\n",
       "    </tr>\n",
       "  </thead>\n",
       "  <tbody>\n",
       "    <tr>\n",
       "      <th>0</th>\n",
       "      <td>No Urgent Place</td>\n",
       "      <td>Alone</td>\n",
       "      <td>Sunny</td>\n",
       "      <td>55</td>\n",
       "      <td>2PM</td>\n",
       "      <td>Restaurant(&lt;20)</td>\n",
       "      <td>1d</td>\n",
       "      <td>Female</td>\n",
       "      <td>21</td>\n",
       "      <td>Unmarried partner</td>\n",
       "      <td>...</td>\n",
       "      <td>never</td>\n",
       "      <td>NaN</td>\n",
       "      <td>4~8</td>\n",
       "      <td>1~3</td>\n",
       "      <td>1</td>\n",
       "      <td>0</td>\n",
       "      <td>0</td>\n",
       "      <td>0</td>\n",
       "      <td>1</td>\n",
       "      <td>1</td>\n",
       "    </tr>\n",
       "    <tr>\n",
       "      <th>1</th>\n",
       "      <td>No Urgent Place</td>\n",
       "      <td>Friend(s)</td>\n",
       "      <td>Sunny</td>\n",
       "      <td>80</td>\n",
       "      <td>10AM</td>\n",
       "      <td>Coffee House</td>\n",
       "      <td>2h</td>\n",
       "      <td>Female</td>\n",
       "      <td>21</td>\n",
       "      <td>Unmarried partner</td>\n",
       "      <td>...</td>\n",
       "      <td>never</td>\n",
       "      <td>NaN</td>\n",
       "      <td>4~8</td>\n",
       "      <td>1~3</td>\n",
       "      <td>1</td>\n",
       "      <td>0</td>\n",
       "      <td>0</td>\n",
       "      <td>0</td>\n",
       "      <td>1</td>\n",
       "      <td>0</td>\n",
       "    </tr>\n",
       "    <tr>\n",
       "      <th>2</th>\n",
       "      <td>No Urgent Place</td>\n",
       "      <td>Friend(s)</td>\n",
       "      <td>Sunny</td>\n",
       "      <td>80</td>\n",
       "      <td>10AM</td>\n",
       "      <td>Carry out &amp; Take away</td>\n",
       "      <td>2h</td>\n",
       "      <td>Female</td>\n",
       "      <td>21</td>\n",
       "      <td>Unmarried partner</td>\n",
       "      <td>...</td>\n",
       "      <td>never</td>\n",
       "      <td>NaN</td>\n",
       "      <td>4~8</td>\n",
       "      <td>1~3</td>\n",
       "      <td>1</td>\n",
       "      <td>1</td>\n",
       "      <td>0</td>\n",
       "      <td>0</td>\n",
       "      <td>1</td>\n",
       "      <td>1</td>\n",
       "    </tr>\n",
       "    <tr>\n",
       "      <th>3</th>\n",
       "      <td>No Urgent Place</td>\n",
       "      <td>Friend(s)</td>\n",
       "      <td>Sunny</td>\n",
       "      <td>80</td>\n",
       "      <td>2PM</td>\n",
       "      <td>Coffee House</td>\n",
       "      <td>2h</td>\n",
       "      <td>Female</td>\n",
       "      <td>21</td>\n",
       "      <td>Unmarried partner</td>\n",
       "      <td>...</td>\n",
       "      <td>never</td>\n",
       "      <td>NaN</td>\n",
       "      <td>4~8</td>\n",
       "      <td>1~3</td>\n",
       "      <td>1</td>\n",
       "      <td>1</td>\n",
       "      <td>0</td>\n",
       "      <td>0</td>\n",
       "      <td>1</td>\n",
       "      <td>0</td>\n",
       "    </tr>\n",
       "    <tr>\n",
       "      <th>4</th>\n",
       "      <td>No Urgent Place</td>\n",
       "      <td>Friend(s)</td>\n",
       "      <td>Sunny</td>\n",
       "      <td>80</td>\n",
       "      <td>2PM</td>\n",
       "      <td>Coffee House</td>\n",
       "      <td>1d</td>\n",
       "      <td>Female</td>\n",
       "      <td>21</td>\n",
       "      <td>Unmarried partner</td>\n",
       "      <td>...</td>\n",
       "      <td>never</td>\n",
       "      <td>NaN</td>\n",
       "      <td>4~8</td>\n",
       "      <td>1~3</td>\n",
       "      <td>1</td>\n",
       "      <td>1</td>\n",
       "      <td>0</td>\n",
       "      <td>0</td>\n",
       "      <td>1</td>\n",
       "      <td>0</td>\n",
       "    </tr>\n",
       "  </tbody>\n",
       "</table>\n",
       "<p>5 rows × 26 columns</p>\n",
       "</div>"
      ],
      "text/plain": [
       "       destination  passanger weather  temperature  time  \\\n",
       "0  No Urgent Place      Alone   Sunny           55   2PM   \n",
       "1  No Urgent Place  Friend(s)   Sunny           80  10AM   \n",
       "2  No Urgent Place  Friend(s)   Sunny           80  10AM   \n",
       "3  No Urgent Place  Friend(s)   Sunny           80   2PM   \n",
       "4  No Urgent Place  Friend(s)   Sunny           80   2PM   \n",
       "\n",
       "                  coupon expiration  gender age      maritalStatus  ...  \\\n",
       "0        Restaurant(<20)         1d  Female  21  Unmarried partner  ...   \n",
       "1           Coffee House         2h  Female  21  Unmarried partner  ...   \n",
       "2  Carry out & Take away         2h  Female  21  Unmarried partner  ...   \n",
       "3           Coffee House         2h  Female  21  Unmarried partner  ...   \n",
       "4           Coffee House         1d  Female  21  Unmarried partner  ...   \n",
       "\n",
       "   CoffeeHouse CarryAway RestaurantLessThan20 Restaurant20To50  \\\n",
       "0        never       NaN                  4~8              1~3   \n",
       "1        never       NaN                  4~8              1~3   \n",
       "2        never       NaN                  4~8              1~3   \n",
       "3        never       NaN                  4~8              1~3   \n",
       "4        never       NaN                  4~8              1~3   \n",
       "\n",
       "  toCoupon_GEQ5min toCoupon_GEQ15min toCoupon_GEQ25min direction_same  \\\n",
       "0                1                 0                 0              0   \n",
       "1                1                 0                 0              0   \n",
       "2                1                 1                 0              0   \n",
       "3                1                 1                 0              0   \n",
       "4                1                 1                 0              0   \n",
       "\n",
       "  direction_opp  Y  \n",
       "0             1  1  \n",
       "1             1  0  \n",
       "2             1  1  \n",
       "3             1  0  \n",
       "4             1  0  \n",
       "\n",
       "[5 rows x 26 columns]"
      ]
     },
     "execution_count": 131,
     "metadata": {},
     "output_type": "execute_result"
    }
   ],
   "source": [
    "# Display the first 5 rows of the data\n",
    "data.head(5)"
   ]
  },
  {
   "cell_type": "markdown",
   "metadata": {},
   "source": [
    "### 2. Investigate the dataset for missing or problematic data."
   ]
  },
  {
   "cell_type": "code",
   "execution_count": 132,
   "metadata": {},
   "outputs": [
    {
     "name": "stdout",
     "output_type": "stream",
     "text": [
      "<class 'pandas.core.frame.DataFrame'>\n",
      "RangeIndex: 12684 entries, 0 to 12683\n",
      "Data columns (total 26 columns):\n",
      " #   Column                Non-Null Count  Dtype \n",
      "---  ------                --------------  ----- \n",
      " 0   destination           12684 non-null  object\n",
      " 1   passanger             12684 non-null  object\n",
      " 2   weather               12684 non-null  object\n",
      " 3   temperature           12684 non-null  int64 \n",
      " 4   time                  12684 non-null  object\n",
      " 5   coupon                12684 non-null  object\n",
      " 6   expiration            12684 non-null  object\n",
      " 7   gender                12684 non-null  object\n",
      " 8   age                   12684 non-null  object\n",
      " 9   maritalStatus         12684 non-null  object\n",
      " 10  has_children          12684 non-null  int64 \n",
      " 11  education             12684 non-null  object\n",
      " 12  occupation            12684 non-null  object\n",
      " 13  income                12684 non-null  object\n",
      " 14  car                   108 non-null    object\n",
      " 15  Bar                   12577 non-null  object\n",
      " 16  CoffeeHouse           12467 non-null  object\n",
      " 17  CarryAway             12533 non-null  object\n",
      " 18  RestaurantLessThan20  12554 non-null  object\n",
      " 19  Restaurant20To50      12495 non-null  object\n",
      " 20  toCoupon_GEQ5min      12684 non-null  int64 \n",
      " 21  toCoupon_GEQ15min     12684 non-null  int64 \n",
      " 22  toCoupon_GEQ25min     12684 non-null  int64 \n",
      " 23  direction_same        12684 non-null  int64 \n",
      " 24  direction_opp         12684 non-null  int64 \n",
      " 25  Y                     12684 non-null  int64 \n",
      "dtypes: int64(8), object(18)\n",
      "memory usage: 2.5+ MB\n"
     ]
    }
   ],
   "source": [
    "# Display information about the dataset\n",
    "data.info()"
   ]
  },
  {
   "cell_type": "code",
   "execution_count": 133,
   "metadata": {
    "scrolled": false
   },
   "outputs": [
    {
     "data": {
      "text/html": [
       "<div>\n",
       "<style scoped>\n",
       "    .dataframe tbody tr th:only-of-type {\n",
       "        vertical-align: middle;\n",
       "    }\n",
       "\n",
       "    .dataframe tbody tr th {\n",
       "        vertical-align: top;\n",
       "    }\n",
       "\n",
       "    .dataframe thead th {\n",
       "        text-align: right;\n",
       "    }\n",
       "</style>\n",
       "<table border=\"1\" class=\"dataframe\">\n",
       "  <thead>\n",
       "    <tr style=\"text-align: right;\">\n",
       "      <th></th>\n",
       "      <th>destination</th>\n",
       "      <th>passanger</th>\n",
       "      <th>weather</th>\n",
       "      <th>temperature</th>\n",
       "      <th>time</th>\n",
       "      <th>coupon</th>\n",
       "      <th>expiration</th>\n",
       "      <th>gender</th>\n",
       "      <th>age</th>\n",
       "      <th>maritalStatus</th>\n",
       "      <th>has_children</th>\n",
       "      <th>education</th>\n",
       "      <th>occupation</th>\n",
       "    </tr>\n",
       "  </thead>\n",
       "  <tbody>\n",
       "    <tr>\n",
       "      <th>10483</th>\n",
       "      <td>Work</td>\n",
       "      <td>Alone</td>\n",
       "      <td>Sunny</td>\n",
       "      <td>80</td>\n",
       "      <td>7AM</td>\n",
       "      <td>Coffee House</td>\n",
       "      <td>1d</td>\n",
       "      <td>Female</td>\n",
       "      <td>31</td>\n",
       "      <td>Unmarried partner</td>\n",
       "      <td>0</td>\n",
       "      <td>Graduate degree (Masters or Doctorate)</td>\n",
       "      <td>Student</td>\n",
       "    </tr>\n",
       "    <tr>\n",
       "      <th>4276</th>\n",
       "      <td>Work</td>\n",
       "      <td>Alone</td>\n",
       "      <td>Sunny</td>\n",
       "      <td>80</td>\n",
       "      <td>7AM</td>\n",
       "      <td>Coffee House</td>\n",
       "      <td>2h</td>\n",
       "      <td>Female</td>\n",
       "      <td>26</td>\n",
       "      <td>Single</td>\n",
       "      <td>0</td>\n",
       "      <td>Bachelors degree</td>\n",
       "      <td>Education&amp;Training&amp;Library</td>\n",
       "    </tr>\n",
       "    <tr>\n",
       "      <th>9190</th>\n",
       "      <td>No Urgent Place</td>\n",
       "      <td>Alone</td>\n",
       "      <td>Snowy</td>\n",
       "      <td>30</td>\n",
       "      <td>2PM</td>\n",
       "      <td>Bar</td>\n",
       "      <td>1d</td>\n",
       "      <td>Male</td>\n",
       "      <td>21</td>\n",
       "      <td>Single</td>\n",
       "      <td>0</td>\n",
       "      <td>Bachelors degree</td>\n",
       "      <td>Legal</td>\n",
       "    </tr>\n",
       "    <tr>\n",
       "      <th>2329</th>\n",
       "      <td>Home</td>\n",
       "      <td>Alone</td>\n",
       "      <td>Sunny</td>\n",
       "      <td>80</td>\n",
       "      <td>6PM</td>\n",
       "      <td>Coffee House</td>\n",
       "      <td>2h</td>\n",
       "      <td>Female</td>\n",
       "      <td>31</td>\n",
       "      <td>Single</td>\n",
       "      <td>0</td>\n",
       "      <td>Bachelors degree</td>\n",
       "      <td>Sales &amp; Related</td>\n",
       "    </tr>\n",
       "    <tr>\n",
       "      <th>26</th>\n",
       "      <td>No Urgent Place</td>\n",
       "      <td>Friend(s)</td>\n",
       "      <td>Sunny</td>\n",
       "      <td>80</td>\n",
       "      <td>2PM</td>\n",
       "      <td>Coffee House</td>\n",
       "      <td>1d</td>\n",
       "      <td>Male</td>\n",
       "      <td>21</td>\n",
       "      <td>Single</td>\n",
       "      <td>0</td>\n",
       "      <td>Bachelors degree</td>\n",
       "      <td>Architecture &amp; Engineering</td>\n",
       "    </tr>\n",
       "  </tbody>\n",
       "</table>\n",
       "</div>"
      ],
      "text/plain": [
       "           destination  passanger weather  temperature time        coupon  \\\n",
       "10483             Work      Alone   Sunny           80  7AM  Coffee House   \n",
       "4276              Work      Alone   Sunny           80  7AM  Coffee House   \n",
       "9190   No Urgent Place      Alone   Snowy           30  2PM           Bar   \n",
       "2329              Home      Alone   Sunny           80  6PM  Coffee House   \n",
       "26     No Urgent Place  Friend(s)   Sunny           80  2PM  Coffee House   \n",
       "\n",
       "      expiration  gender age      maritalStatus  has_children  \\\n",
       "10483         1d  Female  31  Unmarried partner             0   \n",
       "4276          2h  Female  26             Single             0   \n",
       "9190          1d    Male  21             Single             0   \n",
       "2329          2h  Female  31             Single             0   \n",
       "26            1d    Male  21             Single             0   \n",
       "\n",
       "                                    education                  occupation  \n",
       "10483  Graduate degree (Masters or Doctorate)                     Student  \n",
       "4276                         Bachelors degree  Education&Training&Library  \n",
       "9190                         Bachelors degree                       Legal  \n",
       "2329                         Bachelors degree             Sales & Related  \n",
       "26                           Bachelors degree  Architecture & Engineering  "
      ]
     },
     "execution_count": 133,
     "metadata": {},
     "output_type": "execute_result"
    }
   ],
   "source": [
    "# View data from the first 13 columns\n",
    "data.iloc[:,:13].sample(5)"
   ]
  },
  {
   "cell_type": "code",
   "execution_count": 134,
   "metadata": {},
   "outputs": [
    {
     "data": {
      "text/plain": [
       "array(['21', '46', '26', '31', '41', '50plus', '36', 'below21'],\n",
       "      dtype=object)"
      ]
     },
     "execution_count": 134,
     "metadata": {},
     "output_type": "execute_result"
    }
   ],
   "source": [
    "# Explore unique values in the \"age\" column\n",
    "data[\"age\"].unique()"
   ]
  },
  {
   "cell_type": "code",
   "execution_count": 135,
   "metadata": {},
   "outputs": [
    {
     "data": {
      "text/html": [
       "<div>\n",
       "<style scoped>\n",
       "    .dataframe tbody tr th:only-of-type {\n",
       "        vertical-align: middle;\n",
       "    }\n",
       "\n",
       "    .dataframe tbody tr th {\n",
       "        vertical-align: top;\n",
       "    }\n",
       "\n",
       "    .dataframe thead th {\n",
       "        text-align: right;\n",
       "    }\n",
       "</style>\n",
       "<table border=\"1\" class=\"dataframe\">\n",
       "  <thead>\n",
       "    <tr style=\"text-align: right;\">\n",
       "      <th></th>\n",
       "      <th>income</th>\n",
       "      <th>car</th>\n",
       "      <th>Bar</th>\n",
       "      <th>CoffeeHouse</th>\n",
       "      <th>CarryAway</th>\n",
       "      <th>RestaurantLessThan20</th>\n",
       "      <th>Restaurant20To50</th>\n",
       "      <th>toCoupon_GEQ5min</th>\n",
       "      <th>toCoupon_GEQ15min</th>\n",
       "      <th>toCoupon_GEQ25min</th>\n",
       "      <th>direction_same</th>\n",
       "      <th>direction_opp</th>\n",
       "      <th>Y</th>\n",
       "    </tr>\n",
       "  </thead>\n",
       "  <tbody>\n",
       "    <tr>\n",
       "      <th>2928</th>\n",
       "      <td>$25000 - $37499</td>\n",
       "      <td>NaN</td>\n",
       "      <td>1~3</td>\n",
       "      <td>less1</td>\n",
       "      <td>1~3</td>\n",
       "      <td>less1</td>\n",
       "      <td>4~8</td>\n",
       "      <td>1</td>\n",
       "      <td>1</td>\n",
       "      <td>0</td>\n",
       "      <td>0</td>\n",
       "      <td>1</td>\n",
       "      <td>0</td>\n",
       "    </tr>\n",
       "    <tr>\n",
       "      <th>4410</th>\n",
       "      <td>$37500 - $49999</td>\n",
       "      <td>NaN</td>\n",
       "      <td>less1</td>\n",
       "      <td>never</td>\n",
       "      <td>less1</td>\n",
       "      <td>1~3</td>\n",
       "      <td>never</td>\n",
       "      <td>1</td>\n",
       "      <td>0</td>\n",
       "      <td>0</td>\n",
       "      <td>1</td>\n",
       "      <td>0</td>\n",
       "      <td>0</td>\n",
       "    </tr>\n",
       "    <tr>\n",
       "      <th>1583</th>\n",
       "      <td>$25000 - $37499</td>\n",
       "      <td>NaN</td>\n",
       "      <td>less1</td>\n",
       "      <td>never</td>\n",
       "      <td>1~3</td>\n",
       "      <td>less1</td>\n",
       "      <td>never</td>\n",
       "      <td>1</td>\n",
       "      <td>1</td>\n",
       "      <td>1</td>\n",
       "      <td>0</td>\n",
       "      <td>1</td>\n",
       "      <td>0</td>\n",
       "    </tr>\n",
       "    <tr>\n",
       "      <th>7429</th>\n",
       "      <td>$25000 - $37499</td>\n",
       "      <td>NaN</td>\n",
       "      <td>less1</td>\n",
       "      <td>less1</td>\n",
       "      <td>4~8</td>\n",
       "      <td>1~3</td>\n",
       "      <td>never</td>\n",
       "      <td>1</td>\n",
       "      <td>1</td>\n",
       "      <td>0</td>\n",
       "      <td>0</td>\n",
       "      <td>1</td>\n",
       "      <td>1</td>\n",
       "    </tr>\n",
       "    <tr>\n",
       "      <th>10138</th>\n",
       "      <td>$75000 - $87499</td>\n",
       "      <td>NaN</td>\n",
       "      <td>never</td>\n",
       "      <td>never</td>\n",
       "      <td>1~3</td>\n",
       "      <td>4~8</td>\n",
       "      <td>less1</td>\n",
       "      <td>1</td>\n",
       "      <td>1</td>\n",
       "      <td>0</td>\n",
       "      <td>1</td>\n",
       "      <td>0</td>\n",
       "      <td>0</td>\n",
       "    </tr>\n",
       "  </tbody>\n",
       "</table>\n",
       "</div>"
      ],
      "text/plain": [
       "                income  car    Bar CoffeeHouse CarryAway RestaurantLessThan20  \\\n",
       "2928   $25000 - $37499  NaN    1~3       less1       1~3                less1   \n",
       "4410   $37500 - $49999  NaN  less1       never     less1                  1~3   \n",
       "1583   $25000 - $37499  NaN  less1       never       1~3                less1   \n",
       "7429   $25000 - $37499  NaN  less1       less1       4~8                  1~3   \n",
       "10138  $75000 - $87499  NaN  never       never       1~3                  4~8   \n",
       "\n",
       "      Restaurant20To50  toCoupon_GEQ5min  toCoupon_GEQ15min  \\\n",
       "2928               4~8                 1                  1   \n",
       "4410             never                 1                  0   \n",
       "1583             never                 1                  1   \n",
       "7429             never                 1                  1   \n",
       "10138            less1                 1                  1   \n",
       "\n",
       "       toCoupon_GEQ25min  direction_same  direction_opp  Y  \n",
       "2928                   0               0              1  0  \n",
       "4410                   0               1              0  0  \n",
       "1583                   1               0              1  0  \n",
       "7429                   0               0              1  1  \n",
       "10138                  0               1              0  0  "
      ]
     },
     "execution_count": 135,
     "metadata": {},
     "output_type": "execute_result"
    }
   ],
   "source": [
    "# View data from the last 13 columns\n",
    "data.iloc[:,13:].sample(5)"
   ]
  },
  {
   "cell_type": "code",
   "execution_count": 136,
   "metadata": {},
   "outputs": [
    {
     "data": {
      "text/plain": [
       "destination                 0\n",
       "passanger                   0\n",
       "weather                     0\n",
       "temperature                 0\n",
       "time                        0\n",
       "coupon                      0\n",
       "expiration                  0\n",
       "gender                      0\n",
       "age                         0\n",
       "maritalStatus               0\n",
       "has_children                0\n",
       "education                   0\n",
       "occupation                  0\n",
       "income                      0\n",
       "car                     12576\n",
       "Bar                       107\n",
       "CoffeeHouse               217\n",
       "CarryAway                 151\n",
       "RestaurantLessThan20      130\n",
       "Restaurant20To50          189\n",
       "toCoupon_GEQ5min            0\n",
       "toCoupon_GEQ15min           0\n",
       "toCoupon_GEQ25min           0\n",
       "direction_same              0\n",
       "direction_opp               0\n",
       "Y                           0\n",
       "dtype: int64"
      ]
     },
     "execution_count": 136,
     "metadata": {},
     "output_type": "execute_result"
    }
   ],
   "source": [
    "# Check for missing values in the dataset\n",
    "data.isnull().sum()"
   ]
  },
  {
   "cell_type": "code",
   "execution_count": 137,
   "metadata": {
    "scrolled": false
   },
   "outputs": [
    {
     "data": {
      "text/html": [
       "<div>\n",
       "<style scoped>\n",
       "    .dataframe tbody tr th:only-of-type {\n",
       "        vertical-align: middle;\n",
       "    }\n",
       "\n",
       "    .dataframe tbody tr th {\n",
       "        vertical-align: top;\n",
       "    }\n",
       "\n",
       "    .dataframe thead th {\n",
       "        text-align: right;\n",
       "    }\n",
       "</style>\n",
       "<table border=\"1\" class=\"dataframe\">\n",
       "  <thead>\n",
       "    <tr style=\"text-align: right;\">\n",
       "      <th></th>\n",
       "      <th>car</th>\n",
       "      <th>Bar</th>\n",
       "      <th>CoffeeHouse</th>\n",
       "      <th>CarryAway</th>\n",
       "      <th>RestaurantLessThan20</th>\n",
       "      <th>Restaurant20To50</th>\n",
       "    </tr>\n",
       "  </thead>\n",
       "  <tbody>\n",
       "    <tr>\n",
       "      <th>10263</th>\n",
       "      <td>NaN</td>\n",
       "      <td>never</td>\n",
       "      <td>gt8</td>\n",
       "      <td>4~8</td>\n",
       "      <td>1~3</td>\n",
       "      <td>less1</td>\n",
       "    </tr>\n",
       "    <tr>\n",
       "      <th>2571</th>\n",
       "      <td>NaN</td>\n",
       "      <td>never</td>\n",
       "      <td>less1</td>\n",
       "      <td>gt8</td>\n",
       "      <td>4~8</td>\n",
       "      <td>less1</td>\n",
       "    </tr>\n",
       "    <tr>\n",
       "      <th>4678</th>\n",
       "      <td>NaN</td>\n",
       "      <td>never</td>\n",
       "      <td>never</td>\n",
       "      <td>less1</td>\n",
       "      <td>less1</td>\n",
       "      <td>never</td>\n",
       "    </tr>\n",
       "    <tr>\n",
       "      <th>5889</th>\n",
       "      <td>NaN</td>\n",
       "      <td>never</td>\n",
       "      <td>never</td>\n",
       "      <td>4~8</td>\n",
       "      <td>gt8</td>\n",
       "      <td>4~8</td>\n",
       "    </tr>\n",
       "    <tr>\n",
       "      <th>4471</th>\n",
       "      <td>NaN</td>\n",
       "      <td>less1</td>\n",
       "      <td>never</td>\n",
       "      <td>4~8</td>\n",
       "      <td>1~3</td>\n",
       "      <td>less1</td>\n",
       "    </tr>\n",
       "    <tr>\n",
       "      <th>10039</th>\n",
       "      <td>NaN</td>\n",
       "      <td>less1</td>\n",
       "      <td>gt8</td>\n",
       "      <td>4~8</td>\n",
       "      <td>gt8</td>\n",
       "      <td>1~3</td>\n",
       "    </tr>\n",
       "    <tr>\n",
       "      <th>5868</th>\n",
       "      <td>NaN</td>\n",
       "      <td>less1</td>\n",
       "      <td>less1</td>\n",
       "      <td>less1</td>\n",
       "      <td>gt8</td>\n",
       "      <td>less1</td>\n",
       "    </tr>\n",
       "    <tr>\n",
       "      <th>3098</th>\n",
       "      <td>Mazda5</td>\n",
       "      <td>never</td>\n",
       "      <td>less1</td>\n",
       "      <td>1~3</td>\n",
       "      <td>1~3</td>\n",
       "      <td>less1</td>\n",
       "    </tr>\n",
       "    <tr>\n",
       "      <th>4131</th>\n",
       "      <td>NaN</td>\n",
       "      <td>never</td>\n",
       "      <td>gt8</td>\n",
       "      <td>4~8</td>\n",
       "      <td>gt8</td>\n",
       "      <td>1~3</td>\n",
       "    </tr>\n",
       "    <tr>\n",
       "      <th>10166</th>\n",
       "      <td>NaN</td>\n",
       "      <td>never</td>\n",
       "      <td>less1</td>\n",
       "      <td>4~8</td>\n",
       "      <td>1~3</td>\n",
       "      <td>less1</td>\n",
       "    </tr>\n",
       "  </tbody>\n",
       "</table>\n",
       "</div>"
      ],
      "text/plain": [
       "          car    Bar CoffeeHouse CarryAway RestaurantLessThan20  \\\n",
       "10263     NaN  never         gt8       4~8                  1~3   \n",
       "2571      NaN  never       less1       gt8                  4~8   \n",
       "4678      NaN  never       never     less1                less1   \n",
       "5889      NaN  never       never       4~8                  gt8   \n",
       "4471      NaN  less1       never       4~8                  1~3   \n",
       "10039     NaN  less1         gt8       4~8                  gt8   \n",
       "5868      NaN  less1       less1     less1                  gt8   \n",
       "3098   Mazda5  never       less1       1~3                  1~3   \n",
       "4131      NaN  never         gt8       4~8                  gt8   \n",
       "10166     NaN  never       less1       4~8                  1~3   \n",
       "\n",
       "      Restaurant20To50  \n",
       "10263            less1  \n",
       "2571             less1  \n",
       "4678             never  \n",
       "5889               4~8  \n",
       "4471             less1  \n",
       "10039              1~3  \n",
       "5868             less1  \n",
       "3098             less1  \n",
       "4131               1~3  \n",
       "10166            less1  "
      ]
     },
     "execution_count": 137,
     "metadata": {},
     "output_type": "execute_result"
    }
   ],
   "source": [
    "# Analyze attributes with missing values\n",
    "data[[\"car\",\"Bar\", \"CoffeeHouse\",\"CarryAway\",\"RestaurantLessThan20\",\"Restaurant20To50\"]].sample(10)"
   ]
  },
  {
   "cell_type": "code",
   "execution_count": 138,
   "metadata": {},
   "outputs": [
    {
     "name": "stdout",
     "output_type": "stream",
     "text": [
      "Percentage of null data with respect to the total for car column:\n",
      "99.14%\n"
     ]
    }
   ],
   "source": [
    "# Calculate the percentage of null values in the \"car\" column\n",
    "remove_null_car = data[data[\"car\"].isnull()].shape\n",
    "data_miss_percentage_car = (remove_null_car[0]/data.shape[0])*100\n",
    "print(\"Percentage of null data with respect to the total for car column:\")\n",
    "print(str(data_miss_percentage_car)[:5] + \"%\")"
   ]
  },
  {
   "cell_type": "code",
   "execution_count": 139,
   "metadata": {},
   "outputs": [
    {
     "name": "stdout",
     "output_type": "stream",
     "text": [
      "Percentage of null data with respect to the total for Bar, CoffeeHouse,\n",
      "CarryAway, RestaurantLessThan20 and Restaurant20To50 columns:\n",
      "4.769%\n"
     ]
    }
   ],
   "source": [
    "# Calculate the percentage of null values in the columns \"Bar\", \"CoffeeHouse\", \"CarryAway\",\n",
    "# \"RestaurantLessThan20\", and \"Restaurant20To50\"\n",
    "remove_null = data.drop(\"car\", axis=1)\n",
    "data_miss_percentage = ((data.shape[0] - remove_null.dropna().shape[0])/data.shape[0])*100\n",
    "print(\"Percentage of null data with respect to the total for Bar, CoffeeHouse,\\nCarryAway, RestaurantLessThan20 and Restaurant20To50 columns:\")\n",
    "print(str(data_miss_percentage)[:5] + \"%\")"
   ]
  },
  {
   "cell_type": "code",
   "execution_count": 140,
   "metadata": {
    "scrolled": true
   },
   "outputs": [
    {
     "data": {
      "text/plain": [
       "array([nan, 'Scooter and motorcycle', 'crossover', 'Mazda5',\n",
       "       'do not drive', 'Car that is too old to install Onstar :D'],\n",
       "      dtype=object)"
      ]
     },
     "execution_count": 140,
     "metadata": {},
     "output_type": "execute_result"
    }
   ],
   "source": [
    "# Explore unique values in the \"car\" column\n",
    "data[\"car\"].unique()"
   ]
  },
  {
   "cell_type": "markdown",
   "metadata": {},
   "source": [
    "#### Conclusions for this section\n",
    "- It is observed that some of the data in the \"age\" column are strings, such as '50plus' and 'below21'.\n",
    "- Upon observing the analysis of the structure, it is found that several columns contain text but are typed as \"object\".\n",
    "- Upon observing the null data, the \"car\" column stands out, where 99.14% of the data in the total dataset is null.\n",
    "- For the columns \"Bar,\" \"CoffeeHouse,\" \"CarryAway,\" \"RestaurantLessThan20,\" and \"Restaurant20To50,\" the total percentage of null columns with respect to the entire dataset is 4.7%."
   ]
  },
  {
   "cell_type": "markdown",
   "metadata": {},
   "source": [
    "### 3. Decide what to do about your missing data -- drop, replace, other..."
   ]
  },
  {
   "cell_type": "code",
   "execution_count": 141,
   "metadata": {},
   "outputs": [],
   "source": [
    "# Convert object data types to strings\n",
    "data = data.convert_dtypes()"
   ]
  },
  {
   "cell_type": "code",
   "execution_count": 142,
   "metadata": {},
   "outputs": [],
   "source": [
    "# Remove non-integer part and convert '50plus' to 50 and 'below21' to 21 in the \"age\" column\n",
    "data[\"age\"] = data[\"age\"].str.replace(r\"plus$\",\"\", regex=True)\n",
    "data[\"age\"] = data[\"age\"].str.replace(r\"^below\",\"\", regex=True)\n",
    "data = data.convert_dtypes()"
   ]
  },
  {
   "cell_type": "code",
   "execution_count": 143,
   "metadata": {},
   "outputs": [],
   "source": [
    "# Covert age into int64\n",
    "data[\"age\"] = data[\"age\"].astype(\"int64\")"
   ]
  },
  {
   "cell_type": "code",
   "execution_count": 144,
   "metadata": {
    "scrolled": false
   },
   "outputs": [],
   "source": [
    "# Remove the \"car\" column\n",
    "data.drop(\"car\", axis=1, inplace=True)"
   ]
  },
  {
   "cell_type": "code",
   "execution_count": 145,
   "metadata": {},
   "outputs": [],
   "source": [
    "# Remove rows with missing values in columns \"Bar,\" \"CoffeeHouse,\" \"CarryAway,\" \"RestaurantLessThan20,\" and \"Restaurant20To50\"\n",
    "data.dropna(inplace=True)"
   ]
  },
  {
   "cell_type": "markdown",
   "metadata": {},
   "source": [
    "#### Conclusions for this section\n",
    "- The values '50plus' and 'below21' in the \"age\" column were replaced with '50' and '20', respectively. Then, the data type of the column was transformed from object to integer.\n",
    "- All object data types were transformed into strings, except for the \"age\" column.\n",
    "- Originally, there were 12,684 records. After cleaning the null values from the \"Bar,\" \"CoffeeHouse,\" \"CarryAway,\" \"RestaurantLessThan20,\" and \"Restaurant20To50\" columns, there are 12,079 records remaining.\n",
    "- As there were very few non-null values in the \"car\" column, the column was removed."
   ]
  },
  {
   "cell_type": "markdown",
   "metadata": {},
   "source": [
    "### 4. What proportion of the total observations chose to accept the coupon? \n",
    "\n"
   ]
  },
  {
   "cell_type": "code",
   "execution_count": 146,
   "metadata": {},
   "outputs": [
    {
     "name": "stdout",
     "output_type": "stream",
     "text": [
      "56.93% of individuals responded that they would accept the coupon.\n"
     ]
    }
   ],
   "source": [
    "# Calculate the percentage of observations that accepted the coupon\n",
    "percentage_accept = data[\"Y\"].mean()*100\n",
    "# Print the percentage with a message\n",
    "print(str(percentage_accept)[:5]+\"% of individuals responded that they would accept the coupon.\")"
   ]
  },
  {
   "cell_type": "markdown",
   "metadata": {},
   "source": [
    "#### Conclusions for this section\n",
    "- A little over half of the interviewed individuals would accept the coupon."
   ]
  },
  {
   "cell_type": "markdown",
   "metadata": {},
   "source": [
    "### 5. Use a bar plot to visualize the `coupon` column."
   ]
  },
  {
   "cell_type": "code",
   "execution_count": 147,
   "metadata": {},
   "outputs": [
    {
     "data": {
      "application/vnd.plotly.v1+json": {
       "config": {
        "plotlyServerURL": "https://plot.ly"
       },
       "data": [
        {
         "alignmentgroup": "True",
         "hovertemplate": "Coupon Type=%{x}<br>Total Coupons Delivered=%{y}<extra></extra>",
         "legendgroup": "",
         "marker": {
          "color": "#636efa",
          "pattern": {
           "shape": ""
          }
         },
         "name": "",
         "offsetgroup": "",
         "orientation": "v",
         "showlegend": false,
         "textposition": "auto",
         "type": "bar",
         "x": [
          "Coffee House",
          "Restaurant(<20)",
          "Carry out & Take away",
          "Bar",
          "Restaurant(20-50)"
         ],
         "xaxis": "x",
         "y": [
          3816,
          2653,
          2280,
          1913,
          1417
         ],
         "yaxis": "y"
        }
       ],
       "layout": {
        "barmode": "relative",
        "legend": {
         "tracegroupgap": 0
        },
        "template": {
         "data": {
          "bar": [
           {
            "error_x": {
             "color": "#2a3f5f"
            },
            "error_y": {
             "color": "#2a3f5f"
            },
            "marker": {
             "line": {
              "color": "#E5ECF6",
              "width": 0.5
             },
             "pattern": {
              "fillmode": "overlay",
              "size": 10,
              "solidity": 0.2
             }
            },
            "type": "bar"
           }
          ],
          "barpolar": [
           {
            "marker": {
             "line": {
              "color": "#E5ECF6",
              "width": 0.5
             },
             "pattern": {
              "fillmode": "overlay",
              "size": 10,
              "solidity": 0.2
             }
            },
            "type": "barpolar"
           }
          ],
          "carpet": [
           {
            "aaxis": {
             "endlinecolor": "#2a3f5f",
             "gridcolor": "white",
             "linecolor": "white",
             "minorgridcolor": "white",
             "startlinecolor": "#2a3f5f"
            },
            "baxis": {
             "endlinecolor": "#2a3f5f",
             "gridcolor": "white",
             "linecolor": "white",
             "minorgridcolor": "white",
             "startlinecolor": "#2a3f5f"
            },
            "type": "carpet"
           }
          ],
          "choropleth": [
           {
            "colorbar": {
             "outlinewidth": 0,
             "ticks": ""
            },
            "type": "choropleth"
           }
          ],
          "contour": [
           {
            "colorbar": {
             "outlinewidth": 0,
             "ticks": ""
            },
            "colorscale": [
             [
              0,
              "#0d0887"
             ],
             [
              0.1111111111111111,
              "#46039f"
             ],
             [
              0.2222222222222222,
              "#7201a8"
             ],
             [
              0.3333333333333333,
              "#9c179e"
             ],
             [
              0.4444444444444444,
              "#bd3786"
             ],
             [
              0.5555555555555556,
              "#d8576b"
             ],
             [
              0.6666666666666666,
              "#ed7953"
             ],
             [
              0.7777777777777778,
              "#fb9f3a"
             ],
             [
              0.8888888888888888,
              "#fdca26"
             ],
             [
              1,
              "#f0f921"
             ]
            ],
            "type": "contour"
           }
          ],
          "contourcarpet": [
           {
            "colorbar": {
             "outlinewidth": 0,
             "ticks": ""
            },
            "type": "contourcarpet"
           }
          ],
          "heatmap": [
           {
            "colorbar": {
             "outlinewidth": 0,
             "ticks": ""
            },
            "colorscale": [
             [
              0,
              "#0d0887"
             ],
             [
              0.1111111111111111,
              "#46039f"
             ],
             [
              0.2222222222222222,
              "#7201a8"
             ],
             [
              0.3333333333333333,
              "#9c179e"
             ],
             [
              0.4444444444444444,
              "#bd3786"
             ],
             [
              0.5555555555555556,
              "#d8576b"
             ],
             [
              0.6666666666666666,
              "#ed7953"
             ],
             [
              0.7777777777777778,
              "#fb9f3a"
             ],
             [
              0.8888888888888888,
              "#fdca26"
             ],
             [
              1,
              "#f0f921"
             ]
            ],
            "type": "heatmap"
           }
          ],
          "heatmapgl": [
           {
            "colorbar": {
             "outlinewidth": 0,
             "ticks": ""
            },
            "colorscale": [
             [
              0,
              "#0d0887"
             ],
             [
              0.1111111111111111,
              "#46039f"
             ],
             [
              0.2222222222222222,
              "#7201a8"
             ],
             [
              0.3333333333333333,
              "#9c179e"
             ],
             [
              0.4444444444444444,
              "#bd3786"
             ],
             [
              0.5555555555555556,
              "#d8576b"
             ],
             [
              0.6666666666666666,
              "#ed7953"
             ],
             [
              0.7777777777777778,
              "#fb9f3a"
             ],
             [
              0.8888888888888888,
              "#fdca26"
             ],
             [
              1,
              "#f0f921"
             ]
            ],
            "type": "heatmapgl"
           }
          ],
          "histogram": [
           {
            "marker": {
             "pattern": {
              "fillmode": "overlay",
              "size": 10,
              "solidity": 0.2
             }
            },
            "type": "histogram"
           }
          ],
          "histogram2d": [
           {
            "colorbar": {
             "outlinewidth": 0,
             "ticks": ""
            },
            "colorscale": [
             [
              0,
              "#0d0887"
             ],
             [
              0.1111111111111111,
              "#46039f"
             ],
             [
              0.2222222222222222,
              "#7201a8"
             ],
             [
              0.3333333333333333,
              "#9c179e"
             ],
             [
              0.4444444444444444,
              "#bd3786"
             ],
             [
              0.5555555555555556,
              "#d8576b"
             ],
             [
              0.6666666666666666,
              "#ed7953"
             ],
             [
              0.7777777777777778,
              "#fb9f3a"
             ],
             [
              0.8888888888888888,
              "#fdca26"
             ],
             [
              1,
              "#f0f921"
             ]
            ],
            "type": "histogram2d"
           }
          ],
          "histogram2dcontour": [
           {
            "colorbar": {
             "outlinewidth": 0,
             "ticks": ""
            },
            "colorscale": [
             [
              0,
              "#0d0887"
             ],
             [
              0.1111111111111111,
              "#46039f"
             ],
             [
              0.2222222222222222,
              "#7201a8"
             ],
             [
              0.3333333333333333,
              "#9c179e"
             ],
             [
              0.4444444444444444,
              "#bd3786"
             ],
             [
              0.5555555555555556,
              "#d8576b"
             ],
             [
              0.6666666666666666,
              "#ed7953"
             ],
             [
              0.7777777777777778,
              "#fb9f3a"
             ],
             [
              0.8888888888888888,
              "#fdca26"
             ],
             [
              1,
              "#f0f921"
             ]
            ],
            "type": "histogram2dcontour"
           }
          ],
          "mesh3d": [
           {
            "colorbar": {
             "outlinewidth": 0,
             "ticks": ""
            },
            "type": "mesh3d"
           }
          ],
          "parcoords": [
           {
            "line": {
             "colorbar": {
              "outlinewidth": 0,
              "ticks": ""
             }
            },
            "type": "parcoords"
           }
          ],
          "pie": [
           {
            "automargin": true,
            "type": "pie"
           }
          ],
          "scatter": [
           {
            "fillpattern": {
             "fillmode": "overlay",
             "size": 10,
             "solidity": 0.2
            },
            "type": "scatter"
           }
          ],
          "scatter3d": [
           {
            "line": {
             "colorbar": {
              "outlinewidth": 0,
              "ticks": ""
             }
            },
            "marker": {
             "colorbar": {
              "outlinewidth": 0,
              "ticks": ""
             }
            },
            "type": "scatter3d"
           }
          ],
          "scattercarpet": [
           {
            "marker": {
             "colorbar": {
              "outlinewidth": 0,
              "ticks": ""
             }
            },
            "type": "scattercarpet"
           }
          ],
          "scattergeo": [
           {
            "marker": {
             "colorbar": {
              "outlinewidth": 0,
              "ticks": ""
             }
            },
            "type": "scattergeo"
           }
          ],
          "scattergl": [
           {
            "marker": {
             "colorbar": {
              "outlinewidth": 0,
              "ticks": ""
             }
            },
            "type": "scattergl"
           }
          ],
          "scattermapbox": [
           {
            "marker": {
             "colorbar": {
              "outlinewidth": 0,
              "ticks": ""
             }
            },
            "type": "scattermapbox"
           }
          ],
          "scatterpolar": [
           {
            "marker": {
             "colorbar": {
              "outlinewidth": 0,
              "ticks": ""
             }
            },
            "type": "scatterpolar"
           }
          ],
          "scatterpolargl": [
           {
            "marker": {
             "colorbar": {
              "outlinewidth": 0,
              "ticks": ""
             }
            },
            "type": "scatterpolargl"
           }
          ],
          "scatterternary": [
           {
            "marker": {
             "colorbar": {
              "outlinewidth": 0,
              "ticks": ""
             }
            },
            "type": "scatterternary"
           }
          ],
          "surface": [
           {
            "colorbar": {
             "outlinewidth": 0,
             "ticks": ""
            },
            "colorscale": [
             [
              0,
              "#0d0887"
             ],
             [
              0.1111111111111111,
              "#46039f"
             ],
             [
              0.2222222222222222,
              "#7201a8"
             ],
             [
              0.3333333333333333,
              "#9c179e"
             ],
             [
              0.4444444444444444,
              "#bd3786"
             ],
             [
              0.5555555555555556,
              "#d8576b"
             ],
             [
              0.6666666666666666,
              "#ed7953"
             ],
             [
              0.7777777777777778,
              "#fb9f3a"
             ],
             [
              0.8888888888888888,
              "#fdca26"
             ],
             [
              1,
              "#f0f921"
             ]
            ],
            "type": "surface"
           }
          ],
          "table": [
           {
            "cells": {
             "fill": {
              "color": "#EBF0F8"
             },
             "line": {
              "color": "white"
             }
            },
            "header": {
             "fill": {
              "color": "#C8D4E3"
             },
             "line": {
              "color": "white"
             }
            },
            "type": "table"
           }
          ]
         },
         "layout": {
          "annotationdefaults": {
           "arrowcolor": "#2a3f5f",
           "arrowhead": 0,
           "arrowwidth": 1
          },
          "autotypenumbers": "strict",
          "coloraxis": {
           "colorbar": {
            "outlinewidth": 0,
            "ticks": ""
           }
          },
          "colorscale": {
           "diverging": [
            [
             0,
             "#8e0152"
            ],
            [
             0.1,
             "#c51b7d"
            ],
            [
             0.2,
             "#de77ae"
            ],
            [
             0.3,
             "#f1b6da"
            ],
            [
             0.4,
             "#fde0ef"
            ],
            [
             0.5,
             "#f7f7f7"
            ],
            [
             0.6,
             "#e6f5d0"
            ],
            [
             0.7,
             "#b8e186"
            ],
            [
             0.8,
             "#7fbc41"
            ],
            [
             0.9,
             "#4d9221"
            ],
            [
             1,
             "#276419"
            ]
           ],
           "sequential": [
            [
             0,
             "#0d0887"
            ],
            [
             0.1111111111111111,
             "#46039f"
            ],
            [
             0.2222222222222222,
             "#7201a8"
            ],
            [
             0.3333333333333333,
             "#9c179e"
            ],
            [
             0.4444444444444444,
             "#bd3786"
            ],
            [
             0.5555555555555556,
             "#d8576b"
            ],
            [
             0.6666666666666666,
             "#ed7953"
            ],
            [
             0.7777777777777778,
             "#fb9f3a"
            ],
            [
             0.8888888888888888,
             "#fdca26"
            ],
            [
             1,
             "#f0f921"
            ]
           ],
           "sequentialminus": [
            [
             0,
             "#0d0887"
            ],
            [
             0.1111111111111111,
             "#46039f"
            ],
            [
             0.2222222222222222,
             "#7201a8"
            ],
            [
             0.3333333333333333,
             "#9c179e"
            ],
            [
             0.4444444444444444,
             "#bd3786"
            ],
            [
             0.5555555555555556,
             "#d8576b"
            ],
            [
             0.6666666666666666,
             "#ed7953"
            ],
            [
             0.7777777777777778,
             "#fb9f3a"
            ],
            [
             0.8888888888888888,
             "#fdca26"
            ],
            [
             1,
             "#f0f921"
            ]
           ]
          },
          "colorway": [
           "#636efa",
           "#EF553B",
           "#00cc96",
           "#ab63fa",
           "#FFA15A",
           "#19d3f3",
           "#FF6692",
           "#B6E880",
           "#FF97FF",
           "#FECB52"
          ],
          "font": {
           "color": "#2a3f5f"
          },
          "geo": {
           "bgcolor": "white",
           "lakecolor": "white",
           "landcolor": "#E5ECF6",
           "showlakes": true,
           "showland": true,
           "subunitcolor": "white"
          },
          "hoverlabel": {
           "align": "left"
          },
          "hovermode": "closest",
          "mapbox": {
           "style": "light"
          },
          "paper_bgcolor": "white",
          "plot_bgcolor": "#E5ECF6",
          "polar": {
           "angularaxis": {
            "gridcolor": "white",
            "linecolor": "white",
            "ticks": ""
           },
           "bgcolor": "#E5ECF6",
           "radialaxis": {
            "gridcolor": "white",
            "linecolor": "white",
            "ticks": ""
           }
          },
          "scene": {
           "xaxis": {
            "backgroundcolor": "#E5ECF6",
            "gridcolor": "white",
            "gridwidth": 2,
            "linecolor": "white",
            "showbackground": true,
            "ticks": "",
            "zerolinecolor": "white"
           },
           "yaxis": {
            "backgroundcolor": "#E5ECF6",
            "gridcolor": "white",
            "gridwidth": 2,
            "linecolor": "white",
            "showbackground": true,
            "ticks": "",
            "zerolinecolor": "white"
           },
           "zaxis": {
            "backgroundcolor": "#E5ECF6",
            "gridcolor": "white",
            "gridwidth": 2,
            "linecolor": "white",
            "showbackground": true,
            "ticks": "",
            "zerolinecolor": "white"
           }
          },
          "shapedefaults": {
           "line": {
            "color": "#2a3f5f"
           }
          },
          "ternary": {
           "aaxis": {
            "gridcolor": "white",
            "linecolor": "white",
            "ticks": ""
           },
           "baxis": {
            "gridcolor": "white",
            "linecolor": "white",
            "ticks": ""
           },
           "bgcolor": "#E5ECF6",
           "caxis": {
            "gridcolor": "white",
            "linecolor": "white",
            "ticks": ""
           }
          },
          "title": {
           "x": 0.05
          },
          "xaxis": {
           "automargin": true,
           "gridcolor": "white",
           "linecolor": "white",
           "ticks": "",
           "title": {
            "standoff": 15
           },
           "zerolinecolor": "white",
           "zerolinewidth": 2
          },
          "yaxis": {
           "automargin": true,
           "gridcolor": "white",
           "linecolor": "white",
           "ticks": "",
           "title": {
            "standoff": 15
           },
           "zerolinecolor": "white",
           "zerolinewidth": 2
          }
         }
        },
        "title": {
         "text": "Cumulative Total Coupons by Type"
        },
        "xaxis": {
         "anchor": "y",
         "domain": [
          0,
          1
         ],
         "title": {
          "text": "Coupon Type"
         }
        },
        "yaxis": {
         "anchor": "x",
         "domain": [
          0,
          1
         ],
         "title": {
          "text": "Total Coupons Delivered"
         }
        }
       }
      },
      "text/html": [
       "<div>                            <div id=\"f874c1f5-71e0-4294-8b69-8c9c8477820e\" class=\"plotly-graph-div\" style=\"height:525px; width:100%;\"></div>            <script type=\"text/javascript\">                require([\"plotly\"], function(Plotly) {                    window.PLOTLYENV=window.PLOTLYENV || {};                                    if (document.getElementById(\"f874c1f5-71e0-4294-8b69-8c9c8477820e\")) {                    Plotly.newPlot(                        \"f874c1f5-71e0-4294-8b69-8c9c8477820e\",                        [{\"alignmentgroup\":\"True\",\"hovertemplate\":\"Coupon Type=%{x}<br>Total Coupons Delivered=%{y}<extra></extra>\",\"legendgroup\":\"\",\"marker\":{\"color\":\"#636efa\",\"pattern\":{\"shape\":\"\"}},\"name\":\"\",\"offsetgroup\":\"\",\"orientation\":\"v\",\"showlegend\":false,\"textposition\":\"auto\",\"x\":[\"Coffee House\",\"Restaurant(<20)\",\"Carry out & Take away\",\"Bar\",\"Restaurant(20-50)\"],\"xaxis\":\"x\",\"y\":[3816,2653,2280,1913,1417],\"yaxis\":\"y\",\"type\":\"bar\"}],                        {\"template\":{\"data\":{\"histogram2dcontour\":[{\"type\":\"histogram2dcontour\",\"colorbar\":{\"outlinewidth\":0,\"ticks\":\"\"},\"colorscale\":[[0.0,\"#0d0887\"],[0.1111111111111111,\"#46039f\"],[0.2222222222222222,\"#7201a8\"],[0.3333333333333333,\"#9c179e\"],[0.4444444444444444,\"#bd3786\"],[0.5555555555555556,\"#d8576b\"],[0.6666666666666666,\"#ed7953\"],[0.7777777777777778,\"#fb9f3a\"],[0.8888888888888888,\"#fdca26\"],[1.0,\"#f0f921\"]]}],\"choropleth\":[{\"type\":\"choropleth\",\"colorbar\":{\"outlinewidth\":0,\"ticks\":\"\"}}],\"histogram2d\":[{\"type\":\"histogram2d\",\"colorbar\":{\"outlinewidth\":0,\"ticks\":\"\"},\"colorscale\":[[0.0,\"#0d0887\"],[0.1111111111111111,\"#46039f\"],[0.2222222222222222,\"#7201a8\"],[0.3333333333333333,\"#9c179e\"],[0.4444444444444444,\"#bd3786\"],[0.5555555555555556,\"#d8576b\"],[0.6666666666666666,\"#ed7953\"],[0.7777777777777778,\"#fb9f3a\"],[0.8888888888888888,\"#fdca26\"],[1.0,\"#f0f921\"]]}],\"heatmap\":[{\"type\":\"heatmap\",\"colorbar\":{\"outlinewidth\":0,\"ticks\":\"\"},\"colorscale\":[[0.0,\"#0d0887\"],[0.1111111111111111,\"#46039f\"],[0.2222222222222222,\"#7201a8\"],[0.3333333333333333,\"#9c179e\"],[0.4444444444444444,\"#bd3786\"],[0.5555555555555556,\"#d8576b\"],[0.6666666666666666,\"#ed7953\"],[0.7777777777777778,\"#fb9f3a\"],[0.8888888888888888,\"#fdca26\"],[1.0,\"#f0f921\"]]}],\"heatmapgl\":[{\"type\":\"heatmapgl\",\"colorbar\":{\"outlinewidth\":0,\"ticks\":\"\"},\"colorscale\":[[0.0,\"#0d0887\"],[0.1111111111111111,\"#46039f\"],[0.2222222222222222,\"#7201a8\"],[0.3333333333333333,\"#9c179e\"],[0.4444444444444444,\"#bd3786\"],[0.5555555555555556,\"#d8576b\"],[0.6666666666666666,\"#ed7953\"],[0.7777777777777778,\"#fb9f3a\"],[0.8888888888888888,\"#fdca26\"],[1.0,\"#f0f921\"]]}],\"contourcarpet\":[{\"type\":\"contourcarpet\",\"colorbar\":{\"outlinewidth\":0,\"ticks\":\"\"}}],\"contour\":[{\"type\":\"contour\",\"colorbar\":{\"outlinewidth\":0,\"ticks\":\"\"},\"colorscale\":[[0.0,\"#0d0887\"],[0.1111111111111111,\"#46039f\"],[0.2222222222222222,\"#7201a8\"],[0.3333333333333333,\"#9c179e\"],[0.4444444444444444,\"#bd3786\"],[0.5555555555555556,\"#d8576b\"],[0.6666666666666666,\"#ed7953\"],[0.7777777777777778,\"#fb9f3a\"],[0.8888888888888888,\"#fdca26\"],[1.0,\"#f0f921\"]]}],\"surface\":[{\"type\":\"surface\",\"colorbar\":{\"outlinewidth\":0,\"ticks\":\"\"},\"colorscale\":[[0.0,\"#0d0887\"],[0.1111111111111111,\"#46039f\"],[0.2222222222222222,\"#7201a8\"],[0.3333333333333333,\"#9c179e\"],[0.4444444444444444,\"#bd3786\"],[0.5555555555555556,\"#d8576b\"],[0.6666666666666666,\"#ed7953\"],[0.7777777777777778,\"#fb9f3a\"],[0.8888888888888888,\"#fdca26\"],[1.0,\"#f0f921\"]]}],\"mesh3d\":[{\"type\":\"mesh3d\",\"colorbar\":{\"outlinewidth\":0,\"ticks\":\"\"}}],\"scatter\":[{\"fillpattern\":{\"fillmode\":\"overlay\",\"size\":10,\"solidity\":0.2},\"type\":\"scatter\"}],\"parcoords\":[{\"type\":\"parcoords\",\"line\":{\"colorbar\":{\"outlinewidth\":0,\"ticks\":\"\"}}}],\"scatterpolargl\":[{\"type\":\"scatterpolargl\",\"marker\":{\"colorbar\":{\"outlinewidth\":0,\"ticks\":\"\"}}}],\"bar\":[{\"error_x\":{\"color\":\"#2a3f5f\"},\"error_y\":{\"color\":\"#2a3f5f\"},\"marker\":{\"line\":{\"color\":\"#E5ECF6\",\"width\":0.5},\"pattern\":{\"fillmode\":\"overlay\",\"size\":10,\"solidity\":0.2}},\"type\":\"bar\"}],\"scattergeo\":[{\"type\":\"scattergeo\",\"marker\":{\"colorbar\":{\"outlinewidth\":0,\"ticks\":\"\"}}}],\"scatterpolar\":[{\"type\":\"scatterpolar\",\"marker\":{\"colorbar\":{\"outlinewidth\":0,\"ticks\":\"\"}}}],\"histogram\":[{\"marker\":{\"pattern\":{\"fillmode\":\"overlay\",\"size\":10,\"solidity\":0.2}},\"type\":\"histogram\"}],\"scattergl\":[{\"type\":\"scattergl\",\"marker\":{\"colorbar\":{\"outlinewidth\":0,\"ticks\":\"\"}}}],\"scatter3d\":[{\"type\":\"scatter3d\",\"line\":{\"colorbar\":{\"outlinewidth\":0,\"ticks\":\"\"}},\"marker\":{\"colorbar\":{\"outlinewidth\":0,\"ticks\":\"\"}}}],\"scattermapbox\":[{\"type\":\"scattermapbox\",\"marker\":{\"colorbar\":{\"outlinewidth\":0,\"ticks\":\"\"}}}],\"scatterternary\":[{\"type\":\"scatterternary\",\"marker\":{\"colorbar\":{\"outlinewidth\":0,\"ticks\":\"\"}}}],\"scattercarpet\":[{\"type\":\"scattercarpet\",\"marker\":{\"colorbar\":{\"outlinewidth\":0,\"ticks\":\"\"}}}],\"carpet\":[{\"aaxis\":{\"endlinecolor\":\"#2a3f5f\",\"gridcolor\":\"white\",\"linecolor\":\"white\",\"minorgridcolor\":\"white\",\"startlinecolor\":\"#2a3f5f\"},\"baxis\":{\"endlinecolor\":\"#2a3f5f\",\"gridcolor\":\"white\",\"linecolor\":\"white\",\"minorgridcolor\":\"white\",\"startlinecolor\":\"#2a3f5f\"},\"type\":\"carpet\"}],\"table\":[{\"cells\":{\"fill\":{\"color\":\"#EBF0F8\"},\"line\":{\"color\":\"white\"}},\"header\":{\"fill\":{\"color\":\"#C8D4E3\"},\"line\":{\"color\":\"white\"}},\"type\":\"table\"}],\"barpolar\":[{\"marker\":{\"line\":{\"color\":\"#E5ECF6\",\"width\":0.5},\"pattern\":{\"fillmode\":\"overlay\",\"size\":10,\"solidity\":0.2}},\"type\":\"barpolar\"}],\"pie\":[{\"automargin\":true,\"type\":\"pie\"}]},\"layout\":{\"autotypenumbers\":\"strict\",\"colorway\":[\"#636efa\",\"#EF553B\",\"#00cc96\",\"#ab63fa\",\"#FFA15A\",\"#19d3f3\",\"#FF6692\",\"#B6E880\",\"#FF97FF\",\"#FECB52\"],\"font\":{\"color\":\"#2a3f5f\"},\"hovermode\":\"closest\",\"hoverlabel\":{\"align\":\"left\"},\"paper_bgcolor\":\"white\",\"plot_bgcolor\":\"#E5ECF6\",\"polar\":{\"bgcolor\":\"#E5ECF6\",\"angularaxis\":{\"gridcolor\":\"white\",\"linecolor\":\"white\",\"ticks\":\"\"},\"radialaxis\":{\"gridcolor\":\"white\",\"linecolor\":\"white\",\"ticks\":\"\"}},\"ternary\":{\"bgcolor\":\"#E5ECF6\",\"aaxis\":{\"gridcolor\":\"white\",\"linecolor\":\"white\",\"ticks\":\"\"},\"baxis\":{\"gridcolor\":\"white\",\"linecolor\":\"white\",\"ticks\":\"\"},\"caxis\":{\"gridcolor\":\"white\",\"linecolor\":\"white\",\"ticks\":\"\"}},\"coloraxis\":{\"colorbar\":{\"outlinewidth\":0,\"ticks\":\"\"}},\"colorscale\":{\"sequential\":[[0.0,\"#0d0887\"],[0.1111111111111111,\"#46039f\"],[0.2222222222222222,\"#7201a8\"],[0.3333333333333333,\"#9c179e\"],[0.4444444444444444,\"#bd3786\"],[0.5555555555555556,\"#d8576b\"],[0.6666666666666666,\"#ed7953\"],[0.7777777777777778,\"#fb9f3a\"],[0.8888888888888888,\"#fdca26\"],[1.0,\"#f0f921\"]],\"sequentialminus\":[[0.0,\"#0d0887\"],[0.1111111111111111,\"#46039f\"],[0.2222222222222222,\"#7201a8\"],[0.3333333333333333,\"#9c179e\"],[0.4444444444444444,\"#bd3786\"],[0.5555555555555556,\"#d8576b\"],[0.6666666666666666,\"#ed7953\"],[0.7777777777777778,\"#fb9f3a\"],[0.8888888888888888,\"#fdca26\"],[1.0,\"#f0f921\"]],\"diverging\":[[0,\"#8e0152\"],[0.1,\"#c51b7d\"],[0.2,\"#de77ae\"],[0.3,\"#f1b6da\"],[0.4,\"#fde0ef\"],[0.5,\"#f7f7f7\"],[0.6,\"#e6f5d0\"],[0.7,\"#b8e186\"],[0.8,\"#7fbc41\"],[0.9,\"#4d9221\"],[1,\"#276419\"]]},\"xaxis\":{\"gridcolor\":\"white\",\"linecolor\":\"white\",\"ticks\":\"\",\"title\":{\"standoff\":15},\"zerolinecolor\":\"white\",\"automargin\":true,\"zerolinewidth\":2},\"yaxis\":{\"gridcolor\":\"white\",\"linecolor\":\"white\",\"ticks\":\"\",\"title\":{\"standoff\":15},\"zerolinecolor\":\"white\",\"automargin\":true,\"zerolinewidth\":2},\"scene\":{\"xaxis\":{\"backgroundcolor\":\"#E5ECF6\",\"gridcolor\":\"white\",\"linecolor\":\"white\",\"showbackground\":true,\"ticks\":\"\",\"zerolinecolor\":\"white\",\"gridwidth\":2},\"yaxis\":{\"backgroundcolor\":\"#E5ECF6\",\"gridcolor\":\"white\",\"linecolor\":\"white\",\"showbackground\":true,\"ticks\":\"\",\"zerolinecolor\":\"white\",\"gridwidth\":2},\"zaxis\":{\"backgroundcolor\":\"#E5ECF6\",\"gridcolor\":\"white\",\"linecolor\":\"white\",\"showbackground\":true,\"ticks\":\"\",\"zerolinecolor\":\"white\",\"gridwidth\":2}},\"shapedefaults\":{\"line\":{\"color\":\"#2a3f5f\"}},\"annotationdefaults\":{\"arrowcolor\":\"#2a3f5f\",\"arrowhead\":0,\"arrowwidth\":1},\"geo\":{\"bgcolor\":\"white\",\"landcolor\":\"#E5ECF6\",\"subunitcolor\":\"white\",\"showland\":true,\"showlakes\":true,\"lakecolor\":\"white\"},\"title\":{\"x\":0.05},\"mapbox\":{\"style\":\"light\"}}},\"xaxis\":{\"anchor\":\"y\",\"domain\":[0.0,1.0],\"title\":{\"text\":\"Coupon Type\"}},\"yaxis\":{\"anchor\":\"x\",\"domain\":[0.0,1.0],\"title\":{\"text\":\"Total Coupons Delivered\"}},\"legend\":{\"tracegroupgap\":0},\"title\":{\"text\":\"Cumulative Total Coupons by Type\"},\"barmode\":\"relative\"},                        {\"responsive\": true}                    ).then(function(){\n",
       "                            \n",
       "var gd = document.getElementById('f874c1f5-71e0-4294-8b69-8c9c8477820e');\n",
       "var x = new MutationObserver(function (mutations, observer) {{\n",
       "        var display = window.getComputedStyle(gd).display;\n",
       "        if (!display || display === 'none') {{\n",
       "            console.log([gd, 'removed!']);\n",
       "            Plotly.purge(gd);\n",
       "            observer.disconnect();\n",
       "        }}\n",
       "}});\n",
       "\n",
       "// Listen for the removal of the full notebook cells\n",
       "var notebookContainer = gd.closest('#notebook-container');\n",
       "if (notebookContainer) {{\n",
       "    x.observe(notebookContainer, {childList: true});\n",
       "}}\n",
       "\n",
       "// Listen for the clearing of the current output cell\n",
       "var outputEl = gd.closest('.output');\n",
       "if (outputEl) {{\n",
       "    x.observe(outputEl, {childList: true});\n",
       "}}\n",
       "\n",
       "                        })                };                });            </script>        </div>"
      ]
     },
     "metadata": {},
     "output_type": "display_data"
    }
   ],
   "source": [
    "# Create a count of the total data for each coupon type\n",
    "total_coupon = data[\"coupon\"].value_counts().reset_index()\n",
    "\n",
    "# Assign column names\n",
    "total_coupon.columns = [\"coupon\", \"cumulative_total_coupons\"]\n",
    "\n",
    "# Plot the bar chart\n",
    "fig = px.bar(total_coupon, x=\"coupon\", y=\"cumulative_total_coupons\", title=\"Cumulative Total Coupons by Type\",\n",
    "       labels={\"coupon\":\"Coupon Type\",\"cumulative_total_coupons\":\"Total Coupons Delivered\"})\n",
    "\n",
    "# Show the plot\n",
    "fig.show()"
   ]
  },
  {
   "cell_type": "markdown",
   "metadata": {},
   "source": [
    "#### Conclusions for this section\n",
    "- In the bar chart, it can be observed that the majority of coupons were distributed for Coffee House, with approximately 1000 coupons, compared to the next highest.\n",
    "- Similarly, in the bar chart, it can be observed that the least number of coupons were delivered for \"expensive\" restaurants.\n",
    "- The previous two conclusions can be attributed to the assumption that there are more coffee houses per block than \"expensive\" restaurants."
   ]
  },
  {
   "cell_type": "markdown",
   "metadata": {},
   "source": [
    "### 6. Use a histogram to visualize the temperature column."
   ]
  },
  {
   "cell_type": "code",
   "execution_count": 148,
   "metadata": {},
   "outputs": [
    {
     "data": {
      "application/vnd.plotly.v1+json": {
       "config": {
        "plotlyServerURL": "https://plot.ly"
       },
       "data": [
        {
         "alignmentgroup": "True",
         "bingroup": "x",
         "hovertemplate": "Temperature (ºF)=%{x}<br>count=%{y}<extra></extra>",
         "legendgroup": "",
         "marker": {
          "color": "#636efa",
          "pattern": {
           "shape": ""
          }
         },
         "name": "",
         "offsetgroup": "",
         "orientation": "v",
         "showlegend": false,
         "type": "histogram",
         "x": [
          55,
          80,
          80,
          80,
          80,
          80,
          80,
          80,
          80,
          80,
          55,
          55,
          55,
          55,
          55,
          80,
          55,
          55,
          80,
          80,
          55,
          55,
          55,
          80,
          80,
          80,
          80,
          80,
          80,
          80,
          80,
          80,
          55,
          55,
          55,
          55,
          55,
          80,
          55,
          55,
          80,
          80,
          55,
          55,
          55,
          80,
          80,
          80,
          80,
          80,
          55,
          80,
          80,
          80,
          80,
          55,
          55,
          55,
          55,
          80,
          55,
          55,
          80,
          80,
          55,
          55,
          55,
          80,
          80,
          80,
          80,
          80,
          80,
          80,
          80,
          80,
          55,
          55,
          55,
          55,
          55,
          80,
          55,
          55,
          80,
          80,
          55,
          55,
          55,
          80,
          80,
          80,
          80,
          80,
          80,
          80,
          80,
          80,
          55,
          55,
          55,
          55,
          55,
          80,
          55,
          55,
          80,
          80,
          55,
          55,
          55,
          80,
          80,
          80,
          80,
          80,
          55,
          80,
          80,
          80,
          80,
          55,
          55,
          55,
          55,
          80,
          55,
          55,
          80,
          80,
          55,
          55,
          55,
          80,
          80,
          80,
          80,
          80,
          80,
          80,
          80,
          80,
          55,
          55,
          55,
          55,
          55,
          80,
          55,
          55,
          80,
          80,
          55,
          55,
          55,
          80,
          80,
          80,
          80,
          80,
          80,
          80,
          80,
          80,
          55,
          55,
          80,
          55,
          80,
          80,
          55,
          55,
          80,
          80,
          80,
          80,
          80,
          80,
          80,
          80,
          80,
          55,
          55,
          55,
          55,
          55,
          80,
          55,
          55,
          80,
          80,
          55,
          55,
          55,
          80,
          80,
          80,
          80,
          80,
          55,
          80,
          80,
          80,
          80,
          80,
          80,
          55,
          55,
          80,
          55,
          55,
          80,
          80,
          55,
          55,
          55,
          80,
          80,
          80,
          80,
          80,
          80,
          80,
          80,
          80,
          55,
          55,
          55,
          55,
          55,
          80,
          55,
          55,
          80,
          80,
          55,
          55,
          55,
          80,
          80,
          80,
          80,
          80,
          55,
          80,
          80,
          80,
          80,
          55,
          55,
          55,
          55,
          80,
          55,
          55,
          80,
          80,
          55,
          55,
          55,
          80,
          80,
          80,
          80,
          80,
          55,
          80,
          80,
          80,
          55,
          55,
          55,
          80,
          55,
          55,
          80,
          80,
          55,
          55,
          55,
          80,
          80,
          80,
          80,
          80,
          55,
          80,
          80,
          80,
          80,
          55,
          55,
          55,
          55,
          80,
          55,
          55,
          80,
          80,
          55,
          55,
          55,
          80,
          80,
          80,
          80,
          80,
          55,
          80,
          80,
          80,
          80,
          55,
          55,
          80,
          55,
          55,
          80,
          80,
          55,
          55,
          55,
          80,
          80,
          80,
          80,
          80,
          55,
          80,
          80,
          80,
          80,
          55,
          55,
          55,
          55,
          80,
          55,
          55,
          80,
          80,
          55,
          55,
          55,
          80,
          80,
          80,
          80,
          80,
          55,
          80,
          80,
          80,
          80,
          55,
          55,
          55,
          55,
          80,
          55,
          55,
          80,
          80,
          55,
          55,
          55,
          80,
          80,
          80,
          80,
          80,
          80,
          80,
          80,
          80,
          55,
          55,
          55,
          55,
          55,
          80,
          55,
          55,
          80,
          80,
          55,
          55,
          55,
          80,
          80,
          80,
          80,
          80,
          55,
          80,
          80,
          80,
          80,
          80,
          80,
          55,
          55,
          80,
          55,
          55,
          80,
          80,
          55,
          55,
          80,
          80,
          80,
          80,
          80,
          80,
          80,
          80,
          80,
          55,
          55,
          55,
          55,
          55,
          80,
          55,
          55,
          80,
          80,
          55,
          55,
          55,
          80,
          80,
          80,
          80,
          80,
          80,
          80,
          80,
          80,
          55,
          55,
          55,
          55,
          55,
          80,
          55,
          80,
          80,
          55,
          55,
          55,
          80,
          80,
          80,
          80,
          80,
          80,
          80,
          80,
          80,
          55,
          55,
          55,
          55,
          55,
          80,
          55,
          55,
          80,
          80,
          55,
          55,
          55,
          80,
          80,
          80,
          80,
          80,
          55,
          80,
          80,
          80,
          80,
          55,
          55,
          55,
          55,
          80,
          55,
          55,
          80,
          80,
          55,
          55,
          55,
          80,
          80,
          80,
          80,
          80,
          80,
          80,
          80,
          80,
          55,
          55,
          55,
          55,
          55,
          80,
          55,
          55,
          80,
          80,
          55,
          55,
          55,
          80,
          80,
          80,
          80,
          80,
          80,
          80,
          80,
          80,
          55,
          55,
          55,
          55,
          55,
          80,
          55,
          55,
          80,
          80,
          55,
          55,
          55,
          80,
          80,
          80,
          80,
          80,
          80,
          80,
          80,
          80,
          55,
          55,
          55,
          55,
          55,
          80,
          55,
          55,
          80,
          80,
          55,
          55,
          55,
          80,
          80,
          80,
          80,
          80,
          55,
          80,
          80,
          80,
          80,
          55,
          55,
          55,
          55,
          80,
          55,
          55,
          80,
          80,
          55,
          55,
          55,
          80,
          80,
          80,
          80,
          80,
          80,
          80,
          80,
          80,
          55,
          55,
          55,
          55,
          55,
          80,
          55,
          55,
          80,
          80,
          55,
          55,
          55,
          80,
          80,
          80,
          80,
          80,
          55,
          80,
          80,
          80,
          80,
          80,
          80,
          55,
          55,
          80,
          55,
          55,
          80,
          80,
          55,
          55,
          55,
          80,
          80,
          80,
          80,
          80,
          55,
          80,
          80,
          80,
          80,
          55,
          55,
          55,
          55,
          80,
          55,
          55,
          80,
          80,
          55,
          55,
          55,
          80,
          80,
          80,
          80,
          80,
          55,
          80,
          80,
          80,
          80,
          80,
          80,
          55,
          55,
          80,
          55,
          55,
          80,
          80,
          55,
          55,
          55,
          80,
          80,
          80,
          80,
          80,
          80,
          80,
          80,
          80,
          55,
          55,
          55,
          55,
          55,
          80,
          55,
          55,
          80,
          80,
          55,
          55,
          55,
          80,
          80,
          80,
          80,
          80,
          55,
          80,
          80,
          80,
          80,
          80,
          80,
          55,
          55,
          80,
          55,
          55,
          80,
          80,
          55,
          55,
          55,
          80,
          80,
          80,
          80,
          80,
          80,
          80,
          80,
          80,
          55,
          55,
          55,
          55,
          55,
          80,
          55,
          55,
          80,
          80,
          55,
          55,
          55,
          80,
          80,
          80,
          80,
          80,
          55,
          80,
          80,
          80,
          80,
          55,
          55,
          55,
          55,
          80,
          55,
          55,
          80,
          80,
          55,
          55,
          55,
          80,
          80,
          80,
          80,
          80,
          55,
          80,
          80,
          80,
          80,
          55,
          55,
          55,
          55,
          55,
          55,
          80,
          80,
          55,
          55,
          55,
          80,
          80,
          80,
          80,
          80,
          55,
          80,
          80,
          80,
          80,
          55,
          55,
          55,
          55,
          80,
          55,
          55,
          80,
          80,
          55,
          55,
          55,
          80,
          80,
          80,
          80,
          80,
          55,
          80,
          80,
          80,
          80,
          80,
          80,
          55,
          55,
          80,
          55,
          55,
          80,
          80,
          55,
          55,
          55,
          80,
          80,
          80,
          80,
          80,
          80,
          80,
          80,
          80,
          55,
          55,
          55,
          55,
          55,
          80,
          55,
          55,
          80,
          80,
          55,
          55,
          55,
          80,
          80,
          80,
          80,
          80,
          80,
          80,
          80,
          80,
          55,
          55,
          55,
          55,
          55,
          80,
          55,
          55,
          80,
          80,
          55,
          55,
          55,
          80,
          80,
          80,
          80,
          80,
          55,
          80,
          80,
          80,
          80,
          80,
          80,
          55,
          55,
          80,
          55,
          55,
          80,
          80,
          55,
          55,
          55,
          80,
          80,
          80,
          80,
          80,
          55,
          80,
          80,
          80,
          80,
          55,
          55,
          55,
          55,
          80,
          55,
          55,
          80,
          80,
          55,
          55,
          55,
          80,
          80,
          80,
          80,
          80,
          55,
          80,
          80,
          80,
          80,
          55,
          55,
          55,
          55,
          80,
          55,
          55,
          80,
          80,
          55,
          55,
          55,
          80,
          80,
          80,
          80,
          80,
          80,
          80,
          80,
          80,
          55,
          55,
          55,
          55,
          55,
          80,
          55,
          55,
          80,
          80,
          55,
          55,
          55,
          80,
          80,
          80,
          80,
          80,
          55,
          80,
          80,
          80,
          80,
          80,
          80,
          55,
          55,
          80,
          55,
          55,
          80,
          80,
          55,
          55,
          55,
          80,
          80,
          80,
          80,
          80,
          55,
          80,
          80,
          80,
          80,
          80,
          80,
          55,
          55,
          80,
          55,
          55,
          80,
          80,
          55,
          55,
          55,
          80,
          80,
          80,
          80,
          80,
          55,
          80,
          80,
          80,
          80,
          55,
          55,
          55,
          55,
          80,
          55,
          55,
          80,
          80,
          55,
          55,
          55,
          80,
          80,
          80,
          80,
          80,
          55,
          80,
          80,
          80,
          80,
          55,
          55,
          55,
          55,
          80,
          55,
          55,
          80,
          80,
          55,
          55,
          55,
          80,
          80,
          80,
          80,
          80,
          55,
          80,
          80,
          80,
          80,
          55,
          55,
          55,
          55,
          80,
          55,
          55,
          80,
          80,
          55,
          55,
          55,
          80,
          80,
          80,
          80,
          80,
          55,
          80,
          80,
          80,
          80,
          80,
          80,
          55,
          55,
          80,
          55,
          55,
          80,
          80,
          55,
          55,
          55,
          80,
          80,
          80,
          80,
          80,
          55,
          80,
          80,
          80,
          80,
          55,
          55,
          55,
          55,
          80,
          55,
          55,
          80,
          80,
          55,
          55,
          55,
          80,
          80,
          80,
          80,
          80,
          80,
          80,
          80,
          80,
          55,
          55,
          55,
          55,
          55,
          80,
          55,
          55,
          80,
          80,
          55,
          55,
          55,
          80,
          80,
          80,
          80,
          80,
          80,
          80,
          80,
          80,
          55,
          55,
          55,
          55,
          55,
          80,
          55,
          55,
          80,
          80,
          55,
          55,
          55,
          80,
          80,
          80,
          80,
          80,
          80,
          80,
          80,
          80,
          55,
          55,
          55,
          55,
          55,
          80,
          55,
          55,
          80,
          80,
          55,
          55,
          55,
          80,
          80,
          80,
          80,
          80,
          55,
          80,
          80,
          80,
          80,
          80,
          80,
          55,
          55,
          80,
          55,
          55,
          80,
          80,
          55,
          55,
          55,
          80,
          80,
          80,
          80,
          80,
          55,
          80,
          80,
          80,
          80,
          80,
          80,
          55,
          55,
          80,
          55,
          55,
          80,
          80,
          55,
          55,
          55,
          80,
          80,
          80,
          80,
          80,
          80,
          80,
          80,
          80,
          55,
          55,
          55,
          55,
          55,
          80,
          55,
          55,
          80,
          80,
          55,
          55,
          55,
          80,
          80,
          80,
          80,
          80,
          55,
          80,
          80,
          80,
          80,
          80,
          80,
          55,
          55,
          80,
          55,
          55,
          80,
          80,
          55,
          55,
          55,
          80,
          80,
          80,
          80,
          80,
          55,
          80,
          80,
          80,
          80,
          80,
          80,
          55,
          55,
          80,
          55,
          55,
          80,
          80,
          55,
          55,
          55,
          80,
          80,
          80,
          80,
          80,
          80,
          80,
          80,
          80,
          55,
          55,
          55,
          55,
          55,
          80,
          55,
          55,
          80,
          80,
          55,
          55,
          55,
          80,
          80,
          80,
          80,
          80,
          55,
          80,
          80,
          80,
          80,
          55,
          55,
          55,
          55,
          80,
          55,
          55,
          80,
          80,
          55,
          55,
          55,
          80,
          80,
          80,
          80,
          80,
          80,
          80,
          80,
          80,
          55,
          55,
          55,
          55,
          55,
          80,
          55,
          55,
          80,
          80,
          55,
          55,
          55,
          80,
          80,
          80,
          80,
          80,
          55,
          80,
          80,
          80,
          80,
          55,
          55,
          55,
          55,
          80,
          55,
          55,
          80,
          80,
          55,
          55,
          55,
          80,
          80,
          80,
          80,
          80,
          55,
          80,
          80,
          80,
          80,
          80,
          80,
          55,
          55,
          80,
          55,
          55,
          80,
          80,
          55,
          55,
          55,
          80,
          80,
          80,
          80,
          80,
          55,
          80,
          80,
          80,
          80,
          80,
          80,
          55,
          55,
          80,
          55,
          55,
          80,
          80,
          55,
          55,
          55,
          80,
          80,
          80,
          80,
          80,
          55,
          80,
          80,
          80,
          80,
          55,
          55,
          55,
          55,
          80,
          55,
          55,
          80,
          80,
          55,
          55,
          55,
          80,
          80,
          80,
          80,
          80,
          80,
          80,
          80,
          80,
          55,
          55,
          55,
          55,
          55,
          80,
          55,
          55,
          80,
          80,
          55,
          55,
          55,
          80,
          80,
          80,
          80,
          80,
          80,
          80,
          80,
          80,
          55,
          55,
          55,
          55,
          55,
          80,
          55,
          55,
          80,
          80,
          55,
          55,
          55,
          80,
          80,
          80,
          80,
          80,
          55,
          80,
          80,
          80,
          80,
          55,
          55,
          55,
          55,
          80,
          55,
          55,
          80,
          80,
          55,
          55,
          55,
          80,
          80,
          80,
          80,
          80,
          80,
          80,
          80,
          80,
          55,
          55,
          55,
          55,
          55,
          80,
          55,
          55,
          80,
          80,
          55,
          55,
          55,
          80,
          80,
          80,
          80,
          80,
          55,
          80,
          80,
          80,
          80,
          55,
          55,
          55,
          55,
          80,
          55,
          55,
          80,
          80,
          55,
          55,
          55,
          80,
          80,
          80,
          80,
          80,
          55,
          80,
          80,
          80,
          80,
          55,
          55,
          55,
          55,
          80,
          55,
          55,
          80,
          80,
          55,
          55,
          55,
          80,
          80,
          80,
          80,
          80,
          80,
          80,
          80,
          80,
          55,
          55,
          55,
          55,
          55,
          80,
          55,
          55,
          80,
          80,
          55,
          55,
          55,
          80,
          80,
          80,
          80,
          80,
          55,
          80,
          80,
          80,
          80,
          55,
          55,
          55,
          55,
          80,
          55,
          55,
          80,
          80,
          55,
          55,
          55,
          80,
          80,
          80,
          80,
          80,
          55,
          80,
          80,
          80,
          80,
          80,
          80,
          55,
          55,
          80,
          55,
          55,
          80,
          80,
          55,
          55,
          55,
          80,
          80,
          80,
          80,
          80,
          80,
          80,
          80,
          80,
          55,
          55,
          55,
          55,
          55,
          80,
          55,
          55,
          80,
          80,
          55,
          55,
          55,
          80,
          80,
          80,
          80,
          80,
          55,
          80,
          80,
          80,
          80,
          80,
          80,
          55,
          55,
          80,
          55,
          55,
          80,
          80,
          55,
          55,
          55,
          80,
          80,
          80,
          80,
          80,
          55,
          80,
          80,
          80,
          80,
          55,
          55,
          55,
          55,
          80,
          55,
          55,
          80,
          80,
          55,
          55,
          55,
          80,
          80,
          80,
          80,
          80,
          55,
          80,
          80,
          80,
          80,
          55,
          55,
          55,
          55,
          80,
          55,
          55,
          80,
          80,
          55,
          55,
          55,
          80,
          80,
          80,
          80,
          80,
          80,
          80,
          80,
          80,
          55,
          55,
          55,
          55,
          55,
          80,
          55,
          55,
          80,
          80,
          55,
          55,
          55,
          80,
          80,
          80,
          80,
          80,
          80,
          80,
          80,
          80,
          55,
          55,
          55,
          55,
          55,
          80,
          55,
          55,
          80,
          80,
          55,
          55,
          55,
          80,
          80,
          80,
          80,
          80,
          80,
          80,
          80,
          80,
          55,
          55,
          55,
          55,
          55,
          80,
          55,
          55,
          80,
          80,
          55,
          55,
          55,
          80,
          80,
          80,
          80,
          80,
          80,
          80,
          80,
          80,
          55,
          55,
          55,
          55,
          55,
          80,
          55,
          55,
          80,
          80,
          55,
          55,
          55,
          80,
          80,
          80,
          80,
          80,
          80,
          80,
          80,
          80,
          55,
          55,
          55,
          55,
          55,
          80,
          55,
          55,
          80,
          80,
          55,
          55,
          55,
          80,
          80,
          80,
          80,
          80,
          55,
          80,
          80,
          80,
          80,
          55,
          55,
          55,
          55,
          80,
          55,
          55,
          80,
          80,
          55,
          55,
          55,
          80,
          80,
          80,
          80,
          80,
          55,
          80,
          80,
          80,
          80,
          55,
          55,
          55,
          55,
          80,
          55,
          55,
          80,
          80,
          55,
          55,
          55,
          80,
          80,
          80,
          80,
          80,
          55,
          80,
          80,
          80,
          80,
          80,
          80,
          55,
          55,
          80,
          55,
          55,
          80,
          80,
          55,
          55,
          55,
          80,
          80,
          80,
          80,
          80,
          55,
          80,
          80,
          80,
          80,
          80,
          80,
          55,
          55,
          80,
          55,
          55,
          80,
          80,
          55,
          55,
          55,
          80,
          80,
          80,
          80,
          80,
          55,
          80,
          80,
          80,
          80,
          55,
          55,
          55,
          55,
          80,
          55,
          55,
          80,
          80,
          55,
          55,
          55,
          80,
          80,
          80,
          80,
          80,
          55,
          80,
          80,
          80,
          80,
          55,
          55,
          55,
          55,
          80,
          55,
          55,
          80,
          80,
          55,
          55,
          55,
          80,
          80,
          80,
          80,
          80,
          55,
          80,
          80,
          80,
          80,
          55,
          55,
          55,
          55,
          80,
          55,
          55,
          80,
          80,
          55,
          55,
          55,
          80,
          80,
          80,
          80,
          80,
          80,
          80,
          80,
          80,
          55,
          55,
          55,
          55,
          55,
          80,
          55,
          55,
          80,
          80,
          55,
          55,
          55,
          80,
          80,
          80,
          80,
          80,
          80,
          80,
          80,
          80,
          55,
          55,
          55,
          55,
          55,
          80,
          55,
          55,
          80,
          80,
          55,
          55,
          55,
          80,
          80,
          80,
          80,
          80,
          55,
          80,
          80,
          80,
          80,
          55,
          55,
          55,
          55,
          80,
          55,
          55,
          80,
          80,
          55,
          55,
          55,
          80,
          80,
          80,
          80,
          80,
          80,
          80,
          80,
          80,
          55,
          55,
          55,
          55,
          55,
          80,
          55,
          55,
          80,
          80,
          55,
          55,
          55,
          80,
          80,
          80,
          80,
          80,
          80,
          80,
          80,
          80,
          55,
          55,
          55,
          55,
          55,
          80,
          55,
          55,
          80,
          80,
          55,
          55,
          55,
          80,
          80,
          80,
          80,
          80,
          55,
          80,
          80,
          80,
          80,
          80,
          80,
          55,
          55,
          80,
          55,
          55,
          80,
          80,
          55,
          55,
          55,
          80,
          80,
          80,
          80,
          80,
          55,
          80,
          80,
          80,
          80,
          80,
          80,
          55,
          55,
          80,
          55,
          55,
          80,
          80,
          55,
          55,
          55,
          80,
          80,
          80,
          80,
          80,
          80,
          80,
          80,
          80,
          55,
          55,
          55,
          55,
          55,
          80,
          55,
          55,
          80,
          80,
          55,
          55,
          55,
          80,
          80,
          80,
          80,
          80,
          80,
          80,
          80,
          80,
          55,
          55,
          55,
          55,
          55,
          80,
          55,
          55,
          80,
          80,
          55,
          55,
          55,
          80,
          80,
          80,
          80,
          80,
          55,
          80,
          80,
          80,
          80,
          80,
          80,
          55,
          55,
          80,
          55,
          55,
          80,
          80,
          55,
          55,
          55,
          80,
          80,
          80,
          80,
          80,
          80,
          80,
          80,
          55,
          55,
          55,
          55,
          55,
          80,
          55,
          55,
          80,
          80,
          55,
          55,
          55,
          80,
          80,
          80,
          80,
          80,
          55,
          80,
          80,
          80,
          80,
          55,
          55,
          55,
          55,
          80,
          55,
          55,
          80,
          80,
          55,
          55,
          55,
          80,
          80,
          80,
          80,
          80,
          80,
          80,
          80,
          80,
          55,
          55,
          55,
          55,
          55,
          80,
          55,
          55,
          80,
          80,
          55,
          55,
          55,
          80,
          80,
          80,
          80,
          80,
          55,
          80,
          80,
          80,
          80,
          55,
          55,
          55,
          55,
          80,
          55,
          55,
          80,
          80,
          55,
          55,
          55,
          80,
          80,
          80,
          80,
          80,
          80,
          80,
          80,
          80,
          55,
          55,
          55,
          55,
          55,
          80,
          55,
          55,
          80,
          80,
          55,
          55,
          55,
          80,
          80,
          80,
          80,
          80,
          55,
          80,
          80,
          80,
          80,
          80,
          80,
          55,
          55,
          80,
          55,
          55,
          80,
          80,
          55,
          55,
          55,
          80,
          80,
          80,
          80,
          80,
          55,
          80,
          80,
          80,
          80,
          80,
          80,
          55,
          55,
          80,
          55,
          55,
          80,
          80,
          55,
          55,
          55,
          80,
          80,
          80,
          80,
          80,
          80,
          80,
          80,
          55,
          55,
          55,
          55,
          55,
          80,
          55,
          80,
          80,
          55,
          55,
          55,
          80,
          80,
          80,
          80,
          80,
          80,
          80,
          80,
          80,
          55,
          55,
          55,
          55,
          55,
          80,
          55,
          55,
          80,
          80,
          55,
          55,
          55,
          80,
          80,
          80,
          80,
          80,
          55,
          80,
          80,
          80,
          80,
          55,
          55,
          55,
          55,
          80,
          55,
          55,
          80,
          80,
          55,
          55,
          55,
          80,
          80,
          80,
          80,
          80,
          80,
          80,
          80,
          80,
          55,
          55,
          55,
          55,
          55,
          80,
          55,
          55,
          80,
          80,
          55,
          55,
          55,
          80,
          80,
          80,
          80,
          80,
          55,
          80,
          80,
          80,
          80,
          55,
          55,
          55,
          55,
          80,
          55,
          55,
          80,
          80,
          55,
          55,
          55,
          80,
          80,
          80,
          80,
          80,
          80,
          80,
          80,
          80,
          55,
          55,
          55,
          55,
          55,
          80,
          55,
          55,
          80,
          80,
          55,
          55,
          55,
          80,
          80,
          80,
          80,
          80,
          55,
          80,
          80,
          80,
          80,
          55,
          55,
          55,
          55,
          80,
          55,
          55,
          80,
          80,
          55,
          55,
          80,
          80,
          80,
          80,
          80,
          55,
          80,
          80,
          80,
          80,
          55,
          55,
          55,
          55,
          80,
          55,
          55,
          80,
          80,
          55,
          55,
          55,
          80,
          80,
          80,
          80,
          80,
          55,
          80,
          80,
          80,
          55,
          55,
          55,
          55,
          80,
          55,
          55,
          80,
          80,
          55,
          55,
          55,
          80,
          80,
          80,
          80,
          80,
          55,
          80,
          80,
          80,
          80,
          80,
          80,
          55,
          55,
          80,
          55,
          55,
          80,
          80,
          55,
          55,
          55,
          80,
          80,
          80,
          80,
          80,
          55,
          80,
          80,
          80,
          80,
          55,
          55,
          55,
          55,
          80,
          55,
          55,
          80,
          80,
          55,
          55,
          55,
          80,
          80,
          80,
          80,
          80,
          80,
          80,
          80,
          80,
          55,
          55,
          55,
          55,
          55,
          80,
          55,
          55,
          80,
          80,
          55,
          55,
          55,
          80,
          80,
          80,
          80,
          80,
          80,
          80,
          80,
          80,
          55,
          55,
          55,
          55,
          55,
          80,
          55,
          55,
          80,
          80,
          55,
          55,
          55,
          80,
          80,
          80,
          80,
          80,
          55,
          80,
          80,
          80,
          80,
          55,
          55,
          55,
          55,
          80,
          55,
          55,
          80,
          80,
          55,
          55,
          55,
          80,
          80,
          80,
          80,
          80,
          80,
          80,
          80,
          80,
          55,
          55,
          55,
          55,
          55,
          80,
          55,
          55,
          80,
          80,
          55,
          55,
          55,
          80,
          80,
          80,
          80,
          80,
          80,
          80,
          80,
          80,
          55,
          55,
          55,
          55,
          55,
          80,
          55,
          55,
          80,
          80,
          55,
          55,
          55,
          80,
          80,
          80,
          80,
          80,
          55,
          80,
          80,
          80,
          80,
          55,
          55,
          55,
          55,
          80,
          55,
          55,
          80,
          80,
          55,
          55,
          55,
          80,
          80,
          80,
          80,
          80,
          80,
          80,
          80,
          80,
          55,
          55,
          55,
          55,
          55,
          80,
          55,
          55,
          80,
          80,
          55,
          55,
          55,
          80,
          80,
          80,
          80,
          80,
          80,
          80,
          80,
          80,
          55,
          55,
          55,
          55,
          55,
          80,
          55,
          55,
          80,
          80,
          55,
          55,
          55,
          80,
          80,
          80,
          80,
          80,
          55,
          80,
          80,
          80,
          80,
          55,
          55,
          55,
          55,
          80,
          55,
          55,
          80,
          80,
          55,
          55,
          55,
          80,
          80,
          80,
          80,
          80,
          55,
          80,
          80,
          80,
          80,
          55,
          55,
          55,
          55,
          80,
          55,
          55,
          80,
          80,
          55,
          55,
          55,
          80,
          80,
          80,
          80,
          80,
          55,
          80,
          80,
          80,
          80,
          55,
          55,
          55,
          55,
          80,
          55,
          55,
          80,
          80,
          55,
          55,
          55,
          80,
          80,
          80,
          80,
          80,
          80,
          80,
          80,
          80,
          55,
          55,
          55,
          55,
          55,
          80,
          55,
          55,
          80,
          80,
          55,
          55,
          55,
          80,
          80,
          80,
          80,
          80,
          55,
          80,
          80,
          80,
          80,
          55,
          55,
          55,
          55,
          80,
          55,
          55,
          80,
          80,
          55,
          55,
          55,
          80,
          80,
          80,
          80,
          80,
          80,
          80,
          80,
          80,
          55,
          55,
          55,
          55,
          55,
          80,
          55,
          55,
          80,
          80,
          55,
          55,
          55,
          80,
          80,
          80,
          80,
          80,
          55,
          80,
          80,
          80,
          80,
          55,
          55,
          55,
          55,
          80,
          55,
          55,
          80,
          80,
          55,
          55,
          55,
          80,
          80,
          80,
          80,
          80,
          80,
          80,
          80,
          80,
          55,
          55,
          55,
          55,
          55,
          80,
          55,
          55,
          80,
          80,
          55,
          55,
          55,
          80,
          80,
          80,
          80,
          80,
          55,
          80,
          80,
          80,
          80,
          55,
          55,
          55,
          55,
          80,
          55,
          55,
          80,
          80,
          55,
          55,
          55,
          80,
          80,
          80,
          80,
          80,
          80,
          80,
          80,
          80,
          55,
          55,
          80,
          55,
          55,
          55,
          80,
          55,
          55,
          80,
          80,
          55,
          55,
          55,
          80,
          80,
          80,
          80,
          80,
          55,
          80,
          80,
          80,
          80,
          55,
          55,
          55,
          55,
          80,
          55,
          80,
          80,
          55,
          55,
          55,
          80,
          80,
          80,
          80,
          80,
          55,
          80,
          80,
          80,
          80,
          80,
          80,
          55,
          55,
          80,
          55,
          55,
          80,
          80,
          55,
          55,
          55,
          80,
          80,
          80,
          80,
          55,
          80,
          80,
          80,
          80,
          80,
          80,
          55,
          55,
          80,
          55,
          80,
          80,
          55,
          55,
          55,
          80,
          80,
          80,
          80,
          80,
          55,
          80,
          80,
          80,
          80,
          55,
          55,
          55,
          55,
          80,
          55,
          55,
          80,
          80,
          55,
          55,
          55,
          80,
          80,
          80,
          80,
          80,
          80,
          80,
          80,
          80,
          55,
          55,
          55,
          55,
          55,
          80,
          55,
          55,
          80,
          80,
          55,
          55,
          55,
          80,
          80,
          80,
          80,
          80,
          55,
          80,
          80,
          80,
          80,
          55,
          55,
          55,
          55,
          80,
          55,
          55,
          80,
          80,
          55,
          55,
          55,
          80,
          80,
          80,
          80,
          80,
          55,
          80,
          80,
          80,
          80,
          80,
          80,
          55,
          55,
          80,
          55,
          55,
          80,
          80,
          55,
          55,
          55,
          80,
          80,
          80,
          80,
          80,
          80,
          80,
          80,
          80,
          55,
          55,
          55,
          55,
          55,
          80,
          55,
          55,
          80,
          80,
          55,
          55,
          55,
          80,
          80,
          80,
          80,
          80,
          55,
          55,
          55,
          80,
          55,
          55,
          80,
          80,
          55,
          55,
          55,
          80,
          80,
          80,
          80,
          80,
          55,
          80,
          80,
          80,
          80,
          55,
          55,
          55,
          55,
          80,
          55,
          55,
          80,
          80,
          55,
          55,
          55,
          80,
          80,
          80,
          80,
          80,
          80,
          80,
          80,
          80,
          55,
          55,
          55,
          55,
          55,
          80,
          55,
          55,
          80,
          80,
          55,
          55,
          55,
          80,
          80,
          80,
          80,
          80,
          55,
          80,
          80,
          80,
          80,
          80,
          80,
          55,
          55,
          80,
          55,
          55,
          80,
          80,
          55,
          55,
          55,
          80,
          80,
          80,
          80,
          80,
          55,
          80,
          80,
          80,
          80,
          80,
          80,
          55,
          55,
          80,
          55,
          55,
          80,
          80,
          55,
          55,
          55,
          80,
          80,
          80,
          80,
          80,
          80,
          80,
          80,
          80,
          55,
          55,
          55,
          55,
          55,
          80,
          55,
          55,
          80,
          80,
          55,
          55,
          55,
          80,
          80,
          80,
          80,
          80,
          80,
          80,
          80,
          80,
          55,
          55,
          55,
          55,
          55,
          80,
          55,
          55,
          80,
          80,
          55,
          55,
          55,
          80,
          80,
          80,
          80,
          80,
          55,
          80,
          80,
          80,
          80,
          55,
          55,
          55,
          55,
          80,
          55,
          55,
          80,
          80,
          55,
          55,
          55,
          80,
          80,
          80,
          80,
          80,
          55,
          80,
          80,
          80,
          80,
          55,
          55,
          55,
          55,
          80,
          55,
          55,
          80,
          80,
          55,
          55,
          55,
          80,
          80,
          80,
          80,
          80,
          80,
          80,
          80,
          80,
          55,
          55,
          55,
          55,
          55,
          80,
          55,
          55,
          80,
          80,
          55,
          55,
          55,
          80,
          80,
          80,
          80,
          80,
          55,
          80,
          80,
          80,
          80,
          80,
          80,
          55,
          55,
          80,
          55,
          55,
          80,
          80,
          55,
          55,
          55,
          80,
          80,
          80,
          80,
          80,
          80,
          80,
          80,
          80,
          55,
          55,
          55,
          55,
          55,
          80,
          55,
          55,
          80,
          80,
          55,
          55,
          55,
          80,
          80,
          80,
          80,
          80,
          80,
          80,
          80,
          80,
          55,
          55,
          55,
          55,
          55,
          80,
          55,
          55,
          80,
          80,
          55,
          55,
          55,
          80,
          80,
          80,
          80,
          80,
          55,
          80,
          80,
          80,
          80,
          55,
          55,
          55,
          55,
          80,
          55,
          55,
          80,
          80,
          55,
          55,
          55,
          80,
          80,
          80,
          80,
          80,
          55,
          80,
          80,
          80,
          80,
          80,
          80,
          55,
          55,
          80,
          55,
          55,
          80,
          80,
          55,
          55,
          55,
          80,
          80,
          80,
          80,
          80,
          55,
          80,
          80,
          80,
          80,
          80,
          80,
          55,
          55,
          80,
          55,
          55,
          80,
          80,
          55,
          55,
          55,
          80,
          80,
          80,
          80,
          80,
          80,
          80,
          80,
          80,
          55,
          55,
          55,
          55,
          55,
          80,
          55,
          55,
          80,
          80,
          55,
          55,
          55,
          80,
          80,
          80,
          80,
          80,
          55,
          80,
          80,
          80,
          80,
          80,
          80,
          55,
          55,
          80,
          55,
          55,
          80,
          80,
          55,
          55,
          55,
          80,
          80,
          80,
          80,
          80,
          55,
          80,
          80,
          80,
          80,
          55,
          55,
          55,
          55,
          80,
          55,
          55,
          80,
          80,
          55,
          55,
          55,
          80,
          80,
          80,
          80,
          80,
          80,
          80,
          80,
          80,
          55,
          55,
          55,
          55,
          55,
          80,
          55,
          55,
          80,
          80,
          55,
          55,
          55,
          80,
          80,
          80,
          80,
          80,
          55,
          80,
          80,
          80,
          80,
          80,
          80,
          55,
          55,
          80,
          55,
          55,
          80,
          80,
          55,
          55,
          55,
          80,
          80,
          80,
          80,
          80,
          55,
          80,
          80,
          80,
          80,
          55,
          55,
          55,
          55,
          80,
          55,
          55,
          80,
          80,
          55,
          55,
          55,
          80,
          80,
          80,
          80,
          80,
          80,
          80,
          80,
          80,
          55,
          55,
          55,
          55,
          55,
          80,
          55,
          55,
          80,
          80,
          55,
          55,
          55,
          80,
          80,
          80,
          80,
          80,
          55,
          80,
          80,
          80,
          80,
          80,
          80,
          55,
          55,
          80,
          55,
          55,
          80,
          80,
          55,
          55,
          55,
          80,
          80,
          80,
          80,
          80,
          80,
          80,
          80,
          80,
          55,
          55,
          55,
          55,
          55,
          80,
          55,
          55,
          80,
          80,
          55,
          55,
          55,
          80,
          80,
          80,
          80,
          80,
          80,
          80,
          80,
          80,
          55,
          55,
          55,
          55,
          55,
          80,
          55,
          55,
          80,
          80,
          55,
          55,
          55,
          80,
          80,
          80,
          80,
          80,
          55,
          80,
          80,
          80,
          80,
          55,
          55,
          55,
          55,
          80,
          55,
          55,
          80,
          80,
          55,
          55,
          55,
          80,
          80,
          80,
          80,
          80,
          80,
          80,
          80,
          80,
          55,
          55,
          55,
          55,
          55,
          80,
          55,
          55,
          80,
          80,
          55,
          55,
          55,
          80,
          80,
          80,
          80,
          80,
          80,
          80,
          80,
          80,
          55,
          55,
          55,
          55,
          55,
          80,
          55,
          55,
          80,
          80,
          55,
          55,
          80,
          80,
          80,
          80,
          55,
          80,
          80,
          80,
          80,
          55,
          55,
          80,
          80,
          80,
          80,
          80,
          80,
          80,
          80,
          80,
          80,
          55,
          80,
          80,
          80,
          80,
          55,
          80,
          80,
          80,
          80,
          80,
          80,
          80,
          80,
          80,
          80,
          80,
          80,
          80,
          80,
          80,
          80,
          55,
          80,
          80,
          80,
          80,
          55,
          80,
          80,
          80,
          80,
          80,
          80,
          80,
          80,
          80,
          80,
          80,
          80,
          80,
          80,
          80,
          80,
          55,
          80,
          80,
          80,
          80,
          55,
          80,
          80,
          80,
          80,
          55,
          55,
          80,
          80,
          80,
          80,
          80,
          80,
          80,
          80,
          80,
          80,
          55,
          80,
          80,
          80,
          80,
          55,
          80,
          80,
          80,
          80,
          80,
          80,
          80,
          80,
          80,
          80,
          80,
          80,
          80,
          80,
          80,
          80,
          55,
          80,
          80,
          80,
          80,
          55,
          80,
          80,
          80,
          80,
          55,
          55,
          80,
          80,
          80,
          80,
          80,
          80,
          80,
          80,
          80,
          80,
          55,
          80,
          80,
          80,
          55,
          80,
          80,
          80,
          80,
          55,
          55,
          80,
          80,
          80,
          80,
          80,
          80,
          80,
          80,
          80,
          80,
          55,
          80,
          80,
          80,
          80,
          55,
          80,
          80,
          80,
          80,
          80,
          80,
          80,
          80,
          80,
          80,
          80,
          80,
          80,
          80,
          80,
          80,
          55,
          80,
          80,
          80,
          80,
          55,
          80,
          55,
          80,
          80,
          55,
          80,
          80,
          80,
          80,
          80,
          80,
          80,
          80,
          80,
          80,
          80,
          55,
          80,
          80,
          80,
          80,
          55,
          80,
          80,
          80,
          80,
          80,
          80,
          80,
          80,
          80,
          80,
          80,
          80,
          80,
          80,
          80,
          80,
          55,
          80,
          80,
          80,
          80,
          55,
          80,
          55,
          80,
          80,
          55,
          80,
          80,
          80,
          80,
          80,
          80,
          80,
          80,
          80,
          80,
          80,
          55,
          80,
          80,
          80,
          80,
          55,
          80,
          55,
          80,
          80,
          55,
          80,
          80,
          80,
          80,
          80,
          80,
          80,
          80,
          80,
          80,
          80,
          55,
          80,
          80,
          80,
          80,
          55,
          80,
          55,
          80,
          80,
          55,
          80,
          80,
          80,
          80,
          80,
          80,
          80,
          80,
          80,
          80,
          80,
          55,
          80,
          80,
          80,
          80,
          55,
          80,
          80,
          80,
          80,
          80,
          80,
          80,
          80,
          80,
          80,
          80,
          80,
          80,
          80,
          80,
          80,
          55,
          80,
          80,
          80,
          80,
          55,
          80,
          55,
          80,
          80,
          55,
          80,
          80,
          80,
          80,
          80,
          80,
          80,
          80,
          80,
          80,
          80,
          55,
          80,
          80,
          80,
          80,
          55,
          80,
          80,
          80,
          80,
          80,
          80,
          80,
          80,
          80,
          80,
          80,
          80,
          80,
          55,
          80,
          80,
          80,
          80,
          55,
          80,
          80,
          80,
          80,
          80,
          80,
          80,
          80,
          80,
          80,
          80,
          80,
          80,
          80,
          80,
          80,
          55,
          80,
          80,
          80,
          80,
          55,
          80,
          80,
          80,
          80,
          80,
          80,
          80,
          80,
          80,
          80,
          80,
          80,
          80,
          80,
          80,
          80,
          55,
          80,
          80,
          80,
          80,
          55,
          80,
          55,
          80,
          80,
          55,
          80,
          80,
          80,
          80,
          80,
          80,
          80,
          80,
          80,
          80,
          80,
          55,
          80,
          80,
          80,
          80,
          55,
          80,
          80,
          80,
          80,
          80,
          80,
          80,
          80,
          80,
          80,
          80,
          80,
          80,
          80,
          80,
          80,
          55,
          80,
          80,
          80,
          80,
          55,
          80,
          80,
          80,
          80,
          80,
          80,
          80,
          80,
          80,
          80,
          80,
          80,
          80,
          80,
          80,
          80,
          55,
          80,
          80,
          80,
          80,
          55,
          80,
          55,
          80,
          80,
          55,
          80,
          80,
          80,
          80,
          80,
          80,
          80,
          80,
          80,
          80,
          80,
          55,
          80,
          80,
          80,
          80,
          55,
          80,
          80,
          55,
          80,
          80,
          55,
          80,
          80,
          80,
          80,
          80,
          80,
          80,
          80,
          80,
          80,
          80,
          55,
          80,
          80,
          80,
          80,
          55,
          80,
          80,
          80,
          80,
          80,
          80,
          80,
          80,
          80,
          80,
          80,
          80,
          80,
          80,
          80,
          80,
          55,
          80,
          80,
          80,
          80,
          55,
          80,
          80,
          80,
          80,
          55,
          55,
          80,
          80,
          80,
          80,
          80,
          80,
          80,
          80,
          80,
          80,
          55,
          80,
          80,
          80,
          80,
          55,
          80,
          80,
          80,
          80,
          55,
          55,
          80,
          80,
          80,
          80,
          80,
          80,
          80,
          80,
          80,
          80,
          55,
          80,
          80,
          80,
          80,
          55,
          80,
          80,
          80,
          80,
          80,
          80,
          80,
          80,
          80,
          80,
          80,
          80,
          80,
          80,
          80,
          80,
          55,
          80,
          80,
          80,
          80,
          55,
          80,
          80,
          80,
          80,
          80,
          80,
          80,
          80,
          80,
          80,
          80,
          80,
          80,
          80,
          80,
          80,
          55,
          80,
          80,
          80,
          80,
          55,
          80,
          55,
          80,
          80,
          55,
          80,
          80,
          80,
          80,
          80,
          80,
          80,
          80,
          80,
          80,
          80,
          55,
          80,
          80,
          80,
          80,
          55,
          80,
          55,
          80,
          80,
          55,
          80,
          80,
          80,
          80,
          80,
          80,
          80,
          80,
          80,
          80,
          80,
          55,
          80,
          80,
          80,
          80,
          55,
          80,
          80,
          80,
          80,
          80,
          80,
          80,
          80,
          80,
          80,
          80,
          80,
          80,
          80,
          80,
          80,
          55,
          80,
          80,
          80,
          80,
          55,
          80,
          80,
          80,
          80,
          55,
          55,
          80,
          80,
          80,
          80,
          80,
          80,
          80,
          80,
          80,
          80,
          55,
          80,
          80,
          80,
          80,
          55,
          80,
          80,
          80,
          80,
          80,
          80,
          80,
          80,
          80,
          80,
          80,
          80,
          80,
          80,
          80,
          80,
          55,
          80,
          80,
          80,
          80,
          55,
          80,
          55,
          80,
          80,
          55,
          80,
          80,
          80,
          80,
          80,
          80,
          80,
          80,
          80,
          80,
          80,
          55,
          80,
          80,
          80,
          80,
          55,
          80,
          80,
          80,
          80,
          80,
          80,
          80,
          80,
          80,
          80,
          80,
          80,
          80,
          80,
          80,
          80,
          55,
          80,
          80,
          80,
          80,
          55,
          80,
          55,
          80,
          80,
          55,
          80,
          80,
          80,
          80,
          80,
          80,
          80,
          80,
          80,
          80,
          80,
          55,
          80,
          80,
          80,
          80,
          55,
          80,
          55,
          80,
          80,
          55,
          80,
          80,
          80,
          80,
          80,
          80,
          80,
          80,
          80,
          80,
          80,
          55,
          80,
          80,
          80,
          80,
          55,
          80,
          55,
          80,
          80,
          55,
          80,
          80,
          80,
          80,
          80,
          80,
          80,
          80,
          80,
          80,
          80,
          55,
          80,
          80,
          80,
          80,
          55,
          80,
          55,
          80,
          80,
          55,
          80,
          80,
          80,
          80,
          80,
          80,
          80,
          80,
          80,
          80,
          80,
          55,
          80,
          80,
          80,
          80,
          55,
          80,
          80,
          80,
          80,
          55,
          55,
          80,
          80,
          80,
          80,
          80,
          80,
          80,
          80,
          80,
          80,
          55,
          80,
          80,
          80,
          80,
          55,
          80,
          80,
          80,
          80,
          55,
          55,
          80,
          80,
          80,
          80,
          80,
          80,
          80,
          80,
          80,
          80,
          55,
          80,
          80,
          80,
          80,
          55,
          80,
          55,
          80,
          80,
          55,
          80,
          80,
          80,
          80,
          80,
          80,
          80,
          80,
          80,
          80,
          80,
          55,
          80,
          80,
          80,
          80,
          55,
          80,
          80,
          80,
          55,
          80,
          80,
          80,
          80,
          80,
          80,
          80,
          80,
          80,
          80,
          80,
          55,
          80,
          80,
          80,
          80,
          55,
          80,
          55,
          80,
          80,
          55,
          80,
          80,
          80,
          80,
          80,
          80,
          80,
          80,
          80,
          80,
          80,
          55,
          80,
          80,
          80,
          80,
          55,
          80,
          80,
          80,
          80,
          80,
          80,
          80,
          80,
          80,
          80,
          80,
          80,
          80,
          80,
          80,
          80,
          55,
          80,
          80,
          80,
          80,
          55,
          80,
          80,
          80,
          80,
          80,
          80,
          80,
          80,
          80,
          80,
          80,
          55,
          55,
          55,
          80,
          80,
          55,
          80,
          80,
          80,
          80,
          80,
          80,
          80,
          80,
          80,
          80,
          80,
          55,
          80,
          80,
          80,
          80,
          55,
          80,
          80,
          80,
          80,
          80,
          80,
          80,
          80,
          80,
          80,
          80,
          80,
          80,
          80,
          80,
          80,
          55,
          80,
          80,
          80,
          80,
          55,
          80,
          55,
          80,
          80,
          55,
          80,
          80,
          80,
          80,
          80,
          80,
          80,
          80,
          80,
          80,
          80,
          55,
          80,
          80,
          80,
          80,
          55,
          80,
          55,
          80,
          80,
          55,
          80,
          80,
          80,
          80,
          80,
          80,
          80,
          80,
          80,
          80,
          80,
          55,
          80,
          80,
          80,
          80,
          55,
          80,
          55,
          80,
          80,
          55,
          80,
          80,
          80,
          80,
          80,
          80,
          80,
          80,
          80,
          80,
          80,
          55,
          80,
          80,
          80,
          80,
          55,
          80,
          80,
          80,
          80,
          80,
          80,
          80,
          80,
          80,
          80,
          80,
          80,
          80,
          80,
          80,
          80,
          55,
          80,
          80,
          80,
          80,
          55,
          80,
          55,
          80,
          80,
          55,
          80,
          80,
          80,
          80,
          80,
          80,
          80,
          80,
          80,
          80,
          80,
          55,
          80,
          80,
          80,
          80,
          55,
          80,
          80,
          80,
          80,
          55,
          55,
          80,
          80,
          80,
          80,
          80,
          80,
          80,
          80,
          80,
          80,
          55,
          80,
          80,
          80,
          80,
          55,
          80,
          80,
          80,
          80,
          55,
          55,
          80,
          80,
          80,
          80,
          80,
          80,
          80,
          80,
          80,
          80,
          55,
          80,
          80,
          80,
          80,
          55,
          80,
          80,
          80,
          80,
          80,
          80,
          80,
          80,
          80,
          80,
          80,
          80,
          80,
          80,
          80,
          80,
          55,
          80,
          80,
          80,
          80,
          55,
          80,
          80,
          80,
          80,
          55,
          55,
          80,
          80,
          80,
          80,
          80,
          80,
          80,
          80,
          80,
          80,
          55,
          80,
          80,
          80,
          80,
          55,
          80,
          80,
          80,
          80,
          80,
          80,
          80,
          80,
          80,
          80,
          80,
          80,
          80,
          80,
          80,
          80,
          55,
          80,
          80,
          80,
          80,
          55,
          80,
          80,
          80,
          80,
          80,
          80,
          80,
          80,
          80,
          80,
          80,
          80,
          80,
          80,
          80,
          80,
          55,
          80,
          80,
          80,
          80,
          55,
          80,
          80,
          80,
          80,
          80,
          80,
          80,
          80,
          80,
          80,
          80,
          80,
          80,
          80,
          80,
          80,
          55,
          80,
          80,
          80,
          80,
          55,
          80,
          80,
          80,
          80,
          80,
          80,
          80,
          80,
          80,
          80,
          80,
          80,
          80,
          80,
          80,
          80,
          55,
          80,
          80,
          80,
          80,
          55,
          80,
          55,
          80,
          80,
          55,
          80,
          80,
          80,
          80,
          80,
          80,
          80,
          80,
          80,
          80,
          80,
          55,
          80,
          80,
          80,
          80,
          55,
          80,
          80,
          80,
          80,
          80,
          80,
          80,
          80,
          80,
          80,
          80,
          80,
          80,
          80,
          80,
          80,
          55,
          80,
          80,
          80,
          80,
          55,
          80,
          55,
          80,
          80,
          55,
          80,
          80,
          80,
          80,
          80,
          80,
          80,
          80,
          80,
          80,
          80,
          55,
          80,
          80,
          80,
          80,
          55,
          80,
          55,
          80,
          80,
          55,
          80,
          80,
          80,
          80,
          80,
          80,
          80,
          80,
          80,
          80,
          55,
          80,
          80,
          80,
          80,
          55,
          80,
          55,
          80,
          80,
          55,
          80,
          80,
          80,
          80,
          80,
          80,
          80,
          80,
          80,
          80,
          80,
          55,
          80,
          80,
          80,
          80,
          55,
          80,
          80,
          80,
          80,
          80,
          80,
          80,
          80,
          80,
          80,
          80,
          80,
          80,
          80,
          80,
          80,
          55,
          80,
          80,
          80,
          80,
          55,
          80,
          55,
          80,
          80,
          55,
          80,
          80,
          80,
          80,
          80,
          80,
          80,
          80,
          80,
          80,
          80,
          55,
          80,
          80,
          80,
          80,
          55,
          80,
          80,
          80,
          80,
          55,
          55,
          80,
          80,
          80,
          80,
          80,
          80,
          80,
          80,
          80,
          55,
          80,
          80,
          80,
          80,
          55,
          80,
          80,
          80,
          80,
          55,
          55,
          80,
          80,
          80,
          80,
          80,
          80,
          80,
          80,
          80,
          80,
          55,
          80,
          80,
          80,
          80,
          55,
          80,
          55,
          80,
          80,
          55,
          80,
          80,
          80,
          80,
          80,
          80,
          80,
          80,
          80,
          80,
          80,
          55,
          80,
          80,
          80,
          80,
          55,
          80,
          55,
          80,
          80,
          55,
          80,
          80,
          80,
          80,
          80,
          80,
          80,
          80,
          80,
          80,
          80,
          55,
          80,
          80,
          80,
          80,
          55,
          80,
          55,
          80,
          80,
          55,
          80,
          80,
          80,
          80,
          80,
          80,
          80,
          80,
          80,
          80,
          80,
          55,
          80,
          80,
          80,
          80,
          55,
          80,
          55,
          80,
          80,
          55,
          80,
          80,
          80,
          80,
          80,
          80,
          80,
          80,
          80,
          80,
          80,
          55,
          80,
          80,
          80,
          80,
          55,
          80,
          80,
          80,
          80,
          80,
          80,
          80,
          80,
          80,
          80,
          80,
          80,
          80,
          80,
          80,
          80,
          55,
          80,
          80,
          80,
          80,
          55,
          80,
          55,
          80,
          80,
          55,
          80,
          80,
          80,
          80,
          80,
          80,
          80,
          80,
          80,
          80,
          80,
          55,
          80,
          80,
          80,
          80,
          55,
          80,
          80,
          80,
          80,
          55,
          55,
          80,
          80,
          80,
          80,
          80,
          80,
          80,
          80,
          80,
          80,
          55,
          80,
          80,
          80,
          80,
          55,
          80,
          55,
          80,
          80,
          55,
          80,
          80,
          80,
          80,
          80,
          80,
          80,
          80,
          80,
          80,
          80,
          55,
          80,
          80,
          80,
          80,
          55,
          80,
          80,
          80,
          80,
          80,
          80,
          80,
          80,
          80,
          80,
          80,
          80,
          80,
          80,
          80,
          80,
          55,
          80,
          80,
          80,
          80,
          55,
          80,
          80,
          80,
          80,
          55,
          55,
          80,
          80,
          80,
          80,
          80,
          80,
          80,
          80,
          80,
          80,
          55,
          80,
          80,
          80,
          80,
          55,
          80,
          55,
          80,
          80,
          55,
          80,
          80,
          80,
          80,
          80,
          80,
          80,
          80,
          80,
          80,
          80,
          55,
          80,
          80,
          80,
          80,
          55,
          80,
          80,
          80,
          80,
          80,
          80,
          80,
          80,
          80,
          80,
          80,
          80,
          80,
          80,
          80,
          80,
          55,
          80,
          80,
          80,
          80,
          55,
          80,
          80,
          80,
          80,
          55,
          55,
          80,
          80,
          80,
          80,
          80,
          80,
          80,
          80,
          80,
          80,
          55,
          80,
          80,
          80,
          80,
          55,
          80,
          80,
          80,
          80,
          55,
          55,
          80,
          80,
          80,
          80,
          80,
          80,
          80,
          80,
          80,
          80,
          55,
          80,
          80,
          80,
          80,
          55,
          80,
          55,
          80,
          80,
          55,
          80,
          80,
          80,
          80,
          80,
          80,
          80,
          80,
          80,
          80,
          80,
          55,
          80,
          80,
          80,
          80,
          55,
          80,
          80,
          80,
          80,
          80,
          80,
          80,
          80,
          80,
          80,
          80,
          80,
          80,
          80,
          80,
          80,
          55,
          80,
          80,
          80,
          80,
          55,
          80,
          80,
          80,
          80,
          80,
          80,
          80,
          80,
          80,
          80,
          80,
          80,
          80,
          80,
          80,
          55,
          80,
          80,
          80,
          80,
          55,
          80,
          55,
          80,
          80,
          55,
          80,
          80,
          80,
          80,
          80,
          80,
          80,
          80,
          80,
          80,
          80,
          55,
          80,
          80,
          80,
          80,
          55,
          80,
          55,
          80,
          80,
          55,
          80,
          80,
          80,
          80,
          80,
          80,
          80,
          80,
          80,
          80,
          80,
          55,
          80,
          80,
          80,
          80,
          55,
          80,
          80,
          80,
          80,
          80,
          80,
          80,
          80,
          80,
          80,
          80,
          80,
          80,
          80,
          80,
          80,
          55,
          80,
          80,
          80,
          80,
          55,
          80,
          55,
          80,
          80,
          55,
          80,
          80,
          80,
          80,
          80,
          80,
          80,
          80,
          80,
          80,
          80,
          55,
          80,
          80,
          80,
          80,
          55,
          80,
          55,
          80,
          80,
          55,
          80,
          80,
          80,
          80,
          80,
          80,
          80,
          80,
          80,
          80,
          80,
          55,
          80,
          80,
          80,
          80,
          55,
          80,
          80,
          80,
          80,
          80,
          80,
          80,
          80,
          80,
          80,
          80,
          80,
          80,
          80,
          80,
          80,
          55,
          80,
          80,
          80,
          80,
          55,
          80,
          80,
          80,
          80,
          80,
          80,
          80,
          80,
          80,
          80,
          80,
          80,
          80,
          80,
          80,
          80,
          55,
          80,
          80,
          80,
          80,
          55,
          80,
          80,
          80,
          80,
          80,
          80,
          80,
          80,
          80,
          80,
          80,
          55,
          55,
          55,
          80,
          80,
          55,
          80,
          80,
          80,
          80,
          80,
          80,
          80,
          80,
          80,
          80,
          80,
          55,
          80,
          80,
          80,
          80,
          55,
          80,
          80,
          80,
          80,
          80,
          80,
          80,
          80,
          80,
          80,
          80,
          80,
          80,
          80,
          80,
          80,
          55,
          80,
          80,
          80,
          80,
          55,
          80,
          80,
          80,
          80,
          80,
          80,
          80,
          80,
          80,
          80,
          80,
          80,
          80,
          80,
          80,
          80,
          55,
          80,
          80,
          80,
          80,
          55,
          80,
          80,
          80,
          80,
          55,
          55,
          80,
          80,
          80,
          80,
          80,
          80,
          80,
          80,
          80,
          80,
          55,
          80,
          80,
          80,
          80,
          55,
          80,
          55,
          80,
          80,
          55,
          80,
          80,
          80,
          80,
          80,
          80,
          80,
          80,
          80,
          80,
          80,
          55,
          80,
          80,
          80,
          80,
          55,
          80,
          80,
          80,
          80,
          80,
          80,
          80,
          80,
          80,
          80,
          80,
          80,
          80,
          80,
          80,
          80,
          55,
          80,
          80,
          80,
          80,
          55,
          80,
          80,
          80,
          80,
          80,
          80,
          80,
          80,
          80,
          80,
          80,
          80,
          80,
          80,
          80,
          80,
          55,
          80,
          80,
          80,
          80,
          55,
          80,
          55,
          80,
          80,
          55,
          80,
          80,
          80,
          80,
          80,
          80,
          80,
          80,
          80,
          80,
          80,
          55,
          80,
          80,
          80,
          80,
          55,
          80,
          55,
          80,
          80,
          55,
          80,
          80,
          80,
          80,
          80,
          80,
          80,
          80,
          80,
          80,
          80,
          55,
          80,
          80,
          80,
          80,
          55,
          80,
          80,
          80,
          80,
          80,
          80,
          80,
          80,
          80,
          80,
          80,
          80,
          80,
          80,
          80,
          80,
          55,
          80,
          80,
          80,
          80,
          55,
          80,
          80,
          80,
          80,
          80,
          80,
          80,
          80,
          80,
          80,
          80,
          55,
          80,
          80,
          80,
          80,
          55,
          80,
          55,
          80,
          80,
          55,
          80,
          80,
          80,
          80,
          80,
          80,
          80,
          80,
          80,
          80,
          80,
          55,
          80,
          80,
          80,
          80,
          55,
          80,
          80,
          80,
          80,
          55,
          55,
          80,
          80,
          80,
          80,
          80,
          80,
          80,
          80,
          80,
          80,
          55,
          80,
          80,
          80,
          80,
          55,
          80,
          55,
          80,
          80,
          55,
          80,
          80,
          80,
          80,
          80,
          80,
          80,
          80,
          80,
          80,
          80,
          55,
          80,
          80,
          80,
          80,
          55,
          80,
          55,
          80,
          80,
          55,
          80,
          80,
          80,
          80,
          80,
          80,
          80,
          80,
          80,
          80,
          80,
          55,
          80,
          80,
          80,
          80,
          55,
          80,
          55,
          80,
          80,
          55,
          80,
          80,
          80,
          80,
          80,
          80,
          80,
          80,
          80,
          80,
          80,
          55,
          80,
          80,
          80,
          80,
          55,
          80,
          80,
          80,
          80,
          55,
          55,
          80,
          80,
          80,
          80,
          80,
          80,
          80,
          80,
          80,
          80,
          55,
          80,
          80,
          80,
          80,
          55,
          80,
          55,
          80,
          80,
          55,
          80,
          80,
          80,
          80,
          80,
          80,
          80,
          80,
          80,
          80,
          55,
          80,
          80,
          80,
          80,
          55,
          80,
          55,
          80,
          80,
          55,
          80,
          80,
          80,
          80,
          80,
          80,
          80,
          80,
          80,
          80,
          80,
          55,
          80,
          80,
          80,
          80,
          55,
          80,
          80,
          80,
          80,
          80,
          80,
          80,
          80,
          80,
          80,
          80,
          80,
          80,
          80,
          80,
          80,
          55,
          55,
          55,
          55,
          80,
          30,
          55,
          55,
          80,
          80,
          55,
          55,
          55,
          30,
          80,
          30,
          80,
          55,
          55,
          80,
          30,
          55,
          30,
          80,
          55,
          30,
          55,
          55,
          55,
          80,
          55,
          55,
          80,
          80,
          55,
          55,
          80,
          30,
          30,
          55,
          30,
          30,
          80,
          55,
          30,
          55,
          55,
          80,
          55,
          55,
          30,
          80,
          55,
          55,
          55,
          80,
          30,
          55,
          80,
          55,
          55,
          80,
          30,
          55,
          30,
          80,
          55,
          30,
          55,
          55,
          55,
          80,
          55,
          55,
          55,
          80,
          30,
          80,
          55,
          55,
          80,
          30,
          30,
          55,
          30,
          30,
          80,
          80,
          55,
          30,
          55,
          55,
          55,
          80,
          55,
          55,
          55,
          80,
          30,
          80,
          55,
          55,
          80,
          30,
          30,
          55,
          30,
          30,
          80,
          55,
          55,
          55,
          80,
          30,
          55,
          55,
          80,
          80,
          55,
          55,
          55,
          30,
          80,
          30,
          80,
          55,
          55,
          80,
          30,
          55,
          30,
          80,
          55,
          30,
          55,
          55,
          55,
          80,
          55,
          55,
          55,
          80,
          30,
          80,
          55,
          55,
          80,
          30,
          30,
          55,
          30,
          30,
          80,
          55,
          30,
          55,
          55,
          80,
          55,
          55,
          30,
          80,
          55,
          55,
          55,
          80,
          30,
          55,
          80,
          55,
          55,
          80,
          30,
          55,
          30,
          55,
          55,
          55,
          80,
          30,
          55,
          55,
          80,
          80,
          55,
          55,
          55,
          30,
          80,
          30,
          80,
          55,
          55,
          80,
          30,
          55,
          30,
          55,
          30,
          55,
          55,
          80,
          55,
          55,
          30,
          80,
          55,
          55,
          55,
          80,
          30,
          55,
          80,
          55,
          55,
          80,
          30,
          55,
          30,
          55,
          55,
          55,
          80,
          30,
          55,
          55,
          80,
          80,
          55,
          55,
          55,
          30,
          80,
          30,
          80,
          55,
          55,
          80,
          30,
          55,
          30,
          55,
          55,
          55,
          80,
          30,
          55,
          55,
          80,
          80,
          55,
          55,
          55,
          30,
          80,
          30,
          80,
          55,
          55,
          80,
          30,
          55,
          30,
          80,
          55,
          30,
          55,
          55,
          55,
          80,
          55,
          55,
          55,
          80,
          30,
          80,
          55,
          55,
          80,
          30,
          30,
          30,
          30,
          80,
          55,
          30,
          55,
          55,
          80,
          55,
          55,
          30,
          80,
          55,
          55,
          55,
          80,
          30,
          55,
          80,
          55,
          55,
          80,
          30,
          55,
          30,
          80,
          55,
          80,
          80,
          30,
          55,
          30,
          30,
          80,
          30,
          55,
          55,
          30,
          30,
          30,
          30,
          80,
          80,
          55,
          30,
          30,
          80,
          55,
          55,
          30,
          80,
          55,
          80,
          80,
          30,
          55,
          30,
          30,
          80,
          55,
          30,
          30,
          30,
          80,
          30,
          55,
          30,
          30,
          80,
          80,
          55,
          80,
          80,
          30,
          55,
          30,
          30,
          80,
          30,
          55,
          55,
          30,
          30,
          30,
          30,
          80,
          80,
          55,
          30,
          30,
          80,
          55,
          55,
          30,
          80,
          55,
          80,
          80,
          30,
          55,
          30,
          30,
          80,
          55,
          30,
          30,
          30,
          80,
          30,
          55,
          30,
          30,
          80,
          55,
          55,
          30,
          80,
          55,
          80,
          80,
          30,
          55,
          30,
          30,
          80,
          55,
          30,
          30,
          30,
          80,
          30,
          55,
          30,
          30,
          80,
          80,
          80,
          55,
          80,
          80,
          55,
          55,
          30,
          55,
          30,
          30,
          80,
          30,
          55,
          30,
          30,
          80,
          55,
          55,
          30,
          30,
          80,
          80,
          55,
          80,
          80,
          30,
          55,
          30,
          30,
          80,
          30,
          55,
          55,
          30,
          30,
          30,
          30,
          80,
          80,
          55,
          30,
          30,
          80,
          80,
          55,
          80,
          80,
          30,
          55,
          30,
          30,
          80,
          30,
          55,
          55,
          30,
          30,
          30,
          30,
          80,
          80,
          55,
          30,
          30,
          80,
          80,
          80,
          55,
          80,
          80,
          55,
          55,
          30,
          55,
          30,
          30,
          80,
          30,
          55,
          30,
          30,
          80,
          55,
          55,
          30,
          30,
          80,
          80,
          55,
          80,
          80,
          30,
          55,
          30,
          30,
          80,
          30,
          55,
          55,
          30,
          30,
          30,
          30,
          80,
          80,
          55,
          30,
          30,
          80,
          55,
          55,
          30,
          80,
          55,
          80,
          80,
          30,
          55,
          30,
          30,
          80,
          55,
          30,
          30,
          30,
          80,
          30,
          55,
          30,
          30,
          80,
          55,
          55,
          30,
          80,
          55,
          80,
          80,
          30,
          55,
          30,
          30,
          80,
          55,
          30,
          30,
          30,
          80,
          30,
          55,
          30,
          30,
          80,
          80,
          80,
          55,
          80,
          80,
          55,
          55,
          30,
          55,
          30,
          30,
          80,
          30,
          55,
          30,
          30,
          80,
          55,
          55,
          30,
          30,
          80,
          55,
          55,
          30,
          80,
          55,
          80,
          80,
          30,
          55,
          30,
          30,
          80,
          55,
          30,
          30,
          30,
          80,
          30,
          55,
          30,
          30,
          80,
          55,
          55,
          30,
          80,
          55,
          80,
          80,
          30,
          55,
          30,
          30,
          80,
          55,
          30,
          30,
          30,
          80,
          30,
          55,
          30,
          30,
          80,
          55,
          55,
          30,
          80,
          55,
          80,
          80,
          30,
          55,
          30,
          30,
          80,
          55,
          30,
          30,
          30,
          80,
          30,
          55,
          30,
          30,
          80,
          80,
          55,
          80,
          80,
          30,
          55,
          30,
          30,
          80,
          30,
          55,
          55,
          30,
          30,
          30,
          30,
          80,
          80,
          55,
          30,
          30,
          80,
          80,
          55,
          80,
          80,
          30,
          55,
          30,
          30,
          80,
          30,
          55,
          55,
          30,
          30,
          30,
          30,
          80,
          80,
          55,
          30,
          30,
          80,
          80,
          80,
          55,
          80,
          80,
          55,
          55,
          30,
          55,
          30,
          30,
          80,
          30,
          55,
          30,
          30,
          80,
          55,
          55,
          30,
          30,
          80,
          55,
          55,
          30,
          80,
          55,
          80,
          80,
          30,
          55,
          30,
          30,
          80,
          55,
          30,
          30,
          30,
          80,
          30,
          55,
          30,
          30,
          80,
          80,
          55,
          80,
          80,
          30,
          55,
          30,
          30,
          80,
          30,
          55,
          55,
          30,
          30,
          30,
          30,
          80,
          80,
          55,
          30,
          30,
          80,
          55,
          55,
          30,
          80,
          55,
          80,
          80,
          30,
          55,
          30,
          30,
          80,
          55,
          30,
          30,
          30,
          80,
          30,
          55,
          30,
          30,
          80,
          80,
          80,
          55,
          80,
          80,
          55,
          55,
          30,
          55,
          30,
          30,
          80,
          30,
          55,
          30,
          30,
          80,
          55,
          55,
          30,
          30,
          80,
          55,
          55,
          30,
          80,
          55,
          80,
          80,
          30,
          55,
          30,
          30,
          80,
          55,
          30,
          30,
          30,
          80,
          30,
          55,
          30,
          30,
          80,
          55,
          55,
          30,
          80,
          55,
          80,
          80,
          30,
          55,
          30,
          30,
          80,
          55,
          30,
          30,
          30,
          80,
          30,
          55,
          30,
          30,
          80,
          80,
          80,
          55,
          80,
          80,
          55,
          55,
          30,
          55,
          30,
          30,
          80,
          30,
          55,
          30,
          30,
          80,
          55,
          55,
          30,
          30,
          80,
          55,
          55,
          30,
          80,
          55,
          80,
          80,
          30,
          55,
          30,
          30,
          80,
          55,
          30,
          30,
          30,
          80,
          30,
          55,
          30,
          30,
          80,
          80,
          80,
          55,
          80,
          80,
          55,
          55,
          30,
          55,
          30,
          30,
          80,
          80,
          30,
          55,
          55,
          30,
          80,
          30,
          55,
          30,
          30,
          80,
          80,
          55,
          55,
          30,
          30,
          80,
          55,
          55,
          30,
          80,
          55,
          30,
          80,
          55,
          80,
          80,
          30,
          55,
          30,
          30,
          80,
          30,
          55,
          55,
          30,
          30,
          30,
          30,
          80,
          80,
          55,
          30,
          30,
          80,
          80,
          55,
          80,
          80,
          30,
          55,
          30,
          30,
          30,
          30,
          30,
          80,
          80,
          55,
          30,
          30,
          80,
          55,
          55,
          30,
          80,
          55,
          80,
          80,
          30,
          55,
          30,
          30,
          80,
          55,
          30,
          30,
          30,
          80,
          30,
          55,
          30,
          30,
          80,
          80,
          55,
          80,
          80,
          30,
          55,
          30,
          30,
          80,
          30,
          55,
          30,
          30,
          30,
          30,
          80,
          80,
          55,
          30,
          30,
          80,
          55,
          80,
          80,
          30,
          55,
          30,
          30,
          80,
          30,
          55,
          55,
          30,
          30,
          30,
          30,
          80,
          80,
          55,
          30,
          30,
          80,
          80,
          80,
          55,
          80,
          80,
          55,
          55,
          30,
          55,
          30,
          30,
          80,
          30,
          55,
          30,
          30,
          80,
          55,
          55,
          30,
          30,
          80,
          80,
          55,
          80,
          80,
          30,
          55,
          30,
          30,
          80,
          30,
          55,
          55,
          30,
          30,
          30,
          30,
          80,
          80,
          55,
          30,
          30,
          80,
          80,
          80,
          55,
          80,
          80,
          55,
          55,
          30,
          55,
          30,
          30,
          80,
          30,
          55,
          30,
          30,
          80,
          55,
          55,
          30,
          30,
          80,
          80,
          55,
          80,
          80,
          30,
          55,
          30,
          30,
          80,
          30,
          55,
          55,
          30,
          30,
          30,
          30,
          80,
          80,
          55,
          30,
          30,
          80,
          80,
          55,
          80,
          80,
          30,
          55,
          30,
          30,
          80,
          30,
          55,
          55,
          30,
          30,
          30,
          30,
          80,
          80,
          55,
          30,
          30,
          80,
          80,
          80,
          55,
          80,
          80,
          55,
          55,
          30,
          55,
          30,
          30,
          80,
          30,
          55,
          30,
          30,
          80,
          55,
          55,
          30,
          30,
          80,
          80,
          55,
          80,
          80,
          30,
          55,
          30,
          30,
          30,
          55,
          55,
          30,
          30,
          30,
          30,
          80,
          80,
          55,
          30,
          30,
          80,
          80,
          80,
          55,
          80,
          80,
          55,
          55,
          30,
          55,
          30,
          30,
          80,
          30,
          55,
          30,
          30,
          80,
          55,
          55,
          30,
          30,
          80,
          80,
          55,
          80,
          80,
          30,
          55,
          30,
          30,
          80,
          30,
          55,
          55,
          30,
          30,
          30,
          30,
          80,
          80,
          55,
          30,
          30,
          80,
          80,
          80,
          55,
          80,
          80,
          55,
          55,
          30,
          55,
          30,
          30,
          80,
          30,
          55,
          30,
          30,
          80,
          55,
          55,
          30,
          30,
          80,
          55,
          55,
          30,
          80,
          55,
          80,
          80,
          30,
          55,
          30,
          30,
          80,
          55,
          30,
          30,
          30,
          80,
          30,
          55,
          30,
          30,
          80,
          80,
          55,
          80,
          80,
          30,
          55,
          30,
          30,
          80,
          30,
          55,
          55,
          30,
          30,
          30,
          30,
          80,
          80,
          55,
          30,
          30,
          80,
          80,
          80,
          55,
          80,
          80,
          55,
          55,
          30,
          55,
          30,
          30,
          80,
          30,
          55,
          30,
          30,
          80,
          55,
          55,
          30,
          30,
          80,
          55,
          55,
          30,
          80,
          55,
          80,
          80,
          30,
          55,
          30,
          30,
          80,
          55,
          30,
          30,
          30,
          80,
          30,
          55,
          30,
          30,
          80,
          55,
          55,
          30,
          80,
          55,
          80,
          80,
          30,
          55,
          30,
          30,
          80,
          55,
          30,
          30,
          30,
          80,
          30,
          55,
          30,
          30,
          80,
          80,
          55,
          80,
          80,
          30,
          55,
          30,
          30,
          80,
          30,
          55,
          55,
          30,
          30,
          30,
          30,
          80,
          80,
          55,
          30,
          30,
          80,
          80,
          80,
          55,
          80,
          80,
          55,
          55,
          30,
          55,
          30,
          30,
          80,
          30,
          55,
          30,
          30,
          80,
          55,
          55,
          30,
          30,
          80,
          80,
          80,
          55,
          80,
          80,
          55,
          55,
          30,
          55,
          30,
          30,
          80,
          30,
          55,
          30,
          30,
          80,
          55,
          55,
          30,
          30,
          80,
          80,
          80,
          55,
          80,
          80,
          55,
          55,
          30,
          55,
          30,
          30,
          80,
          30,
          55,
          30,
          30,
          80,
          55,
          55,
          30,
          30,
          80,
          55,
          55,
          30,
          80,
          55,
          80,
          80,
          30,
          55,
          30,
          30,
          80,
          55,
          30,
          30,
          30,
          80,
          30,
          55,
          30,
          30,
          80,
          55,
          55,
          30,
          80,
          55,
          80,
          80,
          30,
          55,
          30,
          30,
          80,
          55,
          30,
          30,
          30,
          80,
          30,
          55,
          30,
          30,
          80,
          80,
          80,
          55,
          80,
          80,
          55,
          55,
          30,
          55,
          30,
          30,
          80,
          30,
          55,
          30,
          30,
          80,
          55,
          55,
          30,
          30,
          80,
          80,
          55,
          80,
          80,
          30,
          55,
          30,
          30,
          80,
          30,
          55,
          55,
          30,
          30,
          30,
          30,
          80,
          80,
          55,
          30,
          30,
          80,
          55,
          80,
          80,
          30,
          55,
          30,
          30,
          80,
          30,
          55,
          55,
          30,
          30,
          30,
          30,
          80,
          80,
          55,
          30,
          30,
          80,
          55,
          55,
          30,
          80,
          55,
          80,
          80,
          30,
          55,
          30,
          30,
          80,
          55,
          30,
          30,
          30,
          80,
          30,
          55,
          30,
          30,
          80,
          80,
          80,
          55,
          80,
          80,
          55,
          55,
          30,
          55,
          30,
          30,
          80,
          30,
          55,
          30,
          30,
          80,
          55,
          55,
          30,
          30,
          80,
          55,
          55,
          30,
          80,
          55,
          80,
          80,
          30,
          55,
          30,
          30,
          80,
          55,
          30,
          30,
          30,
          80,
          30,
          55,
          30,
          30,
          80,
          55,
          55,
          30,
          80,
          55,
          80,
          80,
          30,
          55,
          30,
          30,
          80,
          55,
          30,
          30,
          30,
          80,
          30,
          55,
          30,
          30,
          80,
          80,
          80,
          55,
          80,
          80,
          55,
          30,
          55,
          30,
          30,
          80,
          30,
          55,
          30,
          30,
          80,
          55,
          55,
          30,
          30,
          80,
          80,
          55,
          80,
          80,
          30,
          55,
          30,
          30,
          80,
          30,
          55,
          55,
          30,
          30,
          30,
          30,
          80,
          80,
          55,
          30,
          30,
          80,
          55,
          55,
          30,
          80,
          55,
          80,
          80,
          30,
          55,
          30,
          30,
          80,
          55,
          30,
          30,
          30,
          80,
          30,
          55,
          30,
          30,
          80,
          80,
          55,
          80,
          80,
          30,
          55,
          30,
          30,
          80,
          30,
          55,
          55,
          30,
          30,
          30,
          30,
          80,
          80,
          55,
          30,
          30,
          80,
          55,
          55,
          30,
          80,
          55,
          80,
          80,
          30,
          55,
          30,
          30,
          80,
          55,
          30,
          30,
          30,
          80,
          30,
          55,
          30,
          30,
          80,
          80,
          80,
          55,
          80,
          80,
          55,
          55,
          30,
          55,
          30,
          30,
          80,
          30,
          55,
          30,
          30,
          80,
          55,
          55,
          30,
          30,
          80,
          80,
          55,
          80,
          80,
          30,
          55,
          30,
          30,
          80,
          30,
          55,
          55,
          30,
          30,
          30,
          30,
          80,
          80,
          55,
          30,
          30,
          80,
          55,
          55,
          30,
          80,
          55,
          80,
          80,
          30,
          55,
          30,
          30,
          55,
          30,
          30,
          30,
          80,
          30,
          55,
          30,
          30,
          80,
          55,
          55,
          30,
          80,
          55,
          80,
          80,
          30,
          55,
          30,
          30,
          80,
          55,
          30,
          30,
          30,
          80,
          30,
          55,
          30,
          30,
          80,
          80,
          80,
          55,
          80,
          80,
          55,
          55,
          30,
          55,
          30,
          30,
          80,
          30,
          55,
          30,
          30,
          80,
          55,
          55,
          30,
          30,
          80,
          55,
          55,
          30,
          80,
          55,
          80,
          80,
          30,
          55,
          30,
          30,
          80,
          55,
          30,
          30,
          30,
          80,
          30,
          55,
          30,
          30,
          80,
          55,
          55,
          30,
          80,
          55,
          80,
          80,
          30,
          55,
          30,
          30,
          80,
          55,
          30,
          30,
          30,
          80,
          30,
          55,
          30,
          30,
          80,
          80,
          55,
          80,
          80,
          30,
          55,
          30,
          30,
          80,
          30,
          55,
          55,
          30,
          30,
          30,
          30,
          80,
          80,
          55,
          30,
          30,
          80,
          55,
          55,
          30,
          80,
          55,
          80,
          80,
          30,
          55,
          30,
          30,
          80,
          55,
          30,
          30,
          30,
          80,
          30,
          55,
          30,
          30,
          80,
          80,
          55,
          80,
          80,
          30,
          55,
          30,
          30,
          80,
          30,
          55,
          55,
          30,
          30,
          30,
          30,
          80,
          80,
          55,
          30,
          30,
          80,
          80,
          80,
          55,
          80,
          80,
          55,
          55,
          30,
          55,
          30,
          30,
          80,
          30,
          55,
          30,
          30,
          80,
          55,
          55,
          30,
          30,
          80,
          80,
          80,
          55,
          80,
          80,
          55,
          55,
          30,
          55,
          30,
          30,
          80,
          30,
          55,
          30,
          30,
          80,
          55,
          55,
          30,
          30,
          80,
          80,
          55,
          80,
          80,
          30,
          55,
          30,
          30,
          80,
          30,
          55,
          55,
          30,
          30,
          30,
          30,
          80,
          80,
          55,
          30,
          30,
          80,
          80,
          55,
          80,
          80,
          30,
          55,
          30,
          30,
          80,
          30,
          55,
          55,
          30,
          30,
          30,
          30,
          80,
          80,
          55,
          30,
          30,
          80,
          55,
          55,
          30,
          80,
          55,
          80,
          80,
          30,
          55,
          30,
          30,
          80,
          55,
          30,
          30,
          30,
          80,
          30,
          55,
          30,
          30,
          80,
          80,
          55,
          80,
          80,
          30,
          55,
          30,
          30,
          80,
          30,
          55,
          55,
          30,
          30,
          30,
          30,
          80,
          80,
          55,
          30,
          80,
          55,
          55,
          30,
          80,
          55,
          80,
          80,
          30,
          55,
          30,
          30,
          80,
          55,
          30,
          30,
          30,
          80,
          30,
          55,
          30,
          30,
          80,
          80,
          80,
          30,
          55,
          30,
          80,
          55,
          80,
          80,
          80,
          55,
          30,
          55,
          30,
          80,
          55,
          30,
          30,
          55,
          80,
          55,
          30,
          80,
          80,
          30,
          55,
          30,
          80,
          80,
          80,
          80,
          80,
          80,
          30,
          80,
          80,
          55,
          30,
          80,
          30,
          55,
          80,
          55,
          30,
          80,
          80,
          80,
          55,
          30,
          55,
          30,
          55,
          30,
          80,
          30,
          80,
          80,
          55,
          30,
          80,
          30,
          55,
          80,
          80,
          55,
          30,
          80,
          80,
          30,
          55,
          30,
          80,
          55,
          80,
          80,
          80,
          55,
          30,
          55,
          30,
          80,
          55,
          30,
          30,
          55,
          80,
          55,
          30,
          80,
          80,
          80,
          55,
          30,
          55,
          30,
          55,
          30,
          80,
          30,
          80,
          80,
          55,
          30,
          80,
          30,
          55,
          80,
          80,
          55,
          30,
          80,
          80,
          30,
          55,
          30,
          80,
          80,
          80,
          80,
          80,
          80,
          30,
          80,
          80,
          55,
          30,
          80,
          30,
          55,
          80,
          55,
          30,
          80,
          80,
          30,
          55,
          30,
          80,
          80,
          80,
          80,
          80,
          80,
          30,
          80,
          80,
          55,
          30,
          80,
          30,
          55,
          80,
          55,
          30,
          80,
          80,
          80,
          55,
          30,
          55,
          30,
          55,
          30,
          80,
          30,
          80,
          80,
          55,
          30,
          80,
          30,
          55,
          80,
          80,
          55,
          30,
          80,
          80,
          80,
          55,
          30,
          55,
          30,
          55,
          30,
          80,
          30,
          80,
          80,
          55,
          30,
          80,
          30,
          55,
          80,
          80,
          55,
          30,
          80,
          80,
          30,
          55,
          30,
          80,
          80,
          80,
          80,
          80,
          80,
          30,
          80,
          80,
          55,
          30,
          80,
          30,
          55,
          80,
          55,
          30,
          80,
          80,
          30,
          55,
          30,
          80,
          80,
          80,
          80,
          80,
          80,
          30,
          80,
          80,
          55,
          30,
          80,
          30,
          55,
          80,
          55,
          30,
          80,
          80,
          30,
          55,
          30,
          80,
          80,
          80,
          80,
          80,
          80,
          30,
          80,
          80,
          55,
          30,
          80,
          30,
          55,
          80,
          55,
          30,
          80,
          80,
          30,
          55,
          30,
          80,
          55,
          80,
          80,
          80,
          80,
          80,
          80,
          30,
          80,
          80,
          55,
          30,
          55,
          30,
          80,
          55,
          30,
          30,
          55,
          80,
          55,
          30,
          80,
          80,
          80,
          55,
          30,
          55,
          30,
          55,
          30,
          80,
          30,
          80,
          80,
          55,
          30,
          80,
          30,
          55,
          80,
          80,
          55,
          30,
          80,
          80,
          80,
          55,
          30,
          55,
          30,
          55,
          30,
          80,
          30,
          80,
          80,
          55,
          30,
          80,
          30,
          55,
          80,
          80,
          55,
          30,
          80,
          80,
          30,
          55,
          30,
          80,
          55,
          80,
          80,
          80,
          55,
          30,
          55,
          30,
          80,
          55,
          30,
          30,
          55,
          80,
          55,
          30,
          80,
          80,
          30,
          55,
          30,
          80,
          55,
          80,
          80,
          80,
          55,
          30,
          55,
          30,
          80,
          55,
          30,
          30,
          55,
          80,
          55,
          30,
          80,
          80,
          80,
          55,
          30,
          55,
          30,
          55,
          30,
          80,
          30,
          80,
          80,
          55,
          30,
          80,
          30,
          55,
          80,
          80,
          55,
          30,
          80,
          80,
          30,
          55,
          30,
          80,
          55,
          80,
          80,
          80,
          55,
          30,
          55,
          30,
          80,
          55,
          30,
          30,
          55,
          80,
          55,
          30,
          80,
          80,
          80,
          55,
          30,
          55,
          30,
          55,
          30,
          80,
          30,
          80,
          80,
          55,
          30,
          80,
          30,
          55,
          80,
          80,
          55,
          30,
          80,
          80,
          80,
          55,
          30,
          55,
          30,
          55,
          30,
          80,
          30,
          80,
          80,
          55,
          30,
          80,
          30,
          55,
          80,
          80,
          55,
          30,
          80,
          80,
          80,
          55,
          30,
          55,
          30,
          55,
          30,
          80,
          30,
          80,
          80,
          55,
          30,
          80,
          30,
          55,
          80,
          80,
          55,
          30,
          80,
          80,
          80,
          55,
          30,
          55,
          30,
          55,
          30,
          80,
          30,
          80,
          80,
          55,
          30,
          80,
          30,
          55,
          80,
          80,
          55,
          30,
          80,
          80,
          80,
          55,
          30,
          55,
          30,
          55,
          30,
          80,
          30,
          80,
          80,
          55,
          30,
          80,
          30,
          55,
          80,
          80,
          55,
          30,
          80,
          80,
          80,
          55,
          30,
          55,
          30,
          55,
          30,
          80,
          30,
          80,
          80,
          55,
          30,
          80,
          30,
          55,
          80,
          80,
          55,
          30,
          80,
          80,
          80,
          55,
          30,
          55,
          30,
          55,
          30,
          80,
          30,
          80,
          80,
          55,
          30,
          80,
          30,
          55,
          80,
          80,
          55,
          30,
          80,
          80,
          30,
          55,
          30,
          80,
          80,
          80,
          80,
          55,
          30,
          55,
          80,
          55,
          30,
          30,
          55,
          80,
          55,
          30,
          80,
          80,
          30,
          55,
          30,
          80,
          80,
          80,
          80,
          80,
          80,
          30,
          80,
          80,
          55,
          30,
          80,
          30,
          55,
          80,
          55,
          30,
          80,
          80,
          80,
          55,
          30,
          55,
          30,
          55,
          30,
          80,
          30,
          80,
          80,
          55,
          30,
          80,
          30,
          55,
          80,
          80,
          55,
          30,
          80,
          80,
          30,
          55,
          30,
          80,
          55,
          80,
          80,
          80,
          55,
          30,
          55,
          30,
          80,
          55,
          30,
          30,
          55,
          80,
          55,
          30,
          80,
          80,
          30,
          55,
          30,
          80,
          55,
          80,
          80,
          80,
          55,
          30,
          55,
          30,
          80,
          55,
          30,
          30,
          55,
          80,
          55,
          30,
          80,
          80,
          30,
          55,
          30,
          80,
          80,
          80,
          80,
          80,
          80,
          30,
          80,
          80,
          55,
          30,
          80,
          30,
          55,
          80,
          55,
          30,
          80,
          80,
          30,
          55,
          30,
          80,
          80,
          80,
          80,
          80,
          80,
          30,
          80,
          80,
          55,
          30,
          80,
          30,
          55,
          80,
          55,
          30,
          80,
          80,
          30,
          55,
          30,
          80,
          55,
          80,
          80,
          80,
          55,
          30,
          55,
          30,
          80,
          55,
          30,
          30,
          55,
          80,
          55,
          30,
          80,
          80,
          80,
          55,
          30,
          55,
          30,
          55,
          30,
          80,
          30,
          80,
          80,
          55,
          30,
          80,
          30,
          55,
          80,
          80,
          55,
          30,
          80,
          80,
          80,
          55,
          30,
          55,
          30,
          55,
          30,
          80,
          30,
          80,
          80,
          55,
          80,
          30,
          55,
          80,
          80,
          55,
          30,
          80,
          80,
          30,
          55,
          30,
          80,
          55,
          80,
          80,
          80,
          55,
          30,
          55,
          30,
          80,
          55,
          30,
          30,
          55,
          80,
          55,
          30,
          80,
          80,
          80,
          55,
          30,
          55,
          30,
          55,
          30,
          80,
          30,
          80,
          80,
          55,
          30,
          80,
          30,
          30,
          55,
          80,
          80,
          55,
          30,
          80,
          80,
          80,
          55,
          30,
          55,
          30,
          30,
          80,
          30,
          80,
          80,
          55,
          30,
          80,
          30,
          55,
          80,
          80,
          55,
          30,
          80,
          80,
          30,
          55,
          30,
          80,
          80,
          80,
          80,
          80,
          80,
          30,
          80,
          80,
          55,
          30,
          80,
          30,
          55,
          80,
          55,
          30,
          80,
          80,
          80,
          55,
          30,
          55,
          30,
          55,
          30,
          80,
          30,
          80,
          80,
          55,
          30,
          80,
          30,
          55,
          80,
          80,
          55,
          30,
          80,
          80,
          30,
          30,
          80,
          55,
          80,
          55,
          30,
          55,
          30,
          55,
          30,
          30,
          80,
          55,
          30,
          80,
          80,
          30,
          55,
          30,
          80,
          55,
          80,
          80,
          80,
          55,
          30,
          55,
          30,
          80,
          55,
          30,
          30,
          55,
          80,
          55,
          30,
          80,
          80,
          30,
          55,
          30,
          80,
          55,
          80,
          80,
          80,
          55,
          30,
          55,
          30,
          80,
          55,
          30,
          30,
          55,
          80,
          55,
          30,
          80,
          80,
          80,
          55,
          30,
          55,
          30,
          55,
          30,
          80,
          30,
          80,
          80,
          55,
          30,
          80,
          30,
          55,
          80,
          80,
          55,
          30,
          80,
          80,
          80,
          55,
          30,
          55,
          30,
          55,
          30,
          80,
          30,
          80,
          80,
          55,
          30,
          80,
          30,
          55,
          80,
          80,
          55,
          30,
          80,
          80,
          30,
          55,
          30,
          80,
          55,
          80,
          80,
          80,
          55,
          30,
          55,
          30,
          80,
          55,
          30,
          30,
          55,
          80,
          55,
          30,
          80,
          80,
          80,
          55,
          30,
          55,
          30,
          55,
          30,
          80,
          30,
          80,
          80,
          55,
          30,
          80,
          30,
          55,
          80,
          80,
          55,
          30,
          80,
          80,
          80,
          55,
          30,
          55,
          30,
          55,
          30,
          80,
          30,
          80,
          80,
          55,
          30,
          80,
          30,
          55,
          80,
          80,
          55,
          30,
          80,
          80,
          30,
          55,
          30,
          80,
          55,
          80,
          80,
          80,
          55,
          30,
          55,
          30,
          80,
          55,
          30,
          30,
          55,
          80,
          55,
          30,
          80,
          80,
          80,
          55,
          30,
          55,
          30,
          55,
          30,
          80,
          30,
          80,
          80,
          55,
          30,
          80,
          30,
          55,
          80,
          80,
          55,
          30,
          80,
          80,
          80,
          55,
          30,
          55,
          30,
          55,
          30,
          80,
          30,
          80,
          80,
          55,
          30,
          80,
          30,
          55,
          80,
          80,
          55,
          30,
          80,
          80,
          30,
          55,
          30,
          80,
          55,
          80,
          80,
          80,
          55,
          30,
          55,
          30,
          80,
          55,
          30,
          30,
          55,
          80,
          55,
          30,
          80,
          80,
          80,
          55,
          30,
          55,
          30,
          55,
          30,
          80,
          30,
          80,
          80,
          55,
          30,
          80,
          30,
          55,
          80,
          80,
          55,
          30,
          80,
          80,
          80,
          55,
          30,
          55,
          30,
          55,
          30,
          80,
          30,
          80,
          80,
          55,
          30,
          80,
          30,
          55,
          80,
          80,
          55,
          30,
          80,
          80,
          30,
          55,
          30,
          80,
          80,
          80,
          80,
          80,
          80,
          30,
          80,
          80,
          55,
          30,
          80,
          30,
          55,
          80,
          55,
          30,
          80,
          80,
          30,
          55,
          30,
          80,
          55,
          80,
          80,
          80,
          55,
          30,
          55,
          30,
          80,
          55,
          30,
          30,
          55,
          80,
          55,
          30,
          80,
          80,
          30,
          55,
          30,
          80,
          55,
          80,
          80,
          80,
          55,
          30,
          55,
          30,
          80,
          55,
          30,
          30,
          55,
          80,
          55,
          30,
          80,
          80,
          30,
          55,
          30,
          80,
          80,
          80,
          80,
          80,
          80,
          30,
          80,
          80,
          55,
          30,
          80,
          30,
          55,
          80,
          55,
          30,
          80,
          80,
          30,
          55,
          30,
          55,
          30,
          80,
          30,
          80,
          80,
          55,
          30,
          80,
          30,
          55,
          80,
          80,
          55,
          30,
          80,
          80,
          30,
          55,
          30,
          80,
          55,
          80,
          80,
          80,
          55,
          30,
          55,
          30,
          80,
          55,
          30,
          30,
          55,
          80,
          55,
          30,
          80,
          80,
          30,
          55,
          30,
          80,
          55,
          80,
          80,
          80,
          55,
          30,
          55,
          30,
          80,
          55,
          30,
          30,
          55,
          80,
          55,
          30,
          80,
          80,
          30,
          55,
          30,
          80,
          80,
          80,
          80,
          80,
          80,
          30,
          80,
          80,
          55,
          30,
          80,
          30,
          55,
          80,
          55,
          30,
          80,
          80,
          80,
          55,
          30,
          55,
          30,
          55,
          30,
          80,
          30,
          80,
          80,
          55,
          30,
          80,
          30,
          55,
          80,
          80,
          55,
          30,
          80,
          80,
          30,
          55,
          30,
          80,
          80,
          80,
          80,
          80,
          80,
          30,
          80,
          80,
          55,
          30,
          80,
          30,
          55,
          80,
          55,
          30,
          80,
          80,
          30,
          55,
          30,
          80,
          80,
          80,
          80,
          80,
          80,
          30,
          80,
          80,
          55,
          30,
          80,
          30,
          55,
          80,
          55,
          30,
          80,
          80,
          80,
          55,
          30,
          55,
          30,
          55,
          30,
          80,
          30,
          80,
          80,
          55,
          30,
          80,
          30,
          55,
          80,
          80,
          55,
          30,
          80,
          80,
          30,
          55,
          30,
          80,
          55,
          80,
          80,
          80,
          55,
          30,
          55,
          30,
          80,
          55,
          30,
          30,
          55,
          80,
          55,
          30,
          80,
          80,
          30,
          30,
          80,
          55,
          80,
          80,
          80,
          55,
          30,
          55,
          30,
          80,
          55,
          30,
          30,
          55,
          80,
          55,
          30,
          80,
          80,
          80,
          55,
          30,
          55,
          30,
          55,
          30,
          80,
          30,
          80,
          80,
          55,
          30,
          80,
          30,
          55,
          80,
          80,
          55,
          30,
          80,
          80,
          30,
          55,
          30,
          80,
          80,
          80,
          80,
          80,
          80,
          30,
          80,
          80,
          55,
          30,
          80,
          30,
          55,
          80,
          55,
          30,
          80,
          80,
          30,
          55,
          30,
          80,
          80,
          80,
          55,
          30,
          80,
          30,
          30,
          55,
          80,
          55,
          30,
          80,
          80,
          80,
          55,
          30,
          55,
          30,
          55,
          30,
          80,
          30,
          80,
          80,
          55,
          30,
          80,
          30,
          55,
          80,
          80,
          55,
          30,
          80,
          80,
          30,
          55,
          30,
          80,
          80,
          80,
          80,
          80,
          80,
          30,
          80,
          80,
          55,
          30,
          80,
          30,
          55,
          80,
          55,
          30,
          80,
          80,
          30,
          55,
          30,
          80,
          80,
          80,
          80,
          55,
          30,
          80,
          30,
          55,
          80,
          55,
          30,
          80,
          80,
          80,
          55,
          30,
          55,
          30,
          55,
          30,
          80,
          30,
          80,
          80,
          55,
          30,
          80,
          30,
          55,
          80,
          80,
          55,
          30,
          80,
          80,
          30,
          55,
          30,
          80,
          80,
          80,
          80,
          80,
          80,
          30,
          80,
          80,
          55,
          30,
          80,
          30,
          55,
          80,
          55,
          30,
          80,
          80,
          80,
          80,
          80,
          30,
          80,
          80,
          80,
          55,
          30,
          55,
          30,
          55,
          30,
          80,
          30,
          80,
          80,
          55,
          30,
          80,
          30,
          55,
          80,
          80,
          55,
          30,
          80,
          80,
          80,
          55,
          30,
          55,
          30,
          55,
          30,
          80,
          30,
          80,
          80,
          55,
          30,
          80,
          30,
          55,
          80,
          80,
          55,
          30,
          80,
          80,
          30,
          55,
          30,
          80,
          55,
          80,
          80,
          80,
          55,
          30,
          55,
          30,
          80,
          55,
          30,
          30,
          55,
          80,
          55,
          30,
          80,
          80,
          30,
          55,
          30,
          80,
          80,
          80,
          80,
          80,
          80,
          30,
          80,
          80,
          55,
          30,
          80,
          30,
          55,
          80,
          55,
          30,
          80,
          80,
          30,
          55,
          30,
          80,
          80,
          80,
          80,
          80,
          80,
          30,
          80,
          80,
          55,
          30,
          80,
          30,
          55,
          80,
          55,
          30,
          80,
          80,
          30,
          55,
          30,
          80,
          80,
          80,
          80,
          55,
          30,
          80,
          30,
          55,
          80,
          55,
          30,
          80,
          80,
          30,
          55,
          30,
          80,
          80,
          80,
          30,
          80,
          55,
          80,
          55,
          30,
          80,
          80,
          30,
          55,
          30,
          80,
          55,
          80,
          80,
          80,
          55,
          30,
          55,
          30,
          80,
          55,
          30,
          30,
          55,
          80,
          55,
          30,
          80,
          80,
          55,
          30,
          30,
          55,
          55,
          80,
          30,
          80,
          30,
          55,
          30,
          30,
          80,
          80,
          55,
          55,
          30,
          30,
          30,
          80,
          80,
          80,
          55,
          30,
          30,
          55,
          55,
          80,
          30,
          80,
          30,
          55,
          30,
          30,
          80,
          80,
          55,
          55,
          30,
          30,
          30,
          80,
          30,
          55,
          30,
          30,
          30,
          55,
          80,
          80,
          55,
          30,
          30,
          55,
          55,
          80,
          30,
          80,
          30,
          55,
          30,
          30,
          80,
          80,
          55,
          55,
          30,
          30,
          30,
          80,
          30,
          30,
          80,
          80,
          55,
          30,
          30,
          55,
          55,
          80,
          30,
          30,
          55,
          30,
          55,
          55,
          55,
          30,
          80,
          30,
          55,
          30,
          30,
          80,
          80,
          30,
          30,
          55,
          55,
          55,
          30,
          30,
          30,
          80,
          80,
          80,
          55,
          30,
          30,
          55,
          80,
          30,
          55,
          30,
          80,
          30,
          55,
          30,
          80,
          30,
          30,
          55,
          55,
          30,
          30,
          80,
          80,
          80,
          55,
          30,
          30,
          55,
          80,
          30,
          55,
          30,
          80,
          30,
          55,
          30,
          80,
          30,
          30,
          55,
          55,
          30,
          30,
          80,
          30,
          30,
          80,
          80,
          55,
          30,
          30,
          55,
          80,
          55,
          55,
          55,
          30,
          80,
          30,
          55,
          30,
          80,
          55,
          30,
          30,
          80,
          30,
          30,
          80,
          80,
          55,
          30,
          30,
          55,
          80,
          55,
          55,
          55,
          30,
          80,
          30,
          55,
          30,
          80,
          55,
          30,
          30,
          80,
          80,
          80,
          55,
          30,
          30,
          55,
          55,
          80,
          30,
          80,
          30,
          55,
          30,
          30,
          80,
          80,
          55,
          55,
          30,
          30,
          30,
          80,
          80,
          80,
          55,
          30,
          30,
          55,
          55,
          80,
          30,
          80,
          30,
          55,
          30,
          30,
          80,
          80,
          55,
          55,
          30,
          30,
          30,
          80,
          80,
          80,
          55,
          30,
          30,
          55,
          55,
          80,
          30,
          80,
          30,
          55,
          30,
          30,
          80,
          80,
          55,
          55,
          30,
          30,
          30,
          80,
          80,
          80,
          55,
          30,
          30,
          55,
          55,
          80,
          30,
          80,
          30,
          55,
          30,
          30,
          80,
          80,
          55,
          55,
          30,
          30,
          30,
          80,
          30,
          30,
          80,
          80,
          55,
          30,
          30,
          55,
          80,
          55,
          55,
          55,
          30,
          80,
          30,
          55,
          30,
          80,
          55,
          30,
          30,
          80,
          80,
          80,
          55,
          30,
          30,
          55,
          55,
          80,
          30,
          80,
          30,
          55,
          30,
          30,
          80,
          80,
          55,
          55,
          30,
          30,
          30,
          80,
          80,
          80,
          55,
          30,
          30,
          55,
          55,
          80,
          30,
          80,
          30,
          55,
          30,
          30,
          80,
          80,
          55,
          55,
          30,
          30,
          30,
          80,
          80,
          80,
          55,
          30,
          30,
          55,
          55,
          80,
          30,
          80,
          30,
          55,
          30,
          30,
          80,
          80,
          55,
          55,
          30,
          30,
          30,
          80,
          30,
          30,
          80,
          80,
          55,
          30,
          30,
          55,
          80,
          55,
          55,
          55,
          30,
          80,
          30,
          55,
          30,
          80,
          55,
          30,
          30,
          80,
          80,
          80,
          55,
          30,
          30,
          55,
          55,
          80,
          30,
          80,
          30,
          55,
          30,
          30,
          80,
          80,
          55,
          55,
          30,
          30,
          30,
          80,
          80,
          80,
          55,
          30,
          30,
          55,
          55,
          80,
          30,
          80,
          30,
          55,
          30,
          30,
          80,
          80,
          55,
          55,
          30,
          30,
          30,
          80,
          80,
          80,
          55,
          30,
          30,
          55,
          80,
          30,
          55,
          30,
          80,
          30,
          55,
          30,
          80,
          30,
          30,
          55,
          55,
          30,
          30,
          80,
          30,
          30,
          80,
          80,
          55,
          30,
          30,
          55,
          80,
          55,
          55,
          55,
          30,
          80,
          30,
          55,
          30,
          80,
          55,
          30,
          30,
          80,
          80,
          80,
          55,
          30,
          30,
          55,
          55,
          80,
          30,
          80,
          30,
          55,
          30,
          30,
          80,
          80,
          55,
          55,
          30,
          30,
          30,
          80,
          80,
          80,
          55,
          30,
          30,
          55,
          55,
          80,
          30,
          80,
          30,
          55,
          30,
          30,
          80,
          80,
          55,
          55,
          30,
          30,
          30,
          80,
          80,
          80,
          55,
          30,
          30,
          55,
          80,
          30,
          55,
          30,
          80,
          30,
          55,
          30,
          80,
          30,
          30,
          55,
          55,
          30,
          30,
          80,
          80,
          80,
          55,
          30,
          30,
          55,
          55,
          80,
          30,
          80,
          30,
          55,
          30,
          30,
          80,
          80,
          55,
          55,
          30,
          30,
          30,
          80,
          80,
          80,
          55,
          30,
          30,
          55,
          55,
          80,
          30,
          80,
          30,
          55,
          30,
          30,
          80,
          80,
          55,
          55,
          30,
          30,
          30,
          80,
          30,
          30,
          80,
          80,
          55,
          30,
          30,
          55,
          80,
          55,
          55,
          55,
          30,
          80,
          30,
          55,
          30,
          80,
          55,
          30,
          30,
          80,
          80,
          80,
          55,
          30,
          30,
          55,
          80,
          30,
          55,
          30,
          80,
          30,
          55,
          30,
          80,
          30,
          30,
          55,
          55,
          30,
          30,
          80,
          80,
          80,
          55,
          30,
          30,
          55,
          80,
          30,
          55,
          30,
          80,
          30,
          55,
          30,
          80,
          30,
          30,
          55,
          55,
          30,
          30,
          80,
          80,
          80,
          55,
          30,
          30,
          55,
          80,
          30,
          55,
          30,
          80,
          30,
          55,
          30,
          80,
          30,
          30,
          55,
          55,
          30,
          30,
          80,
          30,
          30,
          80,
          80,
          55,
          30,
          30,
          55,
          80,
          55,
          55,
          30,
          80,
          30,
          55,
          30,
          80,
          55,
          30,
          30,
          80,
          80,
          80,
          55,
          30,
          30,
          55,
          80,
          30,
          55,
          30,
          80,
          30,
          55,
          30,
          80,
          30,
          30,
          55,
          55,
          30,
          30,
          80,
          80,
          80,
          55,
          30,
          30,
          55,
          55,
          80,
          30,
          80,
          30,
          55,
          30,
          30,
          80,
          80,
          55,
          55,
          30,
          30,
          30,
          80,
          80,
          80,
          55,
          30,
          30,
          55,
          55,
          80,
          30,
          80,
          30,
          55,
          30,
          30,
          80,
          80,
          55,
          55,
          30,
          30,
          30,
          80,
          30,
          30,
          55,
          55,
          55,
          30,
          30,
          30,
          80,
          80,
          55,
          30,
          30,
          55,
          80,
          55,
          55,
          55,
          30,
          80,
          30,
          55,
          30,
          80,
          55,
          30,
          30,
          80,
          80,
          80,
          55,
          30,
          30,
          55,
          80,
          30,
          55,
          30,
          80,
          30,
          55,
          30,
          80,
          30,
          30,
          55,
          55,
          30,
          30,
          80,
          80,
          80,
          55,
          30,
          30,
          55,
          55,
          80,
          30,
          80,
          30,
          55,
          30,
          30,
          80,
          80,
          55,
          55,
          30,
          30,
          30,
          80,
          30,
          30,
          80,
          80,
          55,
          30,
          30,
          55,
          80,
          55,
          55,
          55,
          30,
          80,
          30,
          55,
          30,
          80,
          55,
          30,
          30,
          80,
          80,
          80,
          55,
          30,
          30,
          55,
          55,
          80,
          30,
          80,
          55,
          30,
          30,
          80,
          80,
          55,
          55,
          30,
          30,
          30,
          80,
          30,
          30,
          80,
          80,
          55,
          30,
          30,
          55,
          55,
          80,
          30,
          30,
          55,
          30,
          55,
          55,
          55,
          30,
          80,
          30,
          55,
          30,
          30,
          80,
          80,
          30,
          30,
          55,
          55,
          55,
          30,
          30,
          30,
          80,
          30,
          30,
          80,
          80,
          55,
          30,
          30,
          55,
          80,
          55,
          55,
          55,
          30,
          80,
          30,
          55,
          30,
          30,
          80,
          55,
          30,
          30,
          80,
          80,
          80,
          55,
          30,
          30,
          55,
          55,
          80,
          30,
          80,
          30,
          55,
          30,
          30,
          80,
          80,
          55,
          55,
          30,
          30,
          30,
          80,
          80,
          80,
          55,
          30,
          30,
          55,
          80,
          30,
          55,
          30,
          80,
          30,
          55,
          30,
          80,
          30,
          30,
          55,
          55,
          30,
          30,
          80,
          80,
          80,
          55,
          30,
          30,
          55,
          55,
          80,
          30,
          80,
          30,
          55,
          30,
          30,
          80,
          80,
          55,
          55,
          30,
          30,
          30,
          80,
          30,
          30,
          80,
          80,
          55,
          30,
          30,
          55,
          80,
          55,
          55,
          55,
          30,
          80,
          30,
          55,
          30,
          80,
          55,
          30,
          30,
          80,
          30,
          30,
          80,
          80,
          55,
          30,
          30,
          55,
          80,
          55,
          55,
          55,
          30,
          80,
          30,
          55,
          30,
          80,
          55,
          30,
          30,
          80,
          80,
          80,
          55,
          30,
          30,
          55,
          80,
          30,
          55,
          30,
          80,
          30,
          55,
          30,
          80,
          30,
          30,
          55,
          55,
          30,
          30,
          80,
          30,
          30,
          80,
          80,
          55,
          30,
          30,
          55,
          80,
          55,
          55,
          55,
          30,
          80,
          30,
          55,
          30,
          80,
          55,
          30,
          30,
          80,
          80,
          80,
          55,
          30,
          30,
          55,
          55,
          80,
          30,
          80,
          30,
          55,
          30,
          30,
          80,
          80,
          55,
          55,
          30,
          30,
          30,
          80,
          80,
          80,
          55,
          30,
          30,
          55,
          55,
          80,
          30,
          80,
          30,
          55,
          30,
          30,
          80,
          55,
          55,
          30,
          30,
          30,
          80,
          80,
          80,
          55,
          30,
          30,
          55,
          80,
          30,
          55,
          30,
          80,
          30,
          55,
          30,
          80,
          30,
          30,
          55,
          55,
          30,
          30,
          80,
          30,
          30,
          80,
          80,
          55,
          30,
          30,
          55,
          80,
          55,
          55,
          55,
          30,
          80,
          30,
          55,
          30,
          80,
          55,
          30,
          30,
          80,
          30,
          30,
          80,
          80,
          55,
          30,
          30,
          55,
          80,
          55,
          55,
          55,
          30,
          80,
          30,
          55,
          30,
          80,
          55,
          30,
          30,
          80,
          80,
          80,
          55,
          30,
          30,
          55,
          80,
          30,
          55,
          30,
          80,
          30,
          55,
          30,
          80,
          30,
          30,
          55,
          55,
          30,
          30,
          80,
          80,
          80,
          55,
          30,
          30,
          55,
          55,
          80,
          30,
          80,
          30,
          55,
          30,
          30,
          80,
          80,
          55,
          55,
          30,
          30,
          30,
          80,
          30,
          30,
          80,
          80,
          55,
          30,
          30,
          55,
          80,
          55,
          55,
          55,
          30,
          80,
          30,
          55,
          30,
          80,
          55,
          30,
          30,
          80,
          80,
          80,
          55,
          30,
          30,
          55,
          80,
          30,
          55,
          30,
          80,
          30,
          55,
          30,
          80,
          30,
          30,
          55,
          55,
          30,
          30,
          80,
          80,
          80,
          55,
          30,
          30,
          55,
          80,
          30,
          55,
          30,
          80,
          30,
          55,
          30,
          80,
          30,
          30,
          55,
          55,
          30,
          30,
          80,
          80,
          80,
          55,
          30,
          30,
          55,
          80,
          30,
          55,
          30,
          80,
          30,
          55,
          30,
          80,
          30,
          30,
          55,
          55,
          30,
          30,
          80,
          80,
          80,
          55,
          30,
          30,
          55,
          55,
          80,
          30,
          80,
          30,
          55,
          30,
          30,
          80,
          80,
          55,
          55,
          30,
          30,
          30,
          80,
          30,
          30,
          80,
          80,
          55,
          30,
          30,
          55,
          80,
          55,
          55,
          55,
          30,
          80,
          30,
          55,
          30,
          80,
          55,
          30,
          30,
          80,
          80,
          80,
          55,
          30,
          30,
          55,
          80,
          30,
          55,
          30,
          80,
          30,
          55,
          30,
          80,
          30,
          30,
          55,
          55,
          30,
          30,
          80,
          80,
          80,
          55,
          30,
          30,
          55,
          80,
          30,
          55,
          30,
          80,
          30,
          55,
          30,
          80,
          30,
          30,
          55,
          55,
          30,
          30,
          80,
          80,
          80,
          55,
          30,
          30,
          55,
          55,
          80,
          30,
          80,
          30,
          55,
          30,
          30,
          80,
          80,
          55,
          55,
          30,
          30,
          30,
          80,
          80,
          80,
          55,
          30,
          30,
          55,
          80,
          30,
          55,
          30,
          80,
          30,
          55,
          30,
          80,
          30,
          30,
          55,
          55,
          30,
          30,
          80,
          30,
          30,
          80,
          80,
          55,
          30,
          30,
          55,
          80,
          55,
          55,
          30,
          80,
          30,
          55,
          30,
          80,
          55,
          30,
          30,
          80,
          80,
          80,
          55,
          30,
          30,
          55,
          55,
          80,
          30,
          80,
          30,
          55,
          30,
          30,
          80,
          80,
          55,
          55,
          30,
          30,
          30,
          80,
          80,
          80,
          55,
          30,
          30,
          55,
          55,
          80,
          30,
          80,
          30,
          55,
          30,
          30,
          80,
          80,
          55,
          55,
          30,
          30,
          30,
          80,
          30,
          30,
          80,
          80,
          55,
          30,
          30,
          55,
          80,
          55,
          55,
          55,
          30,
          80,
          30,
          55,
          30,
          80,
          55,
          30,
          30,
          80,
          30,
          30,
          80,
          80,
          55,
          30,
          30,
          55,
          80,
          55,
          55,
          55,
          30,
          80,
          30,
          55,
          30,
          80,
          55,
          30,
          30,
          80,
          80,
          80,
          55,
          30,
          30,
          55,
          55,
          80,
          30,
          80,
          30,
          55,
          30,
          30,
          80,
          80,
          55,
          55,
          30,
          30,
          30,
          80,
          80,
          80,
          55,
          30,
          30,
          55,
          80,
          30,
          55,
          30,
          80,
          30,
          55,
          30,
          80,
          30,
          30,
          55,
          55,
          30,
          30,
          80,
          80,
          80,
          55,
          30,
          30,
          55,
          80,
          30,
          55,
          30,
          80,
          30,
          55,
          30,
          80,
          30,
          30,
          55,
          55,
          30,
          30,
          80,
          80,
          80,
          55,
          30,
          30,
          55,
          55,
          80,
          30,
          80,
          30,
          55,
          30,
          30,
          80,
          80,
          55,
          55,
          30,
          30,
          30,
          80,
          80,
          80,
          55,
          30,
          30,
          55,
          80,
          30,
          55,
          30,
          80,
          30,
          55,
          30,
          80,
          30,
          30,
          55,
          55,
          30,
          30,
          80,
          80,
          80,
          55,
          30,
          30,
          55,
          55,
          80,
          30,
          80,
          30,
          55,
          30,
          30,
          80,
          80,
          55,
          55,
          30,
          30,
          30,
          80,
          80,
          80,
          55,
          30,
          30,
          55,
          55,
          80,
          30,
          80,
          30,
          55,
          30,
          30,
          80,
          80,
          55,
          55,
          30,
          30,
          30,
          80,
          80,
          80,
          55,
          30,
          30,
          55,
          80,
          30,
          55,
          30,
          80,
          30,
          55,
          30,
          80,
          30,
          30,
          55,
          55,
          30,
          30,
          80,
          30,
          30,
          55,
          55,
          55,
          30,
          30,
          30,
          80,
          80,
          55,
          30,
          30,
          55,
          80,
          55,
          55,
          55,
          30,
          80,
          30,
          55,
          30,
          80,
          55,
          30,
          30,
          80,
          80,
          80,
          55,
          30,
          30,
          55,
          80,
          30,
          55,
          30,
          80,
          30,
          55,
          30,
          80,
          30,
          30,
          55,
          55,
          30,
          30,
          80
         ],
         "xaxis": "x",
         "yaxis": "y"
        }
       ],
       "layout": {
        "barmode": "relative",
        "legend": {
         "tracegroupgap": 0
        },
        "template": {
         "data": {
          "bar": [
           {
            "error_x": {
             "color": "#2a3f5f"
            },
            "error_y": {
             "color": "#2a3f5f"
            },
            "marker": {
             "line": {
              "color": "#E5ECF6",
              "width": 0.5
             },
             "pattern": {
              "fillmode": "overlay",
              "size": 10,
              "solidity": 0.2
             }
            },
            "type": "bar"
           }
          ],
          "barpolar": [
           {
            "marker": {
             "line": {
              "color": "#E5ECF6",
              "width": 0.5
             },
             "pattern": {
              "fillmode": "overlay",
              "size": 10,
              "solidity": 0.2
             }
            },
            "type": "barpolar"
           }
          ],
          "carpet": [
           {
            "aaxis": {
             "endlinecolor": "#2a3f5f",
             "gridcolor": "white",
             "linecolor": "white",
             "minorgridcolor": "white",
             "startlinecolor": "#2a3f5f"
            },
            "baxis": {
             "endlinecolor": "#2a3f5f",
             "gridcolor": "white",
             "linecolor": "white",
             "minorgridcolor": "white",
             "startlinecolor": "#2a3f5f"
            },
            "type": "carpet"
           }
          ],
          "choropleth": [
           {
            "colorbar": {
             "outlinewidth": 0,
             "ticks": ""
            },
            "type": "choropleth"
           }
          ],
          "contour": [
           {
            "colorbar": {
             "outlinewidth": 0,
             "ticks": ""
            },
            "colorscale": [
             [
              0,
              "#0d0887"
             ],
             [
              0.1111111111111111,
              "#46039f"
             ],
             [
              0.2222222222222222,
              "#7201a8"
             ],
             [
              0.3333333333333333,
              "#9c179e"
             ],
             [
              0.4444444444444444,
              "#bd3786"
             ],
             [
              0.5555555555555556,
              "#d8576b"
             ],
             [
              0.6666666666666666,
              "#ed7953"
             ],
             [
              0.7777777777777778,
              "#fb9f3a"
             ],
             [
              0.8888888888888888,
              "#fdca26"
             ],
             [
              1,
              "#f0f921"
             ]
            ],
            "type": "contour"
           }
          ],
          "contourcarpet": [
           {
            "colorbar": {
             "outlinewidth": 0,
             "ticks": ""
            },
            "type": "contourcarpet"
           }
          ],
          "heatmap": [
           {
            "colorbar": {
             "outlinewidth": 0,
             "ticks": ""
            },
            "colorscale": [
             [
              0,
              "#0d0887"
             ],
             [
              0.1111111111111111,
              "#46039f"
             ],
             [
              0.2222222222222222,
              "#7201a8"
             ],
             [
              0.3333333333333333,
              "#9c179e"
             ],
             [
              0.4444444444444444,
              "#bd3786"
             ],
             [
              0.5555555555555556,
              "#d8576b"
             ],
             [
              0.6666666666666666,
              "#ed7953"
             ],
             [
              0.7777777777777778,
              "#fb9f3a"
             ],
             [
              0.8888888888888888,
              "#fdca26"
             ],
             [
              1,
              "#f0f921"
             ]
            ],
            "type": "heatmap"
           }
          ],
          "heatmapgl": [
           {
            "colorbar": {
             "outlinewidth": 0,
             "ticks": ""
            },
            "colorscale": [
             [
              0,
              "#0d0887"
             ],
             [
              0.1111111111111111,
              "#46039f"
             ],
             [
              0.2222222222222222,
              "#7201a8"
             ],
             [
              0.3333333333333333,
              "#9c179e"
             ],
             [
              0.4444444444444444,
              "#bd3786"
             ],
             [
              0.5555555555555556,
              "#d8576b"
             ],
             [
              0.6666666666666666,
              "#ed7953"
             ],
             [
              0.7777777777777778,
              "#fb9f3a"
             ],
             [
              0.8888888888888888,
              "#fdca26"
             ],
             [
              1,
              "#f0f921"
             ]
            ],
            "type": "heatmapgl"
           }
          ],
          "histogram": [
           {
            "marker": {
             "pattern": {
              "fillmode": "overlay",
              "size": 10,
              "solidity": 0.2
             }
            },
            "type": "histogram"
           }
          ],
          "histogram2d": [
           {
            "colorbar": {
             "outlinewidth": 0,
             "ticks": ""
            },
            "colorscale": [
             [
              0,
              "#0d0887"
             ],
             [
              0.1111111111111111,
              "#46039f"
             ],
             [
              0.2222222222222222,
              "#7201a8"
             ],
             [
              0.3333333333333333,
              "#9c179e"
             ],
             [
              0.4444444444444444,
              "#bd3786"
             ],
             [
              0.5555555555555556,
              "#d8576b"
             ],
             [
              0.6666666666666666,
              "#ed7953"
             ],
             [
              0.7777777777777778,
              "#fb9f3a"
             ],
             [
              0.8888888888888888,
              "#fdca26"
             ],
             [
              1,
              "#f0f921"
             ]
            ],
            "type": "histogram2d"
           }
          ],
          "histogram2dcontour": [
           {
            "colorbar": {
             "outlinewidth": 0,
             "ticks": ""
            },
            "colorscale": [
             [
              0,
              "#0d0887"
             ],
             [
              0.1111111111111111,
              "#46039f"
             ],
             [
              0.2222222222222222,
              "#7201a8"
             ],
             [
              0.3333333333333333,
              "#9c179e"
             ],
             [
              0.4444444444444444,
              "#bd3786"
             ],
             [
              0.5555555555555556,
              "#d8576b"
             ],
             [
              0.6666666666666666,
              "#ed7953"
             ],
             [
              0.7777777777777778,
              "#fb9f3a"
             ],
             [
              0.8888888888888888,
              "#fdca26"
             ],
             [
              1,
              "#f0f921"
             ]
            ],
            "type": "histogram2dcontour"
           }
          ],
          "mesh3d": [
           {
            "colorbar": {
             "outlinewidth": 0,
             "ticks": ""
            },
            "type": "mesh3d"
           }
          ],
          "parcoords": [
           {
            "line": {
             "colorbar": {
              "outlinewidth": 0,
              "ticks": ""
             }
            },
            "type": "parcoords"
           }
          ],
          "pie": [
           {
            "automargin": true,
            "type": "pie"
           }
          ],
          "scatter": [
           {
            "fillpattern": {
             "fillmode": "overlay",
             "size": 10,
             "solidity": 0.2
            },
            "type": "scatter"
           }
          ],
          "scatter3d": [
           {
            "line": {
             "colorbar": {
              "outlinewidth": 0,
              "ticks": ""
             }
            },
            "marker": {
             "colorbar": {
              "outlinewidth": 0,
              "ticks": ""
             }
            },
            "type": "scatter3d"
           }
          ],
          "scattercarpet": [
           {
            "marker": {
             "colorbar": {
              "outlinewidth": 0,
              "ticks": ""
             }
            },
            "type": "scattercarpet"
           }
          ],
          "scattergeo": [
           {
            "marker": {
             "colorbar": {
              "outlinewidth": 0,
              "ticks": ""
             }
            },
            "type": "scattergeo"
           }
          ],
          "scattergl": [
           {
            "marker": {
             "colorbar": {
              "outlinewidth": 0,
              "ticks": ""
             }
            },
            "type": "scattergl"
           }
          ],
          "scattermapbox": [
           {
            "marker": {
             "colorbar": {
              "outlinewidth": 0,
              "ticks": ""
             }
            },
            "type": "scattermapbox"
           }
          ],
          "scatterpolar": [
           {
            "marker": {
             "colorbar": {
              "outlinewidth": 0,
              "ticks": ""
             }
            },
            "type": "scatterpolar"
           }
          ],
          "scatterpolargl": [
           {
            "marker": {
             "colorbar": {
              "outlinewidth": 0,
              "ticks": ""
             }
            },
            "type": "scatterpolargl"
           }
          ],
          "scatterternary": [
           {
            "marker": {
             "colorbar": {
              "outlinewidth": 0,
              "ticks": ""
             }
            },
            "type": "scatterternary"
           }
          ],
          "surface": [
           {
            "colorbar": {
             "outlinewidth": 0,
             "ticks": ""
            },
            "colorscale": [
             [
              0,
              "#0d0887"
             ],
             [
              0.1111111111111111,
              "#46039f"
             ],
             [
              0.2222222222222222,
              "#7201a8"
             ],
             [
              0.3333333333333333,
              "#9c179e"
             ],
             [
              0.4444444444444444,
              "#bd3786"
             ],
             [
              0.5555555555555556,
              "#d8576b"
             ],
             [
              0.6666666666666666,
              "#ed7953"
             ],
             [
              0.7777777777777778,
              "#fb9f3a"
             ],
             [
              0.8888888888888888,
              "#fdca26"
             ],
             [
              1,
              "#f0f921"
             ]
            ],
            "type": "surface"
           }
          ],
          "table": [
           {
            "cells": {
             "fill": {
              "color": "#EBF0F8"
             },
             "line": {
              "color": "white"
             }
            },
            "header": {
             "fill": {
              "color": "#C8D4E3"
             },
             "line": {
              "color": "white"
             }
            },
            "type": "table"
           }
          ]
         },
         "layout": {
          "annotationdefaults": {
           "arrowcolor": "#2a3f5f",
           "arrowhead": 0,
           "arrowwidth": 1
          },
          "autotypenumbers": "strict",
          "coloraxis": {
           "colorbar": {
            "outlinewidth": 0,
            "ticks": ""
           }
          },
          "colorscale": {
           "diverging": [
            [
             0,
             "#8e0152"
            ],
            [
             0.1,
             "#c51b7d"
            ],
            [
             0.2,
             "#de77ae"
            ],
            [
             0.3,
             "#f1b6da"
            ],
            [
             0.4,
             "#fde0ef"
            ],
            [
             0.5,
             "#f7f7f7"
            ],
            [
             0.6,
             "#e6f5d0"
            ],
            [
             0.7,
             "#b8e186"
            ],
            [
             0.8,
             "#7fbc41"
            ],
            [
             0.9,
             "#4d9221"
            ],
            [
             1,
             "#276419"
            ]
           ],
           "sequential": [
            [
             0,
             "#0d0887"
            ],
            [
             0.1111111111111111,
             "#46039f"
            ],
            [
             0.2222222222222222,
             "#7201a8"
            ],
            [
             0.3333333333333333,
             "#9c179e"
            ],
            [
             0.4444444444444444,
             "#bd3786"
            ],
            [
             0.5555555555555556,
             "#d8576b"
            ],
            [
             0.6666666666666666,
             "#ed7953"
            ],
            [
             0.7777777777777778,
             "#fb9f3a"
            ],
            [
             0.8888888888888888,
             "#fdca26"
            ],
            [
             1,
             "#f0f921"
            ]
           ],
           "sequentialminus": [
            [
             0,
             "#0d0887"
            ],
            [
             0.1111111111111111,
             "#46039f"
            ],
            [
             0.2222222222222222,
             "#7201a8"
            ],
            [
             0.3333333333333333,
             "#9c179e"
            ],
            [
             0.4444444444444444,
             "#bd3786"
            ],
            [
             0.5555555555555556,
             "#d8576b"
            ],
            [
             0.6666666666666666,
             "#ed7953"
            ],
            [
             0.7777777777777778,
             "#fb9f3a"
            ],
            [
             0.8888888888888888,
             "#fdca26"
            ],
            [
             1,
             "#f0f921"
            ]
           ]
          },
          "colorway": [
           "#636efa",
           "#EF553B",
           "#00cc96",
           "#ab63fa",
           "#FFA15A",
           "#19d3f3",
           "#FF6692",
           "#B6E880",
           "#FF97FF",
           "#FECB52"
          ],
          "font": {
           "color": "#2a3f5f"
          },
          "geo": {
           "bgcolor": "white",
           "lakecolor": "white",
           "landcolor": "#E5ECF6",
           "showlakes": true,
           "showland": true,
           "subunitcolor": "white"
          },
          "hoverlabel": {
           "align": "left"
          },
          "hovermode": "closest",
          "mapbox": {
           "style": "light"
          },
          "paper_bgcolor": "white",
          "plot_bgcolor": "#E5ECF6",
          "polar": {
           "angularaxis": {
            "gridcolor": "white",
            "linecolor": "white",
            "ticks": ""
           },
           "bgcolor": "#E5ECF6",
           "radialaxis": {
            "gridcolor": "white",
            "linecolor": "white",
            "ticks": ""
           }
          },
          "scene": {
           "xaxis": {
            "backgroundcolor": "#E5ECF6",
            "gridcolor": "white",
            "gridwidth": 2,
            "linecolor": "white",
            "showbackground": true,
            "ticks": "",
            "zerolinecolor": "white"
           },
           "yaxis": {
            "backgroundcolor": "#E5ECF6",
            "gridcolor": "white",
            "gridwidth": 2,
            "linecolor": "white",
            "showbackground": true,
            "ticks": "",
            "zerolinecolor": "white"
           },
           "zaxis": {
            "backgroundcolor": "#E5ECF6",
            "gridcolor": "white",
            "gridwidth": 2,
            "linecolor": "white",
            "showbackground": true,
            "ticks": "",
            "zerolinecolor": "white"
           }
          },
          "shapedefaults": {
           "line": {
            "color": "#2a3f5f"
           }
          },
          "ternary": {
           "aaxis": {
            "gridcolor": "white",
            "linecolor": "white",
            "ticks": ""
           },
           "baxis": {
            "gridcolor": "white",
            "linecolor": "white",
            "ticks": ""
           },
           "bgcolor": "#E5ECF6",
           "caxis": {
            "gridcolor": "white",
            "linecolor": "white",
            "ticks": ""
           }
          },
          "title": {
           "x": 0.05
          },
          "xaxis": {
           "automargin": true,
           "gridcolor": "white",
           "linecolor": "white",
           "ticks": "",
           "title": {
            "standoff": 15
           },
           "zerolinecolor": "white",
           "zerolinewidth": 2
          },
          "yaxis": {
           "automargin": true,
           "gridcolor": "white",
           "linecolor": "white",
           "ticks": "",
           "title": {
            "standoff": 15
           },
           "zerolinecolor": "white",
           "zerolinewidth": 2
          }
         }
        },
        "title": {
         "text": "Number of Interviews vs Temperature"
        },
        "xaxis": {
         "anchor": "y",
         "domain": [
          0,
          1
         ],
         "title": {
          "text": "Temperature (ºF)"
         }
        },
        "yaxis": {
         "anchor": "x",
         "domain": [
          0,
          1
         ],
         "title": {
          "text": "count"
         }
        }
       }
      },
      "text/html": [
       "<div>                            <div id=\"99ae88f3-8090-4140-91d3-bb879904d8d1\" class=\"plotly-graph-div\" style=\"height:525px; width:100%;\"></div>            <script type=\"text/javascript\">                require([\"plotly\"], function(Plotly) {                    window.PLOTLYENV=window.PLOTLYENV || {};                                    if (document.getElementById(\"99ae88f3-8090-4140-91d3-bb879904d8d1\")) {                    Plotly.newPlot(                        \"99ae88f3-8090-4140-91d3-bb879904d8d1\",                        [{\"alignmentgroup\":\"True\",\"bingroup\":\"x\",\"hovertemplate\":\"Temperature (\\u00baF)=%{x}<br>count=%{y}<extra></extra>\",\"legendgroup\":\"\",\"marker\":{\"color\":\"#636efa\",\"pattern\":{\"shape\":\"\"}},\"name\":\"\",\"offsetgroup\":\"\",\"orientation\":\"v\",\"showlegend\":false,\"x\":[55,80,80,80,80,80,80,80,80,80,55,55,55,55,55,80,55,55,80,80,55,55,55,80,80,80,80,80,80,80,80,80,55,55,55,55,55,80,55,55,80,80,55,55,55,80,80,80,80,80,55,80,80,80,80,55,55,55,55,80,55,55,80,80,55,55,55,80,80,80,80,80,80,80,80,80,55,55,55,55,55,80,55,55,80,80,55,55,55,80,80,80,80,80,80,80,80,80,55,55,55,55,55,80,55,55,80,80,55,55,55,80,80,80,80,80,55,80,80,80,80,55,55,55,55,80,55,55,80,80,55,55,55,80,80,80,80,80,80,80,80,80,55,55,55,55,55,80,55,55,80,80,55,55,55,80,80,80,80,80,80,80,80,80,55,55,80,55,80,80,55,55,80,80,80,80,80,80,80,80,80,55,55,55,55,55,80,55,55,80,80,55,55,55,80,80,80,80,80,55,80,80,80,80,80,80,55,55,80,55,55,80,80,55,55,55,80,80,80,80,80,80,80,80,80,55,55,55,55,55,80,55,55,80,80,55,55,55,80,80,80,80,80,55,80,80,80,80,55,55,55,55,80,55,55,80,80,55,55,55,80,80,80,80,80,55,80,80,80,55,55,55,80,55,55,80,80,55,55,55,80,80,80,80,80,55,80,80,80,80,55,55,55,55,80,55,55,80,80,55,55,55,80,80,80,80,80,55,80,80,80,80,55,55,80,55,55,80,80,55,55,55,80,80,80,80,80,55,80,80,80,80,55,55,55,55,80,55,55,80,80,55,55,55,80,80,80,80,80,55,80,80,80,80,55,55,55,55,80,55,55,80,80,55,55,55,80,80,80,80,80,80,80,80,80,55,55,55,55,55,80,55,55,80,80,55,55,55,80,80,80,80,80,55,80,80,80,80,80,80,55,55,80,55,55,80,80,55,55,80,80,80,80,80,80,80,80,80,55,55,55,55,55,80,55,55,80,80,55,55,55,80,80,80,80,80,80,80,80,80,55,55,55,55,55,80,55,80,80,55,55,55,80,80,80,80,80,80,80,80,80,55,55,55,55,55,80,55,55,80,80,55,55,55,80,80,80,80,80,55,80,80,80,80,55,55,55,55,80,55,55,80,80,55,55,55,80,80,80,80,80,80,80,80,80,55,55,55,55,55,80,55,55,80,80,55,55,55,80,80,80,80,80,80,80,80,80,55,55,55,55,55,80,55,55,80,80,55,55,55,80,80,80,80,80,80,80,80,80,55,55,55,55,55,80,55,55,80,80,55,55,55,80,80,80,80,80,55,80,80,80,80,55,55,55,55,80,55,55,80,80,55,55,55,80,80,80,80,80,80,80,80,80,55,55,55,55,55,80,55,55,80,80,55,55,55,80,80,80,80,80,55,80,80,80,80,80,80,55,55,80,55,55,80,80,55,55,55,80,80,80,80,80,55,80,80,80,80,55,55,55,55,80,55,55,80,80,55,55,55,80,80,80,80,80,55,80,80,80,80,80,80,55,55,80,55,55,80,80,55,55,55,80,80,80,80,80,80,80,80,80,55,55,55,55,55,80,55,55,80,80,55,55,55,80,80,80,80,80,55,80,80,80,80,80,80,55,55,80,55,55,80,80,55,55,55,80,80,80,80,80,80,80,80,80,55,55,55,55,55,80,55,55,80,80,55,55,55,80,80,80,80,80,55,80,80,80,80,55,55,55,55,80,55,55,80,80,55,55,55,80,80,80,80,80,55,80,80,80,80,55,55,55,55,55,55,80,80,55,55,55,80,80,80,80,80,55,80,80,80,80,55,55,55,55,80,55,55,80,80,55,55,55,80,80,80,80,80,55,80,80,80,80,80,80,55,55,80,55,55,80,80,55,55,55,80,80,80,80,80,80,80,80,80,55,55,55,55,55,80,55,55,80,80,55,55,55,80,80,80,80,80,80,80,80,80,55,55,55,55,55,80,55,55,80,80,55,55,55,80,80,80,80,80,55,80,80,80,80,80,80,55,55,80,55,55,80,80,55,55,55,80,80,80,80,80,55,80,80,80,80,55,55,55,55,80,55,55,80,80,55,55,55,80,80,80,80,80,55,80,80,80,80,55,55,55,55,80,55,55,80,80,55,55,55,80,80,80,80,80,80,80,80,80,55,55,55,55,55,80,55,55,80,80,55,55,55,80,80,80,80,80,55,80,80,80,80,80,80,55,55,80,55,55,80,80,55,55,55,80,80,80,80,80,55,80,80,80,80,80,80,55,55,80,55,55,80,80,55,55,55,80,80,80,80,80,55,80,80,80,80,55,55,55,55,80,55,55,80,80,55,55,55,80,80,80,80,80,55,80,80,80,80,55,55,55,55,80,55,55,80,80,55,55,55,80,80,80,80,80,55,80,80,80,80,55,55,55,55,80,55,55,80,80,55,55,55,80,80,80,80,80,55,80,80,80,80,80,80,55,55,80,55,55,80,80,55,55,55,80,80,80,80,80,55,80,80,80,80,55,55,55,55,80,55,55,80,80,55,55,55,80,80,80,80,80,80,80,80,80,55,55,55,55,55,80,55,55,80,80,55,55,55,80,80,80,80,80,80,80,80,80,55,55,55,55,55,80,55,55,80,80,55,55,55,80,80,80,80,80,80,80,80,80,55,55,55,55,55,80,55,55,80,80,55,55,55,80,80,80,80,80,55,80,80,80,80,80,80,55,55,80,55,55,80,80,55,55,55,80,80,80,80,80,55,80,80,80,80,80,80,55,55,80,55,55,80,80,55,55,55,80,80,80,80,80,80,80,80,80,55,55,55,55,55,80,55,55,80,80,55,55,55,80,80,80,80,80,55,80,80,80,80,80,80,55,55,80,55,55,80,80,55,55,55,80,80,80,80,80,55,80,80,80,80,80,80,55,55,80,55,55,80,80,55,55,55,80,80,80,80,80,80,80,80,80,55,55,55,55,55,80,55,55,80,80,55,55,55,80,80,80,80,80,55,80,80,80,80,55,55,55,55,80,55,55,80,80,55,55,55,80,80,80,80,80,80,80,80,80,55,55,55,55,55,80,55,55,80,80,55,55,55,80,80,80,80,80,55,80,80,80,80,55,55,55,55,80,55,55,80,80,55,55,55,80,80,80,80,80,55,80,80,80,80,80,80,55,55,80,55,55,80,80,55,55,55,80,80,80,80,80,55,80,80,80,80,80,80,55,55,80,55,55,80,80,55,55,55,80,80,80,80,80,55,80,80,80,80,55,55,55,55,80,55,55,80,80,55,55,55,80,80,80,80,80,80,80,80,80,55,55,55,55,55,80,55,55,80,80,55,55,55,80,80,80,80,80,80,80,80,80,55,55,55,55,55,80,55,55,80,80,55,55,55,80,80,80,80,80,55,80,80,80,80,55,55,55,55,80,55,55,80,80,55,55,55,80,80,80,80,80,80,80,80,80,55,55,55,55,55,80,55,55,80,80,55,55,55,80,80,80,80,80,55,80,80,80,80,55,55,55,55,80,55,55,80,80,55,55,55,80,80,80,80,80,55,80,80,80,80,55,55,55,55,80,55,55,80,80,55,55,55,80,80,80,80,80,80,80,80,80,55,55,55,55,55,80,55,55,80,80,55,55,55,80,80,80,80,80,55,80,80,80,80,55,55,55,55,80,55,55,80,80,55,55,55,80,80,80,80,80,55,80,80,80,80,80,80,55,55,80,55,55,80,80,55,55,55,80,80,80,80,80,80,80,80,80,55,55,55,55,55,80,55,55,80,80,55,55,55,80,80,80,80,80,55,80,80,80,80,80,80,55,55,80,55,55,80,80,55,55,55,80,80,80,80,80,55,80,80,80,80,55,55,55,55,80,55,55,80,80,55,55,55,80,80,80,80,80,55,80,80,80,80,55,55,55,55,80,55,55,80,80,55,55,55,80,80,80,80,80,80,80,80,80,55,55,55,55,55,80,55,55,80,80,55,55,55,80,80,80,80,80,80,80,80,80,55,55,55,55,55,80,55,55,80,80,55,55,55,80,80,80,80,80,80,80,80,80,55,55,55,55,55,80,55,55,80,80,55,55,55,80,80,80,80,80,80,80,80,80,55,55,55,55,55,80,55,55,80,80,55,55,55,80,80,80,80,80,80,80,80,80,55,55,55,55,55,80,55,55,80,80,55,55,55,80,80,80,80,80,55,80,80,80,80,55,55,55,55,80,55,55,80,80,55,55,55,80,80,80,80,80,55,80,80,80,80,55,55,55,55,80,55,55,80,80,55,55,55,80,80,80,80,80,55,80,80,80,80,80,80,55,55,80,55,55,80,80,55,55,55,80,80,80,80,80,55,80,80,80,80,80,80,55,55,80,55,55,80,80,55,55,55,80,80,80,80,80,55,80,80,80,80,55,55,55,55,80,55,55,80,80,55,55,55,80,80,80,80,80,55,80,80,80,80,55,55,55,55,80,55,55,80,80,55,55,55,80,80,80,80,80,55,80,80,80,80,55,55,55,55,80,55,55,80,80,55,55,55,80,80,80,80,80,80,80,80,80,55,55,55,55,55,80,55,55,80,80,55,55,55,80,80,80,80,80,80,80,80,80,55,55,55,55,55,80,55,55,80,80,55,55,55,80,80,80,80,80,55,80,80,80,80,55,55,55,55,80,55,55,80,80,55,55,55,80,80,80,80,80,80,80,80,80,55,55,55,55,55,80,55,55,80,80,55,55,55,80,80,80,80,80,80,80,80,80,55,55,55,55,55,80,55,55,80,80,55,55,55,80,80,80,80,80,55,80,80,80,80,80,80,55,55,80,55,55,80,80,55,55,55,80,80,80,80,80,55,80,80,80,80,80,80,55,55,80,55,55,80,80,55,55,55,80,80,80,80,80,80,80,80,80,55,55,55,55,55,80,55,55,80,80,55,55,55,80,80,80,80,80,80,80,80,80,55,55,55,55,55,80,55,55,80,80,55,55,55,80,80,80,80,80,55,80,80,80,80,80,80,55,55,80,55,55,80,80,55,55,55,80,80,80,80,80,80,80,80,55,55,55,55,55,80,55,55,80,80,55,55,55,80,80,80,80,80,55,80,80,80,80,55,55,55,55,80,55,55,80,80,55,55,55,80,80,80,80,80,80,80,80,80,55,55,55,55,55,80,55,55,80,80,55,55,55,80,80,80,80,80,55,80,80,80,80,55,55,55,55,80,55,55,80,80,55,55,55,80,80,80,80,80,80,80,80,80,55,55,55,55,55,80,55,55,80,80,55,55,55,80,80,80,80,80,55,80,80,80,80,80,80,55,55,80,55,55,80,80,55,55,55,80,80,80,80,80,55,80,80,80,80,80,80,55,55,80,55,55,80,80,55,55,55,80,80,80,80,80,80,80,80,55,55,55,55,55,80,55,80,80,55,55,55,80,80,80,80,80,80,80,80,80,55,55,55,55,55,80,55,55,80,80,55,55,55,80,80,80,80,80,55,80,80,80,80,55,55,55,55,80,55,55,80,80,55,55,55,80,80,80,80,80,80,80,80,80,55,55,55,55,55,80,55,55,80,80,55,55,55,80,80,80,80,80,55,80,80,80,80,55,55,55,55,80,55,55,80,80,55,55,55,80,80,80,80,80,80,80,80,80,55,55,55,55,55,80,55,55,80,80,55,55,55,80,80,80,80,80,55,80,80,80,80,55,55,55,55,80,55,55,80,80,55,55,80,80,80,80,80,55,80,80,80,80,55,55,55,55,80,55,55,80,80,55,55,55,80,80,80,80,80,55,80,80,80,55,55,55,55,80,55,55,80,80,55,55,55,80,80,80,80,80,55,80,80,80,80,80,80,55,55,80,55,55,80,80,55,55,55,80,80,80,80,80,55,80,80,80,80,55,55,55,55,80,55,55,80,80,55,55,55,80,80,80,80,80,80,80,80,80,55,55,55,55,55,80,55,55,80,80,55,55,55,80,80,80,80,80,80,80,80,80,55,55,55,55,55,80,55,55,80,80,55,55,55,80,80,80,80,80,55,80,80,80,80,55,55,55,55,80,55,55,80,80,55,55,55,80,80,80,80,80,80,80,80,80,55,55,55,55,55,80,55,55,80,80,55,55,55,80,80,80,80,80,80,80,80,80,55,55,55,55,55,80,55,55,80,80,55,55,55,80,80,80,80,80,55,80,80,80,80,55,55,55,55,80,55,55,80,80,55,55,55,80,80,80,80,80,80,80,80,80,55,55,55,55,55,80,55,55,80,80,55,55,55,80,80,80,80,80,80,80,80,80,55,55,55,55,55,80,55,55,80,80,55,55,55,80,80,80,80,80,55,80,80,80,80,55,55,55,55,80,55,55,80,80,55,55,55,80,80,80,80,80,55,80,80,80,80,55,55,55,55,80,55,55,80,80,55,55,55,80,80,80,80,80,55,80,80,80,80,55,55,55,55,80,55,55,80,80,55,55,55,80,80,80,80,80,80,80,80,80,55,55,55,55,55,80,55,55,80,80,55,55,55,80,80,80,80,80,55,80,80,80,80,55,55,55,55,80,55,55,80,80,55,55,55,80,80,80,80,80,80,80,80,80,55,55,55,55,55,80,55,55,80,80,55,55,55,80,80,80,80,80,55,80,80,80,80,55,55,55,55,80,55,55,80,80,55,55,55,80,80,80,80,80,80,80,80,80,55,55,55,55,55,80,55,55,80,80,55,55,55,80,80,80,80,80,55,80,80,80,80,55,55,55,55,80,55,55,80,80,55,55,55,80,80,80,80,80,80,80,80,80,55,55,80,55,55,55,80,55,55,80,80,55,55,55,80,80,80,80,80,55,80,80,80,80,55,55,55,55,80,55,80,80,55,55,55,80,80,80,80,80,55,80,80,80,80,80,80,55,55,80,55,55,80,80,55,55,55,80,80,80,80,55,80,80,80,80,80,80,55,55,80,55,80,80,55,55,55,80,80,80,80,80,55,80,80,80,80,55,55,55,55,80,55,55,80,80,55,55,55,80,80,80,80,80,80,80,80,80,55,55,55,55,55,80,55,55,80,80,55,55,55,80,80,80,80,80,55,80,80,80,80,55,55,55,55,80,55,55,80,80,55,55,55,80,80,80,80,80,55,80,80,80,80,80,80,55,55,80,55,55,80,80,55,55,55,80,80,80,80,80,80,80,80,80,55,55,55,55,55,80,55,55,80,80,55,55,55,80,80,80,80,80,55,55,55,80,55,55,80,80,55,55,55,80,80,80,80,80,55,80,80,80,80,55,55,55,55,80,55,55,80,80,55,55,55,80,80,80,80,80,80,80,80,80,55,55,55,55,55,80,55,55,80,80,55,55,55,80,80,80,80,80,55,80,80,80,80,80,80,55,55,80,55,55,80,80,55,55,55,80,80,80,80,80,55,80,80,80,80,80,80,55,55,80,55,55,80,80,55,55,55,80,80,80,80,80,80,80,80,80,55,55,55,55,55,80,55,55,80,80,55,55,55,80,80,80,80,80,80,80,80,80,55,55,55,55,55,80,55,55,80,80,55,55,55,80,80,80,80,80,55,80,80,80,80,55,55,55,55,80,55,55,80,80,55,55,55,80,80,80,80,80,55,80,80,80,80,55,55,55,55,80,55,55,80,80,55,55,55,80,80,80,80,80,80,80,80,80,55,55,55,55,55,80,55,55,80,80,55,55,55,80,80,80,80,80,55,80,80,80,80,80,80,55,55,80,55,55,80,80,55,55,55,80,80,80,80,80,80,80,80,80,55,55,55,55,55,80,55,55,80,80,55,55,55,80,80,80,80,80,80,80,80,80,55,55,55,55,55,80,55,55,80,80,55,55,55,80,80,80,80,80,55,80,80,80,80,55,55,55,55,80,55,55,80,80,55,55,55,80,80,80,80,80,55,80,80,80,80,80,80,55,55,80,55,55,80,80,55,55,55,80,80,80,80,80,55,80,80,80,80,80,80,55,55,80,55,55,80,80,55,55,55,80,80,80,80,80,80,80,80,80,55,55,55,55,55,80,55,55,80,80,55,55,55,80,80,80,80,80,55,80,80,80,80,80,80,55,55,80,55,55,80,80,55,55,55,80,80,80,80,80,55,80,80,80,80,55,55,55,55,80,55,55,80,80,55,55,55,80,80,80,80,80,80,80,80,80,55,55,55,55,55,80,55,55,80,80,55,55,55,80,80,80,80,80,55,80,80,80,80,80,80,55,55,80,55,55,80,80,55,55,55,80,80,80,80,80,55,80,80,80,80,55,55,55,55,80,55,55,80,80,55,55,55,80,80,80,80,80,80,80,80,80,55,55,55,55,55,80,55,55,80,80,55,55,55,80,80,80,80,80,55,80,80,80,80,80,80,55,55,80,55,55,80,80,55,55,55,80,80,80,80,80,80,80,80,80,55,55,55,55,55,80,55,55,80,80,55,55,55,80,80,80,80,80,80,80,80,80,55,55,55,55,55,80,55,55,80,80,55,55,55,80,80,80,80,80,55,80,80,80,80,55,55,55,55,80,55,55,80,80,55,55,55,80,80,80,80,80,80,80,80,80,55,55,55,55,55,80,55,55,80,80,55,55,55,80,80,80,80,80,80,80,80,80,55,55,55,55,55,80,55,55,80,80,55,55,80,80,80,80,55,80,80,80,80,55,55,80,80,80,80,80,80,80,80,80,80,55,80,80,80,80,55,80,80,80,80,80,80,80,80,80,80,80,80,80,80,80,80,55,80,80,80,80,55,80,80,80,80,80,80,80,80,80,80,80,80,80,80,80,80,55,80,80,80,80,55,80,80,80,80,55,55,80,80,80,80,80,80,80,80,80,80,55,80,80,80,80,55,80,80,80,80,80,80,80,80,80,80,80,80,80,80,80,80,55,80,80,80,80,55,80,80,80,80,55,55,80,80,80,80,80,80,80,80,80,80,55,80,80,80,55,80,80,80,80,55,55,80,80,80,80,80,80,80,80,80,80,55,80,80,80,80,55,80,80,80,80,80,80,80,80,80,80,80,80,80,80,80,80,55,80,80,80,80,55,80,55,80,80,55,80,80,80,80,80,80,80,80,80,80,80,55,80,80,80,80,55,80,80,80,80,80,80,80,80,80,80,80,80,80,80,80,80,55,80,80,80,80,55,80,55,80,80,55,80,80,80,80,80,80,80,80,80,80,80,55,80,80,80,80,55,80,55,80,80,55,80,80,80,80,80,80,80,80,80,80,80,55,80,80,80,80,55,80,55,80,80,55,80,80,80,80,80,80,80,80,80,80,80,55,80,80,80,80,55,80,80,80,80,80,80,80,80,80,80,80,80,80,80,80,80,55,80,80,80,80,55,80,55,80,80,55,80,80,80,80,80,80,80,80,80,80,80,55,80,80,80,80,55,80,80,80,80,80,80,80,80,80,80,80,80,80,55,80,80,80,80,55,80,80,80,80,80,80,80,80,80,80,80,80,80,80,80,80,55,80,80,80,80,55,80,80,80,80,80,80,80,80,80,80,80,80,80,80,80,80,55,80,80,80,80,55,80,55,80,80,55,80,80,80,80,80,80,80,80,80,80,80,55,80,80,80,80,55,80,80,80,80,80,80,80,80,80,80,80,80,80,80,80,80,55,80,80,80,80,55,80,80,80,80,80,80,80,80,80,80,80,80,80,80,80,80,55,80,80,80,80,55,80,55,80,80,55,80,80,80,80,80,80,80,80,80,80,80,55,80,80,80,80,55,80,80,55,80,80,55,80,80,80,80,80,80,80,80,80,80,80,55,80,80,80,80,55,80,80,80,80,80,80,80,80,80,80,80,80,80,80,80,80,55,80,80,80,80,55,80,80,80,80,55,55,80,80,80,80,80,80,80,80,80,80,55,80,80,80,80,55,80,80,80,80,55,55,80,80,80,80,80,80,80,80,80,80,55,80,80,80,80,55,80,80,80,80,80,80,80,80,80,80,80,80,80,80,80,80,55,80,80,80,80,55,80,80,80,80,80,80,80,80,80,80,80,80,80,80,80,80,55,80,80,80,80,55,80,55,80,80,55,80,80,80,80,80,80,80,80,80,80,80,55,80,80,80,80,55,80,55,80,80,55,80,80,80,80,80,80,80,80,80,80,80,55,80,80,80,80,55,80,80,80,80,80,80,80,80,80,80,80,80,80,80,80,80,55,80,80,80,80,55,80,80,80,80,55,55,80,80,80,80,80,80,80,80,80,80,55,80,80,80,80,55,80,80,80,80,80,80,80,80,80,80,80,80,80,80,80,80,55,80,80,80,80,55,80,55,80,80,55,80,80,80,80,80,80,80,80,80,80,80,55,80,80,80,80,55,80,80,80,80,80,80,80,80,80,80,80,80,80,80,80,80,55,80,80,80,80,55,80,55,80,80,55,80,80,80,80,80,80,80,80,80,80,80,55,80,80,80,80,55,80,55,80,80,55,80,80,80,80,80,80,80,80,80,80,80,55,80,80,80,80,55,80,55,80,80,55,80,80,80,80,80,80,80,80,80,80,80,55,80,80,80,80,55,80,55,80,80,55,80,80,80,80,80,80,80,80,80,80,80,55,80,80,80,80,55,80,80,80,80,55,55,80,80,80,80,80,80,80,80,80,80,55,80,80,80,80,55,80,80,80,80,55,55,80,80,80,80,80,80,80,80,80,80,55,80,80,80,80,55,80,55,80,80,55,80,80,80,80,80,80,80,80,80,80,80,55,80,80,80,80,55,80,80,80,55,80,80,80,80,80,80,80,80,80,80,80,55,80,80,80,80,55,80,55,80,80,55,80,80,80,80,80,80,80,80,80,80,80,55,80,80,80,80,55,80,80,80,80,80,80,80,80,80,80,80,80,80,80,80,80,55,80,80,80,80,55,80,80,80,80,80,80,80,80,80,80,80,55,55,55,80,80,55,80,80,80,80,80,80,80,80,80,80,80,55,80,80,80,80,55,80,80,80,80,80,80,80,80,80,80,80,80,80,80,80,80,55,80,80,80,80,55,80,55,80,80,55,80,80,80,80,80,80,80,80,80,80,80,55,80,80,80,80,55,80,55,80,80,55,80,80,80,80,80,80,80,80,80,80,80,55,80,80,80,80,55,80,55,80,80,55,80,80,80,80,80,80,80,80,80,80,80,55,80,80,80,80,55,80,80,80,80,80,80,80,80,80,80,80,80,80,80,80,80,55,80,80,80,80,55,80,55,80,80,55,80,80,80,80,80,80,80,80,80,80,80,55,80,80,80,80,55,80,80,80,80,55,55,80,80,80,80,80,80,80,80,80,80,55,80,80,80,80,55,80,80,80,80,55,55,80,80,80,80,80,80,80,80,80,80,55,80,80,80,80,55,80,80,80,80,80,80,80,80,80,80,80,80,80,80,80,80,55,80,80,80,80,55,80,80,80,80,55,55,80,80,80,80,80,80,80,80,80,80,55,80,80,80,80,55,80,80,80,80,80,80,80,80,80,80,80,80,80,80,80,80,55,80,80,80,80,55,80,80,80,80,80,80,80,80,80,80,80,80,80,80,80,80,55,80,80,80,80,55,80,80,80,80,80,80,80,80,80,80,80,80,80,80,80,80,55,80,80,80,80,55,80,80,80,80,80,80,80,80,80,80,80,80,80,80,80,80,55,80,80,80,80,55,80,55,80,80,55,80,80,80,80,80,80,80,80,80,80,80,55,80,80,80,80,55,80,80,80,80,80,80,80,80,80,80,80,80,80,80,80,80,55,80,80,80,80,55,80,55,80,80,55,80,80,80,80,80,80,80,80,80,80,80,55,80,80,80,80,55,80,55,80,80,55,80,80,80,80,80,80,80,80,80,80,55,80,80,80,80,55,80,55,80,80,55,80,80,80,80,80,80,80,80,80,80,80,55,80,80,80,80,55,80,80,80,80,80,80,80,80,80,80,80,80,80,80,80,80,55,80,80,80,80,55,80,55,80,80,55,80,80,80,80,80,80,80,80,80,80,80,55,80,80,80,80,55,80,80,80,80,55,55,80,80,80,80,80,80,80,80,80,55,80,80,80,80,55,80,80,80,80,55,55,80,80,80,80,80,80,80,80,80,80,55,80,80,80,80,55,80,55,80,80,55,80,80,80,80,80,80,80,80,80,80,80,55,80,80,80,80,55,80,55,80,80,55,80,80,80,80,80,80,80,80,80,80,80,55,80,80,80,80,55,80,55,80,80,55,80,80,80,80,80,80,80,80,80,80,80,55,80,80,80,80,55,80,55,80,80,55,80,80,80,80,80,80,80,80,80,80,80,55,80,80,80,80,55,80,80,80,80,80,80,80,80,80,80,80,80,80,80,80,80,55,80,80,80,80,55,80,55,80,80,55,80,80,80,80,80,80,80,80,80,80,80,55,80,80,80,80,55,80,80,80,80,55,55,80,80,80,80,80,80,80,80,80,80,55,80,80,80,80,55,80,55,80,80,55,80,80,80,80,80,80,80,80,80,80,80,55,80,80,80,80,55,80,80,80,80,80,80,80,80,80,80,80,80,80,80,80,80,55,80,80,80,80,55,80,80,80,80,55,55,80,80,80,80,80,80,80,80,80,80,55,80,80,80,80,55,80,55,80,80,55,80,80,80,80,80,80,80,80,80,80,80,55,80,80,80,80,55,80,80,80,80,80,80,80,80,80,80,80,80,80,80,80,80,55,80,80,80,80,55,80,80,80,80,55,55,80,80,80,80,80,80,80,80,80,80,55,80,80,80,80,55,80,80,80,80,55,55,80,80,80,80,80,80,80,80,80,80,55,80,80,80,80,55,80,55,80,80,55,80,80,80,80,80,80,80,80,80,80,80,55,80,80,80,80,55,80,80,80,80,80,80,80,80,80,80,80,80,80,80,80,80,55,80,80,80,80,55,80,80,80,80,80,80,80,80,80,80,80,80,80,80,80,55,80,80,80,80,55,80,55,80,80,55,80,80,80,80,80,80,80,80,80,80,80,55,80,80,80,80,55,80,55,80,80,55,80,80,80,80,80,80,80,80,80,80,80,55,80,80,80,80,55,80,80,80,80,80,80,80,80,80,80,80,80,80,80,80,80,55,80,80,80,80,55,80,55,80,80,55,80,80,80,80,80,80,80,80,80,80,80,55,80,80,80,80,55,80,55,80,80,55,80,80,80,80,80,80,80,80,80,80,80,55,80,80,80,80,55,80,80,80,80,80,80,80,80,80,80,80,80,80,80,80,80,55,80,80,80,80,55,80,80,80,80,80,80,80,80,80,80,80,80,80,80,80,80,55,80,80,80,80,55,80,80,80,80,80,80,80,80,80,80,80,55,55,55,80,80,55,80,80,80,80,80,80,80,80,80,80,80,55,80,80,80,80,55,80,80,80,80,80,80,80,80,80,80,80,80,80,80,80,80,55,80,80,80,80,55,80,80,80,80,80,80,80,80,80,80,80,80,80,80,80,80,55,80,80,80,80,55,80,80,80,80,55,55,80,80,80,80,80,80,80,80,80,80,55,80,80,80,80,55,80,55,80,80,55,80,80,80,80,80,80,80,80,80,80,80,55,80,80,80,80,55,80,80,80,80,80,80,80,80,80,80,80,80,80,80,80,80,55,80,80,80,80,55,80,80,80,80,80,80,80,80,80,80,80,80,80,80,80,80,55,80,80,80,80,55,80,55,80,80,55,80,80,80,80,80,80,80,80,80,80,80,55,80,80,80,80,55,80,55,80,80,55,80,80,80,80,80,80,80,80,80,80,80,55,80,80,80,80,55,80,80,80,80,80,80,80,80,80,80,80,80,80,80,80,80,55,80,80,80,80,55,80,80,80,80,80,80,80,80,80,80,80,55,80,80,80,80,55,80,55,80,80,55,80,80,80,80,80,80,80,80,80,80,80,55,80,80,80,80,55,80,80,80,80,55,55,80,80,80,80,80,80,80,80,80,80,55,80,80,80,80,55,80,55,80,80,55,80,80,80,80,80,80,80,80,80,80,80,55,80,80,80,80,55,80,55,80,80,55,80,80,80,80,80,80,80,80,80,80,80,55,80,80,80,80,55,80,55,80,80,55,80,80,80,80,80,80,80,80,80,80,80,55,80,80,80,80,55,80,80,80,80,55,55,80,80,80,80,80,80,80,80,80,80,55,80,80,80,80,55,80,55,80,80,55,80,80,80,80,80,80,80,80,80,80,55,80,80,80,80,55,80,55,80,80,55,80,80,80,80,80,80,80,80,80,80,80,55,80,80,80,80,55,80,80,80,80,80,80,80,80,80,80,80,80,80,80,80,80,55,55,55,55,80,30,55,55,80,80,55,55,55,30,80,30,80,55,55,80,30,55,30,80,55,30,55,55,55,80,55,55,80,80,55,55,80,30,30,55,30,30,80,55,30,55,55,80,55,55,30,80,55,55,55,80,30,55,80,55,55,80,30,55,30,80,55,30,55,55,55,80,55,55,55,80,30,80,55,55,80,30,30,55,30,30,80,80,55,30,55,55,55,80,55,55,55,80,30,80,55,55,80,30,30,55,30,30,80,55,55,55,80,30,55,55,80,80,55,55,55,30,80,30,80,55,55,80,30,55,30,80,55,30,55,55,55,80,55,55,55,80,30,80,55,55,80,30,30,55,30,30,80,55,30,55,55,80,55,55,30,80,55,55,55,80,30,55,80,55,55,80,30,55,30,55,55,55,80,30,55,55,80,80,55,55,55,30,80,30,80,55,55,80,30,55,30,55,30,55,55,80,55,55,30,80,55,55,55,80,30,55,80,55,55,80,30,55,30,55,55,55,80,30,55,55,80,80,55,55,55,30,80,30,80,55,55,80,30,55,30,55,55,55,80,30,55,55,80,80,55,55,55,30,80,30,80,55,55,80,30,55,30,80,55,30,55,55,55,80,55,55,55,80,30,80,55,55,80,30,30,30,30,80,55,30,55,55,80,55,55,30,80,55,55,55,80,30,55,80,55,55,80,30,55,30,80,55,80,80,30,55,30,30,80,30,55,55,30,30,30,30,80,80,55,30,30,80,55,55,30,80,55,80,80,30,55,30,30,80,55,30,30,30,80,30,55,30,30,80,80,55,80,80,30,55,30,30,80,30,55,55,30,30,30,30,80,80,55,30,30,80,55,55,30,80,55,80,80,30,55,30,30,80,55,30,30,30,80,30,55,30,30,80,55,55,30,80,55,80,80,30,55,30,30,80,55,30,30,30,80,30,55,30,30,80,80,80,55,80,80,55,55,30,55,30,30,80,30,55,30,30,80,55,55,30,30,80,80,55,80,80,30,55,30,30,80,30,55,55,30,30,30,30,80,80,55,30,30,80,80,55,80,80,30,55,30,30,80,30,55,55,30,30,30,30,80,80,55,30,30,80,80,80,55,80,80,55,55,30,55,30,30,80,30,55,30,30,80,55,55,30,30,80,80,55,80,80,30,55,30,30,80,30,55,55,30,30,30,30,80,80,55,30,30,80,55,55,30,80,55,80,80,30,55,30,30,80,55,30,30,30,80,30,55,30,30,80,55,55,30,80,55,80,80,30,55,30,30,80,55,30,30,30,80,30,55,30,30,80,80,80,55,80,80,55,55,30,55,30,30,80,30,55,30,30,80,55,55,30,30,80,55,55,30,80,55,80,80,30,55,30,30,80,55,30,30,30,80,30,55,30,30,80,55,55,30,80,55,80,80,30,55,30,30,80,55,30,30,30,80,30,55,30,30,80,55,55,30,80,55,80,80,30,55,30,30,80,55,30,30,30,80,30,55,30,30,80,80,55,80,80,30,55,30,30,80,30,55,55,30,30,30,30,80,80,55,30,30,80,80,55,80,80,30,55,30,30,80,30,55,55,30,30,30,30,80,80,55,30,30,80,80,80,55,80,80,55,55,30,55,30,30,80,30,55,30,30,80,55,55,30,30,80,55,55,30,80,55,80,80,30,55,30,30,80,55,30,30,30,80,30,55,30,30,80,80,55,80,80,30,55,30,30,80,30,55,55,30,30,30,30,80,80,55,30,30,80,55,55,30,80,55,80,80,30,55,30,30,80,55,30,30,30,80,30,55,30,30,80,80,80,55,80,80,55,55,30,55,30,30,80,30,55,30,30,80,55,55,30,30,80,55,55,30,80,55,80,80,30,55,30,30,80,55,30,30,30,80,30,55,30,30,80,55,55,30,80,55,80,80,30,55,30,30,80,55,30,30,30,80,30,55,30,30,80,80,80,55,80,80,55,55,30,55,30,30,80,30,55,30,30,80,55,55,30,30,80,55,55,30,80,55,80,80,30,55,30,30,80,55,30,30,30,80,30,55,30,30,80,80,80,55,80,80,55,55,30,55,30,30,80,80,30,55,55,30,80,30,55,30,30,80,80,55,55,30,30,80,55,55,30,80,55,30,80,55,80,80,30,55,30,30,80,30,55,55,30,30,30,30,80,80,55,30,30,80,80,55,80,80,30,55,30,30,30,30,30,80,80,55,30,30,80,55,55,30,80,55,80,80,30,55,30,30,80,55,30,30,30,80,30,55,30,30,80,80,55,80,80,30,55,30,30,80,30,55,30,30,30,30,80,80,55,30,30,80,55,80,80,30,55,30,30,80,30,55,55,30,30,30,30,80,80,55,30,30,80,80,80,55,80,80,55,55,30,55,30,30,80,30,55,30,30,80,55,55,30,30,80,80,55,80,80,30,55,30,30,80,30,55,55,30,30,30,30,80,80,55,30,30,80,80,80,55,80,80,55,55,30,55,30,30,80,30,55,30,30,80,55,55,30,30,80,80,55,80,80,30,55,30,30,80,30,55,55,30,30,30,30,80,80,55,30,30,80,80,55,80,80,30,55,30,30,80,30,55,55,30,30,30,30,80,80,55,30,30,80,80,80,55,80,80,55,55,30,55,30,30,80,30,55,30,30,80,55,55,30,30,80,80,55,80,80,30,55,30,30,30,55,55,30,30,30,30,80,80,55,30,30,80,80,80,55,80,80,55,55,30,55,30,30,80,30,55,30,30,80,55,55,30,30,80,80,55,80,80,30,55,30,30,80,30,55,55,30,30,30,30,80,80,55,30,30,80,80,80,55,80,80,55,55,30,55,30,30,80,30,55,30,30,80,55,55,30,30,80,55,55,30,80,55,80,80,30,55,30,30,80,55,30,30,30,80,30,55,30,30,80,80,55,80,80,30,55,30,30,80,30,55,55,30,30,30,30,80,80,55,30,30,80,80,80,55,80,80,55,55,30,55,30,30,80,30,55,30,30,80,55,55,30,30,80,55,55,30,80,55,80,80,30,55,30,30,80,55,30,30,30,80,30,55,30,30,80,55,55,30,80,55,80,80,30,55,30,30,80,55,30,30,30,80,30,55,30,30,80,80,55,80,80,30,55,30,30,80,30,55,55,30,30,30,30,80,80,55,30,30,80,80,80,55,80,80,55,55,30,55,30,30,80,30,55,30,30,80,55,55,30,30,80,80,80,55,80,80,55,55,30,55,30,30,80,30,55,30,30,80,55,55,30,30,80,80,80,55,80,80,55,55,30,55,30,30,80,30,55,30,30,80,55,55,30,30,80,55,55,30,80,55,80,80,30,55,30,30,80,55,30,30,30,80,30,55,30,30,80,55,55,30,80,55,80,80,30,55,30,30,80,55,30,30,30,80,30,55,30,30,80,80,80,55,80,80,55,55,30,55,30,30,80,30,55,30,30,80,55,55,30,30,80,80,55,80,80,30,55,30,30,80,30,55,55,30,30,30,30,80,80,55,30,30,80,55,80,80,30,55,30,30,80,30,55,55,30,30,30,30,80,80,55,30,30,80,55,55,30,80,55,80,80,30,55,30,30,80,55,30,30,30,80,30,55,30,30,80,80,80,55,80,80,55,55,30,55,30,30,80,30,55,30,30,80,55,55,30,30,80,55,55,30,80,55,80,80,30,55,30,30,80,55,30,30,30,80,30,55,30,30,80,55,55,30,80,55,80,80,30,55,30,30,80,55,30,30,30,80,30,55,30,30,80,80,80,55,80,80,55,30,55,30,30,80,30,55,30,30,80,55,55,30,30,80,80,55,80,80,30,55,30,30,80,30,55,55,30,30,30,30,80,80,55,30,30,80,55,55,30,80,55,80,80,30,55,30,30,80,55,30,30,30,80,30,55,30,30,80,80,55,80,80,30,55,30,30,80,30,55,55,30,30,30,30,80,80,55,30,30,80,55,55,30,80,55,80,80,30,55,30,30,80,55,30,30,30,80,30,55,30,30,80,80,80,55,80,80,55,55,30,55,30,30,80,30,55,30,30,80,55,55,30,30,80,80,55,80,80,30,55,30,30,80,30,55,55,30,30,30,30,80,80,55,30,30,80,55,55,30,80,55,80,80,30,55,30,30,55,30,30,30,80,30,55,30,30,80,55,55,30,80,55,80,80,30,55,30,30,80,55,30,30,30,80,30,55,30,30,80,80,80,55,80,80,55,55,30,55,30,30,80,30,55,30,30,80,55,55,30,30,80,55,55,30,80,55,80,80,30,55,30,30,80,55,30,30,30,80,30,55,30,30,80,55,55,30,80,55,80,80,30,55,30,30,80,55,30,30,30,80,30,55,30,30,80,80,55,80,80,30,55,30,30,80,30,55,55,30,30,30,30,80,80,55,30,30,80,55,55,30,80,55,80,80,30,55,30,30,80,55,30,30,30,80,30,55,30,30,80,80,55,80,80,30,55,30,30,80,30,55,55,30,30,30,30,80,80,55,30,30,80,80,80,55,80,80,55,55,30,55,30,30,80,30,55,30,30,80,55,55,30,30,80,80,80,55,80,80,55,55,30,55,30,30,80,30,55,30,30,80,55,55,30,30,80,80,55,80,80,30,55,30,30,80,30,55,55,30,30,30,30,80,80,55,30,30,80,80,55,80,80,30,55,30,30,80,30,55,55,30,30,30,30,80,80,55,30,30,80,55,55,30,80,55,80,80,30,55,30,30,80,55,30,30,30,80,30,55,30,30,80,80,55,80,80,30,55,30,30,80,30,55,55,30,30,30,30,80,80,55,30,80,55,55,30,80,55,80,80,30,55,30,30,80,55,30,30,30,80,30,55,30,30,80,80,80,30,55,30,80,55,80,80,80,55,30,55,30,80,55,30,30,55,80,55,30,80,80,30,55,30,80,80,80,80,80,80,30,80,80,55,30,80,30,55,80,55,30,80,80,80,55,30,55,30,55,30,80,30,80,80,55,30,80,30,55,80,80,55,30,80,80,30,55,30,80,55,80,80,80,55,30,55,30,80,55,30,30,55,80,55,30,80,80,80,55,30,55,30,55,30,80,30,80,80,55,30,80,30,55,80,80,55,30,80,80,30,55,30,80,80,80,80,80,80,30,80,80,55,30,80,30,55,80,55,30,80,80,30,55,30,80,80,80,80,80,80,30,80,80,55,30,80,30,55,80,55,30,80,80,80,55,30,55,30,55,30,80,30,80,80,55,30,80,30,55,80,80,55,30,80,80,80,55,30,55,30,55,30,80,30,80,80,55,30,80,30,55,80,80,55,30,80,80,30,55,30,80,80,80,80,80,80,30,80,80,55,30,80,30,55,80,55,30,80,80,30,55,30,80,80,80,80,80,80,30,80,80,55,30,80,30,55,80,55,30,80,80,30,55,30,80,80,80,80,80,80,30,80,80,55,30,80,30,55,80,55,30,80,80,30,55,30,80,55,80,80,80,80,80,80,30,80,80,55,30,55,30,80,55,30,30,55,80,55,30,80,80,80,55,30,55,30,55,30,80,30,80,80,55,30,80,30,55,80,80,55,30,80,80,80,55,30,55,30,55,30,80,30,80,80,55,30,80,30,55,80,80,55,30,80,80,30,55,30,80,55,80,80,80,55,30,55,30,80,55,30,30,55,80,55,30,80,80,30,55,30,80,55,80,80,80,55,30,55,30,80,55,30,30,55,80,55,30,80,80,80,55,30,55,30,55,30,80,30,80,80,55,30,80,30,55,80,80,55,30,80,80,30,55,30,80,55,80,80,80,55,30,55,30,80,55,30,30,55,80,55,30,80,80,80,55,30,55,30,55,30,80,30,80,80,55,30,80,30,55,80,80,55,30,80,80,80,55,30,55,30,55,30,80,30,80,80,55,30,80,30,55,80,80,55,30,80,80,80,55,30,55,30,55,30,80,30,80,80,55,30,80,30,55,80,80,55,30,80,80,80,55,30,55,30,55,30,80,30,80,80,55,30,80,30,55,80,80,55,30,80,80,80,55,30,55,30,55,30,80,30,80,80,55,30,80,30,55,80,80,55,30,80,80,80,55,30,55,30,55,30,80,30,80,80,55,30,80,30,55,80,80,55,30,80,80,80,55,30,55,30,55,30,80,30,80,80,55,30,80,30,55,80,80,55,30,80,80,30,55,30,80,80,80,80,55,30,55,80,55,30,30,55,80,55,30,80,80,30,55,30,80,80,80,80,80,80,30,80,80,55,30,80,30,55,80,55,30,80,80,80,55,30,55,30,55,30,80,30,80,80,55,30,80,30,55,80,80,55,30,80,80,30,55,30,80,55,80,80,80,55,30,55,30,80,55,30,30,55,80,55,30,80,80,30,55,30,80,55,80,80,80,55,30,55,30,80,55,30,30,55,80,55,30,80,80,30,55,30,80,80,80,80,80,80,30,80,80,55,30,80,30,55,80,55,30,80,80,30,55,30,80,80,80,80,80,80,30,80,80,55,30,80,30,55,80,55,30,80,80,30,55,30,80,55,80,80,80,55,30,55,30,80,55,30,30,55,80,55,30,80,80,80,55,30,55,30,55,30,80,30,80,80,55,30,80,30,55,80,80,55,30,80,80,80,55,30,55,30,55,30,80,30,80,80,55,80,30,55,80,80,55,30,80,80,30,55,30,80,55,80,80,80,55,30,55,30,80,55,30,30,55,80,55,30,80,80,80,55,30,55,30,55,30,80,30,80,80,55,30,80,30,30,55,80,80,55,30,80,80,80,55,30,55,30,30,80,30,80,80,55,30,80,30,55,80,80,55,30,80,80,30,55,30,80,80,80,80,80,80,30,80,80,55,30,80,30,55,80,55,30,80,80,80,55,30,55,30,55,30,80,30,80,80,55,30,80,30,55,80,80,55,30,80,80,30,30,80,55,80,55,30,55,30,55,30,30,80,55,30,80,80,30,55,30,80,55,80,80,80,55,30,55,30,80,55,30,30,55,80,55,30,80,80,30,55,30,80,55,80,80,80,55,30,55,30,80,55,30,30,55,80,55,30,80,80,80,55,30,55,30,55,30,80,30,80,80,55,30,80,30,55,80,80,55,30,80,80,80,55,30,55,30,55,30,80,30,80,80,55,30,80,30,55,80,80,55,30,80,80,30,55,30,80,55,80,80,80,55,30,55,30,80,55,30,30,55,80,55,30,80,80,80,55,30,55,30,55,30,80,30,80,80,55,30,80,30,55,80,80,55,30,80,80,80,55,30,55,30,55,30,80,30,80,80,55,30,80,30,55,80,80,55,30,80,80,30,55,30,80,55,80,80,80,55,30,55,30,80,55,30,30,55,80,55,30,80,80,80,55,30,55,30,55,30,80,30,80,80,55,30,80,30,55,80,80,55,30,80,80,80,55,30,55,30,55,30,80,30,80,80,55,30,80,30,55,80,80,55,30,80,80,30,55,30,80,55,80,80,80,55,30,55,30,80,55,30,30,55,80,55,30,80,80,80,55,30,55,30,55,30,80,30,80,80,55,30,80,30,55,80,80,55,30,80,80,80,55,30,55,30,55,30,80,30,80,80,55,30,80,30,55,80,80,55,30,80,80,30,55,30,80,80,80,80,80,80,30,80,80,55,30,80,30,55,80,55,30,80,80,30,55,30,80,55,80,80,80,55,30,55,30,80,55,30,30,55,80,55,30,80,80,30,55,30,80,55,80,80,80,55,30,55,30,80,55,30,30,55,80,55,30,80,80,30,55,30,80,80,80,80,80,80,30,80,80,55,30,80,30,55,80,55,30,80,80,30,55,30,55,30,80,30,80,80,55,30,80,30,55,80,80,55,30,80,80,30,55,30,80,55,80,80,80,55,30,55,30,80,55,30,30,55,80,55,30,80,80,30,55,30,80,55,80,80,80,55,30,55,30,80,55,30,30,55,80,55,30,80,80,30,55,30,80,80,80,80,80,80,30,80,80,55,30,80,30,55,80,55,30,80,80,80,55,30,55,30,55,30,80,30,80,80,55,30,80,30,55,80,80,55,30,80,80,30,55,30,80,80,80,80,80,80,30,80,80,55,30,80,30,55,80,55,30,80,80,30,55,30,80,80,80,80,80,80,30,80,80,55,30,80,30,55,80,55,30,80,80,80,55,30,55,30,55,30,80,30,80,80,55,30,80,30,55,80,80,55,30,80,80,30,55,30,80,55,80,80,80,55,30,55,30,80,55,30,30,55,80,55,30,80,80,30,30,80,55,80,80,80,55,30,55,30,80,55,30,30,55,80,55,30,80,80,80,55,30,55,30,55,30,80,30,80,80,55,30,80,30,55,80,80,55,30,80,80,30,55,30,80,80,80,80,80,80,30,80,80,55,30,80,30,55,80,55,30,80,80,30,55,30,80,80,80,55,30,80,30,30,55,80,55,30,80,80,80,55,30,55,30,55,30,80,30,80,80,55,30,80,30,55,80,80,55,30,80,80,30,55,30,80,80,80,80,80,80,30,80,80,55,30,80,30,55,80,55,30,80,80,30,55,30,80,80,80,80,55,30,80,30,55,80,55,30,80,80,80,55,30,55,30,55,30,80,30,80,80,55,30,80,30,55,80,80,55,30,80,80,30,55,30,80,80,80,80,80,80,30,80,80,55,30,80,30,55,80,55,30,80,80,80,80,80,30,80,80,80,55,30,55,30,55,30,80,30,80,80,55,30,80,30,55,80,80,55,30,80,80,80,55,30,55,30,55,30,80,30,80,80,55,30,80,30,55,80,80,55,30,80,80,30,55,30,80,55,80,80,80,55,30,55,30,80,55,30,30,55,80,55,30,80,80,30,55,30,80,80,80,80,80,80,30,80,80,55,30,80,30,55,80,55,30,80,80,30,55,30,80,80,80,80,80,80,30,80,80,55,30,80,30,55,80,55,30,80,80,30,55,30,80,80,80,80,55,30,80,30,55,80,55,30,80,80,30,55,30,80,80,80,30,80,55,80,55,30,80,80,30,55,30,80,55,80,80,80,55,30,55,30,80,55,30,30,55,80,55,30,80,80,55,30,30,55,55,80,30,80,30,55,30,30,80,80,55,55,30,30,30,80,80,80,55,30,30,55,55,80,30,80,30,55,30,30,80,80,55,55,30,30,30,80,30,55,30,30,30,55,80,80,55,30,30,55,55,80,30,80,30,55,30,30,80,80,55,55,30,30,30,80,30,30,80,80,55,30,30,55,55,80,30,30,55,30,55,55,55,30,80,30,55,30,30,80,80,30,30,55,55,55,30,30,30,80,80,80,55,30,30,55,80,30,55,30,80,30,55,30,80,30,30,55,55,30,30,80,80,80,55,30,30,55,80,30,55,30,80,30,55,30,80,30,30,55,55,30,30,80,30,30,80,80,55,30,30,55,80,55,55,55,30,80,30,55,30,80,55,30,30,80,30,30,80,80,55,30,30,55,80,55,55,55,30,80,30,55,30,80,55,30,30,80,80,80,55,30,30,55,55,80,30,80,30,55,30,30,80,80,55,55,30,30,30,80,80,80,55,30,30,55,55,80,30,80,30,55,30,30,80,80,55,55,30,30,30,80,80,80,55,30,30,55,55,80,30,80,30,55,30,30,80,80,55,55,30,30,30,80,80,80,55,30,30,55,55,80,30,80,30,55,30,30,80,80,55,55,30,30,30,80,30,30,80,80,55,30,30,55,80,55,55,55,30,80,30,55,30,80,55,30,30,80,80,80,55,30,30,55,55,80,30,80,30,55,30,30,80,80,55,55,30,30,30,80,80,80,55,30,30,55,55,80,30,80,30,55,30,30,80,80,55,55,30,30,30,80,80,80,55,30,30,55,55,80,30,80,30,55,30,30,80,80,55,55,30,30,30,80,30,30,80,80,55,30,30,55,80,55,55,55,30,80,30,55,30,80,55,30,30,80,80,80,55,30,30,55,55,80,30,80,30,55,30,30,80,80,55,55,30,30,30,80,80,80,55,30,30,55,55,80,30,80,30,55,30,30,80,80,55,55,30,30,30,80,80,80,55,30,30,55,80,30,55,30,80,30,55,30,80,30,30,55,55,30,30,80,30,30,80,80,55,30,30,55,80,55,55,55,30,80,30,55,30,80,55,30,30,80,80,80,55,30,30,55,55,80,30,80,30,55,30,30,80,80,55,55,30,30,30,80,80,80,55,30,30,55,55,80,30,80,30,55,30,30,80,80,55,55,30,30,30,80,80,80,55,30,30,55,80,30,55,30,80,30,55,30,80,30,30,55,55,30,30,80,80,80,55,30,30,55,55,80,30,80,30,55,30,30,80,80,55,55,30,30,30,80,80,80,55,30,30,55,55,80,30,80,30,55,30,30,80,80,55,55,30,30,30,80,30,30,80,80,55,30,30,55,80,55,55,55,30,80,30,55,30,80,55,30,30,80,80,80,55,30,30,55,80,30,55,30,80,30,55,30,80,30,30,55,55,30,30,80,80,80,55,30,30,55,80,30,55,30,80,30,55,30,80,30,30,55,55,30,30,80,80,80,55,30,30,55,80,30,55,30,80,30,55,30,80,30,30,55,55,30,30,80,30,30,80,80,55,30,30,55,80,55,55,30,80,30,55,30,80,55,30,30,80,80,80,55,30,30,55,80,30,55,30,80,30,55,30,80,30,30,55,55,30,30,80,80,80,55,30,30,55,55,80,30,80,30,55,30,30,80,80,55,55,30,30,30,80,80,80,55,30,30,55,55,80,30,80,30,55,30,30,80,80,55,55,30,30,30,80,30,30,55,55,55,30,30,30,80,80,55,30,30,55,80,55,55,55,30,80,30,55,30,80,55,30,30,80,80,80,55,30,30,55,80,30,55,30,80,30,55,30,80,30,30,55,55,30,30,80,80,80,55,30,30,55,55,80,30,80,30,55,30,30,80,80,55,55,30,30,30,80,30,30,80,80,55,30,30,55,80,55,55,55,30,80,30,55,30,80,55,30,30,80,80,80,55,30,30,55,55,80,30,80,55,30,30,80,80,55,55,30,30,30,80,30,30,80,80,55,30,30,55,55,80,30,30,55,30,55,55,55,30,80,30,55,30,30,80,80,30,30,55,55,55,30,30,30,80,30,30,80,80,55,30,30,55,80,55,55,55,30,80,30,55,30,30,80,55,30,30,80,80,80,55,30,30,55,55,80,30,80,30,55,30,30,80,80,55,55,30,30,30,80,80,80,55,30,30,55,80,30,55,30,80,30,55,30,80,30,30,55,55,30,30,80,80,80,55,30,30,55,55,80,30,80,30,55,30,30,80,80,55,55,30,30,30,80,30,30,80,80,55,30,30,55,80,55,55,55,30,80,30,55,30,80,55,30,30,80,30,30,80,80,55,30,30,55,80,55,55,55,30,80,30,55,30,80,55,30,30,80,80,80,55,30,30,55,80,30,55,30,80,30,55,30,80,30,30,55,55,30,30,80,30,30,80,80,55,30,30,55,80,55,55,55,30,80,30,55,30,80,55,30,30,80,80,80,55,30,30,55,55,80,30,80,30,55,30,30,80,80,55,55,30,30,30,80,80,80,55,30,30,55,55,80,30,80,30,55,30,30,80,55,55,30,30,30,80,80,80,55,30,30,55,80,30,55,30,80,30,55,30,80,30,30,55,55,30,30,80,30,30,80,80,55,30,30,55,80,55,55,55,30,80,30,55,30,80,55,30,30,80,30,30,80,80,55,30,30,55,80,55,55,55,30,80,30,55,30,80,55,30,30,80,80,80,55,30,30,55,80,30,55,30,80,30,55,30,80,30,30,55,55,30,30,80,80,80,55,30,30,55,55,80,30,80,30,55,30,30,80,80,55,55,30,30,30,80,30,30,80,80,55,30,30,55,80,55,55,55,30,80,30,55,30,80,55,30,30,80,80,80,55,30,30,55,80,30,55,30,80,30,55,30,80,30,30,55,55,30,30,80,80,80,55,30,30,55,80,30,55,30,80,30,55,30,80,30,30,55,55,30,30,80,80,80,55,30,30,55,80,30,55,30,80,30,55,30,80,30,30,55,55,30,30,80,80,80,55,30,30,55,55,80,30,80,30,55,30,30,80,80,55,55,30,30,30,80,30,30,80,80,55,30,30,55,80,55,55,55,30,80,30,55,30,80,55,30,30,80,80,80,55,30,30,55,80,30,55,30,80,30,55,30,80,30,30,55,55,30,30,80,80,80,55,30,30,55,80,30,55,30,80,30,55,30,80,30,30,55,55,30,30,80,80,80,55,30,30,55,55,80,30,80,30,55,30,30,80,80,55,55,30,30,30,80,80,80,55,30,30,55,80,30,55,30,80,30,55,30,80,30,30,55,55,30,30,80,30,30,80,80,55,30,30,55,80,55,55,30,80,30,55,30,80,55,30,30,80,80,80,55,30,30,55,55,80,30,80,30,55,30,30,80,80,55,55,30,30,30,80,80,80,55,30,30,55,55,80,30,80,30,55,30,30,80,80,55,55,30,30,30,80,30,30,80,80,55,30,30,55,80,55,55,55,30,80,30,55,30,80,55,30,30,80,30,30,80,80,55,30,30,55,80,55,55,55,30,80,30,55,30,80,55,30,30,80,80,80,55,30,30,55,55,80,30,80,30,55,30,30,80,80,55,55,30,30,30,80,80,80,55,30,30,55,80,30,55,30,80,30,55,30,80,30,30,55,55,30,30,80,80,80,55,30,30,55,80,30,55,30,80,30,55,30,80,30,30,55,55,30,30,80,80,80,55,30,30,55,55,80,30,80,30,55,30,30,80,80,55,55,30,30,30,80,80,80,55,30,30,55,80,30,55,30,80,30,55,30,80,30,30,55,55,30,30,80,80,80,55,30,30,55,55,80,30,80,30,55,30,30,80,80,55,55,30,30,30,80,80,80,55,30,30,55,55,80,30,80,30,55,30,30,80,80,55,55,30,30,30,80,80,80,55,30,30,55,80,30,55,30,80,30,55,30,80,30,30,55,55,30,30,80,30,30,55,55,55,30,30,30,80,80,55,30,30,55,80,55,55,55,30,80,30,55,30,80,55,30,30,80,80,80,55,30,30,55,80,30,55,30,80,30,55,30,80,30,30,55,55,30,30,80],\"xaxis\":\"x\",\"yaxis\":\"y\",\"type\":\"histogram\"}],                        {\"template\":{\"data\":{\"histogram2dcontour\":[{\"type\":\"histogram2dcontour\",\"colorbar\":{\"outlinewidth\":0,\"ticks\":\"\"},\"colorscale\":[[0.0,\"#0d0887\"],[0.1111111111111111,\"#46039f\"],[0.2222222222222222,\"#7201a8\"],[0.3333333333333333,\"#9c179e\"],[0.4444444444444444,\"#bd3786\"],[0.5555555555555556,\"#d8576b\"],[0.6666666666666666,\"#ed7953\"],[0.7777777777777778,\"#fb9f3a\"],[0.8888888888888888,\"#fdca26\"],[1.0,\"#f0f921\"]]}],\"choropleth\":[{\"type\":\"choropleth\",\"colorbar\":{\"outlinewidth\":0,\"ticks\":\"\"}}],\"histogram2d\":[{\"type\":\"histogram2d\",\"colorbar\":{\"outlinewidth\":0,\"ticks\":\"\"},\"colorscale\":[[0.0,\"#0d0887\"],[0.1111111111111111,\"#46039f\"],[0.2222222222222222,\"#7201a8\"],[0.3333333333333333,\"#9c179e\"],[0.4444444444444444,\"#bd3786\"],[0.5555555555555556,\"#d8576b\"],[0.6666666666666666,\"#ed7953\"],[0.7777777777777778,\"#fb9f3a\"],[0.8888888888888888,\"#fdca26\"],[1.0,\"#f0f921\"]]}],\"heatmap\":[{\"type\":\"heatmap\",\"colorbar\":{\"outlinewidth\":0,\"ticks\":\"\"},\"colorscale\":[[0.0,\"#0d0887\"],[0.1111111111111111,\"#46039f\"],[0.2222222222222222,\"#7201a8\"],[0.3333333333333333,\"#9c179e\"],[0.4444444444444444,\"#bd3786\"],[0.5555555555555556,\"#d8576b\"],[0.6666666666666666,\"#ed7953\"],[0.7777777777777778,\"#fb9f3a\"],[0.8888888888888888,\"#fdca26\"],[1.0,\"#f0f921\"]]}],\"heatmapgl\":[{\"type\":\"heatmapgl\",\"colorbar\":{\"outlinewidth\":0,\"ticks\":\"\"},\"colorscale\":[[0.0,\"#0d0887\"],[0.1111111111111111,\"#46039f\"],[0.2222222222222222,\"#7201a8\"],[0.3333333333333333,\"#9c179e\"],[0.4444444444444444,\"#bd3786\"],[0.5555555555555556,\"#d8576b\"],[0.6666666666666666,\"#ed7953\"],[0.7777777777777778,\"#fb9f3a\"],[0.8888888888888888,\"#fdca26\"],[1.0,\"#f0f921\"]]}],\"contourcarpet\":[{\"type\":\"contourcarpet\",\"colorbar\":{\"outlinewidth\":0,\"ticks\":\"\"}}],\"contour\":[{\"type\":\"contour\",\"colorbar\":{\"outlinewidth\":0,\"ticks\":\"\"},\"colorscale\":[[0.0,\"#0d0887\"],[0.1111111111111111,\"#46039f\"],[0.2222222222222222,\"#7201a8\"],[0.3333333333333333,\"#9c179e\"],[0.4444444444444444,\"#bd3786\"],[0.5555555555555556,\"#d8576b\"],[0.6666666666666666,\"#ed7953\"],[0.7777777777777778,\"#fb9f3a\"],[0.8888888888888888,\"#fdca26\"],[1.0,\"#f0f921\"]]}],\"surface\":[{\"type\":\"surface\",\"colorbar\":{\"outlinewidth\":0,\"ticks\":\"\"},\"colorscale\":[[0.0,\"#0d0887\"],[0.1111111111111111,\"#46039f\"],[0.2222222222222222,\"#7201a8\"],[0.3333333333333333,\"#9c179e\"],[0.4444444444444444,\"#bd3786\"],[0.5555555555555556,\"#d8576b\"],[0.6666666666666666,\"#ed7953\"],[0.7777777777777778,\"#fb9f3a\"],[0.8888888888888888,\"#fdca26\"],[1.0,\"#f0f921\"]]}],\"mesh3d\":[{\"type\":\"mesh3d\",\"colorbar\":{\"outlinewidth\":0,\"ticks\":\"\"}}],\"scatter\":[{\"fillpattern\":{\"fillmode\":\"overlay\",\"size\":10,\"solidity\":0.2},\"type\":\"scatter\"}],\"parcoords\":[{\"type\":\"parcoords\",\"line\":{\"colorbar\":{\"outlinewidth\":0,\"ticks\":\"\"}}}],\"scatterpolargl\":[{\"type\":\"scatterpolargl\",\"marker\":{\"colorbar\":{\"outlinewidth\":0,\"ticks\":\"\"}}}],\"bar\":[{\"error_x\":{\"color\":\"#2a3f5f\"},\"error_y\":{\"color\":\"#2a3f5f\"},\"marker\":{\"line\":{\"color\":\"#E5ECF6\",\"width\":0.5},\"pattern\":{\"fillmode\":\"overlay\",\"size\":10,\"solidity\":0.2}},\"type\":\"bar\"}],\"scattergeo\":[{\"type\":\"scattergeo\",\"marker\":{\"colorbar\":{\"outlinewidth\":0,\"ticks\":\"\"}}}],\"scatterpolar\":[{\"type\":\"scatterpolar\",\"marker\":{\"colorbar\":{\"outlinewidth\":0,\"ticks\":\"\"}}}],\"histogram\":[{\"marker\":{\"pattern\":{\"fillmode\":\"overlay\",\"size\":10,\"solidity\":0.2}},\"type\":\"histogram\"}],\"scattergl\":[{\"type\":\"scattergl\",\"marker\":{\"colorbar\":{\"outlinewidth\":0,\"ticks\":\"\"}}}],\"scatter3d\":[{\"type\":\"scatter3d\",\"line\":{\"colorbar\":{\"outlinewidth\":0,\"ticks\":\"\"}},\"marker\":{\"colorbar\":{\"outlinewidth\":0,\"ticks\":\"\"}}}],\"scattermapbox\":[{\"type\":\"scattermapbox\",\"marker\":{\"colorbar\":{\"outlinewidth\":0,\"ticks\":\"\"}}}],\"scatterternary\":[{\"type\":\"scatterternary\",\"marker\":{\"colorbar\":{\"outlinewidth\":0,\"ticks\":\"\"}}}],\"scattercarpet\":[{\"type\":\"scattercarpet\",\"marker\":{\"colorbar\":{\"outlinewidth\":0,\"ticks\":\"\"}}}],\"carpet\":[{\"aaxis\":{\"endlinecolor\":\"#2a3f5f\",\"gridcolor\":\"white\",\"linecolor\":\"white\",\"minorgridcolor\":\"white\",\"startlinecolor\":\"#2a3f5f\"},\"baxis\":{\"endlinecolor\":\"#2a3f5f\",\"gridcolor\":\"white\",\"linecolor\":\"white\",\"minorgridcolor\":\"white\",\"startlinecolor\":\"#2a3f5f\"},\"type\":\"carpet\"}],\"table\":[{\"cells\":{\"fill\":{\"color\":\"#EBF0F8\"},\"line\":{\"color\":\"white\"}},\"header\":{\"fill\":{\"color\":\"#C8D4E3\"},\"line\":{\"color\":\"white\"}},\"type\":\"table\"}],\"barpolar\":[{\"marker\":{\"line\":{\"color\":\"#E5ECF6\",\"width\":0.5},\"pattern\":{\"fillmode\":\"overlay\",\"size\":10,\"solidity\":0.2}},\"type\":\"barpolar\"}],\"pie\":[{\"automargin\":true,\"type\":\"pie\"}]},\"layout\":{\"autotypenumbers\":\"strict\",\"colorway\":[\"#636efa\",\"#EF553B\",\"#00cc96\",\"#ab63fa\",\"#FFA15A\",\"#19d3f3\",\"#FF6692\",\"#B6E880\",\"#FF97FF\",\"#FECB52\"],\"font\":{\"color\":\"#2a3f5f\"},\"hovermode\":\"closest\",\"hoverlabel\":{\"align\":\"left\"},\"paper_bgcolor\":\"white\",\"plot_bgcolor\":\"#E5ECF6\",\"polar\":{\"bgcolor\":\"#E5ECF6\",\"angularaxis\":{\"gridcolor\":\"white\",\"linecolor\":\"white\",\"ticks\":\"\"},\"radialaxis\":{\"gridcolor\":\"white\",\"linecolor\":\"white\",\"ticks\":\"\"}},\"ternary\":{\"bgcolor\":\"#E5ECF6\",\"aaxis\":{\"gridcolor\":\"white\",\"linecolor\":\"white\",\"ticks\":\"\"},\"baxis\":{\"gridcolor\":\"white\",\"linecolor\":\"white\",\"ticks\":\"\"},\"caxis\":{\"gridcolor\":\"white\",\"linecolor\":\"white\",\"ticks\":\"\"}},\"coloraxis\":{\"colorbar\":{\"outlinewidth\":0,\"ticks\":\"\"}},\"colorscale\":{\"sequential\":[[0.0,\"#0d0887\"],[0.1111111111111111,\"#46039f\"],[0.2222222222222222,\"#7201a8\"],[0.3333333333333333,\"#9c179e\"],[0.4444444444444444,\"#bd3786\"],[0.5555555555555556,\"#d8576b\"],[0.6666666666666666,\"#ed7953\"],[0.7777777777777778,\"#fb9f3a\"],[0.8888888888888888,\"#fdca26\"],[1.0,\"#f0f921\"]],\"sequentialminus\":[[0.0,\"#0d0887\"],[0.1111111111111111,\"#46039f\"],[0.2222222222222222,\"#7201a8\"],[0.3333333333333333,\"#9c179e\"],[0.4444444444444444,\"#bd3786\"],[0.5555555555555556,\"#d8576b\"],[0.6666666666666666,\"#ed7953\"],[0.7777777777777778,\"#fb9f3a\"],[0.8888888888888888,\"#fdca26\"],[1.0,\"#f0f921\"]],\"diverging\":[[0,\"#8e0152\"],[0.1,\"#c51b7d\"],[0.2,\"#de77ae\"],[0.3,\"#f1b6da\"],[0.4,\"#fde0ef\"],[0.5,\"#f7f7f7\"],[0.6,\"#e6f5d0\"],[0.7,\"#b8e186\"],[0.8,\"#7fbc41\"],[0.9,\"#4d9221\"],[1,\"#276419\"]]},\"xaxis\":{\"gridcolor\":\"white\",\"linecolor\":\"white\",\"ticks\":\"\",\"title\":{\"standoff\":15},\"zerolinecolor\":\"white\",\"automargin\":true,\"zerolinewidth\":2},\"yaxis\":{\"gridcolor\":\"white\",\"linecolor\":\"white\",\"ticks\":\"\",\"title\":{\"standoff\":15},\"zerolinecolor\":\"white\",\"automargin\":true,\"zerolinewidth\":2},\"scene\":{\"xaxis\":{\"backgroundcolor\":\"#E5ECF6\",\"gridcolor\":\"white\",\"linecolor\":\"white\",\"showbackground\":true,\"ticks\":\"\",\"zerolinecolor\":\"white\",\"gridwidth\":2},\"yaxis\":{\"backgroundcolor\":\"#E5ECF6\",\"gridcolor\":\"white\",\"linecolor\":\"white\",\"showbackground\":true,\"ticks\":\"\",\"zerolinecolor\":\"white\",\"gridwidth\":2},\"zaxis\":{\"backgroundcolor\":\"#E5ECF6\",\"gridcolor\":\"white\",\"linecolor\":\"white\",\"showbackground\":true,\"ticks\":\"\",\"zerolinecolor\":\"white\",\"gridwidth\":2}},\"shapedefaults\":{\"line\":{\"color\":\"#2a3f5f\"}},\"annotationdefaults\":{\"arrowcolor\":\"#2a3f5f\",\"arrowhead\":0,\"arrowwidth\":1},\"geo\":{\"bgcolor\":\"white\",\"landcolor\":\"#E5ECF6\",\"subunitcolor\":\"white\",\"showland\":true,\"showlakes\":true,\"lakecolor\":\"white\"},\"title\":{\"x\":0.05},\"mapbox\":{\"style\":\"light\"}}},\"xaxis\":{\"anchor\":\"y\",\"domain\":[0.0,1.0],\"title\":{\"text\":\"Temperature (\\u00baF)\"}},\"yaxis\":{\"anchor\":\"x\",\"domain\":[0.0,1.0],\"title\":{\"text\":\"count\"}},\"legend\":{\"tracegroupgap\":0},\"title\":{\"text\":\"Number of Interviews vs Temperature\"},\"barmode\":\"relative\"},                        {\"responsive\": true}                    ).then(function(){\n",
       "                            \n",
       "var gd = document.getElementById('99ae88f3-8090-4140-91d3-bb879904d8d1');\n",
       "var x = new MutationObserver(function (mutations, observer) {{\n",
       "        var display = window.getComputedStyle(gd).display;\n",
       "        if (!display || display === 'none') {{\n",
       "            console.log([gd, 'removed!']);\n",
       "            Plotly.purge(gd);\n",
       "            observer.disconnect();\n",
       "        }}\n",
       "}});\n",
       "\n",
       "// Listen for the removal of the full notebook cells\n",
       "var notebookContainer = gd.closest('#notebook-container');\n",
       "if (notebookContainer) {{\n",
       "    x.observe(notebookContainer, {childList: true});\n",
       "}}\n",
       "\n",
       "// Listen for the clearing of the current output cell\n",
       "var outputEl = gd.closest('.output');\n",
       "if (outputEl) {{\n",
       "    x.observe(outputEl, {childList: true});\n",
       "}}\n",
       "\n",
       "                        })                };                });            </script>        </div>"
      ]
     },
     "metadata": {},
     "output_type": "display_data"
    }
   ],
   "source": [
    "# Create a histogram of number of interviews vs temperature\n",
    "fig2 = px.histogram(data,\"temperature\", title=\"Number of Interviews vs Temperature\", \n",
    "                    labels={\"temperature\":\"Temperature (ºF)\"})\n",
    "\n",
    "# Show the plot\n",
    "fig2.show()"
   ]
  },
  {
   "cell_type": "markdown",
   "metadata": {},
   "source": [
    "#### Conclusions for this section\n",
    "- With this analysis, it can be observed that as the temperature increases, more coupons were delivered.\n",
    "- It is interesting to note that there are no data points for the temperature range of 60F to 80F."
   ]
  },
  {
   "cell_type": "markdown",
   "metadata": {},
   "source": [
    "### **Investigating the Bar Coupons**\n",
    "\n",
    "Now, we will lead you through an exploration of just the bar related coupons.  \n",
    "\n",
    "### 1. Create a new `DataFrame` that contains just the bar coupons.\n"
   ]
  },
  {
   "cell_type": "code",
   "execution_count": 149,
   "metadata": {},
   "outputs": [],
   "source": [
    "# Create a new DataFrame that contains just the bar coupons\n",
    "bar_df = data.query(\"coupon == 'Bar'\")"
   ]
  },
  {
   "cell_type": "code",
   "execution_count": 150,
   "metadata": {},
   "outputs": [
    {
     "data": {
      "text/html": [
       "<div>\n",
       "<style scoped>\n",
       "    .dataframe tbody tr th:only-of-type {\n",
       "        vertical-align: middle;\n",
       "    }\n",
       "\n",
       "    .dataframe tbody tr th {\n",
       "        vertical-align: top;\n",
       "    }\n",
       "\n",
       "    .dataframe thead th {\n",
       "        text-align: right;\n",
       "    }\n",
       "</style>\n",
       "<table border=\"1\" class=\"dataframe\">\n",
       "  <thead>\n",
       "    <tr style=\"text-align: right;\">\n",
       "      <th></th>\n",
       "      <th>destination</th>\n",
       "      <th>passanger</th>\n",
       "      <th>weather</th>\n",
       "      <th>temperature</th>\n",
       "      <th>time</th>\n",
       "      <th>coupon</th>\n",
       "      <th>expiration</th>\n",
       "      <th>gender</th>\n",
       "      <th>age</th>\n",
       "      <th>maritalStatus</th>\n",
       "      <th>...</th>\n",
       "      <th>CoffeeHouse</th>\n",
       "      <th>CarryAway</th>\n",
       "      <th>RestaurantLessThan20</th>\n",
       "      <th>Restaurant20To50</th>\n",
       "      <th>toCoupon_GEQ5min</th>\n",
       "      <th>toCoupon_GEQ15min</th>\n",
       "      <th>toCoupon_GEQ25min</th>\n",
       "      <th>direction_same</th>\n",
       "      <th>direction_opp</th>\n",
       "      <th>Y</th>\n",
       "    </tr>\n",
       "  </thead>\n",
       "  <tbody>\n",
       "    <tr>\n",
       "      <th>2019</th>\n",
       "      <td>No Urgent Place</td>\n",
       "      <td>Partner</td>\n",
       "      <td>Sunny</td>\n",
       "      <td>80</td>\n",
       "      <td>6PM</td>\n",
       "      <td>Bar</td>\n",
       "      <td>1d</td>\n",
       "      <td>Female</td>\n",
       "      <td>50</td>\n",
       "      <td>Married partner</td>\n",
       "      <td>...</td>\n",
       "      <td>never</td>\n",
       "      <td>gt8</td>\n",
       "      <td>4~8</td>\n",
       "      <td>1~3</td>\n",
       "      <td>1</td>\n",
       "      <td>1</td>\n",
       "      <td>0</td>\n",
       "      <td>0</td>\n",
       "      <td>1</td>\n",
       "      <td>1</td>\n",
       "    </tr>\n",
       "    <tr>\n",
       "      <th>6102</th>\n",
       "      <td>No Urgent Place</td>\n",
       "      <td>Partner</td>\n",
       "      <td>Sunny</td>\n",
       "      <td>80</td>\n",
       "      <td>6PM</td>\n",
       "      <td>Bar</td>\n",
       "      <td>2h</td>\n",
       "      <td>Male</td>\n",
       "      <td>21</td>\n",
       "      <td>Unmarried partner</td>\n",
       "      <td>...</td>\n",
       "      <td>less1</td>\n",
       "      <td>1~3</td>\n",
       "      <td>1~3</td>\n",
       "      <td>never</td>\n",
       "      <td>1</td>\n",
       "      <td>1</td>\n",
       "      <td>0</td>\n",
       "      <td>0</td>\n",
       "      <td>1</td>\n",
       "      <td>1</td>\n",
       "    </tr>\n",
       "    <tr>\n",
       "      <th>11759</th>\n",
       "      <td>No Urgent Place</td>\n",
       "      <td>Friend(s)</td>\n",
       "      <td>Sunny</td>\n",
       "      <td>55</td>\n",
       "      <td>10PM</td>\n",
       "      <td>Bar</td>\n",
       "      <td>2h</td>\n",
       "      <td>Female</td>\n",
       "      <td>26</td>\n",
       "      <td>Single</td>\n",
       "      <td>...</td>\n",
       "      <td>less1</td>\n",
       "      <td>less1</td>\n",
       "      <td>less1</td>\n",
       "      <td>less1</td>\n",
       "      <td>1</td>\n",
       "      <td>1</td>\n",
       "      <td>0</td>\n",
       "      <td>0</td>\n",
       "      <td>1</td>\n",
       "      <td>1</td>\n",
       "    </tr>\n",
       "    <tr>\n",
       "      <th>9679</th>\n",
       "      <td>Work</td>\n",
       "      <td>Alone</td>\n",
       "      <td>Sunny</td>\n",
       "      <td>30</td>\n",
       "      <td>7AM</td>\n",
       "      <td>Bar</td>\n",
       "      <td>1d</td>\n",
       "      <td>Male</td>\n",
       "      <td>21</td>\n",
       "      <td>Single</td>\n",
       "      <td>...</td>\n",
       "      <td>never</td>\n",
       "      <td>4~8</td>\n",
       "      <td>1~3</td>\n",
       "      <td>1~3</td>\n",
       "      <td>1</td>\n",
       "      <td>1</td>\n",
       "      <td>0</td>\n",
       "      <td>1</td>\n",
       "      <td>0</td>\n",
       "      <td>0</td>\n",
       "    </tr>\n",
       "    <tr>\n",
       "      <th>9008</th>\n",
       "      <td>No Urgent Place</td>\n",
       "      <td>Alone</td>\n",
       "      <td>Snowy</td>\n",
       "      <td>30</td>\n",
       "      <td>2PM</td>\n",
       "      <td>Bar</td>\n",
       "      <td>1d</td>\n",
       "      <td>Male</td>\n",
       "      <td>21</td>\n",
       "      <td>Single</td>\n",
       "      <td>...</td>\n",
       "      <td>gt8</td>\n",
       "      <td>1~3</td>\n",
       "      <td>1~3</td>\n",
       "      <td>less1</td>\n",
       "      <td>1</td>\n",
       "      <td>0</td>\n",
       "      <td>0</td>\n",
       "      <td>0</td>\n",
       "      <td>1</td>\n",
       "      <td>0</td>\n",
       "    </tr>\n",
       "  </tbody>\n",
       "</table>\n",
       "<p>5 rows × 25 columns</p>\n",
       "</div>"
      ],
      "text/plain": [
       "           destination  passanger weather  temperature  time coupon  \\\n",
       "2019   No Urgent Place    Partner   Sunny           80   6PM    Bar   \n",
       "6102   No Urgent Place    Partner   Sunny           80   6PM    Bar   \n",
       "11759  No Urgent Place  Friend(s)   Sunny           55  10PM    Bar   \n",
       "9679              Work      Alone   Sunny           30   7AM    Bar   \n",
       "9008   No Urgent Place      Alone   Snowy           30   2PM    Bar   \n",
       "\n",
       "      expiration  gender  age      maritalStatus  ...  CoffeeHouse CarryAway  \\\n",
       "2019          1d  Female   50    Married partner  ...        never       gt8   \n",
       "6102          2h    Male   21  Unmarried partner  ...        less1       1~3   \n",
       "11759         2h  Female   26             Single  ...        less1     less1   \n",
       "9679          1d    Male   21             Single  ...        never       4~8   \n",
       "9008          1d    Male   21             Single  ...          gt8       1~3   \n",
       "\n",
       "      RestaurantLessThan20 Restaurant20To50 toCoupon_GEQ5min  \\\n",
       "2019                   4~8              1~3                1   \n",
       "6102                   1~3            never                1   \n",
       "11759                less1            less1                1   \n",
       "9679                   1~3              1~3                1   \n",
       "9008                   1~3            less1                1   \n",
       "\n",
       "      toCoupon_GEQ15min toCoupon_GEQ25min direction_same direction_opp  Y  \n",
       "2019                  1                 0              0             1  1  \n",
       "6102                  1                 0              0             1  1  \n",
       "11759                 1                 0              0             1  1  \n",
       "9679                  1                 0              1             0  0  \n",
       "9008                  0                 0              0             1  0  \n",
       "\n",
       "[5 rows x 25 columns]"
      ]
     },
     "execution_count": 150,
     "metadata": {},
     "output_type": "execute_result"
    }
   ],
   "source": [
    "# Display a sample of the data\n",
    "bar_df.sample(5)"
   ]
  },
  {
   "cell_type": "markdown",
   "metadata": {},
   "source": [
    "### 2. What proportion of bar coupons were accepted?\n"
   ]
  },
  {
   "cell_type": "code",
   "execution_count": 151,
   "metadata": {},
   "outputs": [
    {
     "name": "stdout",
     "output_type": "stream",
     "text": [
      "41.19% of individuals responded that they would accept the coupon for bars.\n"
     ]
    }
   ],
   "source": [
    "# Calculate the percentage of bar coupons that were accepted\n",
    "percentage_accept_bar = (bar_df[\"Y\"].sum()/bar_df.shape[0])*100\n",
    "\n",
    "# Print the percentage with a message\n",
    "print(\"{:.2f}% of individuals responded that they would accept the coupon for bars.\".format(percentage_accept_bar))"
   ]
  },
  {
   "cell_type": "markdown",
   "metadata": {},
   "source": [
    "#### Conclusions for this section\n",
    "- Just under half of the customers would accept the coupons for bars."
   ]
  },
  {
   "cell_type": "markdown",
   "metadata": {},
   "source": [
    "### 3. Compare the acceptance rate between those who went to a bar 3 or fewer times a month to those who went more.\n"
   ]
  },
  {
   "cell_type": "code",
   "execution_count": 152,
   "metadata": {},
   "outputs": [],
   "source": [
    "# Create two separate DataFrames based on bar visit frequency\n",
    "less_3 = bar_df.query(\"Bar == 'never' | Bar == 'less1' | Bar == '1~3'\")\n",
    "more_3 = bar_df.query(\"Bar == '4~8' | Bar == 'gt8'\")"
   ]
  },
  {
   "cell_type": "code",
   "execution_count": 153,
   "metadata": {},
   "outputs": [],
   "source": [
    "# Calculate the acceptance rate for each group.\n",
    "less_3_rate = less_3[\"Y\"].mean()*100\n",
    "more_3_rate = more_3[\"Y\"].mean()*100"
   ]
  },
  {
   "cell_type": "code",
   "execution_count": 154,
   "metadata": {},
   "outputs": [
    {
     "name": "stdout",
     "output_type": "stream",
     "text": [
      "- Acceptance Rate for 3 or Fewer Bar Visits:\n",
      "  Total data: 1720\n",
      "  Acceptance: 641\n",
      "  Rate: 37.26%\n",
      "\n",
      "- Acceptance Rate for More than 3 Bar Visits:\n",
      "  Total data: 193\n",
      "  Acceptance: 147\n",
      "  Rate: 76.16%\n",
      "\n"
     ]
    }
   ],
   "source": [
    "# Print the results\n",
    "print(\"- Acceptance Rate for 3 or Fewer Bar Visits:\")\n",
    "print(\"  Total data: \" + str(less_3[\"Y\"].shape[0]))\n",
    "print(\"  Acceptance: \" + str(less_3[\"Y\"].sum()))\n",
    "print(\"  Rate: \" + str(less_3_rate)[:5] + \"%\\n\")\n",
    "\n",
    "print(\"- Acceptance Rate for More than 3 Bar Visits:\")\n",
    "print(\"  Total data: \" + str(more_3[\"Y\"].shape[0]))\n",
    "print(\"  Acceptance: \" + str(more_3[\"Y\"].sum()))\n",
    "print(\"  Rate: \" + str(more_3_rate)[:5] + \"%\\n\")"
   ]
  },
  {
   "cell_type": "markdown",
   "metadata": {},
   "source": [
    "#### Conclusions for this section\n",
    "- In the histogram, we can see that there are many more coupons delivered and accepted by people who go to bars 3 times or less per month.\n",
    "- A deeper analysis reveals that there is a higher acceptance rate among people who tend to go to bars more than 3 times a moth."
   ]
  },
  {
   "cell_type": "markdown",
   "metadata": {},
   "source": [
    "### 4. Compare the acceptance rate between drivers who go to a bar more than once a month and are over the age of 25 to the all others.  Is there a difference?\n"
   ]
  },
  {
   "cell_type": "code",
   "execution_count": 155,
   "metadata": {
    "scrolled": false
   },
   "outputs": [],
   "source": [
    "# Create two separate DataFrames based on conditions\n",
    "more_1_age_25 = bar_df.query(\"(Bar == '1~3' | Bar == '4~8' | Bar == 'gt8') & age > 25\")\n",
    "not_more_1_age_2 = bar_df.query(\"not((Bar == '1~3' | Bar == '4~8' | Bar == 'gt8') & age > 25)\")"
   ]
  },
  {
   "cell_type": "code",
   "execution_count": 156,
   "metadata": {},
   "outputs": [],
   "source": [
    "# Calculate the acceptance rate for each group\n",
    "more_1_age_25_rate = more_1_age_25[\"Y\"].mean()*100\n",
    "not_more_1_age_2_rate = not_more_1_age_2[\"Y\"].mean()*100"
   ]
  },
  {
   "cell_type": "code",
   "execution_count": 157,
   "metadata": {},
   "outputs": [
    {
     "name": "stdout",
     "output_type": "stream",
     "text": [
      "- Acceptance Rate for Customers who go to a bar more than once a month and are above the age of 25:\n",
      "  Total data: 403\n",
      "  Acceptance: 278\n",
      "  Rate: 68.98%\n",
      "\n",
      "- Acceptance Rate for Other Customers who do not meet this condition:\n",
      "  Total data: 1510\n",
      "  Acceptance: 510\n",
      "  Rate: 33.77%\n",
      "\n"
     ]
    }
   ],
   "source": [
    "# Print the results\n",
    "print(\"- Acceptance Rate for Customers who go to a bar more than once a month and are above the age of 25:\")\n",
    "print(\"  Total data: \" + str(more_1_age_25[\"Y\"].shape[0]))\n",
    "print(\"  Acceptance: \" + str(more_1_age_25[\"Y\"].sum()))\n",
    "print(\"  Rate: \" + str(more_1_age_25_rate)[:5] + \"%\\n\")\n",
    "\n",
    "print(\"- Acceptance Rate for Other Customers who do not meet this condition:\")\n",
    "print(\"  Total data: \" + str(not_more_1_age_2[\"Y\"].shape[0]))\n",
    "print(\"  Acceptance: \" + str(not_more_1_age_2[\"Y\"].sum()))\n",
    "print(\"  Rate: \" + str(not_more_1_age_2_rate)[:5] + \"%\\n\")\n"
   ]
  },
  {
   "cell_type": "markdown",
   "metadata": {},
   "source": [
    "#### Conclusions for this section\n",
    "- It can be observed that for people who are above the age of 25 and go to bars more than once a month, there is a higher acceptance of these coupons."
   ]
  },
  {
   "cell_type": "markdown",
   "metadata": {},
   "source": [
    "### 5. Use the same process to compare the acceptance rate between drivers who go to bars more than once a month and had passengers that were not a kid and had occupations other than farming, fishing, or forestry. \n"
   ]
  },
  {
   "cell_type": "code",
   "execution_count": 158,
   "metadata": {},
   "outputs": [],
   "source": [
    "# Create two separate DataFrames based on conditions\n",
    "more_1_passenger_18_nfa_nfi_nfo = bar_df.query(\"(passanger != 'Kid(s)' & passanger != 'Alone' & (Bar == '1~3' | Bar == '4~8' | Bar == 'gt8') & occupation != 'Farming Fishing & Forestry')\")\n",
    "not_more_1_passenger_18_nfa_nfi_nfo = bar_df.query(\"not(passanger != 'Kid(s)' & passanger != 'Alone' & (Bar == '1~3' | Bar == '4~8' | Bar == 'gt8') & occupation != 'Farming Fishing & Forestry')\")"
   ]
  },
  {
   "cell_type": "code",
   "execution_count": 159,
   "metadata": {},
   "outputs": [],
   "source": [
    "# Calculate the acceptance rate for each group\n",
    "more_1_passenger_18_nfa_nfi_nfo_rate = more_1_passenger_18_nfa_nfi_nfo[\"Y\"].mean()*100\n",
    "not_more_1_passenger_18_nfa_nfi_nfo_rate = not_more_1_passenger_18_nfa_nfi_nfo[\"Y\"].mean()*100"
   ]
  },
  {
   "cell_type": "code",
   "execution_count": 160,
   "metadata": {},
   "outputs": [
    {
     "name": "stdout",
     "output_type": "stream",
     "text": [
      "- Acceptance Rate for Customers who go to bars more than once a month, have passengers who are not children, and are not engaged in farming, fishing, or forestry:\n",
      "  Total data: 189\n",
      "  Acceptance: 135\n",
      "  Rate: 71.42%\n",
      "\n",
      "- Acceptance Rate for Other Customers who do not meet this condition:\n",
      "  Total data: 1724\n",
      "  Acceptance: 653\n",
      "  Rate: 37.87%\n",
      "\n"
     ]
    }
   ],
   "source": [
    "# Print the results\n",
    "print(\"- Acceptance Rate for Customers who go to bars more than once a month, have passengers who are not children, and are not engaged in farming, fishing, or forestry:\")\n",
    "print(\"  Total data: \" + str(more_1_passenger_18_nfa_nfi_nfo[\"Y\"].shape[0]))\n",
    "print(\"  Acceptance: \" + str(more_1_passenger_18_nfa_nfi_nfo[\"Y\"].sum()))\n",
    "print(\"  Rate: \" + str(more_1_passenger_18_nfa_nfi_nfo_rate)[:5] + \"%\\n\")\n",
    "\n",
    "print(\"- Acceptance Rate for Other Customers who do not meet this condition:\")\n",
    "print(\"  Total data: \" + str(not_more_1_passenger_18_nfa_nfi_nfo[\"Y\"].shape[0]))\n",
    "print(\"  Acceptance: \" + str(not_more_1_passenger_18_nfa_nfi_nfo[\"Y\"].sum()))\n",
    "print(\"  Rate: \" + str(not_more_1_passenger_18_nfa_nfi_nfo_rate)[:5] + \"%\\n\")"
   ]
  },
  {
   "cell_type": "markdown",
   "metadata": {},
   "source": [
    "#### Conclusions for this section\n",
    "- We can see a clear trend in the filtered group where there is a much higher acceptance."
   ]
  },
  {
   "cell_type": "markdown",
   "metadata": {},
   "source": [
    "### 6. Compare the acceptance rates between those drivers who:\n",
    "\n",
    "- go to bars more than once a month, had passengers that were not a kid, and were not widowed *OR*"
   ]
  },
  {
   "cell_type": "code",
   "execution_count": 161,
   "metadata": {
    "scrolled": false
   },
   "outputs": [],
   "source": [
    "# Create two separate DataFrames based on conditions\n",
    "more_1_no_kid_no_windo = bar_df.query(\"(passanger != 'Kid(s)' & passanger != 'Alone' & (Bar == '1~3' | Bar == '4~8' | Bar == 'gt8') & maritalStatus != 'Widowed')\")\n",
    "not_more_1_no_kid_no_windo = bar_df.query(\"not(passanger != 'Kid(s)' & passanger != 'Alone' & (Bar == '1~3' | Bar == '4~8' | Bar == 'gt8') & maritalStatus != 'Widowed')\")"
   ]
  },
  {
   "cell_type": "code",
   "execution_count": 162,
   "metadata": {},
   "outputs": [],
   "source": [
    "# Calculate the acceptance rate for each group\n",
    "more_1_no_kid_no_windo_rate = more_1_no_kid_no_windo[\"Y\"].mean()*100\n",
    "not_more_1_no_kid_no_windo_rate = not_more_1_no_kid_no_windo[\"Y\"].mean()*100\n"
   ]
  },
  {
   "cell_type": "code",
   "execution_count": 163,
   "metadata": {},
   "outputs": [
    {
     "name": "stdout",
     "output_type": "stream",
     "text": [
      "- Acceptance Rate for Drivers who go to bars more than once a month, had passengers that were not a kid, and were not widowed:\n",
      "  Total data: 189\n",
      "  Acceptance: 135\n",
      "  Rate: 71.42%\n",
      "\n",
      "- Acceptance Rate for Other Drivers who do not meet this condition:\n",
      "  Total data: 1724\n",
      "  Acceptance: 653\n",
      "  Rate: 37.87%\n",
      "\n"
     ]
    }
   ],
   "source": [
    "# Print the results\n",
    "print(\"- Acceptance Rate for Drivers who go to bars more than once a month, had passengers that were not a kid, and were not widowed:\")\n",
    "print(\"  Total data: \" + str(more_1_no_kid_no_windo[\"Y\"].shape[0]))\n",
    "print(\"  Acceptance: \" + str(more_1_no_kid_no_windo[\"Y\"].sum()))\n",
    "print(\"  Rate: \" + str(more_1_no_kid_no_windo_rate)[:5] + \"%\\n\")\n",
    "\n",
    "print(\"- Acceptance Rate for Other Drivers who do not meet this condition:\")\n",
    "print(\"  Total data: \" + str(not_more_1_no_kid_no_windo[\"Y\"].shape[0]))\n",
    "print(\"  Acceptance: \" + str(not_more_1_no_kid_no_windo[\"Y\"].sum()))\n",
    "print(\"  Rate: \" + str(not_more_1_no_kid_no_windo_rate)[:5] + \"%\\n\")"
   ]
  },
  {
   "cell_type": "markdown",
   "metadata": {},
   "source": [
    "- go to bars more than once a month and are under the age of 30 OR"
   ]
  },
  {
   "cell_type": "code",
   "execution_count": 164,
   "metadata": {},
   "outputs": [],
   "source": [
    "# Create two separate DataFrames based on conditions\n",
    "more_1_under_30 = bar_df.query(\"(Bar == '1~3' | Bar == '4~8' | Bar == 'gt8') & age < 30\")\n",
    "not_more_1_under_30 = bar_df.query(\"not((Bar == '1~3' | Bar == '4~8' | Bar == 'gt8') & age < 30)\")"
   ]
  },
  {
   "cell_type": "code",
   "execution_count": 165,
   "metadata": {},
   "outputs": [],
   "source": [
    "# Calculate the acceptance rate for each group\n",
    "more_1_under_30_rate = more_1_under_30[\"Y\"].mean()*100\n",
    "not_more_1_under_30_rate = not_more_1_under_30[\"Y\"].mean()*100"
   ]
  },
  {
   "cell_type": "code",
   "execution_count": 166,
   "metadata": {},
   "outputs": [
    {
     "name": "stdout",
     "output_type": "stream",
     "text": [
      "- Acceptance Rate for Drivers who go to bars more than once a month and are under the age of 30:\n",
      "  Total data: 328\n",
      "  Acceptance: 236\n",
      "  Rate: 71.95%\n",
      "\n",
      "- Acceptance Rate for Other Drivers who do not meet this condition:\n",
      "  Total data: 1585\n",
      "  Acceptance: 552\n",
      "  Rate: 34.82%\n",
      "\n"
     ]
    }
   ],
   "source": [
    "# Print the results\n",
    "print(\"- Acceptance Rate for Drivers who go to bars more than once a month and are under the age of 30:\")\n",
    "print(\"  Total data: \" + str(more_1_under_30[\"Y\"].shape[0]))\n",
    "print(\"  Acceptance: \" + str(more_1_under_30[\"Y\"].sum()))\n",
    "print(\"  Rate: \" + str(more_1_under_30_rate)[:5] + \"%\\n\")\n",
    "\n",
    "print(\"- Acceptance Rate for Other Drivers who do not meet this condition:\")\n",
    "print(\"  Total data: \" + str(not_more_1_under_30[\"Y\"].shape[0]))\n",
    "print(\"  Acceptance: \" + str(not_more_1_under_30[\"Y\"].sum()))\n",
    "print(\"  Rate: \" + str(not_more_1_under_30_rate)[:5] + \"%\\n\")"
   ]
  },
  {
   "cell_type": "markdown",
   "metadata": {},
   "source": [
    "- go to cheap restaurants more than 4 times a month and income is less than 50K. "
   ]
  },
  {
   "cell_type": "code",
   "execution_count": 167,
   "metadata": {
    "scrolled": false
   },
   "outputs": [],
   "source": [
    "# Create two separate DataFrames based on conditions\n",
    "more_4_under_50 = bar_df.query(\"((income == 'Less than $12500' | income == '$25000 - $37499' | income == '$37500 - $49999' | income == '$12500 - $24999') & (RestaurantLessThan20 == '4~8' | RestaurantLessThan20 == 'gt8'))\")\n",
    "not_more_4_under_50 = bar_df.query(\"not((income == 'Less than $12500' | income == '$25000 - $37499' | income == '$37500 - $49999' | income == '$12500 - $24999') & (RestaurantLessThan20 == '4~8' | RestaurantLessThan20 == 'gt8'))\")"
   ]
  },
  {
   "cell_type": "code",
   "execution_count": 168,
   "metadata": {},
   "outputs": [],
   "source": [
    "# Calculate the acceptance rate for each group\n",
    "more_4_under_50_rate = more_4_under_50[\"Y\"].mean()*100\n",
    "not_more_4_under_50_rate = not_more_4_under_50[\"Y\"].mean()*100"
   ]
  },
  {
   "cell_type": "code",
   "execution_count": 169,
   "metadata": {},
   "outputs": [
    {
     "name": "stdout",
     "output_type": "stream",
     "text": [
      "- Acceptance Rate for Drivers who go to cheap restaurants more than 4 times a month and have income less than 50K:\n",
      " Total data: 333\n",
      " Acceptance: 152\n",
      " Rate: 45.64%\n",
      "\n",
      "- Acceptance Rate for Other Drivers who do not meet this condition:\n",
      " Total data: 1580\n",
      " Acceptance: 636\n",
      " Rate: 40.25%\n",
      "\n"
     ]
    }
   ],
   "source": [
    "\n",
    "# Print the results\n",
    "print(\"- Acceptance Rate for Drivers who go to cheap restaurants more than 4 times a month and have income less than 50K:\")\n",
    "print(\" Total data: \" + str(more_4_under_50[\"Y\"].shape[0]))\n",
    "print(\" Acceptance: \" + str(more_4_under_50[\"Y\"].sum()))\n",
    "print(\" Rate: \" + str(more_4_under_50_rate)[:5] + \"%\\n\")\n",
    "\n",
    "print(\"- Acceptance Rate for Other Drivers who do not meet this condition:\")\n",
    "print(\" Total data: \" + str(not_more_4_under_50[\"Y\"].shape[0]))\n",
    "print(\" Acceptance: \" + str(not_more_4_under_50[\"Y\"].sum()))\n",
    "print(\" Rate: \" + str(not_more_4_under_50_rate)[:5] + \"%\\n\")"
   ]
  },
  {
   "cell_type": "markdown",
   "metadata": {},
   "source": [
    "### 7.  Based on these observations, what do you hypothesize about drivers who accepted the bar coupons?"
   ]
  },
  {
   "cell_type": "markdown",
   "metadata": {},
   "source": [
    "Variables such as Farming Fishing & Forestry, Widowed, income, and the frequency of going to cheap restaurants did not have a significant weight in establishing a correlation with the acceptance of bar coupons. However, the frequency of going to the bar, age, and type of companion showed a strong correlation. Based on the analysis of passengers who accepted the bar coupon, it can be concluded that they are regular visitors (going more than 4 times per month) to bars, do not go with children, and are under 30 years old."
   ]
  },
  {
   "cell_type": "markdown",
   "metadata": {},
   "source": [
    "### Independent Investigation\n",
    "\n",
    "Using the bar coupon example as motivation, you are to explore one of the other coupon groups and try to determine the characteristics of passengers who accept the coupons.  "
   ]
  },
  {
   "cell_type": "markdown",
   "metadata": {},
   "source": [
    "# Investigation"
   ]
  },
  {
   "cell_type": "markdown",
   "metadata": {},
   "source": [
    "In this research, I will analyze the other 4 types of coupons independently, addressing each one with the most relevant correlations."
   ]
  },
  {
   "cell_type": "markdown",
   "metadata": {},
   "source": [
    "### Establishing correlations.\n",
    "First and foremost, some correlations are established between the numerical data in the dataset. However, due to the data being highly discrete, finding a trend between two variables may not be intuitive."
   ]
  },
  {
   "cell_type": "code",
   "execution_count": 170,
   "metadata": {},
   "outputs": [],
   "source": [
    "# Select the numeric columns for analysis\n",
    "numeric_columns = [\"temperature\",\"age\",\"has_children\",\"toCoupon_GEQ15min\",\"toCoupon_GEQ25min\",\"direction_same\",\"direction_opp\",\"Y\"]"
   ]
  },
  {
   "cell_type": "code",
   "execution_count": 171,
   "metadata": {},
   "outputs": [],
   "source": [
    "# Calculate the correlation matrix\n",
    "corr_matrix = data.corr(numeric_only=True)"
   ]
  },
  {
   "cell_type": "code",
   "execution_count": 172,
   "metadata": {
    "scrolled": false
   },
   "outputs": [
    {
     "data": {
      "text/plain": [
       "<Axes: >"
      ]
     },
     "execution_count": 172,
     "metadata": {},
     "output_type": "execute_result"
    },
    {
     "data": {
      "image/png": "[encoded data removed]",
      "text/plain": [
       "<Figure size 640x480 with 2 Axes>"
      ]
     },
     "metadata": {},
     "output_type": "display_data"
    }
   ],
   "source": [
    "# Generate the correlation heatmap\n",
    "sns.heatmap(corr_matrix, cmap=\"YlGnBu\", annot=True)"
   ]
  },
  {
   "cell_type": "markdown",
   "metadata": {},
   "source": [
    "#### Conclusions for this section\n",
    "In these graphs, we can see that there are very few notable correlations. The only correlations that we can initially identify are the following:\n",
    "- The variable \"toCoupon_GEQ25min\" is directly proportional to \"toCoupon_GEO15min\".\n",
    "- The variable \"direction_opp\" is directly proportional to \"toCoupon_GEO15min\".\n",
    "- The variable \"has_children\" is directly proportional to \"age\".\n",
    "- Obviously, \"direction_same\" and \"direction_opp\" will present opposite data because they are antonyms."
   ]
  },
  {
   "cell_type": "markdown",
   "metadata": {},
   "source": [
    "## Analyzing other variables.\n",
    "Here we will analyze some variables globally to form a broader understanding of recurring behaviors for all the coupons."
   ]
  },
  {
   "cell_type": "markdown",
   "metadata": {},
   "source": [
    "### Weather"
   ]
  },
  {
   "cell_type": "code",
   "execution_count": 173,
   "metadata": {
    "scrolled": false
   },
   "outputs": [],
   "source": [
    "# Group data by weather\n",
    "weather_count = data.groupby([\"weather\",\"Y\"]).size().reset_index(name = \"count\")"
   ]
  },
  {
   "cell_type": "code",
   "execution_count": 174,
   "metadata": {},
   "outputs": [
    {
     "data": {
      "application/vnd.plotly.v1+json": {
       "config": {
        "plotlyServerURL": "https://plot.ly"
       },
       "data": [
        {
         "alignmentgroup": "True",
         "bingroup": "x",
         "histfunc": "sum",
         "hovertemplate": "Y=0<br>Weather=%{x}<br>sum of count=%{y}<extra></extra>",
         "legendgroup": "0",
         "marker": {
          "color": "#636efa",
          "pattern": {
           "shape": ""
          }
         },
         "name": "0",
         "offsetgroup": "0",
         "orientation": "v",
         "showlegend": true,
         "type": "histogram",
         "x": [
          "Rainy",
          "Snowy",
          "Sunny"
         ],
         "xaxis": "x",
         "y": [
          617,
          697,
          3888
         ],
         "yaxis": "y"
        },
        {
         "alignmentgroup": "True",
         "bingroup": "x",
         "histfunc": "sum",
         "hovertemplate": "Y=1<br>Weather=%{x}<br>sum of count=%{y}<extra></extra>",
         "legendgroup": "1",
         "marker": {
          "color": "#EF553B",
          "pattern": {
           "shape": ""
          }
         },
         "name": "1",
         "offsetgroup": "1",
         "orientation": "v",
         "showlegend": true,
         "type": "histogram",
         "x": [
          "Rainy",
          "Snowy",
          "Sunny"
         ],
         "xaxis": "x",
         "y": [
          530,
          634,
          5713
         ],
         "yaxis": "y"
        }
       ],
       "layout": {
        "barmode": "group",
        "legend": {
         "title": {
          "text": "Y"
         },
         "tracegroupgap": 0
        },
        "template": {
         "data": {
          "bar": [
           {
            "error_x": {
             "color": "#2a3f5f"
            },
            "error_y": {
             "color": "#2a3f5f"
            },
            "marker": {
             "line": {
              "color": "#E5ECF6",
              "width": 0.5
             },
             "pattern": {
              "fillmode": "overlay",
              "size": 10,
              "solidity": 0.2
             }
            },
            "type": "bar"
           }
          ],
          "barpolar": [
           {
            "marker": {
             "line": {
              "color": "#E5ECF6",
              "width": 0.5
             },
             "pattern": {
              "fillmode": "overlay",
              "size": 10,
              "solidity": 0.2
             }
            },
            "type": "barpolar"
           }
          ],
          "carpet": [
           {
            "aaxis": {
             "endlinecolor": "#2a3f5f",
             "gridcolor": "white",
             "linecolor": "white",
             "minorgridcolor": "white",
             "startlinecolor": "#2a3f5f"
            },
            "baxis": {
             "endlinecolor": "#2a3f5f",
             "gridcolor": "white",
             "linecolor": "white",
             "minorgridcolor": "white",
             "startlinecolor": "#2a3f5f"
            },
            "type": "carpet"
           }
          ],
          "choropleth": [
           {
            "colorbar": {
             "outlinewidth": 0,
             "ticks": ""
            },
            "type": "choropleth"
           }
          ],
          "contour": [
           {
            "colorbar": {
             "outlinewidth": 0,
             "ticks": ""
            },
            "colorscale": [
             [
              0,
              "#0d0887"
             ],
             [
              0.1111111111111111,
              "#46039f"
             ],
             [
              0.2222222222222222,
              "#7201a8"
             ],
             [
              0.3333333333333333,
              "#9c179e"
             ],
             [
              0.4444444444444444,
              "#bd3786"
             ],
             [
              0.5555555555555556,
              "#d8576b"
             ],
             [
              0.6666666666666666,
              "#ed7953"
             ],
             [
              0.7777777777777778,
              "#fb9f3a"
             ],
             [
              0.8888888888888888,
              "#fdca26"
             ],
             [
              1,
              "#f0f921"
             ]
            ],
            "type": "contour"
           }
          ],
          "contourcarpet": [
           {
            "colorbar": {
             "outlinewidth": 0,
             "ticks": ""
            },
            "type": "contourcarpet"
           }
          ],
          "heatmap": [
           {
            "colorbar": {
             "outlinewidth": 0,
             "ticks": ""
            },
            "colorscale": [
             [
              0,
              "#0d0887"
             ],
             [
              0.1111111111111111,
              "#46039f"
             ],
             [
              0.2222222222222222,
              "#7201a8"
             ],
             [
              0.3333333333333333,
              "#9c179e"
             ],
             [
              0.4444444444444444,
              "#bd3786"
             ],
             [
              0.5555555555555556,
              "#d8576b"
             ],
             [
              0.6666666666666666,
              "#ed7953"
             ],
             [
              0.7777777777777778,
              "#fb9f3a"
             ],
             [
              0.8888888888888888,
              "#fdca26"
             ],
             [
              1,
              "#f0f921"
             ]
            ],
            "type": "heatmap"
           }
          ],
          "heatmapgl": [
           {
            "colorbar": {
             "outlinewidth": 0,
             "ticks": ""
            },
            "colorscale": [
             [
              0,
              "#0d0887"
             ],
             [
              0.1111111111111111,
              "#46039f"
             ],
             [
              0.2222222222222222,
              "#7201a8"
             ],
             [
              0.3333333333333333,
              "#9c179e"
             ],
             [
              0.4444444444444444,
              "#bd3786"
             ],
             [
              0.5555555555555556,
              "#d8576b"
             ],
             [
              0.6666666666666666,
              "#ed7953"
             ],
             [
              0.7777777777777778,
              "#fb9f3a"
             ],
             [
              0.8888888888888888,
              "#fdca26"
             ],
             [
              1,
              "#f0f921"
             ]
            ],
            "type": "heatmapgl"
           }
          ],
          "histogram": [
           {
            "marker": {
             "pattern": {
              "fillmode": "overlay",
              "size": 10,
              "solidity": 0.2
             }
            },
            "type": "histogram"
           }
          ],
          "histogram2d": [
           {
            "colorbar": {
             "outlinewidth": 0,
             "ticks": ""
            },
            "colorscale": [
             [
              0,
              "#0d0887"
             ],
             [
              0.1111111111111111,
              "#46039f"
             ],
             [
              0.2222222222222222,
              "#7201a8"
             ],
             [
              0.3333333333333333,
              "#9c179e"
             ],
             [
              0.4444444444444444,
              "#bd3786"
             ],
             [
              0.5555555555555556,
              "#d8576b"
             ],
             [
              0.6666666666666666,
              "#ed7953"
             ],
             [
              0.7777777777777778,
              "#fb9f3a"
             ],
             [
              0.8888888888888888,
              "#fdca26"
             ],
             [
              1,
              "#f0f921"
             ]
            ],
            "type": "histogram2d"
           }
          ],
          "histogram2dcontour": [
           {
            "colorbar": {
             "outlinewidth": 0,
             "ticks": ""
            },
            "colorscale": [
             [
              0,
              "#0d0887"
             ],
             [
              0.1111111111111111,
              "#46039f"
             ],
             [
              0.2222222222222222,
              "#7201a8"
             ],
             [
              0.3333333333333333,
              "#9c179e"
             ],
             [
              0.4444444444444444,
              "#bd3786"
             ],
             [
              0.5555555555555556,
              "#d8576b"
             ],
             [
              0.6666666666666666,
              "#ed7953"
             ],
             [
              0.7777777777777778,
              "#fb9f3a"
             ],
             [
              0.8888888888888888,
              "#fdca26"
             ],
             [
              1,
              "#f0f921"
             ]
            ],
            "type": "histogram2dcontour"
           }
          ],
          "mesh3d": [
           {
            "colorbar": {
             "outlinewidth": 0,
             "ticks": ""
            },
            "type": "mesh3d"
           }
          ],
          "parcoords": [
           {
            "line": {
             "colorbar": {
              "outlinewidth": 0,
              "ticks": ""
             }
            },
            "type": "parcoords"
           }
          ],
          "pie": [
           {
            "automargin": true,
            "type": "pie"
           }
          ],
          "scatter": [
           {
            "fillpattern": {
             "fillmode": "overlay",
             "size": 10,
             "solidity": 0.2
            },
            "type": "scatter"
           }
          ],
          "scatter3d": [
           {
            "line": {
             "colorbar": {
              "outlinewidth": 0,
              "ticks": ""
             }
            },
            "marker": {
             "colorbar": {
              "outlinewidth": 0,
              "ticks": ""
             }
            },
            "type": "scatter3d"
           }
          ],
          "scattercarpet": [
           {
            "marker": {
             "colorbar": {
              "outlinewidth": 0,
              "ticks": ""
             }
            },
            "type": "scattercarpet"
           }
          ],
          "scattergeo": [
           {
            "marker": {
             "colorbar": {
              "outlinewidth": 0,
              "ticks": ""
             }
            },
            "type": "scattergeo"
           }
          ],
          "scattergl": [
           {
            "marker": {
             "colorbar": {
              "outlinewidth": 0,
              "ticks": ""
             }
            },
            "type": "scattergl"
           }
          ],
          "scattermapbox": [
           {
            "marker": {
             "colorbar": {
              "outlinewidth": 0,
              "ticks": ""
             }
            },
            "type": "scattermapbox"
           }
          ],
          "scatterpolar": [
           {
            "marker": {
             "colorbar": {
              "outlinewidth": 0,
              "ticks": ""
             }
            },
            "type": "scatterpolar"
           }
          ],
          "scatterpolargl": [
           {
            "marker": {
             "colorbar": {
              "outlinewidth": 0,
              "ticks": ""
             }
            },
            "type": "scatterpolargl"
           }
          ],
          "scatterternary": [
           {
            "marker": {
             "colorbar": {
              "outlinewidth": 0,
              "ticks": ""
             }
            },
            "type": "scatterternary"
           }
          ],
          "surface": [
           {
            "colorbar": {
             "outlinewidth": 0,
             "ticks": ""
            },
            "colorscale": [
             [
              0,
              "#0d0887"
             ],
             [
              0.1111111111111111,
              "#46039f"
             ],
             [
              0.2222222222222222,
              "#7201a8"
             ],
             [
              0.3333333333333333,
              "#9c179e"
             ],
             [
              0.4444444444444444,
              "#bd3786"
             ],
             [
              0.5555555555555556,
              "#d8576b"
             ],
             [
              0.6666666666666666,
              "#ed7953"
             ],
             [
              0.7777777777777778,
              "#fb9f3a"
             ],
             [
              0.8888888888888888,
              "#fdca26"
             ],
             [
              1,
              "#f0f921"
             ]
            ],
            "type": "surface"
           }
          ],
          "table": [
           {
            "cells": {
             "fill": {
              "color": "#EBF0F8"
             },
             "line": {
              "color": "white"
             }
            },
            "header": {
             "fill": {
              "color": "#C8D4E3"
             },
             "line": {
              "color": "white"
             }
            },
            "type": "table"
           }
          ]
         },
         "layout": {
          "annotationdefaults": {
           "arrowcolor": "#2a3f5f",
           "arrowhead": 0,
           "arrowwidth": 1
          },
          "autotypenumbers": "strict",
          "coloraxis": {
           "colorbar": {
            "outlinewidth": 0,
            "ticks": ""
           }
          },
          "colorscale": {
           "diverging": [
            [
             0,
             "#8e0152"
            ],
            [
             0.1,
             "#c51b7d"
            ],
            [
             0.2,
             "#de77ae"
            ],
            [
             0.3,
             "#f1b6da"
            ],
            [
             0.4,
             "#fde0ef"
            ],
            [
             0.5,
             "#f7f7f7"
            ],
            [
             0.6,
             "#e6f5d0"
            ],
            [
             0.7,
             "#b8e186"
            ],
            [
             0.8,
             "#7fbc41"
            ],
            [
             0.9,
             "#4d9221"
            ],
            [
             1,
             "#276419"
            ]
           ],
           "sequential": [
            [
             0,
             "#0d0887"
            ],
            [
             0.1111111111111111,
             "#46039f"
            ],
            [
             0.2222222222222222,
             "#7201a8"
            ],
            [
             0.3333333333333333,
             "#9c179e"
            ],
            [
             0.4444444444444444,
             "#bd3786"
            ],
            [
             0.5555555555555556,
             "#d8576b"
            ],
            [
             0.6666666666666666,
             "#ed7953"
            ],
            [
             0.7777777777777778,
             "#fb9f3a"
            ],
            [
             0.8888888888888888,
             "#fdca26"
            ],
            [
             1,
             "#f0f921"
            ]
           ],
           "sequentialminus": [
            [
             0,
             "#0d0887"
            ],
            [
             0.1111111111111111,
             "#46039f"
            ],
            [
             0.2222222222222222,
             "#7201a8"
            ],
            [
             0.3333333333333333,
             "#9c179e"
            ],
            [
             0.4444444444444444,
             "#bd3786"
            ],
            [
             0.5555555555555556,
             "#d8576b"
            ],
            [
             0.6666666666666666,
             "#ed7953"
            ],
            [
             0.7777777777777778,
             "#fb9f3a"
            ],
            [
             0.8888888888888888,
             "#fdca26"
            ],
            [
             1,
             "#f0f921"
            ]
           ]
          },
          "colorway": [
           "#636efa",
           "#EF553B",
           "#00cc96",
           "#ab63fa",
           "#FFA15A",
           "#19d3f3",
           "#FF6692",
           "#B6E880",
           "#FF97FF",
           "#FECB52"
          ],
          "font": {
           "color": "#2a3f5f"
          },
          "geo": {
           "bgcolor": "white",
           "lakecolor": "white",
           "landcolor": "#E5ECF6",
           "showlakes": true,
           "showland": true,
           "subunitcolor": "white"
          },
          "hoverlabel": {
           "align": "left"
          },
          "hovermode": "closest",
          "mapbox": {
           "style": "light"
          },
          "paper_bgcolor": "white",
          "plot_bgcolor": "#E5ECF6",
          "polar": {
           "angularaxis": {
            "gridcolor": "white",
            "linecolor": "white",
            "ticks": ""
           },
           "bgcolor": "#E5ECF6",
           "radialaxis": {
            "gridcolor": "white",
            "linecolor": "white",
            "ticks": ""
           }
          },
          "scene": {
           "xaxis": {
            "backgroundcolor": "#E5ECF6",
            "gridcolor": "white",
            "gridwidth": 2,
            "linecolor": "white",
            "showbackground": true,
            "ticks": "",
            "zerolinecolor": "white"
           },
           "yaxis": {
            "backgroundcolor": "#E5ECF6",
            "gridcolor": "white",
            "gridwidth": 2,
            "linecolor": "white",
            "showbackground": true,
            "ticks": "",
            "zerolinecolor": "white"
           },
           "zaxis": {
            "backgroundcolor": "#E5ECF6",
            "gridcolor": "white",
            "gridwidth": 2,
            "linecolor": "white",
            "showbackground": true,
            "ticks": "",
            "zerolinecolor": "white"
           }
          },
          "shapedefaults": {
           "line": {
            "color": "#2a3f5f"
           }
          },
          "ternary": {
           "aaxis": {
            "gridcolor": "white",
            "linecolor": "white",
            "ticks": ""
           },
           "baxis": {
            "gridcolor": "white",
            "linecolor": "white",
            "ticks": ""
           },
           "bgcolor": "#E5ECF6",
           "caxis": {
            "gridcolor": "white",
            "linecolor": "white",
            "ticks": ""
           }
          },
          "title": {
           "x": 0.05
          },
          "xaxis": {
           "automargin": true,
           "gridcolor": "white",
           "linecolor": "white",
           "ticks": "",
           "title": {
            "standoff": 15
           },
           "zerolinecolor": "white",
           "zerolinewidth": 2
          },
          "yaxis": {
           "automargin": true,
           "gridcolor": "white",
           "linecolor": "white",
           "ticks": "",
           "title": {
            "standoff": 15
           },
           "zerolinecolor": "white",
           "zerolinewidth": 2
          }
         }
        },
        "title": {
         "text": "Number of Interviews vs Weather"
        },
        "xaxis": {
         "anchor": "y",
         "domain": [
          0,
          1
         ],
         "title": {
          "text": "Weather"
         }
        },
        "yaxis": {
         "anchor": "x",
         "domain": [
          0,
          1
         ],
         "title": {
          "text": "sum of count"
         }
        }
       }
      },
      "text/html": [
       "<div>                            <div id=\"48341852-99a4-46d5-b8fe-e8c7ad5bc4e2\" class=\"plotly-graph-div\" style=\"height:525px; width:100%;\"></div>            <script type=\"text/javascript\">                require([\"plotly\"], function(Plotly) {                    window.PLOTLYENV=window.PLOTLYENV || {};                                    if (document.getElementById(\"48341852-99a4-46d5-b8fe-e8c7ad5bc4e2\")) {                    Plotly.newPlot(                        \"48341852-99a4-46d5-b8fe-e8c7ad5bc4e2\",                        [{\"alignmentgroup\":\"True\",\"bingroup\":\"x\",\"histfunc\":\"sum\",\"hovertemplate\":\"Y=0<br>Weather=%{x}<br>sum of count=%{y}<extra></extra>\",\"legendgroup\":\"0\",\"marker\":{\"color\":\"#636efa\",\"pattern\":{\"shape\":\"\"}},\"name\":\"0\",\"offsetgroup\":\"0\",\"orientation\":\"v\",\"showlegend\":true,\"x\":[\"Rainy\",\"Snowy\",\"Sunny\"],\"xaxis\":\"x\",\"y\":[617,697,3888],\"yaxis\":\"y\",\"type\":\"histogram\"},{\"alignmentgroup\":\"True\",\"bingroup\":\"x\",\"histfunc\":\"sum\",\"hovertemplate\":\"Y=1<br>Weather=%{x}<br>sum of count=%{y}<extra></extra>\",\"legendgroup\":\"1\",\"marker\":{\"color\":\"#EF553B\",\"pattern\":{\"shape\":\"\"}},\"name\":\"1\",\"offsetgroup\":\"1\",\"orientation\":\"v\",\"showlegend\":true,\"x\":[\"Rainy\",\"Snowy\",\"Sunny\"],\"xaxis\":\"x\",\"y\":[530,634,5713],\"yaxis\":\"y\",\"type\":\"histogram\"}],                        {\"template\":{\"data\":{\"histogram2dcontour\":[{\"type\":\"histogram2dcontour\",\"colorbar\":{\"outlinewidth\":0,\"ticks\":\"\"},\"colorscale\":[[0.0,\"#0d0887\"],[0.1111111111111111,\"#46039f\"],[0.2222222222222222,\"#7201a8\"],[0.3333333333333333,\"#9c179e\"],[0.4444444444444444,\"#bd3786\"],[0.5555555555555556,\"#d8576b\"],[0.6666666666666666,\"#ed7953\"],[0.7777777777777778,\"#fb9f3a\"],[0.8888888888888888,\"#fdca26\"],[1.0,\"#f0f921\"]]}],\"choropleth\":[{\"type\":\"choropleth\",\"colorbar\":{\"outlinewidth\":0,\"ticks\":\"\"}}],\"histogram2d\":[{\"type\":\"histogram2d\",\"colorbar\":{\"outlinewidth\":0,\"ticks\":\"\"},\"colorscale\":[[0.0,\"#0d0887\"],[0.1111111111111111,\"#46039f\"],[0.2222222222222222,\"#7201a8\"],[0.3333333333333333,\"#9c179e\"],[0.4444444444444444,\"#bd3786\"],[0.5555555555555556,\"#d8576b\"],[0.6666666666666666,\"#ed7953\"],[0.7777777777777778,\"#fb9f3a\"],[0.8888888888888888,\"#fdca26\"],[1.0,\"#f0f921\"]]}],\"heatmap\":[{\"type\":\"heatmap\",\"colorbar\":{\"outlinewidth\":0,\"ticks\":\"\"},\"colorscale\":[[0.0,\"#0d0887\"],[0.1111111111111111,\"#46039f\"],[0.2222222222222222,\"#7201a8\"],[0.3333333333333333,\"#9c179e\"],[0.4444444444444444,\"#bd3786\"],[0.5555555555555556,\"#d8576b\"],[0.6666666666666666,\"#ed7953\"],[0.7777777777777778,\"#fb9f3a\"],[0.8888888888888888,\"#fdca26\"],[1.0,\"#f0f921\"]]}],\"heatmapgl\":[{\"type\":\"heatmapgl\",\"colorbar\":{\"outlinewidth\":0,\"ticks\":\"\"},\"colorscale\":[[0.0,\"#0d0887\"],[0.1111111111111111,\"#46039f\"],[0.2222222222222222,\"#7201a8\"],[0.3333333333333333,\"#9c179e\"],[0.4444444444444444,\"#bd3786\"],[0.5555555555555556,\"#d8576b\"],[0.6666666666666666,\"#ed7953\"],[0.7777777777777778,\"#fb9f3a\"],[0.8888888888888888,\"#fdca26\"],[1.0,\"#f0f921\"]]}],\"contourcarpet\":[{\"type\":\"contourcarpet\",\"colorbar\":{\"outlinewidth\":0,\"ticks\":\"\"}}],\"contour\":[{\"type\":\"contour\",\"colorbar\":{\"outlinewidth\":0,\"ticks\":\"\"},\"colorscale\":[[0.0,\"#0d0887\"],[0.1111111111111111,\"#46039f\"],[0.2222222222222222,\"#7201a8\"],[0.3333333333333333,\"#9c179e\"],[0.4444444444444444,\"#bd3786\"],[0.5555555555555556,\"#d8576b\"],[0.6666666666666666,\"#ed7953\"],[0.7777777777777778,\"#fb9f3a\"],[0.8888888888888888,\"#fdca26\"],[1.0,\"#f0f921\"]]}],\"surface\":[{\"type\":\"surface\",\"colorbar\":{\"outlinewidth\":0,\"ticks\":\"\"},\"colorscale\":[[0.0,\"#0d0887\"],[0.1111111111111111,\"#46039f\"],[0.2222222222222222,\"#7201a8\"],[0.3333333333333333,\"#9c179e\"],[0.4444444444444444,\"#bd3786\"],[0.5555555555555556,\"#d8576b\"],[0.6666666666666666,\"#ed7953\"],[0.7777777777777778,\"#fb9f3a\"],[0.8888888888888888,\"#fdca26\"],[1.0,\"#f0f921\"]]}],\"mesh3d\":[{\"type\":\"mesh3d\",\"colorbar\":{\"outlinewidth\":0,\"ticks\":\"\"}}],\"scatter\":[{\"fillpattern\":{\"fillmode\":\"overlay\",\"size\":10,\"solidity\":0.2},\"type\":\"scatter\"}],\"parcoords\":[{\"type\":\"parcoords\",\"line\":{\"colorbar\":{\"outlinewidth\":0,\"ticks\":\"\"}}}],\"scatterpolargl\":[{\"type\":\"scatterpolargl\",\"marker\":{\"colorbar\":{\"outlinewidth\":0,\"ticks\":\"\"}}}],\"bar\":[{\"error_x\":{\"color\":\"#2a3f5f\"},\"error_y\":{\"color\":\"#2a3f5f\"},\"marker\":{\"line\":{\"color\":\"#E5ECF6\",\"width\":0.5},\"pattern\":{\"fillmode\":\"overlay\",\"size\":10,\"solidity\":0.2}},\"type\":\"bar\"}],\"scattergeo\":[{\"type\":\"scattergeo\",\"marker\":{\"colorbar\":{\"outlinewidth\":0,\"ticks\":\"\"}}}],\"scatterpolar\":[{\"type\":\"scatterpolar\",\"marker\":{\"colorbar\":{\"outlinewidth\":0,\"ticks\":\"\"}}}],\"histogram\":[{\"marker\":{\"pattern\":{\"fillmode\":\"overlay\",\"size\":10,\"solidity\":0.2}},\"type\":\"histogram\"}],\"scattergl\":[{\"type\":\"scattergl\",\"marker\":{\"colorbar\":{\"outlinewidth\":0,\"ticks\":\"\"}}}],\"scatter3d\":[{\"type\":\"scatter3d\",\"line\":{\"colorbar\":{\"outlinewidth\":0,\"ticks\":\"\"}},\"marker\":{\"colorbar\":{\"outlinewidth\":0,\"ticks\":\"\"}}}],\"scattermapbox\":[{\"type\":\"scattermapbox\",\"marker\":{\"colorbar\":{\"outlinewidth\":0,\"ticks\":\"\"}}}],\"scatterternary\":[{\"type\":\"scatterternary\",\"marker\":{\"colorbar\":{\"outlinewidth\":0,\"ticks\":\"\"}}}],\"scattercarpet\":[{\"type\":\"scattercarpet\",\"marker\":{\"colorbar\":{\"outlinewidth\":0,\"ticks\":\"\"}}}],\"carpet\":[{\"aaxis\":{\"endlinecolor\":\"#2a3f5f\",\"gridcolor\":\"white\",\"linecolor\":\"white\",\"minorgridcolor\":\"white\",\"startlinecolor\":\"#2a3f5f\"},\"baxis\":{\"endlinecolor\":\"#2a3f5f\",\"gridcolor\":\"white\",\"linecolor\":\"white\",\"minorgridcolor\":\"white\",\"startlinecolor\":\"#2a3f5f\"},\"type\":\"carpet\"}],\"table\":[{\"cells\":{\"fill\":{\"color\":\"#EBF0F8\"},\"line\":{\"color\":\"white\"}},\"header\":{\"fill\":{\"color\":\"#C8D4E3\"},\"line\":{\"color\":\"white\"}},\"type\":\"table\"}],\"barpolar\":[{\"marker\":{\"line\":{\"color\":\"#E5ECF6\",\"width\":0.5},\"pattern\":{\"fillmode\":\"overlay\",\"size\":10,\"solidity\":0.2}},\"type\":\"barpolar\"}],\"pie\":[{\"automargin\":true,\"type\":\"pie\"}]},\"layout\":{\"autotypenumbers\":\"strict\",\"colorway\":[\"#636efa\",\"#EF553B\",\"#00cc96\",\"#ab63fa\",\"#FFA15A\",\"#19d3f3\",\"#FF6692\",\"#B6E880\",\"#FF97FF\",\"#FECB52\"],\"font\":{\"color\":\"#2a3f5f\"},\"hovermode\":\"closest\",\"hoverlabel\":{\"align\":\"left\"},\"paper_bgcolor\":\"white\",\"plot_bgcolor\":\"#E5ECF6\",\"polar\":{\"bgcolor\":\"#E5ECF6\",\"angularaxis\":{\"gridcolor\":\"white\",\"linecolor\":\"white\",\"ticks\":\"\"},\"radialaxis\":{\"gridcolor\":\"white\",\"linecolor\":\"white\",\"ticks\":\"\"}},\"ternary\":{\"bgcolor\":\"#E5ECF6\",\"aaxis\":{\"gridcolor\":\"white\",\"linecolor\":\"white\",\"ticks\":\"\"},\"baxis\":{\"gridcolor\":\"white\",\"linecolor\":\"white\",\"ticks\":\"\"},\"caxis\":{\"gridcolor\":\"white\",\"linecolor\":\"white\",\"ticks\":\"\"}},\"coloraxis\":{\"colorbar\":{\"outlinewidth\":0,\"ticks\":\"\"}},\"colorscale\":{\"sequential\":[[0.0,\"#0d0887\"],[0.1111111111111111,\"#46039f\"],[0.2222222222222222,\"#7201a8\"],[0.3333333333333333,\"#9c179e\"],[0.4444444444444444,\"#bd3786\"],[0.5555555555555556,\"#d8576b\"],[0.6666666666666666,\"#ed7953\"],[0.7777777777777778,\"#fb9f3a\"],[0.8888888888888888,\"#fdca26\"],[1.0,\"#f0f921\"]],\"sequentialminus\":[[0.0,\"#0d0887\"],[0.1111111111111111,\"#46039f\"],[0.2222222222222222,\"#7201a8\"],[0.3333333333333333,\"#9c179e\"],[0.4444444444444444,\"#bd3786\"],[0.5555555555555556,\"#d8576b\"],[0.6666666666666666,\"#ed7953\"],[0.7777777777777778,\"#fb9f3a\"],[0.8888888888888888,\"#fdca26\"],[1.0,\"#f0f921\"]],\"diverging\":[[0,\"#8e0152\"],[0.1,\"#c51b7d\"],[0.2,\"#de77ae\"],[0.3,\"#f1b6da\"],[0.4,\"#fde0ef\"],[0.5,\"#f7f7f7\"],[0.6,\"#e6f5d0\"],[0.7,\"#b8e186\"],[0.8,\"#7fbc41\"],[0.9,\"#4d9221\"],[1,\"#276419\"]]},\"xaxis\":{\"gridcolor\":\"white\",\"linecolor\":\"white\",\"ticks\":\"\",\"title\":{\"standoff\":15},\"zerolinecolor\":\"white\",\"automargin\":true,\"zerolinewidth\":2},\"yaxis\":{\"gridcolor\":\"white\",\"linecolor\":\"white\",\"ticks\":\"\",\"title\":{\"standoff\":15},\"zerolinecolor\":\"white\",\"automargin\":true,\"zerolinewidth\":2},\"scene\":{\"xaxis\":{\"backgroundcolor\":\"#E5ECF6\",\"gridcolor\":\"white\",\"linecolor\":\"white\",\"showbackground\":true,\"ticks\":\"\",\"zerolinecolor\":\"white\",\"gridwidth\":2},\"yaxis\":{\"backgroundcolor\":\"#E5ECF6\",\"gridcolor\":\"white\",\"linecolor\":\"white\",\"showbackground\":true,\"ticks\":\"\",\"zerolinecolor\":\"white\",\"gridwidth\":2},\"zaxis\":{\"backgroundcolor\":\"#E5ECF6\",\"gridcolor\":\"white\",\"linecolor\":\"white\",\"showbackground\":true,\"ticks\":\"\",\"zerolinecolor\":\"white\",\"gridwidth\":2}},\"shapedefaults\":{\"line\":{\"color\":\"#2a3f5f\"}},\"annotationdefaults\":{\"arrowcolor\":\"#2a3f5f\",\"arrowhead\":0,\"arrowwidth\":1},\"geo\":{\"bgcolor\":\"white\",\"landcolor\":\"#E5ECF6\",\"subunitcolor\":\"white\",\"showland\":true,\"showlakes\":true,\"lakecolor\":\"white\"},\"title\":{\"x\":0.05},\"mapbox\":{\"style\":\"light\"}}},\"xaxis\":{\"anchor\":\"y\",\"domain\":[0.0,1.0],\"title\":{\"text\":\"Weather\"}},\"yaxis\":{\"anchor\":\"x\",\"domain\":[0.0,1.0],\"title\":{\"text\":\"sum of count\"}},\"legend\":{\"title\":{\"text\":\"Y\"},\"tracegroupgap\":0},\"title\":{\"text\":\"Number of Interviews vs Weather\"},\"barmode\":\"group\"},                        {\"responsive\": true}                    ).then(function(){\n",
       "                            \n",
       "var gd = document.getElementById('48341852-99a4-46d5-b8fe-e8c7ad5bc4e2');\n",
       "var x = new MutationObserver(function (mutations, observer) {{\n",
       "        var display = window.getComputedStyle(gd).display;\n",
       "        if (!display || display === 'none') {{\n",
       "            console.log([gd, 'removed!']);\n",
       "            Plotly.purge(gd);\n",
       "            observer.disconnect();\n",
       "        }}\n",
       "}});\n",
       "\n",
       "// Listen for the removal of the full notebook cells\n",
       "var notebookContainer = gd.closest('#notebook-container');\n",
       "if (notebookContainer) {{\n",
       "    x.observe(notebookContainer, {childList: true});\n",
       "}}\n",
       "\n",
       "// Listen for the clearing of the current output cell\n",
       "var outputEl = gd.closest('.output');\n",
       "if (outputEl) {{\n",
       "    x.observe(outputEl, {childList: true});\n",
       "}}\n",
       "\n",
       "                        })                };                });            </script>        </div>"
      ]
     },
     "metadata": {},
     "output_type": "display_data"
    }
   ],
   "source": [
    "# Create a histogram of number of interviews vs Weather\n",
    "px.histogram(weather_count, x=\"weather\",y=\"count\",color=\"Y\",barmode='group',\n",
    "             title=\"Number of Interviews vs Weather\", labels={\"weather\":\"Weather\"})"
   ]
  },
  {
   "cell_type": "markdown",
   "metadata": {},
   "source": [
    "### Time"
   ]
  },
  {
   "cell_type": "code",
   "execution_count": 175,
   "metadata": {
    "scrolled": false
   },
   "outputs": [],
   "source": [
    "# Group data by  time of day\n",
    "time_count = data.groupby([\"time\",\"Y\"]).size().reset_index(name = \"count\")"
   ]
  },
  {
   "cell_type": "code",
   "execution_count": 176,
   "metadata": {
    "scrolled": false
   },
   "outputs": [],
   "source": [
    "# Sorting data from morning hours to nighttime.\n",
    "time_count_sort = time_count.copy()\n",
    "time_count_sort.iloc[0] = time_count.iloc[8]\n",
    "time_count_sort.iloc[1] = time_count.iloc[9]\n",
    "time_count_sort.iloc[2] = time_count.iloc[0]\n",
    "time_count_sort.iloc[3] = time_count.iloc[1]\n",
    "time_count_sort.iloc[4] = time_count.iloc[4]\n",
    "time_count_sort.iloc[8] = time_count.iloc[2]\n",
    "time_count_sort.iloc[9] = time_count.iloc[3]"
   ]
  },
  {
   "cell_type": "code",
   "execution_count": 177,
   "metadata": {},
   "outputs": [
    {
     "data": {
      "application/vnd.plotly.v1+json": {
       "config": {
        "plotlyServerURL": "https://plot.ly"
       },
       "data": [
        {
         "alignmentgroup": "True",
         "bingroup": "x",
         "histfunc": "sum",
         "hovertemplate": "Y=0<br>time of day=%{x}<br>sum of count=%{y}<extra></extra>",
         "legendgroup": "0",
         "marker": {
          "color": "#636efa",
          "pattern": {
           "shape": ""
          }
         },
         "name": "0",
         "offsetgroup": "0",
         "orientation": "v",
         "showlegend": true,
         "type": "histogram",
         "x": [
          "7AM",
          "10AM",
          "2PM",
          "6PM",
          "10PM"
         ],
         "xaxis": "x",
         "y": [
          1500,
          846,
          650,
          1284,
          922
         ],
         "yaxis": "y"
        },
        {
         "alignmentgroup": "True",
         "bingroup": "x",
         "histfunc": "sum",
         "hovertemplate": "Y=1<br>time of day=%{x}<br>sum of count=%{y}<extra></extra>",
         "legendgroup": "1",
         "marker": {
          "color": "#EF553B",
          "pattern": {
           "shape": ""
          }
         },
         "name": "1",
         "offsetgroup": "1",
         "orientation": "v",
         "showlegend": true,
         "type": "histogram",
         "x": [
          "7AM",
          "10AM",
          "2PM",
          "6PM",
          "10PM"
         ],
         "xaxis": "x",
         "y": [
          1524,
          1312,
          1266,
          1794,
          981
         ],
         "yaxis": "y"
        }
       ],
       "layout": {
        "barmode": "group",
        "legend": {
         "title": {
          "text": "Y"
         },
         "tracegroupgap": 0
        },
        "template": {
         "data": {
          "bar": [
           {
            "error_x": {
             "color": "#2a3f5f"
            },
            "error_y": {
             "color": "#2a3f5f"
            },
            "marker": {
             "line": {
              "color": "#E5ECF6",
              "width": 0.5
             },
             "pattern": {
              "fillmode": "overlay",
              "size": 10,
              "solidity": 0.2
             }
            },
            "type": "bar"
           }
          ],
          "barpolar": [
           {
            "marker": {
             "line": {
              "color": "#E5ECF6",
              "width": 0.5
             },
             "pattern": {
              "fillmode": "overlay",
              "size": 10,
              "solidity": 0.2
             }
            },
            "type": "barpolar"
           }
          ],
          "carpet": [
           {
            "aaxis": {
             "endlinecolor": "#2a3f5f",
             "gridcolor": "white",
             "linecolor": "white",
             "minorgridcolor": "white",
             "startlinecolor": "#2a3f5f"
            },
            "baxis": {
             "endlinecolor": "#2a3f5f",
             "gridcolor": "white",
             "linecolor": "white",
             "minorgridcolor": "white",
             "startlinecolor": "#2a3f5f"
            },
            "type": "carpet"
           }
          ],
          "choropleth": [
           {
            "colorbar": {
             "outlinewidth": 0,
             "ticks": ""
            },
            "type": "choropleth"
           }
          ],
          "contour": [
           {
            "colorbar": {
             "outlinewidth": 0,
             "ticks": ""
            },
            "colorscale": [
             [
              0,
              "#0d0887"
             ],
             [
              0.1111111111111111,
              "#46039f"
             ],
             [
              0.2222222222222222,
              "#7201a8"
             ],
             [
              0.3333333333333333,
              "#9c179e"
             ],
             [
              0.4444444444444444,
              "#bd3786"
             ],
             [
              0.5555555555555556,
              "#d8576b"
             ],
             [
              0.6666666666666666,
              "#ed7953"
             ],
             [
              0.7777777777777778,
              "#fb9f3a"
             ],
             [
              0.8888888888888888,
              "#fdca26"
             ],
             [
              1,
              "#f0f921"
             ]
            ],
            "type": "contour"
           }
          ],
          "contourcarpet": [
           {
            "colorbar": {
             "outlinewidth": 0,
             "ticks": ""
            },
            "type": "contourcarpet"
           }
          ],
          "heatmap": [
           {
            "colorbar": {
             "outlinewidth": 0,
             "ticks": ""
            },
            "colorscale": [
             [
              0,
              "#0d0887"
             ],
             [
              0.1111111111111111,
              "#46039f"
             ],
             [
              0.2222222222222222,
              "#7201a8"
             ],
             [
              0.3333333333333333,
              "#9c179e"
             ],
             [
              0.4444444444444444,
              "#bd3786"
             ],
             [
              0.5555555555555556,
              "#d8576b"
             ],
             [
              0.6666666666666666,
              "#ed7953"
             ],
             [
              0.7777777777777778,
              "#fb9f3a"
             ],
             [
              0.8888888888888888,
              "#fdca26"
             ],
             [
              1,
              "#f0f921"
             ]
            ],
            "type": "heatmap"
           }
          ],
          "heatmapgl": [
           {
            "colorbar": {
             "outlinewidth": 0,
             "ticks": ""
            },
            "colorscale": [
             [
              0,
              "#0d0887"
             ],
             [
              0.1111111111111111,
              "#46039f"
             ],
             [
              0.2222222222222222,
              "#7201a8"
             ],
             [
              0.3333333333333333,
              "#9c179e"
             ],
             [
              0.4444444444444444,
              "#bd3786"
             ],
             [
              0.5555555555555556,
              "#d8576b"
             ],
             [
              0.6666666666666666,
              "#ed7953"
             ],
             [
              0.7777777777777778,
              "#fb9f3a"
             ],
             [
              0.8888888888888888,
              "#fdca26"
             ],
             [
              1,
              "#f0f921"
             ]
            ],
            "type": "heatmapgl"
           }
          ],
          "histogram": [
           {
            "marker": {
             "pattern": {
              "fillmode": "overlay",
              "size": 10,
              "solidity": 0.2
             }
            },
            "type": "histogram"
           }
          ],
          "histogram2d": [
           {
            "colorbar": {
             "outlinewidth": 0,
             "ticks": ""
            },
            "colorscale": [
             [
              0,
              "#0d0887"
             ],
             [
              0.1111111111111111,
              "#46039f"
             ],
             [
              0.2222222222222222,
              "#7201a8"
             ],
             [
              0.3333333333333333,
              "#9c179e"
             ],
             [
              0.4444444444444444,
              "#bd3786"
             ],
             [
              0.5555555555555556,
              "#d8576b"
             ],
             [
              0.6666666666666666,
              "#ed7953"
             ],
             [
              0.7777777777777778,
              "#fb9f3a"
             ],
             [
              0.8888888888888888,
              "#fdca26"
             ],
             [
              1,
              "#f0f921"
             ]
            ],
            "type": "histogram2d"
           }
          ],
          "histogram2dcontour": [
           {
            "colorbar": {
             "outlinewidth": 0,
             "ticks": ""
            },
            "colorscale": [
             [
              0,
              "#0d0887"
             ],
             [
              0.1111111111111111,
              "#46039f"
             ],
             [
              0.2222222222222222,
              "#7201a8"
             ],
             [
              0.3333333333333333,
              "#9c179e"
             ],
             [
              0.4444444444444444,
              "#bd3786"
             ],
             [
              0.5555555555555556,
              "#d8576b"
             ],
             [
              0.6666666666666666,
              "#ed7953"
             ],
             [
              0.7777777777777778,
              "#fb9f3a"
             ],
             [
              0.8888888888888888,
              "#fdca26"
             ],
             [
              1,
              "#f0f921"
             ]
            ],
            "type": "histogram2dcontour"
           }
          ],
          "mesh3d": [
           {
            "colorbar": {
             "outlinewidth": 0,
             "ticks": ""
            },
            "type": "mesh3d"
           }
          ],
          "parcoords": [
           {
            "line": {
             "colorbar": {
              "outlinewidth": 0,
              "ticks": ""
             }
            },
            "type": "parcoords"
           }
          ],
          "pie": [
           {
            "automargin": true,
            "type": "pie"
           }
          ],
          "scatter": [
           {
            "fillpattern": {
             "fillmode": "overlay",
             "size": 10,
             "solidity": 0.2
            },
            "type": "scatter"
           }
          ],
          "scatter3d": [
           {
            "line": {
             "colorbar": {
              "outlinewidth": 0,
              "ticks": ""
             }
            },
            "marker": {
             "colorbar": {
              "outlinewidth": 0,
              "ticks": ""
             }
            },
            "type": "scatter3d"
           }
          ],
          "scattercarpet": [
           {
            "marker": {
             "colorbar": {
              "outlinewidth": 0,
              "ticks": ""
             }
            },
            "type": "scattercarpet"
           }
          ],
          "scattergeo": [
           {
            "marker": {
             "colorbar": {
              "outlinewidth": 0,
              "ticks": ""
             }
            },
            "type": "scattergeo"
           }
          ],
          "scattergl": [
           {
            "marker": {
             "colorbar": {
              "outlinewidth": 0,
              "ticks": ""
             }
            },
            "type": "scattergl"
           }
          ],
          "scattermapbox": [
           {
            "marker": {
             "colorbar": {
              "outlinewidth": 0,
              "ticks": ""
             }
            },
            "type": "scattermapbox"
           }
          ],
          "scatterpolar": [
           {
            "marker": {
             "colorbar": {
              "outlinewidth": 0,
              "ticks": ""
             }
            },
            "type": "scatterpolar"
           }
          ],
          "scatterpolargl": [
           {
            "marker": {
             "colorbar": {
              "outlinewidth": 0,
              "ticks": ""
             }
            },
            "type": "scatterpolargl"
           }
          ],
          "scatterternary": [
           {
            "marker": {
             "colorbar": {
              "outlinewidth": 0,
              "ticks": ""
             }
            },
            "type": "scatterternary"
           }
          ],
          "surface": [
           {
            "colorbar": {
             "outlinewidth": 0,
             "ticks": ""
            },
            "colorscale": [
             [
              0,
              "#0d0887"
             ],
             [
              0.1111111111111111,
              "#46039f"
             ],
             [
              0.2222222222222222,
              "#7201a8"
             ],
             [
              0.3333333333333333,
              "#9c179e"
             ],
             [
              0.4444444444444444,
              "#bd3786"
             ],
             [
              0.5555555555555556,
              "#d8576b"
             ],
             [
              0.6666666666666666,
              "#ed7953"
             ],
             [
              0.7777777777777778,
              "#fb9f3a"
             ],
             [
              0.8888888888888888,
              "#fdca26"
             ],
             [
              1,
              "#f0f921"
             ]
            ],
            "type": "surface"
           }
          ],
          "table": [
           {
            "cells": {
             "fill": {
              "color": "#EBF0F8"
             },
             "line": {
              "color": "white"
             }
            },
            "header": {
             "fill": {
              "color": "#C8D4E3"
             },
             "line": {
              "color": "white"
             }
            },
            "type": "table"
           }
          ]
         },
         "layout": {
          "annotationdefaults": {
           "arrowcolor": "#2a3f5f",
           "arrowhead": 0,
           "arrowwidth": 1
          },
          "autotypenumbers": "strict",
          "coloraxis": {
           "colorbar": {
            "outlinewidth": 0,
            "ticks": ""
           }
          },
          "colorscale": {
           "diverging": [
            [
             0,
             "#8e0152"
            ],
            [
             0.1,
             "#c51b7d"
            ],
            [
             0.2,
             "#de77ae"
            ],
            [
             0.3,
             "#f1b6da"
            ],
            [
             0.4,
             "#fde0ef"
            ],
            [
             0.5,
             "#f7f7f7"
            ],
            [
             0.6,
             "#e6f5d0"
            ],
            [
             0.7,
             "#b8e186"
            ],
            [
             0.8,
             "#7fbc41"
            ],
            [
             0.9,
             "#4d9221"
            ],
            [
             1,
             "#276419"
            ]
           ],
           "sequential": [
            [
             0,
             "#0d0887"
            ],
            [
             0.1111111111111111,
             "#46039f"
            ],
            [
             0.2222222222222222,
             "#7201a8"
            ],
            [
             0.3333333333333333,
             "#9c179e"
            ],
            [
             0.4444444444444444,
             "#bd3786"
            ],
            [
             0.5555555555555556,
             "#d8576b"
            ],
            [
             0.6666666666666666,
             "#ed7953"
            ],
            [
             0.7777777777777778,
             "#fb9f3a"
            ],
            [
             0.8888888888888888,
             "#fdca26"
            ],
            [
             1,
             "#f0f921"
            ]
           ],
           "sequentialminus": [
            [
             0,
             "#0d0887"
            ],
            [
             0.1111111111111111,
             "#46039f"
            ],
            [
             0.2222222222222222,
             "#7201a8"
            ],
            [
             0.3333333333333333,
             "#9c179e"
            ],
            [
             0.4444444444444444,
             "#bd3786"
            ],
            [
             0.5555555555555556,
             "#d8576b"
            ],
            [
             0.6666666666666666,
             "#ed7953"
            ],
            [
             0.7777777777777778,
             "#fb9f3a"
            ],
            [
             0.8888888888888888,
             "#fdca26"
            ],
            [
             1,
             "#f0f921"
            ]
           ]
          },
          "colorway": [
           "#636efa",
           "#EF553B",
           "#00cc96",
           "#ab63fa",
           "#FFA15A",
           "#19d3f3",
           "#FF6692",
           "#B6E880",
           "#FF97FF",
           "#FECB52"
          ],
          "font": {
           "color": "#2a3f5f"
          },
          "geo": {
           "bgcolor": "white",
           "lakecolor": "white",
           "landcolor": "#E5ECF6",
           "showlakes": true,
           "showland": true,
           "subunitcolor": "white"
          },
          "hoverlabel": {
           "align": "left"
          },
          "hovermode": "closest",
          "mapbox": {
           "style": "light"
          },
          "paper_bgcolor": "white",
          "plot_bgcolor": "#E5ECF6",
          "polar": {
           "angularaxis": {
            "gridcolor": "white",
            "linecolor": "white",
            "ticks": ""
           },
           "bgcolor": "#E5ECF6",
           "radialaxis": {
            "gridcolor": "white",
            "linecolor": "white",
            "ticks": ""
           }
          },
          "scene": {
           "xaxis": {
            "backgroundcolor": "#E5ECF6",
            "gridcolor": "white",
            "gridwidth": 2,
            "linecolor": "white",
            "showbackground": true,
            "ticks": "",
            "zerolinecolor": "white"
           },
           "yaxis": {
            "backgroundcolor": "#E5ECF6",
            "gridcolor": "white",
            "gridwidth": 2,
            "linecolor": "white",
            "showbackground": true,
            "ticks": "",
            "zerolinecolor": "white"
           },
           "zaxis": {
            "backgroundcolor": "#E5ECF6",
            "gridcolor": "white",
            "gridwidth": 2,
            "linecolor": "white",
            "showbackground": true,
            "ticks": "",
            "zerolinecolor": "white"
           }
          },
          "shapedefaults": {
           "line": {
            "color": "#2a3f5f"
           }
          },
          "ternary": {
           "aaxis": {
            "gridcolor": "white",
            "linecolor": "white",
            "ticks": ""
           },
           "baxis": {
            "gridcolor": "white",
            "linecolor": "white",
            "ticks": ""
           },
           "bgcolor": "#E5ECF6",
           "caxis": {
            "gridcolor": "white",
            "linecolor": "white",
            "ticks": ""
           }
          },
          "title": {
           "x": 0.05
          },
          "xaxis": {
           "automargin": true,
           "gridcolor": "white",
           "linecolor": "white",
           "ticks": "",
           "title": {
            "standoff": 15
           },
           "zerolinecolor": "white",
           "zerolinewidth": 2
          },
          "yaxis": {
           "automargin": true,
           "gridcolor": "white",
           "linecolor": "white",
           "ticks": "",
           "title": {
            "standoff": 15
           },
           "zerolinecolor": "white",
           "zerolinewidth": 2
          }
         }
        },
        "title": {
         "text": "Number of Interviews vs Time of day"
        },
        "xaxis": {
         "anchor": "y",
         "domain": [
          0,
          1
         ],
         "title": {
          "text": "time of day"
         }
        },
        "yaxis": {
         "anchor": "x",
         "domain": [
          0,
          1
         ],
         "title": {
          "text": "sum of count"
         }
        }
       }
      },
      "text/html": [
       "<div>                            <div id=\"de06f0cd-7c2f-420e-8557-c5060d2f278b\" class=\"plotly-graph-div\" style=\"height:525px; width:100%;\"></div>            <script type=\"text/javascript\">                require([\"plotly\"], function(Plotly) {                    window.PLOTLYENV=window.PLOTLYENV || {};                                    if (document.getElementById(\"de06f0cd-7c2f-420e-8557-c5060d2f278b\")) {                    Plotly.newPlot(                        \"de06f0cd-7c2f-420e-8557-c5060d2f278b\",                        [{\"alignmentgroup\":\"True\",\"bingroup\":\"x\",\"histfunc\":\"sum\",\"hovertemplate\":\"Y=0<br>time of day=%{x}<br>sum of count=%{y}<extra></extra>\",\"legendgroup\":\"0\",\"marker\":{\"color\":\"#636efa\",\"pattern\":{\"shape\":\"\"}},\"name\":\"0\",\"offsetgroup\":\"0\",\"orientation\":\"v\",\"showlegend\":true,\"x\":[\"7AM\",\"10AM\",\"2PM\",\"6PM\",\"10PM\"],\"xaxis\":\"x\",\"y\":[1500,846,650,1284,922],\"yaxis\":\"y\",\"type\":\"histogram\"},{\"alignmentgroup\":\"True\",\"bingroup\":\"x\",\"histfunc\":\"sum\",\"hovertemplate\":\"Y=1<br>time of day=%{x}<br>sum of count=%{y}<extra></extra>\",\"legendgroup\":\"1\",\"marker\":{\"color\":\"#EF553B\",\"pattern\":{\"shape\":\"\"}},\"name\":\"1\",\"offsetgroup\":\"1\",\"orientation\":\"v\",\"showlegend\":true,\"x\":[\"7AM\",\"10AM\",\"2PM\",\"6PM\",\"10PM\"],\"xaxis\":\"x\",\"y\":[1524,1312,1266,1794,981],\"yaxis\":\"y\",\"type\":\"histogram\"}],                        {\"template\":{\"data\":{\"histogram2dcontour\":[{\"type\":\"histogram2dcontour\",\"colorbar\":{\"outlinewidth\":0,\"ticks\":\"\"},\"colorscale\":[[0.0,\"#0d0887\"],[0.1111111111111111,\"#46039f\"],[0.2222222222222222,\"#7201a8\"],[0.3333333333333333,\"#9c179e\"],[0.4444444444444444,\"#bd3786\"],[0.5555555555555556,\"#d8576b\"],[0.6666666666666666,\"#ed7953\"],[0.7777777777777778,\"#fb9f3a\"],[0.8888888888888888,\"#fdca26\"],[1.0,\"#f0f921\"]]}],\"choropleth\":[{\"type\":\"choropleth\",\"colorbar\":{\"outlinewidth\":0,\"ticks\":\"\"}}],\"histogram2d\":[{\"type\":\"histogram2d\",\"colorbar\":{\"outlinewidth\":0,\"ticks\":\"\"},\"colorscale\":[[0.0,\"#0d0887\"],[0.1111111111111111,\"#46039f\"],[0.2222222222222222,\"#7201a8\"],[0.3333333333333333,\"#9c179e\"],[0.4444444444444444,\"#bd3786\"],[0.5555555555555556,\"#d8576b\"],[0.6666666666666666,\"#ed7953\"],[0.7777777777777778,\"#fb9f3a\"],[0.8888888888888888,\"#fdca26\"],[1.0,\"#f0f921\"]]}],\"heatmap\":[{\"type\":\"heatmap\",\"colorbar\":{\"outlinewidth\":0,\"ticks\":\"\"},\"colorscale\":[[0.0,\"#0d0887\"],[0.1111111111111111,\"#46039f\"],[0.2222222222222222,\"#7201a8\"],[0.3333333333333333,\"#9c179e\"],[0.4444444444444444,\"#bd3786\"],[0.5555555555555556,\"#d8576b\"],[0.6666666666666666,\"#ed7953\"],[0.7777777777777778,\"#fb9f3a\"],[0.8888888888888888,\"#fdca26\"],[1.0,\"#f0f921\"]]}],\"heatmapgl\":[{\"type\":\"heatmapgl\",\"colorbar\":{\"outlinewidth\":0,\"ticks\":\"\"},\"colorscale\":[[0.0,\"#0d0887\"],[0.1111111111111111,\"#46039f\"],[0.2222222222222222,\"#7201a8\"],[0.3333333333333333,\"#9c179e\"],[0.4444444444444444,\"#bd3786\"],[0.5555555555555556,\"#d8576b\"],[0.6666666666666666,\"#ed7953\"],[0.7777777777777778,\"#fb9f3a\"],[0.8888888888888888,\"#fdca26\"],[1.0,\"#f0f921\"]]}],\"contourcarpet\":[{\"type\":\"contourcarpet\",\"colorbar\":{\"outlinewidth\":0,\"ticks\":\"\"}}],\"contour\":[{\"type\":\"contour\",\"colorbar\":{\"outlinewidth\":0,\"ticks\":\"\"},\"colorscale\":[[0.0,\"#0d0887\"],[0.1111111111111111,\"#46039f\"],[0.2222222222222222,\"#7201a8\"],[0.3333333333333333,\"#9c179e\"],[0.4444444444444444,\"#bd3786\"],[0.5555555555555556,\"#d8576b\"],[0.6666666666666666,\"#ed7953\"],[0.7777777777777778,\"#fb9f3a\"],[0.8888888888888888,\"#fdca26\"],[1.0,\"#f0f921\"]]}],\"surface\":[{\"type\":\"surface\",\"colorbar\":{\"outlinewidth\":0,\"ticks\":\"\"},\"colorscale\":[[0.0,\"#0d0887\"],[0.1111111111111111,\"#46039f\"],[0.2222222222222222,\"#7201a8\"],[0.3333333333333333,\"#9c179e\"],[0.4444444444444444,\"#bd3786\"],[0.5555555555555556,\"#d8576b\"],[0.6666666666666666,\"#ed7953\"],[0.7777777777777778,\"#fb9f3a\"],[0.8888888888888888,\"#fdca26\"],[1.0,\"#f0f921\"]]}],\"mesh3d\":[{\"type\":\"mesh3d\",\"colorbar\":{\"outlinewidth\":0,\"ticks\":\"\"}}],\"scatter\":[{\"fillpattern\":{\"fillmode\":\"overlay\",\"size\":10,\"solidity\":0.2},\"type\":\"scatter\"}],\"parcoords\":[{\"type\":\"parcoords\",\"line\":{\"colorbar\":{\"outlinewidth\":0,\"ticks\":\"\"}}}],\"scatterpolargl\":[{\"type\":\"scatterpolargl\",\"marker\":{\"colorbar\":{\"outlinewidth\":0,\"ticks\":\"\"}}}],\"bar\":[{\"error_x\":{\"color\":\"#2a3f5f\"},\"error_y\":{\"color\":\"#2a3f5f\"},\"marker\":{\"line\":{\"color\":\"#E5ECF6\",\"width\":0.5},\"pattern\":{\"fillmode\":\"overlay\",\"size\":10,\"solidity\":0.2}},\"type\":\"bar\"}],\"scattergeo\":[{\"type\":\"scattergeo\",\"marker\":{\"colorbar\":{\"outlinewidth\":0,\"ticks\":\"\"}}}],\"scatterpolar\":[{\"type\":\"scatterpolar\",\"marker\":{\"colorbar\":{\"outlinewidth\":0,\"ticks\":\"\"}}}],\"histogram\":[{\"marker\":{\"pattern\":{\"fillmode\":\"overlay\",\"size\":10,\"solidity\":0.2}},\"type\":\"histogram\"}],\"scattergl\":[{\"type\":\"scattergl\",\"marker\":{\"colorbar\":{\"outlinewidth\":0,\"ticks\":\"\"}}}],\"scatter3d\":[{\"type\":\"scatter3d\",\"line\":{\"colorbar\":{\"outlinewidth\":0,\"ticks\":\"\"}},\"marker\":{\"colorbar\":{\"outlinewidth\":0,\"ticks\":\"\"}}}],\"scattermapbox\":[{\"type\":\"scattermapbox\",\"marker\":{\"colorbar\":{\"outlinewidth\":0,\"ticks\":\"\"}}}],\"scatterternary\":[{\"type\":\"scatterternary\",\"marker\":{\"colorbar\":{\"outlinewidth\":0,\"ticks\":\"\"}}}],\"scattercarpet\":[{\"type\":\"scattercarpet\",\"marker\":{\"colorbar\":{\"outlinewidth\":0,\"ticks\":\"\"}}}],\"carpet\":[{\"aaxis\":{\"endlinecolor\":\"#2a3f5f\",\"gridcolor\":\"white\",\"linecolor\":\"white\",\"minorgridcolor\":\"white\",\"startlinecolor\":\"#2a3f5f\"},\"baxis\":{\"endlinecolor\":\"#2a3f5f\",\"gridcolor\":\"white\",\"linecolor\":\"white\",\"minorgridcolor\":\"white\",\"startlinecolor\":\"#2a3f5f\"},\"type\":\"carpet\"}],\"table\":[{\"cells\":{\"fill\":{\"color\":\"#EBF0F8\"},\"line\":{\"color\":\"white\"}},\"header\":{\"fill\":{\"color\":\"#C8D4E3\"},\"line\":{\"color\":\"white\"}},\"type\":\"table\"}],\"barpolar\":[{\"marker\":{\"line\":{\"color\":\"#E5ECF6\",\"width\":0.5},\"pattern\":{\"fillmode\":\"overlay\",\"size\":10,\"solidity\":0.2}},\"type\":\"barpolar\"}],\"pie\":[{\"automargin\":true,\"type\":\"pie\"}]},\"layout\":{\"autotypenumbers\":\"strict\",\"colorway\":[\"#636efa\",\"#EF553B\",\"#00cc96\",\"#ab63fa\",\"#FFA15A\",\"#19d3f3\",\"#FF6692\",\"#B6E880\",\"#FF97FF\",\"#FECB52\"],\"font\":{\"color\":\"#2a3f5f\"},\"hovermode\":\"closest\",\"hoverlabel\":{\"align\":\"left\"},\"paper_bgcolor\":\"white\",\"plot_bgcolor\":\"#E5ECF6\",\"polar\":{\"bgcolor\":\"#E5ECF6\",\"angularaxis\":{\"gridcolor\":\"white\",\"linecolor\":\"white\",\"ticks\":\"\"},\"radialaxis\":{\"gridcolor\":\"white\",\"linecolor\":\"white\",\"ticks\":\"\"}},\"ternary\":{\"bgcolor\":\"#E5ECF6\",\"aaxis\":{\"gridcolor\":\"white\",\"linecolor\":\"white\",\"ticks\":\"\"},\"baxis\":{\"gridcolor\":\"white\",\"linecolor\":\"white\",\"ticks\":\"\"},\"caxis\":{\"gridcolor\":\"white\",\"linecolor\":\"white\",\"ticks\":\"\"}},\"coloraxis\":{\"colorbar\":{\"outlinewidth\":0,\"ticks\":\"\"}},\"colorscale\":{\"sequential\":[[0.0,\"#0d0887\"],[0.1111111111111111,\"#46039f\"],[0.2222222222222222,\"#7201a8\"],[0.3333333333333333,\"#9c179e\"],[0.4444444444444444,\"#bd3786\"],[0.5555555555555556,\"#d8576b\"],[0.6666666666666666,\"#ed7953\"],[0.7777777777777778,\"#fb9f3a\"],[0.8888888888888888,\"#fdca26\"],[1.0,\"#f0f921\"]],\"sequentialminus\":[[0.0,\"#0d0887\"],[0.1111111111111111,\"#46039f\"],[0.2222222222222222,\"#7201a8\"],[0.3333333333333333,\"#9c179e\"],[0.4444444444444444,\"#bd3786\"],[0.5555555555555556,\"#d8576b\"],[0.6666666666666666,\"#ed7953\"],[0.7777777777777778,\"#fb9f3a\"],[0.8888888888888888,\"#fdca26\"],[1.0,\"#f0f921\"]],\"diverging\":[[0,\"#8e0152\"],[0.1,\"#c51b7d\"],[0.2,\"#de77ae\"],[0.3,\"#f1b6da\"],[0.4,\"#fde0ef\"],[0.5,\"#f7f7f7\"],[0.6,\"#e6f5d0\"],[0.7,\"#b8e186\"],[0.8,\"#7fbc41\"],[0.9,\"#4d9221\"],[1,\"#276419\"]]},\"xaxis\":{\"gridcolor\":\"white\",\"linecolor\":\"white\",\"ticks\":\"\",\"title\":{\"standoff\":15},\"zerolinecolor\":\"white\",\"automargin\":true,\"zerolinewidth\":2},\"yaxis\":{\"gridcolor\":\"white\",\"linecolor\":\"white\",\"ticks\":\"\",\"title\":{\"standoff\":15},\"zerolinecolor\":\"white\",\"automargin\":true,\"zerolinewidth\":2},\"scene\":{\"xaxis\":{\"backgroundcolor\":\"#E5ECF6\",\"gridcolor\":\"white\",\"linecolor\":\"white\",\"showbackground\":true,\"ticks\":\"\",\"zerolinecolor\":\"white\",\"gridwidth\":2},\"yaxis\":{\"backgroundcolor\":\"#E5ECF6\",\"gridcolor\":\"white\",\"linecolor\":\"white\",\"showbackground\":true,\"ticks\":\"\",\"zerolinecolor\":\"white\",\"gridwidth\":2},\"zaxis\":{\"backgroundcolor\":\"#E5ECF6\",\"gridcolor\":\"white\",\"linecolor\":\"white\",\"showbackground\":true,\"ticks\":\"\",\"zerolinecolor\":\"white\",\"gridwidth\":2}},\"shapedefaults\":{\"line\":{\"color\":\"#2a3f5f\"}},\"annotationdefaults\":{\"arrowcolor\":\"#2a3f5f\",\"arrowhead\":0,\"arrowwidth\":1},\"geo\":{\"bgcolor\":\"white\",\"landcolor\":\"#E5ECF6\",\"subunitcolor\":\"white\",\"showland\":true,\"showlakes\":true,\"lakecolor\":\"white\"},\"title\":{\"x\":0.05},\"mapbox\":{\"style\":\"light\"}}},\"xaxis\":{\"anchor\":\"y\",\"domain\":[0.0,1.0],\"title\":{\"text\":\"time of day\"}},\"yaxis\":{\"anchor\":\"x\",\"domain\":[0.0,1.0],\"title\":{\"text\":\"sum of count\"}},\"legend\":{\"title\":{\"text\":\"Y\"},\"tracegroupgap\":0},\"title\":{\"text\":\"Number of Interviews vs Time of day\"},\"barmode\":\"group\"},                        {\"responsive\": true}                    ).then(function(){\n",
       "                            \n",
       "var gd = document.getElementById('de06f0cd-7c2f-420e-8557-c5060d2f278b');\n",
       "var x = new MutationObserver(function (mutations, observer) {{\n",
       "        var display = window.getComputedStyle(gd).display;\n",
       "        if (!display || display === 'none') {{\n",
       "            console.log([gd, 'removed!']);\n",
       "            Plotly.purge(gd);\n",
       "            observer.disconnect();\n",
       "        }}\n",
       "}});\n",
       "\n",
       "// Listen for the removal of the full notebook cells\n",
       "var notebookContainer = gd.closest('#notebook-container');\n",
       "if (notebookContainer) {{\n",
       "    x.observe(notebookContainer, {childList: true});\n",
       "}}\n",
       "\n",
       "// Listen for the clearing of the current output cell\n",
       "var outputEl = gd.closest('.output');\n",
       "if (outputEl) {{\n",
       "    x.observe(outputEl, {childList: true});\n",
       "}}\n",
       "\n",
       "                        })                };                });            </script>        </div>"
      ]
     },
     "metadata": {},
     "output_type": "display_data"
    }
   ],
   "source": [
    "# Create a histogram of number of interviews vs  Time of Day\n",
    "px.histogram(time_count_sort, x=\"time\",y=\"count\",color=\"Y\",barmode='group',\n",
    "             title=\"Number of Interviews vs Time of day\", labels={\"time\":\"time of day\"})"
   ]
  },
  {
   "cell_type": "markdown",
   "metadata": {},
   "source": [
    "#### Conclusions for this section\n",
    "From this general analysis, we can draw very interesting behaviors and conclusions:\n",
    "- The hours with the highest availability for accepting coupons are between 10 AM and 6 PM.\n",
    "- The highest flow of drivers occurs at 6 PM.\n",
    "- On sunny days, in contrast to others, there is approximately an 11.9% higher acceptance rate.\n",
    "- Sunny days have more traffic from drivers."
   ]
  },
  {
   "cell_type": "markdown",
   "metadata": {},
   "source": [
    "#### Now we will analyze the rest of the coupon types."
   ]
  },
  {
   "cell_type": "markdown",
   "metadata": {},
   "source": [
    "### Data analysis for \"Carry out & Take away\"\n",
    "Now we will analyze the most interesting relationships and behaviors for \"Carry out & Take away\"."
   ]
  },
  {
   "cell_type": "code",
   "execution_count": 178,
   "metadata": {},
   "outputs": [],
   "source": [
    "# Create a new DataFrame that contains just the Carry out & Take away coupons\n",
    "coy_df = data.query(\"coupon == 'Carry out & Take away'\")"
   ]
  },
  {
   "cell_type": "code",
   "execution_count": 179,
   "metadata": {
    "scrolled": false
   },
   "outputs": [],
   "source": [
    "# Group data by occupation\n",
    "occ_count_coy = coy_df.groupby(\"occupation\")[[\"Y\"]].mean().reset_index()"
   ]
  },
  {
   "cell_type": "code",
   "execution_count": 180,
   "metadata": {},
   "outputs": [
    {
     "data": {
      "application/vnd.plotly.v1+json": {
       "config": {
        "plotlyServerURL": "https://plot.ly"
       },
       "data": [
        {
         "alignmentgroup": "True",
         "bingroup": "x",
         "histfunc": "sum",
         "hovertemplate": "Occupation=%{x}<br>sum of Y=%{y}<extra></extra>",
         "legendgroup": "",
         "marker": {
          "color": "#636efa",
          "pattern": {
           "shape": ""
          }
         },
         "name": "",
         "offsetgroup": "",
         "orientation": "v",
         "showlegend": false,
         "type": "histogram",
         "x": [
          "Life Physical Social Science",
          "Legal",
          "Installation Maintenance & Repair",
          "Architecture & Engineering",
          "Student",
          "Arts Design Entertainment Sports & Media",
          "Education&Training&Library",
          "Retired",
          "Computer & Mathematical",
          "Sales & Related",
          "Community & Social Services",
          "Unemployed",
          "Office & Administrative Support",
          "Management",
          "Farming Fishing & Forestry",
          "Business & Financial",
          "Personal Care & Service",
          "Transportation & Material Moving",
          "Food Preparation & Serving Related",
          "Healthcare Support",
          "Production Occupations",
          "Healthcare Practitioners & Technical",
          "Construction & Extraction",
          "Protective Service",
          "Building & Grounds Cleaning & Maintenance"
         ],
         "xaxis": "x",
         "y": [
          0.5,
          0.5365853658536586,
          0.625,
          0.6333333333333333,
          0.6745762711864407,
          0.693069306930693,
          0.7012195121951219,
          0.7023809523809523,
          0.7125984251968503,
          0.7171717171717171,
          0.7272727272727273,
          0.7521613832853026,
          0.7627118644067796,
          0.7941176470588235,
          0.8,
          0.8080808080808081,
          0.8125,
          0.8157894736842105,
          0.8275862068965517,
          0.8333333333333334,
          0.8571428571428571,
          0.925,
          0.9642857142857143,
          0.967741935483871,
          1
         ],
         "yaxis": "y"
        }
       ],
       "layout": {
        "barmode": "group",
        "legend": {
         "tracegroupgap": 0
        },
        "template": {
         "data": {
          "bar": [
           {
            "error_x": {
             "color": "#2a3f5f"
            },
            "error_y": {
             "color": "#2a3f5f"
            },
            "marker": {
             "line": {
              "color": "#E5ECF6",
              "width": 0.5
             },
             "pattern": {
              "fillmode": "overlay",
              "size": 10,
              "solidity": 0.2
             }
            },
            "type": "bar"
           }
          ],
          "barpolar": [
           {
            "marker": {
             "line": {
              "color": "#E5ECF6",
              "width": 0.5
             },
             "pattern": {
              "fillmode": "overlay",
              "size": 10,
              "solidity": 0.2
             }
            },
            "type": "barpolar"
           }
          ],
          "carpet": [
           {
            "aaxis": {
             "endlinecolor": "#2a3f5f",
             "gridcolor": "white",
             "linecolor": "white",
             "minorgridcolor": "white",
             "startlinecolor": "#2a3f5f"
            },
            "baxis": {
             "endlinecolor": "#2a3f5f",
             "gridcolor": "white",
             "linecolor": "white",
             "minorgridcolor": "white",
             "startlinecolor": "#2a3f5f"
            },
            "type": "carpet"
           }
          ],
          "choropleth": [
           {
            "colorbar": {
             "outlinewidth": 0,
             "ticks": ""
            },
            "type": "choropleth"
           }
          ],
          "contour": [
           {
            "colorbar": {
             "outlinewidth": 0,
             "ticks": ""
            },
            "colorscale": [
             [
              0,
              "#0d0887"
             ],
             [
              0.1111111111111111,
              "#46039f"
             ],
             [
              0.2222222222222222,
              "#7201a8"
             ],
             [
              0.3333333333333333,
              "#9c179e"
             ],
             [
              0.4444444444444444,
              "#bd3786"
             ],
             [
              0.5555555555555556,
              "#d8576b"
             ],
             [
              0.6666666666666666,
              "#ed7953"
             ],
             [
              0.7777777777777778,
              "#fb9f3a"
             ],
             [
              0.8888888888888888,
              "#fdca26"
             ],
             [
              1,
              "#f0f921"
             ]
            ],
            "type": "contour"
           }
          ],
          "contourcarpet": [
           {
            "colorbar": {
             "outlinewidth": 0,
             "ticks": ""
            },
            "type": "contourcarpet"
           }
          ],
          "heatmap": [
           {
            "colorbar": {
             "outlinewidth": 0,
             "ticks": ""
            },
            "colorscale": [
             [
              0,
              "#0d0887"
             ],
             [
              0.1111111111111111,
              "#46039f"
             ],
             [
              0.2222222222222222,
              "#7201a8"
             ],
             [
              0.3333333333333333,
              "#9c179e"
             ],
             [
              0.4444444444444444,
              "#bd3786"
             ],
             [
              0.5555555555555556,
              "#d8576b"
             ],
             [
              0.6666666666666666,
              "#ed7953"
             ],
             [
              0.7777777777777778,
              "#fb9f3a"
             ],
             [
              0.8888888888888888,
              "#fdca26"
             ],
             [
              1,
              "#f0f921"
             ]
            ],
            "type": "heatmap"
           }
          ],
          "heatmapgl": [
           {
            "colorbar": {
             "outlinewidth": 0,
             "ticks": ""
            },
            "colorscale": [
             [
              0,
              "#0d0887"
             ],
             [
              0.1111111111111111,
              "#46039f"
             ],
             [
              0.2222222222222222,
              "#7201a8"
             ],
             [
              0.3333333333333333,
              "#9c179e"
             ],
             [
              0.4444444444444444,
              "#bd3786"
             ],
             [
              0.5555555555555556,
              "#d8576b"
             ],
             [
              0.6666666666666666,
              "#ed7953"
             ],
             [
              0.7777777777777778,
              "#fb9f3a"
             ],
             [
              0.8888888888888888,
              "#fdca26"
             ],
             [
              1,
              "#f0f921"
             ]
            ],
            "type": "heatmapgl"
           }
          ],
          "histogram": [
           {
            "marker": {
             "pattern": {
              "fillmode": "overlay",
              "size": 10,
              "solidity": 0.2
             }
            },
            "type": "histogram"
           }
          ],
          "histogram2d": [
           {
            "colorbar": {
             "outlinewidth": 0,
             "ticks": ""
            },
            "colorscale": [
             [
              0,
              "#0d0887"
             ],
             [
              0.1111111111111111,
              "#46039f"
             ],
             [
              0.2222222222222222,
              "#7201a8"
             ],
             [
              0.3333333333333333,
              "#9c179e"
             ],
             [
              0.4444444444444444,
              "#bd3786"
             ],
             [
              0.5555555555555556,
              "#d8576b"
             ],
             [
              0.6666666666666666,
              "#ed7953"
             ],
             [
              0.7777777777777778,
              "#fb9f3a"
             ],
             [
              0.8888888888888888,
              "#fdca26"
             ],
             [
              1,
              "#f0f921"
             ]
            ],
            "type": "histogram2d"
           }
          ],
          "histogram2dcontour": [
           {
            "colorbar": {
             "outlinewidth": 0,
             "ticks": ""
            },
            "colorscale": [
             [
              0,
              "#0d0887"
             ],
             [
              0.1111111111111111,
              "#46039f"
             ],
             [
              0.2222222222222222,
              "#7201a8"
             ],
             [
              0.3333333333333333,
              "#9c179e"
             ],
             [
              0.4444444444444444,
              "#bd3786"
             ],
             [
              0.5555555555555556,
              "#d8576b"
             ],
             [
              0.6666666666666666,
              "#ed7953"
             ],
             [
              0.7777777777777778,
              "#fb9f3a"
             ],
             [
              0.8888888888888888,
              "#fdca26"
             ],
             [
              1,
              "#f0f921"
             ]
            ],
            "type": "histogram2dcontour"
           }
          ],
          "mesh3d": [
           {
            "colorbar": {
             "outlinewidth": 0,
             "ticks": ""
            },
            "type": "mesh3d"
           }
          ],
          "parcoords": [
           {
            "line": {
             "colorbar": {
              "outlinewidth": 0,
              "ticks": ""
             }
            },
            "type": "parcoords"
           }
          ],
          "pie": [
           {
            "automargin": true,
            "type": "pie"
           }
          ],
          "scatter": [
           {
            "fillpattern": {
             "fillmode": "overlay",
             "size": 10,
             "solidity": 0.2
            },
            "type": "scatter"
           }
          ],
          "scatter3d": [
           {
            "line": {
             "colorbar": {
              "outlinewidth": 0,
              "ticks": ""
             }
            },
            "marker": {
             "colorbar": {
              "outlinewidth": 0,
              "ticks": ""
             }
            },
            "type": "scatter3d"
           }
          ],
          "scattercarpet": [
           {
            "marker": {
             "colorbar": {
              "outlinewidth": 0,
              "ticks": ""
             }
            },
            "type": "scattercarpet"
           }
          ],
          "scattergeo": [
           {
            "marker": {
             "colorbar": {
              "outlinewidth": 0,
              "ticks": ""
             }
            },
            "type": "scattergeo"
           }
          ],
          "scattergl": [
           {
            "marker": {
             "colorbar": {
              "outlinewidth": 0,
              "ticks": ""
             }
            },
            "type": "scattergl"
           }
          ],
          "scattermapbox": [
           {
            "marker": {
             "colorbar": {
              "outlinewidth": 0,
              "ticks": ""
             }
            },
            "type": "scattermapbox"
           }
          ],
          "scatterpolar": [
           {
            "marker": {
             "colorbar": {
              "outlinewidth": 0,
              "ticks": ""
             }
            },
            "type": "scatterpolar"
           }
          ],
          "scatterpolargl": [
           {
            "marker": {
             "colorbar": {
              "outlinewidth": 0,
              "ticks": ""
             }
            },
            "type": "scatterpolargl"
           }
          ],
          "scatterternary": [
           {
            "marker": {
             "colorbar": {
              "outlinewidth": 0,
              "ticks": ""
             }
            },
            "type": "scatterternary"
           }
          ],
          "surface": [
           {
            "colorbar": {
             "outlinewidth": 0,
             "ticks": ""
            },
            "colorscale": [
             [
              0,
              "#0d0887"
             ],
             [
              0.1111111111111111,
              "#46039f"
             ],
             [
              0.2222222222222222,
              "#7201a8"
             ],
             [
              0.3333333333333333,
              "#9c179e"
             ],
             [
              0.4444444444444444,
              "#bd3786"
             ],
             [
              0.5555555555555556,
              "#d8576b"
             ],
             [
              0.6666666666666666,
              "#ed7953"
             ],
             [
              0.7777777777777778,
              "#fb9f3a"
             ],
             [
              0.8888888888888888,
              "#fdca26"
             ],
             [
              1,
              "#f0f921"
             ]
            ],
            "type": "surface"
           }
          ],
          "table": [
           {
            "cells": {
             "fill": {
              "color": "#EBF0F8"
             },
             "line": {
              "color": "white"
             }
            },
            "header": {
             "fill": {
              "color": "#C8D4E3"
             },
             "line": {
              "color": "white"
             }
            },
            "type": "table"
           }
          ]
         },
         "layout": {
          "annotationdefaults": {
           "arrowcolor": "#2a3f5f",
           "arrowhead": 0,
           "arrowwidth": 1
          },
          "autotypenumbers": "strict",
          "coloraxis": {
           "colorbar": {
            "outlinewidth": 0,
            "ticks": ""
           }
          },
          "colorscale": {
           "diverging": [
            [
             0,
             "#8e0152"
            ],
            [
             0.1,
             "#c51b7d"
            ],
            [
             0.2,
             "#de77ae"
            ],
            [
             0.3,
             "#f1b6da"
            ],
            [
             0.4,
             "#fde0ef"
            ],
            [
             0.5,
             "#f7f7f7"
            ],
            [
             0.6,
             "#e6f5d0"
            ],
            [
             0.7,
             "#b8e186"
            ],
            [
             0.8,
             "#7fbc41"
            ],
            [
             0.9,
             "#4d9221"
            ],
            [
             1,
             "#276419"
            ]
           ],
           "sequential": [
            [
             0,
             "#0d0887"
            ],
            [
             0.1111111111111111,
             "#46039f"
            ],
            [
             0.2222222222222222,
             "#7201a8"
            ],
            [
             0.3333333333333333,
             "#9c179e"
            ],
            [
             0.4444444444444444,
             "#bd3786"
            ],
            [
             0.5555555555555556,
             "#d8576b"
            ],
            [
             0.6666666666666666,
             "#ed7953"
            ],
            [
             0.7777777777777778,
             "#fb9f3a"
            ],
            [
             0.8888888888888888,
             "#fdca26"
            ],
            [
             1,
             "#f0f921"
            ]
           ],
           "sequentialminus": [
            [
             0,
             "#0d0887"
            ],
            [
             0.1111111111111111,
             "#46039f"
            ],
            [
             0.2222222222222222,
             "#7201a8"
            ],
            [
             0.3333333333333333,
             "#9c179e"
            ],
            [
             0.4444444444444444,
             "#bd3786"
            ],
            [
             0.5555555555555556,
             "#d8576b"
            ],
            [
             0.6666666666666666,
             "#ed7953"
            ],
            [
             0.7777777777777778,
             "#fb9f3a"
            ],
            [
             0.8888888888888888,
             "#fdca26"
            ],
            [
             1,
             "#f0f921"
            ]
           ]
          },
          "colorway": [
           "#636efa",
           "#EF553B",
           "#00cc96",
           "#ab63fa",
           "#FFA15A",
           "#19d3f3",
           "#FF6692",
           "#B6E880",
           "#FF97FF",
           "#FECB52"
          ],
          "font": {
           "color": "#2a3f5f"
          },
          "geo": {
           "bgcolor": "white",
           "lakecolor": "white",
           "landcolor": "#E5ECF6",
           "showlakes": true,
           "showland": true,
           "subunitcolor": "white"
          },
          "hoverlabel": {
           "align": "left"
          },
          "hovermode": "closest",
          "mapbox": {
           "style": "light"
          },
          "paper_bgcolor": "white",
          "plot_bgcolor": "#E5ECF6",
          "polar": {
           "angularaxis": {
            "gridcolor": "white",
            "linecolor": "white",
            "ticks": ""
           },
           "bgcolor": "#E5ECF6",
           "radialaxis": {
            "gridcolor": "white",
            "linecolor": "white",
            "ticks": ""
           }
          },
          "scene": {
           "xaxis": {
            "backgroundcolor": "#E5ECF6",
            "gridcolor": "white",
            "gridwidth": 2,
            "linecolor": "white",
            "showbackground": true,
            "ticks": "",
            "zerolinecolor": "white"
           },
           "yaxis": {
            "backgroundcolor": "#E5ECF6",
            "gridcolor": "white",
            "gridwidth": 2,
            "linecolor": "white",
            "showbackground": true,
            "ticks": "",
            "zerolinecolor": "white"
           },
           "zaxis": {
            "backgroundcolor": "#E5ECF6",
            "gridcolor": "white",
            "gridwidth": 2,
            "linecolor": "white",
            "showbackground": true,
            "ticks": "",
            "zerolinecolor": "white"
           }
          },
          "shapedefaults": {
           "line": {
            "color": "#2a3f5f"
           }
          },
          "ternary": {
           "aaxis": {
            "gridcolor": "white",
            "linecolor": "white",
            "ticks": ""
           },
           "baxis": {
            "gridcolor": "white",
            "linecolor": "white",
            "ticks": ""
           },
           "bgcolor": "#E5ECF6",
           "caxis": {
            "gridcolor": "white",
            "linecolor": "white",
            "ticks": ""
           }
          },
          "title": {
           "x": 0.05
          },
          "xaxis": {
           "automargin": true,
           "gridcolor": "white",
           "linecolor": "white",
           "ticks": "",
           "title": {
            "standoff": 15
           },
           "zerolinecolor": "white",
           "zerolinewidth": 2
          },
          "yaxis": {
           "automargin": true,
           "gridcolor": "white",
           "linecolor": "white",
           "ticks": "",
           "title": {
            "standoff": 15
           },
           "zerolinecolor": "white",
           "zerolinewidth": 2
          }
         }
        },
        "title": {
         "text": "Number of Interviews vs Occupation for Carry out & Take away"
        },
        "xaxis": {
         "anchor": "y",
         "domain": [
          0,
          1
         ],
         "title": {
          "text": "Occupation"
         }
        },
        "yaxis": {
         "anchor": "x",
         "domain": [
          0,
          1
         ],
         "title": {
          "text": "sum of Y"
         }
        }
       }
      },
      "text/html": [
       "<div>                            <div id=\"fa340f85-1bd2-4137-81af-b759157cb43c\" class=\"plotly-graph-div\" style=\"height:525px; width:100%;\"></div>            <script type=\"text/javascript\">                require([\"plotly\"], function(Plotly) {                    window.PLOTLYENV=window.PLOTLYENV || {};                                    if (document.getElementById(\"fa340f85-1bd2-4137-81af-b759157cb43c\")) {                    Plotly.newPlot(                        \"fa340f85-1bd2-4137-81af-b759157cb43c\",                        [{\"alignmentgroup\":\"True\",\"bingroup\":\"x\",\"histfunc\":\"sum\",\"hovertemplate\":\"Occupation=%{x}<br>sum of Y=%{y}<extra></extra>\",\"legendgroup\":\"\",\"marker\":{\"color\":\"#636efa\",\"pattern\":{\"shape\":\"\"}},\"name\":\"\",\"offsetgroup\":\"\",\"orientation\":\"v\",\"showlegend\":false,\"x\":[\"Life Physical Social Science\",\"Legal\",\"Installation Maintenance & Repair\",\"Architecture & Engineering\",\"Student\",\"Arts Design Entertainment Sports & Media\",\"Education&Training&Library\",\"Retired\",\"Computer & Mathematical\",\"Sales & Related\",\"Community & Social Services\",\"Unemployed\",\"Office & Administrative Support\",\"Management\",\"Farming Fishing & Forestry\",\"Business & Financial\",\"Personal Care & Service\",\"Transportation & Material Moving\",\"Food Preparation & Serving Related\",\"Healthcare Support\",\"Production Occupations\",\"Healthcare Practitioners & Technical\",\"Construction & Extraction\",\"Protective Service\",\"Building & Grounds Cleaning & Maintenance\"],\"xaxis\":\"x\",\"y\":[0.5,0.5365853658536586,0.625,0.6333333333333333,0.6745762711864407,0.693069306930693,0.7012195121951219,0.7023809523809523,0.7125984251968503,0.7171717171717171,0.7272727272727273,0.7521613832853026,0.7627118644067796,0.7941176470588235,0.8,0.8080808080808081,0.8125,0.8157894736842105,0.8275862068965517,0.8333333333333334,0.8571428571428571,0.925,0.9642857142857143,0.967741935483871,1.0],\"yaxis\":\"y\",\"type\":\"histogram\"}],                        {\"template\":{\"data\":{\"histogram2dcontour\":[{\"type\":\"histogram2dcontour\",\"colorbar\":{\"outlinewidth\":0,\"ticks\":\"\"},\"colorscale\":[[0.0,\"#0d0887\"],[0.1111111111111111,\"#46039f\"],[0.2222222222222222,\"#7201a8\"],[0.3333333333333333,\"#9c179e\"],[0.4444444444444444,\"#bd3786\"],[0.5555555555555556,\"#d8576b\"],[0.6666666666666666,\"#ed7953\"],[0.7777777777777778,\"#fb9f3a\"],[0.8888888888888888,\"#fdca26\"],[1.0,\"#f0f921\"]]}],\"choropleth\":[{\"type\":\"choropleth\",\"colorbar\":{\"outlinewidth\":0,\"ticks\":\"\"}}],\"histogram2d\":[{\"type\":\"histogram2d\",\"colorbar\":{\"outlinewidth\":0,\"ticks\":\"\"},\"colorscale\":[[0.0,\"#0d0887\"],[0.1111111111111111,\"#46039f\"],[0.2222222222222222,\"#7201a8\"],[0.3333333333333333,\"#9c179e\"],[0.4444444444444444,\"#bd3786\"],[0.5555555555555556,\"#d8576b\"],[0.6666666666666666,\"#ed7953\"],[0.7777777777777778,\"#fb9f3a\"],[0.8888888888888888,\"#fdca26\"],[1.0,\"#f0f921\"]]}],\"heatmap\":[{\"type\":\"heatmap\",\"colorbar\":{\"outlinewidth\":0,\"ticks\":\"\"},\"colorscale\":[[0.0,\"#0d0887\"],[0.1111111111111111,\"#46039f\"],[0.2222222222222222,\"#7201a8\"],[0.3333333333333333,\"#9c179e\"],[0.4444444444444444,\"#bd3786\"],[0.5555555555555556,\"#d8576b\"],[0.6666666666666666,\"#ed7953\"],[0.7777777777777778,\"#fb9f3a\"],[0.8888888888888888,\"#fdca26\"],[1.0,\"#f0f921\"]]}],\"heatmapgl\":[{\"type\":\"heatmapgl\",\"colorbar\":{\"outlinewidth\":0,\"ticks\":\"\"},\"colorscale\":[[0.0,\"#0d0887\"],[0.1111111111111111,\"#46039f\"],[0.2222222222222222,\"#7201a8\"],[0.3333333333333333,\"#9c179e\"],[0.4444444444444444,\"#bd3786\"],[0.5555555555555556,\"#d8576b\"],[0.6666666666666666,\"#ed7953\"],[0.7777777777777778,\"#fb9f3a\"],[0.8888888888888888,\"#fdca26\"],[1.0,\"#f0f921\"]]}],\"contourcarpet\":[{\"type\":\"contourcarpet\",\"colorbar\":{\"outlinewidth\":0,\"ticks\":\"\"}}],\"contour\":[{\"type\":\"contour\",\"colorbar\":{\"outlinewidth\":0,\"ticks\":\"\"},\"colorscale\":[[0.0,\"#0d0887\"],[0.1111111111111111,\"#46039f\"],[0.2222222222222222,\"#7201a8\"],[0.3333333333333333,\"#9c179e\"],[0.4444444444444444,\"#bd3786\"],[0.5555555555555556,\"#d8576b\"],[0.6666666666666666,\"#ed7953\"],[0.7777777777777778,\"#fb9f3a\"],[0.8888888888888888,\"#fdca26\"],[1.0,\"#f0f921\"]]}],\"surface\":[{\"type\":\"surface\",\"colorbar\":{\"outlinewidth\":0,\"ticks\":\"\"},\"colorscale\":[[0.0,\"#0d0887\"],[0.1111111111111111,\"#46039f\"],[0.2222222222222222,\"#7201a8\"],[0.3333333333333333,\"#9c179e\"],[0.4444444444444444,\"#bd3786\"],[0.5555555555555556,\"#d8576b\"],[0.6666666666666666,\"#ed7953\"],[0.7777777777777778,\"#fb9f3a\"],[0.8888888888888888,\"#fdca26\"],[1.0,\"#f0f921\"]]}],\"mesh3d\":[{\"type\":\"mesh3d\",\"colorbar\":{\"outlinewidth\":0,\"ticks\":\"\"}}],\"scatter\":[{\"fillpattern\":{\"fillmode\":\"overlay\",\"size\":10,\"solidity\":0.2},\"type\":\"scatter\"}],\"parcoords\":[{\"type\":\"parcoords\",\"line\":{\"colorbar\":{\"outlinewidth\":0,\"ticks\":\"\"}}}],\"scatterpolargl\":[{\"type\":\"scatterpolargl\",\"marker\":{\"colorbar\":{\"outlinewidth\":0,\"ticks\":\"\"}}}],\"bar\":[{\"error_x\":{\"color\":\"#2a3f5f\"},\"error_y\":{\"color\":\"#2a3f5f\"},\"marker\":{\"line\":{\"color\":\"#E5ECF6\",\"width\":0.5},\"pattern\":{\"fillmode\":\"overlay\",\"size\":10,\"solidity\":0.2}},\"type\":\"bar\"}],\"scattergeo\":[{\"type\":\"scattergeo\",\"marker\":{\"colorbar\":{\"outlinewidth\":0,\"ticks\":\"\"}}}],\"scatterpolar\":[{\"type\":\"scatterpolar\",\"marker\":{\"colorbar\":{\"outlinewidth\":0,\"ticks\":\"\"}}}],\"histogram\":[{\"marker\":{\"pattern\":{\"fillmode\":\"overlay\",\"size\":10,\"solidity\":0.2}},\"type\":\"histogram\"}],\"scattergl\":[{\"type\":\"scattergl\",\"marker\":{\"colorbar\":{\"outlinewidth\":0,\"ticks\":\"\"}}}],\"scatter3d\":[{\"type\":\"scatter3d\",\"line\":{\"colorbar\":{\"outlinewidth\":0,\"ticks\":\"\"}},\"marker\":{\"colorbar\":{\"outlinewidth\":0,\"ticks\":\"\"}}}],\"scattermapbox\":[{\"type\":\"scattermapbox\",\"marker\":{\"colorbar\":{\"outlinewidth\":0,\"ticks\":\"\"}}}],\"scatterternary\":[{\"type\":\"scatterternary\",\"marker\":{\"colorbar\":{\"outlinewidth\":0,\"ticks\":\"\"}}}],\"scattercarpet\":[{\"type\":\"scattercarpet\",\"marker\":{\"colorbar\":{\"outlinewidth\":0,\"ticks\":\"\"}}}],\"carpet\":[{\"aaxis\":{\"endlinecolor\":\"#2a3f5f\",\"gridcolor\":\"white\",\"linecolor\":\"white\",\"minorgridcolor\":\"white\",\"startlinecolor\":\"#2a3f5f\"},\"baxis\":{\"endlinecolor\":\"#2a3f5f\",\"gridcolor\":\"white\",\"linecolor\":\"white\",\"minorgridcolor\":\"white\",\"startlinecolor\":\"#2a3f5f\"},\"type\":\"carpet\"}],\"table\":[{\"cells\":{\"fill\":{\"color\":\"#EBF0F8\"},\"line\":{\"color\":\"white\"}},\"header\":{\"fill\":{\"color\":\"#C8D4E3\"},\"line\":{\"color\":\"white\"}},\"type\":\"table\"}],\"barpolar\":[{\"marker\":{\"line\":{\"color\":\"#E5ECF6\",\"width\":0.5},\"pattern\":{\"fillmode\":\"overlay\",\"size\":10,\"solidity\":0.2}},\"type\":\"barpolar\"}],\"pie\":[{\"automargin\":true,\"type\":\"pie\"}]},\"layout\":{\"autotypenumbers\":\"strict\",\"colorway\":[\"#636efa\",\"#EF553B\",\"#00cc96\",\"#ab63fa\",\"#FFA15A\",\"#19d3f3\",\"#FF6692\",\"#B6E880\",\"#FF97FF\",\"#FECB52\"],\"font\":{\"color\":\"#2a3f5f\"},\"hovermode\":\"closest\",\"hoverlabel\":{\"align\":\"left\"},\"paper_bgcolor\":\"white\",\"plot_bgcolor\":\"#E5ECF6\",\"polar\":{\"bgcolor\":\"#E5ECF6\",\"angularaxis\":{\"gridcolor\":\"white\",\"linecolor\":\"white\",\"ticks\":\"\"},\"radialaxis\":{\"gridcolor\":\"white\",\"linecolor\":\"white\",\"ticks\":\"\"}},\"ternary\":{\"bgcolor\":\"#E5ECF6\",\"aaxis\":{\"gridcolor\":\"white\",\"linecolor\":\"white\",\"ticks\":\"\"},\"baxis\":{\"gridcolor\":\"white\",\"linecolor\":\"white\",\"ticks\":\"\"},\"caxis\":{\"gridcolor\":\"white\",\"linecolor\":\"white\",\"ticks\":\"\"}},\"coloraxis\":{\"colorbar\":{\"outlinewidth\":0,\"ticks\":\"\"}},\"colorscale\":{\"sequential\":[[0.0,\"#0d0887\"],[0.1111111111111111,\"#46039f\"],[0.2222222222222222,\"#7201a8\"],[0.3333333333333333,\"#9c179e\"],[0.4444444444444444,\"#bd3786\"],[0.5555555555555556,\"#d8576b\"],[0.6666666666666666,\"#ed7953\"],[0.7777777777777778,\"#fb9f3a\"],[0.8888888888888888,\"#fdca26\"],[1.0,\"#f0f921\"]],\"sequentialminus\":[[0.0,\"#0d0887\"],[0.1111111111111111,\"#46039f\"],[0.2222222222222222,\"#7201a8\"],[0.3333333333333333,\"#9c179e\"],[0.4444444444444444,\"#bd3786\"],[0.5555555555555556,\"#d8576b\"],[0.6666666666666666,\"#ed7953\"],[0.7777777777777778,\"#fb9f3a\"],[0.8888888888888888,\"#fdca26\"],[1.0,\"#f0f921\"]],\"diverging\":[[0,\"#8e0152\"],[0.1,\"#c51b7d\"],[0.2,\"#de77ae\"],[0.3,\"#f1b6da\"],[0.4,\"#fde0ef\"],[0.5,\"#f7f7f7\"],[0.6,\"#e6f5d0\"],[0.7,\"#b8e186\"],[0.8,\"#7fbc41\"],[0.9,\"#4d9221\"],[1,\"#276419\"]]},\"xaxis\":{\"gridcolor\":\"white\",\"linecolor\":\"white\",\"ticks\":\"\",\"title\":{\"standoff\":15},\"zerolinecolor\":\"white\",\"automargin\":true,\"zerolinewidth\":2},\"yaxis\":{\"gridcolor\":\"white\",\"linecolor\":\"white\",\"ticks\":\"\",\"title\":{\"standoff\":15},\"zerolinecolor\":\"white\",\"automargin\":true,\"zerolinewidth\":2},\"scene\":{\"xaxis\":{\"backgroundcolor\":\"#E5ECF6\",\"gridcolor\":\"white\",\"linecolor\":\"white\",\"showbackground\":true,\"ticks\":\"\",\"zerolinecolor\":\"white\",\"gridwidth\":2},\"yaxis\":{\"backgroundcolor\":\"#E5ECF6\",\"gridcolor\":\"white\",\"linecolor\":\"white\",\"showbackground\":true,\"ticks\":\"\",\"zerolinecolor\":\"white\",\"gridwidth\":2},\"zaxis\":{\"backgroundcolor\":\"#E5ECF6\",\"gridcolor\":\"white\",\"linecolor\":\"white\",\"showbackground\":true,\"ticks\":\"\",\"zerolinecolor\":\"white\",\"gridwidth\":2}},\"shapedefaults\":{\"line\":{\"color\":\"#2a3f5f\"}},\"annotationdefaults\":{\"arrowcolor\":\"#2a3f5f\",\"arrowhead\":0,\"arrowwidth\":1},\"geo\":{\"bgcolor\":\"white\",\"landcolor\":\"#E5ECF6\",\"subunitcolor\":\"white\",\"showland\":true,\"showlakes\":true,\"lakecolor\":\"white\"},\"title\":{\"x\":0.05},\"mapbox\":{\"style\":\"light\"}}},\"xaxis\":{\"anchor\":\"y\",\"domain\":[0.0,1.0],\"title\":{\"text\":\"Occupation\"}},\"yaxis\":{\"anchor\":\"x\",\"domain\":[0.0,1.0],\"title\":{\"text\":\"sum of Y\"}},\"legend\":{\"tracegroupgap\":0},\"title\":{\"text\":\"Number of Interviews vs Occupation for Carry out & Take away\"},\"barmode\":\"group\"},                        {\"responsive\": true}                    ).then(function(){\n",
       "                            \n",
       "var gd = document.getElementById('fa340f85-1bd2-4137-81af-b759157cb43c');\n",
       "var x = new MutationObserver(function (mutations, observer) {{\n",
       "        var display = window.getComputedStyle(gd).display;\n",
       "        if (!display || display === 'none') {{\n",
       "            console.log([gd, 'removed!']);\n",
       "            Plotly.purge(gd);\n",
       "            observer.disconnect();\n",
       "        }}\n",
       "}});\n",
       "\n",
       "// Listen for the removal of the full notebook cells\n",
       "var notebookContainer = gd.closest('#notebook-container');\n",
       "if (notebookContainer) {{\n",
       "    x.observe(notebookContainer, {childList: true});\n",
       "}}\n",
       "\n",
       "// Listen for the clearing of the current output cell\n",
       "var outputEl = gd.closest('.output');\n",
       "if (outputEl) {{\n",
       "    x.observe(outputEl, {childList: true});\n",
       "}}\n",
       "\n",
       "                        })                };                });            </script>        </div>"
      ]
     },
     "metadata": {},
     "output_type": "display_data"
    }
   ],
   "source": [
    "# Create a histogram of number of interviews vs Occupation\n",
    "px.histogram(occ_count_coy.sort_values(\"Y\"), x=\"occupation\",y=\"Y\",barmode='group',\n",
    "             title=\"Number of Interviews vs Occupation for Carry out & Take away\", labels={\"occupation\":\"Occupation\"})"
   ]
  },
  {
   "cell_type": "code",
   "execution_count": 181,
   "metadata": {
    "scrolled": false
   },
   "outputs": [],
   "source": [
    "# We analyze the drivers who are not in a hurry or going home, do not have children, and do not have a master's or doctoral degree.\n",
    "coy_df_yes = coy_df.query(\"((destination == 'No Urgent Place' | destination == 'Home') & passanger != 'Kid(s)' & education != 'Graduate degree (Masters or Doctorate)')\")\n",
    "coy_df_no = coy_df.query(\"not((destination == 'No Urgent Place' | destination == 'Home') & passanger != 'Kid(s)' & education != 'Graduate degree (Masters or Doctorate)')\")"
   ]
  },
  {
   "cell_type": "code",
   "execution_count": 182,
   "metadata": {},
   "outputs": [],
   "source": [
    "# Calculate the acceptance rate for each group\n",
    "coy_df_yes_rate = coy_df_yes[\"Y\"].mean()*100\n",
    "coy_df_no_rate = coy_df_no[\"Y\"].mean()*100"
   ]
  },
  {
   "cell_type": "code",
   "execution_count": 183,
   "metadata": {},
   "outputs": [
    {
     "name": "stdout",
     "output_type": "stream",
     "text": [
      "- Average acceptance rate for drivers who meet the criteria.:\n",
      " Total data: 1207\n",
      " Acceptance: 966\n",
      " Rate: 80.03%\n",
      "\n",
      "- Average acceptance rate for drivers who DONT meet the criteria.:\n",
      " Total data: 1073\n",
      " Acceptance: 716\n",
      " Rate: 66.72%\n",
      "\n"
     ]
    }
   ],
   "source": [
    "\n",
    "# Print the results\n",
    "print(\"- Average acceptance rate for drivers who meet the criteria.:\")\n",
    "print(\" Total data: \" + str(coy_df_yes[\"Y\"].shape[0]))\n",
    "print(\" Acceptance: \" + str(coy_df_yes[\"Y\"].sum()))\n",
    "print(\" Rate: \" + str(coy_df_yes_rate)[:5] + \"%\\n\")\n",
    "\n",
    "print(\"- Average acceptance rate for drivers who DONT meet the criteria.:\")\n",
    "print(\" Total data: \" + str(coy_df_no[\"Y\"].shape[0]))\n",
    "print(\" Acceptance: \" + str(coy_df_no[\"Y\"].sum()))\n",
    "print(\" Rate: \" + str(coy_df_no_rate)[:5] + \"%\\n\")"
   ]
  },
  {
   "cell_type": "markdown",
   "metadata": {},
   "source": [
    "#### Conclusions for this section\n",
    "We can conclude that the drivers who tend to accept the coupons fulfill the following criteria:\n",
    "- They are not in a hurry or going home.\n",
    "- They do not have children.\n",
    "- They do not have a master's or doctoral degree.\n",
    "- Those who consumed this type of coupon the most were: Construction & Extraction, Protective Service, and Building & Grounds Cleaning & Maintenance."
   ]
  },
  {
   "cell_type": "markdown",
   "metadata": {},
   "source": [
    "### Data analysis for \"Coffee House\"\n",
    "Now we will analyze the most interesting relationships and behaviors for \"Coffee House\"."
   ]
  },
  {
   "cell_type": "code",
   "execution_count": 184,
   "metadata": {},
   "outputs": [],
   "source": [
    "# Create a new DataFrame that contains just the Coffee House coupons\n",
    "cof_df = data.query(\"coupon == 'Coffee House'\")"
   ]
  },
  {
   "cell_type": "code",
   "execution_count": 185,
   "metadata": {
    "scrolled": false
   },
   "outputs": [],
   "source": [
    "# Group data by occupation\n",
    "occ_count_cof = cof_df.groupby(\"occupation\")[[\"Y\"]].mean().reset_index()"
   ]
  },
  {
   "cell_type": "code",
   "execution_count": 186,
   "metadata": {},
   "outputs": [
    {
     "data": {
      "application/vnd.plotly.v1+json": {
       "config": {
        "plotlyServerURL": "https://plot.ly"
       },
       "data": [
        {
         "alignmentgroup": "True",
         "bingroup": "x",
         "histfunc": "sum",
         "hovertemplate": "Occupation=%{x}<br>sum of Y=%{y}<extra></extra>",
         "legendgroup": "",
         "marker": {
          "color": "#636efa",
          "pattern": {
           "shape": ""
          }
         },
         "name": "",
         "offsetgroup": "",
         "orientation": "v",
         "showlegend": false,
         "type": "histogram",
         "x": [
          "Legal",
          "Community & Social Services",
          "Sales & Related",
          "Food Preparation & Serving Related",
          "Retired",
          "Education&Training&Library",
          "Office & Administrative Support",
          "Protective Service",
          "Production Occupations",
          "Management",
          "Business & Financial",
          "Life Physical Social Science",
          "Personal Care & Service",
          "Construction & Extraction",
          "Arts Design Entertainment Sports & Media",
          "Computer & Mathematical",
          "Unemployed",
          "Farming Fishing & Forestry",
          "Architecture & Engineering",
          "Installation Maintenance & Repair",
          "Student",
          "Healthcare Support",
          "Transportation & Material Moving",
          "Building & Grounds Cleaning & Maintenance",
          "Healthcare Practitioners & Technical"
         ],
         "xaxis": "x",
         "y": [
          0.37681159420289856,
          0.3787878787878788,
          0.3994252873563218,
          0.4025974025974026,
          0.40372670807453415,
          0.4139194139194139,
          0.4375,
          0.4482758620689655,
          0.45,
          0.45387453874538747,
          0.47183098591549294,
          0.47540983606557374,
          0.47619047619047616,
          0.4782608695652174,
          0.5,
          0.5011547344110855,
          0.5372050816696915,
          0.5454545454545454,
          0.5555555555555556,
          0.5681818181818182,
          0.6147368421052631,
          0.6153846153846154,
          0.618421052631579,
          0.7272727272727273,
          0.7605633802816901
         ],
         "yaxis": "y"
        }
       ],
       "layout": {
        "barmode": "group",
        "legend": {
         "tracegroupgap": 0
        },
        "template": {
         "data": {
          "bar": [
           {
            "error_x": {
             "color": "#2a3f5f"
            },
            "error_y": {
             "color": "#2a3f5f"
            },
            "marker": {
             "line": {
              "color": "#E5ECF6",
              "width": 0.5
             },
             "pattern": {
              "fillmode": "overlay",
              "size": 10,
              "solidity": 0.2
             }
            },
            "type": "bar"
           }
          ],
          "barpolar": [
           {
            "marker": {
             "line": {
              "color": "#E5ECF6",
              "width": 0.5
             },
             "pattern": {
              "fillmode": "overlay",
              "size": 10,
              "solidity": 0.2
             }
            },
            "type": "barpolar"
           }
          ],
          "carpet": [
           {
            "aaxis": {
             "endlinecolor": "#2a3f5f",
             "gridcolor": "white",
             "linecolor": "white",
             "minorgridcolor": "white",
             "startlinecolor": "#2a3f5f"
            },
            "baxis": {
             "endlinecolor": "#2a3f5f",
             "gridcolor": "white",
             "linecolor": "white",
             "minorgridcolor": "white",
             "startlinecolor": "#2a3f5f"
            },
            "type": "carpet"
           }
          ],
          "choropleth": [
           {
            "colorbar": {
             "outlinewidth": 0,
             "ticks": ""
            },
            "type": "choropleth"
           }
          ],
          "contour": [
           {
            "colorbar": {
             "outlinewidth": 0,
             "ticks": ""
            },
            "colorscale": [
             [
              0,
              "#0d0887"
             ],
             [
              0.1111111111111111,
              "#46039f"
             ],
             [
              0.2222222222222222,
              "#7201a8"
             ],
             [
              0.3333333333333333,
              "#9c179e"
             ],
             [
              0.4444444444444444,
              "#bd3786"
             ],
             [
              0.5555555555555556,
              "#d8576b"
             ],
             [
              0.6666666666666666,
              "#ed7953"
             ],
             [
              0.7777777777777778,
              "#fb9f3a"
             ],
             [
              0.8888888888888888,
              "#fdca26"
             ],
             [
              1,
              "#f0f921"
             ]
            ],
            "type": "contour"
           }
          ],
          "contourcarpet": [
           {
            "colorbar": {
             "outlinewidth": 0,
             "ticks": ""
            },
            "type": "contourcarpet"
           }
          ],
          "heatmap": [
           {
            "colorbar": {
             "outlinewidth": 0,
             "ticks": ""
            },
            "colorscale": [
             [
              0,
              "#0d0887"
             ],
             [
              0.1111111111111111,
              "#46039f"
             ],
             [
              0.2222222222222222,
              "#7201a8"
             ],
             [
              0.3333333333333333,
              "#9c179e"
             ],
             [
              0.4444444444444444,
              "#bd3786"
             ],
             [
              0.5555555555555556,
              "#d8576b"
             ],
             [
              0.6666666666666666,
              "#ed7953"
             ],
             [
              0.7777777777777778,
              "#fb9f3a"
             ],
             [
              0.8888888888888888,
              "#fdca26"
             ],
             [
              1,
              "#f0f921"
             ]
            ],
            "type": "heatmap"
           }
          ],
          "heatmapgl": [
           {
            "colorbar": {
             "outlinewidth": 0,
             "ticks": ""
            },
            "colorscale": [
             [
              0,
              "#0d0887"
             ],
             [
              0.1111111111111111,
              "#46039f"
             ],
             [
              0.2222222222222222,
              "#7201a8"
             ],
             [
              0.3333333333333333,
              "#9c179e"
             ],
             [
              0.4444444444444444,
              "#bd3786"
             ],
             [
              0.5555555555555556,
              "#d8576b"
             ],
             [
              0.6666666666666666,
              "#ed7953"
             ],
             [
              0.7777777777777778,
              "#fb9f3a"
             ],
             [
              0.8888888888888888,
              "#fdca26"
             ],
             [
              1,
              "#f0f921"
             ]
            ],
            "type": "heatmapgl"
           }
          ],
          "histogram": [
           {
            "marker": {
             "pattern": {
              "fillmode": "overlay",
              "size": 10,
              "solidity": 0.2
             }
            },
            "type": "histogram"
           }
          ],
          "histogram2d": [
           {
            "colorbar": {
             "outlinewidth": 0,
             "ticks": ""
            },
            "colorscale": [
             [
              0,
              "#0d0887"
             ],
             [
              0.1111111111111111,
              "#46039f"
             ],
             [
              0.2222222222222222,
              "#7201a8"
             ],
             [
              0.3333333333333333,
              "#9c179e"
             ],
             [
              0.4444444444444444,
              "#bd3786"
             ],
             [
              0.5555555555555556,
              "#d8576b"
             ],
             [
              0.6666666666666666,
              "#ed7953"
             ],
             [
              0.7777777777777778,
              "#fb9f3a"
             ],
             [
              0.8888888888888888,
              "#fdca26"
             ],
             [
              1,
              "#f0f921"
             ]
            ],
            "type": "histogram2d"
           }
          ],
          "histogram2dcontour": [
           {
            "colorbar": {
             "outlinewidth": 0,
             "ticks": ""
            },
            "colorscale": [
             [
              0,
              "#0d0887"
             ],
             [
              0.1111111111111111,
              "#46039f"
             ],
             [
              0.2222222222222222,
              "#7201a8"
             ],
             [
              0.3333333333333333,
              "#9c179e"
             ],
             [
              0.4444444444444444,
              "#bd3786"
             ],
             [
              0.5555555555555556,
              "#d8576b"
             ],
             [
              0.6666666666666666,
              "#ed7953"
             ],
             [
              0.7777777777777778,
              "#fb9f3a"
             ],
             [
              0.8888888888888888,
              "#fdca26"
             ],
             [
              1,
              "#f0f921"
             ]
            ],
            "type": "histogram2dcontour"
           }
          ],
          "mesh3d": [
           {
            "colorbar": {
             "outlinewidth": 0,
             "ticks": ""
            },
            "type": "mesh3d"
           }
          ],
          "parcoords": [
           {
            "line": {
             "colorbar": {
              "outlinewidth": 0,
              "ticks": ""
             }
            },
            "type": "parcoords"
           }
          ],
          "pie": [
           {
            "automargin": true,
            "type": "pie"
           }
          ],
          "scatter": [
           {
            "fillpattern": {
             "fillmode": "overlay",
             "size": 10,
             "solidity": 0.2
            },
            "type": "scatter"
           }
          ],
          "scatter3d": [
           {
            "line": {
             "colorbar": {
              "outlinewidth": 0,
              "ticks": ""
             }
            },
            "marker": {
             "colorbar": {
              "outlinewidth": 0,
              "ticks": ""
             }
            },
            "type": "scatter3d"
           }
          ],
          "scattercarpet": [
           {
            "marker": {
             "colorbar": {
              "outlinewidth": 0,
              "ticks": ""
             }
            },
            "type": "scattercarpet"
           }
          ],
          "scattergeo": [
           {
            "marker": {
             "colorbar": {
              "outlinewidth": 0,
              "ticks": ""
             }
            },
            "type": "scattergeo"
           }
          ],
          "scattergl": [
           {
            "marker": {
             "colorbar": {
              "outlinewidth": 0,
              "ticks": ""
             }
            },
            "type": "scattergl"
           }
          ],
          "scattermapbox": [
           {
            "marker": {
             "colorbar": {
              "outlinewidth": 0,
              "ticks": ""
             }
            },
            "type": "scattermapbox"
           }
          ],
          "scatterpolar": [
           {
            "marker": {
             "colorbar": {
              "outlinewidth": 0,
              "ticks": ""
             }
            },
            "type": "scatterpolar"
           }
          ],
          "scatterpolargl": [
           {
            "marker": {
             "colorbar": {
              "outlinewidth": 0,
              "ticks": ""
             }
            },
            "type": "scatterpolargl"
           }
          ],
          "scatterternary": [
           {
            "marker": {
             "colorbar": {
              "outlinewidth": 0,
              "ticks": ""
             }
            },
            "type": "scatterternary"
           }
          ],
          "surface": [
           {
            "colorbar": {
             "outlinewidth": 0,
             "ticks": ""
            },
            "colorscale": [
             [
              0,
              "#0d0887"
             ],
             [
              0.1111111111111111,
              "#46039f"
             ],
             [
              0.2222222222222222,
              "#7201a8"
             ],
             [
              0.3333333333333333,
              "#9c179e"
             ],
             [
              0.4444444444444444,
              "#bd3786"
             ],
             [
              0.5555555555555556,
              "#d8576b"
             ],
             [
              0.6666666666666666,
              "#ed7953"
             ],
             [
              0.7777777777777778,
              "#fb9f3a"
             ],
             [
              0.8888888888888888,
              "#fdca26"
             ],
             [
              1,
              "#f0f921"
             ]
            ],
            "type": "surface"
           }
          ],
          "table": [
           {
            "cells": {
             "fill": {
              "color": "#EBF0F8"
             },
             "line": {
              "color": "white"
             }
            },
            "header": {
             "fill": {
              "color": "#C8D4E3"
             },
             "line": {
              "color": "white"
             }
            },
            "type": "table"
           }
          ]
         },
         "layout": {
          "annotationdefaults": {
           "arrowcolor": "#2a3f5f",
           "arrowhead": 0,
           "arrowwidth": 1
          },
          "autotypenumbers": "strict",
          "coloraxis": {
           "colorbar": {
            "outlinewidth": 0,
            "ticks": ""
           }
          },
          "colorscale": {
           "diverging": [
            [
             0,
             "#8e0152"
            ],
            [
             0.1,
             "#c51b7d"
            ],
            [
             0.2,
             "#de77ae"
            ],
            [
             0.3,
             "#f1b6da"
            ],
            [
             0.4,
             "#fde0ef"
            ],
            [
             0.5,
             "#f7f7f7"
            ],
            [
             0.6,
             "#e6f5d0"
            ],
            [
             0.7,
             "#b8e186"
            ],
            [
             0.8,
             "#7fbc41"
            ],
            [
             0.9,
             "#4d9221"
            ],
            [
             1,
             "#276419"
            ]
           ],
           "sequential": [
            [
             0,
             "#0d0887"
            ],
            [
             0.1111111111111111,
             "#46039f"
            ],
            [
             0.2222222222222222,
             "#7201a8"
            ],
            [
             0.3333333333333333,
             "#9c179e"
            ],
            [
             0.4444444444444444,
             "#bd3786"
            ],
            [
             0.5555555555555556,
             "#d8576b"
            ],
            [
             0.6666666666666666,
             "#ed7953"
            ],
            [
             0.7777777777777778,
             "#fb9f3a"
            ],
            [
             0.8888888888888888,
             "#fdca26"
            ],
            [
             1,
             "#f0f921"
            ]
           ],
           "sequentialminus": [
            [
             0,
             "#0d0887"
            ],
            [
             0.1111111111111111,
             "#46039f"
            ],
            [
             0.2222222222222222,
             "#7201a8"
            ],
            [
             0.3333333333333333,
             "#9c179e"
            ],
            [
             0.4444444444444444,
             "#bd3786"
            ],
            [
             0.5555555555555556,
             "#d8576b"
            ],
            [
             0.6666666666666666,
             "#ed7953"
            ],
            [
             0.7777777777777778,
             "#fb9f3a"
            ],
            [
             0.8888888888888888,
             "#fdca26"
            ],
            [
             1,
             "#f0f921"
            ]
           ]
          },
          "colorway": [
           "#636efa",
           "#EF553B",
           "#00cc96",
           "#ab63fa",
           "#FFA15A",
           "#19d3f3",
           "#FF6692",
           "#B6E880",
           "#FF97FF",
           "#FECB52"
          ],
          "font": {
           "color": "#2a3f5f"
          },
          "geo": {
           "bgcolor": "white",
           "lakecolor": "white",
           "landcolor": "#E5ECF6",
           "showlakes": true,
           "showland": true,
           "subunitcolor": "white"
          },
          "hoverlabel": {
           "align": "left"
          },
          "hovermode": "closest",
          "mapbox": {
           "style": "light"
          },
          "paper_bgcolor": "white",
          "plot_bgcolor": "#E5ECF6",
          "polar": {
           "angularaxis": {
            "gridcolor": "white",
            "linecolor": "white",
            "ticks": ""
           },
           "bgcolor": "#E5ECF6",
           "radialaxis": {
            "gridcolor": "white",
            "linecolor": "white",
            "ticks": ""
           }
          },
          "scene": {
           "xaxis": {
            "backgroundcolor": "#E5ECF6",
            "gridcolor": "white",
            "gridwidth": 2,
            "linecolor": "white",
            "showbackground": true,
            "ticks": "",
            "zerolinecolor": "white"
           },
           "yaxis": {
            "backgroundcolor": "#E5ECF6",
            "gridcolor": "white",
            "gridwidth": 2,
            "linecolor": "white",
            "showbackground": true,
            "ticks": "",
            "zerolinecolor": "white"
           },
           "zaxis": {
            "backgroundcolor": "#E5ECF6",
            "gridcolor": "white",
            "gridwidth": 2,
            "linecolor": "white",
            "showbackground": true,
            "ticks": "",
            "zerolinecolor": "white"
           }
          },
          "shapedefaults": {
           "line": {
            "color": "#2a3f5f"
           }
          },
          "ternary": {
           "aaxis": {
            "gridcolor": "white",
            "linecolor": "white",
            "ticks": ""
           },
           "baxis": {
            "gridcolor": "white",
            "linecolor": "white",
            "ticks": ""
           },
           "bgcolor": "#E5ECF6",
           "caxis": {
            "gridcolor": "white",
            "linecolor": "white",
            "ticks": ""
           }
          },
          "title": {
           "x": 0.05
          },
          "xaxis": {
           "automargin": true,
           "gridcolor": "white",
           "linecolor": "white",
           "ticks": "",
           "title": {
            "standoff": 15
           },
           "zerolinecolor": "white",
           "zerolinewidth": 2
          },
          "yaxis": {
           "automargin": true,
           "gridcolor": "white",
           "linecolor": "white",
           "ticks": "",
           "title": {
            "standoff": 15
           },
           "zerolinecolor": "white",
           "zerolinewidth": 2
          }
         }
        },
        "title": {
         "text": "Number of Interviews vs Occupation for Coffee House"
        },
        "xaxis": {
         "anchor": "y",
         "domain": [
          0,
          1
         ],
         "title": {
          "text": "Occupation"
         }
        },
        "yaxis": {
         "anchor": "x",
         "domain": [
          0,
          1
         ],
         "title": {
          "text": "sum of Y"
         }
        }
       }
      },
      "text/html": [
       "<div>                            <div id=\"235e0603-f832-482c-860d-e84781b881cf\" class=\"plotly-graph-div\" style=\"height:525px; width:100%;\"></div>            <script type=\"text/javascript\">                require([\"plotly\"], function(Plotly) {                    window.PLOTLYENV=window.PLOTLYENV || {};                                    if (document.getElementById(\"235e0603-f832-482c-860d-e84781b881cf\")) {                    Plotly.newPlot(                        \"235e0603-f832-482c-860d-e84781b881cf\",                        [{\"alignmentgroup\":\"True\",\"bingroup\":\"x\",\"histfunc\":\"sum\",\"hovertemplate\":\"Occupation=%{x}<br>sum of Y=%{y}<extra></extra>\",\"legendgroup\":\"\",\"marker\":{\"color\":\"#636efa\",\"pattern\":{\"shape\":\"\"}},\"name\":\"\",\"offsetgroup\":\"\",\"orientation\":\"v\",\"showlegend\":false,\"x\":[\"Legal\",\"Community & Social Services\",\"Sales & Related\",\"Food Preparation & Serving Related\",\"Retired\",\"Education&Training&Library\",\"Office & Administrative Support\",\"Protective Service\",\"Production Occupations\",\"Management\",\"Business & Financial\",\"Life Physical Social Science\",\"Personal Care & Service\",\"Construction & Extraction\",\"Arts Design Entertainment Sports & Media\",\"Computer & Mathematical\",\"Unemployed\",\"Farming Fishing & Forestry\",\"Architecture & Engineering\",\"Installation Maintenance & Repair\",\"Student\",\"Healthcare Support\",\"Transportation & Material Moving\",\"Building & Grounds Cleaning & Maintenance\",\"Healthcare Practitioners & Technical\"],\"xaxis\":\"x\",\"y\":[0.37681159420289856,0.3787878787878788,0.3994252873563218,0.4025974025974026,0.40372670807453415,0.4139194139194139,0.4375,0.4482758620689655,0.45,0.45387453874538747,0.47183098591549294,0.47540983606557374,0.47619047619047616,0.4782608695652174,0.5,0.5011547344110855,0.5372050816696915,0.5454545454545454,0.5555555555555556,0.5681818181818182,0.6147368421052631,0.6153846153846154,0.618421052631579,0.7272727272727273,0.7605633802816901],\"yaxis\":\"y\",\"type\":\"histogram\"}],                        {\"template\":{\"data\":{\"histogram2dcontour\":[{\"type\":\"histogram2dcontour\",\"colorbar\":{\"outlinewidth\":0,\"ticks\":\"\"},\"colorscale\":[[0.0,\"#0d0887\"],[0.1111111111111111,\"#46039f\"],[0.2222222222222222,\"#7201a8\"],[0.3333333333333333,\"#9c179e\"],[0.4444444444444444,\"#bd3786\"],[0.5555555555555556,\"#d8576b\"],[0.6666666666666666,\"#ed7953\"],[0.7777777777777778,\"#fb9f3a\"],[0.8888888888888888,\"#fdca26\"],[1.0,\"#f0f921\"]]}],\"choropleth\":[{\"type\":\"choropleth\",\"colorbar\":{\"outlinewidth\":0,\"ticks\":\"\"}}],\"histogram2d\":[{\"type\":\"histogram2d\",\"colorbar\":{\"outlinewidth\":0,\"ticks\":\"\"},\"colorscale\":[[0.0,\"#0d0887\"],[0.1111111111111111,\"#46039f\"],[0.2222222222222222,\"#7201a8\"],[0.3333333333333333,\"#9c179e\"],[0.4444444444444444,\"#bd3786\"],[0.5555555555555556,\"#d8576b\"],[0.6666666666666666,\"#ed7953\"],[0.7777777777777778,\"#fb9f3a\"],[0.8888888888888888,\"#fdca26\"],[1.0,\"#f0f921\"]]}],\"heatmap\":[{\"type\":\"heatmap\",\"colorbar\":{\"outlinewidth\":0,\"ticks\":\"\"},\"colorscale\":[[0.0,\"#0d0887\"],[0.1111111111111111,\"#46039f\"],[0.2222222222222222,\"#7201a8\"],[0.3333333333333333,\"#9c179e\"],[0.4444444444444444,\"#bd3786\"],[0.5555555555555556,\"#d8576b\"],[0.6666666666666666,\"#ed7953\"],[0.7777777777777778,\"#fb9f3a\"],[0.8888888888888888,\"#fdca26\"],[1.0,\"#f0f921\"]]}],\"heatmapgl\":[{\"type\":\"heatmapgl\",\"colorbar\":{\"outlinewidth\":0,\"ticks\":\"\"},\"colorscale\":[[0.0,\"#0d0887\"],[0.1111111111111111,\"#46039f\"],[0.2222222222222222,\"#7201a8\"],[0.3333333333333333,\"#9c179e\"],[0.4444444444444444,\"#bd3786\"],[0.5555555555555556,\"#d8576b\"],[0.6666666666666666,\"#ed7953\"],[0.7777777777777778,\"#fb9f3a\"],[0.8888888888888888,\"#fdca26\"],[1.0,\"#f0f921\"]]}],\"contourcarpet\":[{\"type\":\"contourcarpet\",\"colorbar\":{\"outlinewidth\":0,\"ticks\":\"\"}}],\"contour\":[{\"type\":\"contour\",\"colorbar\":{\"outlinewidth\":0,\"ticks\":\"\"},\"colorscale\":[[0.0,\"#0d0887\"],[0.1111111111111111,\"#46039f\"],[0.2222222222222222,\"#7201a8\"],[0.3333333333333333,\"#9c179e\"],[0.4444444444444444,\"#bd3786\"],[0.5555555555555556,\"#d8576b\"],[0.6666666666666666,\"#ed7953\"],[0.7777777777777778,\"#fb9f3a\"],[0.8888888888888888,\"#fdca26\"],[1.0,\"#f0f921\"]]}],\"surface\":[{\"type\":\"surface\",\"colorbar\":{\"outlinewidth\":0,\"ticks\":\"\"},\"colorscale\":[[0.0,\"#0d0887\"],[0.1111111111111111,\"#46039f\"],[0.2222222222222222,\"#7201a8\"],[0.3333333333333333,\"#9c179e\"],[0.4444444444444444,\"#bd3786\"],[0.5555555555555556,\"#d8576b\"],[0.6666666666666666,\"#ed7953\"],[0.7777777777777778,\"#fb9f3a\"],[0.8888888888888888,\"#fdca26\"],[1.0,\"#f0f921\"]]}],\"mesh3d\":[{\"type\":\"mesh3d\",\"colorbar\":{\"outlinewidth\":0,\"ticks\":\"\"}}],\"scatter\":[{\"fillpattern\":{\"fillmode\":\"overlay\",\"size\":10,\"solidity\":0.2},\"type\":\"scatter\"}],\"parcoords\":[{\"type\":\"parcoords\",\"line\":{\"colorbar\":{\"outlinewidth\":0,\"ticks\":\"\"}}}],\"scatterpolargl\":[{\"type\":\"scatterpolargl\",\"marker\":{\"colorbar\":{\"outlinewidth\":0,\"ticks\":\"\"}}}],\"bar\":[{\"error_x\":{\"color\":\"#2a3f5f\"},\"error_y\":{\"color\":\"#2a3f5f\"},\"marker\":{\"line\":{\"color\":\"#E5ECF6\",\"width\":0.5},\"pattern\":{\"fillmode\":\"overlay\",\"size\":10,\"solidity\":0.2}},\"type\":\"bar\"}],\"scattergeo\":[{\"type\":\"scattergeo\",\"marker\":{\"colorbar\":{\"outlinewidth\":0,\"ticks\":\"\"}}}],\"scatterpolar\":[{\"type\":\"scatterpolar\",\"marker\":{\"colorbar\":{\"outlinewidth\":0,\"ticks\":\"\"}}}],\"histogram\":[{\"marker\":{\"pattern\":{\"fillmode\":\"overlay\",\"size\":10,\"solidity\":0.2}},\"type\":\"histogram\"}],\"scattergl\":[{\"type\":\"scattergl\",\"marker\":{\"colorbar\":{\"outlinewidth\":0,\"ticks\":\"\"}}}],\"scatter3d\":[{\"type\":\"scatter3d\",\"line\":{\"colorbar\":{\"outlinewidth\":0,\"ticks\":\"\"}},\"marker\":{\"colorbar\":{\"outlinewidth\":0,\"ticks\":\"\"}}}],\"scattermapbox\":[{\"type\":\"scattermapbox\",\"marker\":{\"colorbar\":{\"outlinewidth\":0,\"ticks\":\"\"}}}],\"scatterternary\":[{\"type\":\"scatterternary\",\"marker\":{\"colorbar\":{\"outlinewidth\":0,\"ticks\":\"\"}}}],\"scattercarpet\":[{\"type\":\"scattercarpet\",\"marker\":{\"colorbar\":{\"outlinewidth\":0,\"ticks\":\"\"}}}],\"carpet\":[{\"aaxis\":{\"endlinecolor\":\"#2a3f5f\",\"gridcolor\":\"white\",\"linecolor\":\"white\",\"minorgridcolor\":\"white\",\"startlinecolor\":\"#2a3f5f\"},\"baxis\":{\"endlinecolor\":\"#2a3f5f\",\"gridcolor\":\"white\",\"linecolor\":\"white\",\"minorgridcolor\":\"white\",\"startlinecolor\":\"#2a3f5f\"},\"type\":\"carpet\"}],\"table\":[{\"cells\":{\"fill\":{\"color\":\"#EBF0F8\"},\"line\":{\"color\":\"white\"}},\"header\":{\"fill\":{\"color\":\"#C8D4E3\"},\"line\":{\"color\":\"white\"}},\"type\":\"table\"}],\"barpolar\":[{\"marker\":{\"line\":{\"color\":\"#E5ECF6\",\"width\":0.5},\"pattern\":{\"fillmode\":\"overlay\",\"size\":10,\"solidity\":0.2}},\"type\":\"barpolar\"}],\"pie\":[{\"automargin\":true,\"type\":\"pie\"}]},\"layout\":{\"autotypenumbers\":\"strict\",\"colorway\":[\"#636efa\",\"#EF553B\",\"#00cc96\",\"#ab63fa\",\"#FFA15A\",\"#19d3f3\",\"#FF6692\",\"#B6E880\",\"#FF97FF\",\"#FECB52\"],\"font\":{\"color\":\"#2a3f5f\"},\"hovermode\":\"closest\",\"hoverlabel\":{\"align\":\"left\"},\"paper_bgcolor\":\"white\",\"plot_bgcolor\":\"#E5ECF6\",\"polar\":{\"bgcolor\":\"#E5ECF6\",\"angularaxis\":{\"gridcolor\":\"white\",\"linecolor\":\"white\",\"ticks\":\"\"},\"radialaxis\":{\"gridcolor\":\"white\",\"linecolor\":\"white\",\"ticks\":\"\"}},\"ternary\":{\"bgcolor\":\"#E5ECF6\",\"aaxis\":{\"gridcolor\":\"white\",\"linecolor\":\"white\",\"ticks\":\"\"},\"baxis\":{\"gridcolor\":\"white\",\"linecolor\":\"white\",\"ticks\":\"\"},\"caxis\":{\"gridcolor\":\"white\",\"linecolor\":\"white\",\"ticks\":\"\"}},\"coloraxis\":{\"colorbar\":{\"outlinewidth\":0,\"ticks\":\"\"}},\"colorscale\":{\"sequential\":[[0.0,\"#0d0887\"],[0.1111111111111111,\"#46039f\"],[0.2222222222222222,\"#7201a8\"],[0.3333333333333333,\"#9c179e\"],[0.4444444444444444,\"#bd3786\"],[0.5555555555555556,\"#d8576b\"],[0.6666666666666666,\"#ed7953\"],[0.7777777777777778,\"#fb9f3a\"],[0.8888888888888888,\"#fdca26\"],[1.0,\"#f0f921\"]],\"sequentialminus\":[[0.0,\"#0d0887\"],[0.1111111111111111,\"#46039f\"],[0.2222222222222222,\"#7201a8\"],[0.3333333333333333,\"#9c179e\"],[0.4444444444444444,\"#bd3786\"],[0.5555555555555556,\"#d8576b\"],[0.6666666666666666,\"#ed7953\"],[0.7777777777777778,\"#fb9f3a\"],[0.8888888888888888,\"#fdca26\"],[1.0,\"#f0f921\"]],\"diverging\":[[0,\"#8e0152\"],[0.1,\"#c51b7d\"],[0.2,\"#de77ae\"],[0.3,\"#f1b6da\"],[0.4,\"#fde0ef\"],[0.5,\"#f7f7f7\"],[0.6,\"#e6f5d0\"],[0.7,\"#b8e186\"],[0.8,\"#7fbc41\"],[0.9,\"#4d9221\"],[1,\"#276419\"]]},\"xaxis\":{\"gridcolor\":\"white\",\"linecolor\":\"white\",\"ticks\":\"\",\"title\":{\"standoff\":15},\"zerolinecolor\":\"white\",\"automargin\":true,\"zerolinewidth\":2},\"yaxis\":{\"gridcolor\":\"white\",\"linecolor\":\"white\",\"ticks\":\"\",\"title\":{\"standoff\":15},\"zerolinecolor\":\"white\",\"automargin\":true,\"zerolinewidth\":2},\"scene\":{\"xaxis\":{\"backgroundcolor\":\"#E5ECF6\",\"gridcolor\":\"white\",\"linecolor\":\"white\",\"showbackground\":true,\"ticks\":\"\",\"zerolinecolor\":\"white\",\"gridwidth\":2},\"yaxis\":{\"backgroundcolor\":\"#E5ECF6\",\"gridcolor\":\"white\",\"linecolor\":\"white\",\"showbackground\":true,\"ticks\":\"\",\"zerolinecolor\":\"white\",\"gridwidth\":2},\"zaxis\":{\"backgroundcolor\":\"#E5ECF6\",\"gridcolor\":\"white\",\"linecolor\":\"white\",\"showbackground\":true,\"ticks\":\"\",\"zerolinecolor\":\"white\",\"gridwidth\":2}},\"shapedefaults\":{\"line\":{\"color\":\"#2a3f5f\"}},\"annotationdefaults\":{\"arrowcolor\":\"#2a3f5f\",\"arrowhead\":0,\"arrowwidth\":1},\"geo\":{\"bgcolor\":\"white\",\"landcolor\":\"#E5ECF6\",\"subunitcolor\":\"white\",\"showland\":true,\"showlakes\":true,\"lakecolor\":\"white\"},\"title\":{\"x\":0.05},\"mapbox\":{\"style\":\"light\"}}},\"xaxis\":{\"anchor\":\"y\",\"domain\":[0.0,1.0],\"title\":{\"text\":\"Occupation\"}},\"yaxis\":{\"anchor\":\"x\",\"domain\":[0.0,1.0],\"title\":{\"text\":\"sum of Y\"}},\"legend\":{\"tracegroupgap\":0},\"title\":{\"text\":\"Number of Interviews vs Occupation for Coffee House\"},\"barmode\":\"group\"},                        {\"responsive\": true}                    ).then(function(){\n",
       "                            \n",
       "var gd = document.getElementById('235e0603-f832-482c-860d-e84781b881cf');\n",
       "var x = new MutationObserver(function (mutations, observer) {{\n",
       "        var display = window.getComputedStyle(gd).display;\n",
       "        if (!display || display === 'none') {{\n",
       "            console.log([gd, 'removed!']);\n",
       "            Plotly.purge(gd);\n",
       "            observer.disconnect();\n",
       "        }}\n",
       "}});\n",
       "\n",
       "// Listen for the removal of the full notebook cells\n",
       "var notebookContainer = gd.closest('#notebook-container');\n",
       "if (notebookContainer) {{\n",
       "    x.observe(notebookContainer, {childList: true});\n",
       "}}\n",
       "\n",
       "// Listen for the clearing of the current output cell\n",
       "var outputEl = gd.closest('.output');\n",
       "if (outputEl) {{\n",
       "    x.observe(outputEl, {childList: true});\n",
       "}}\n",
       "\n",
       "                        })                };                });            </script>        </div>"
      ]
     },
     "metadata": {},
     "output_type": "display_data"
    }
   ],
   "source": [
    "# Create a histogram of number of interviews vs Occupation\n",
    "px.histogram(occ_count_cof.sort_values(\"Y\"), x=\"occupation\",y=\"Y\",barmode='group',\n",
    "             title=\"Number of Interviews vs Occupation for Coffee House\", labels={\"occupation\":\"Occupation\"})"
   ]
  },
  {
   "cell_type": "code",
   "execution_count": 187,
   "metadata": {
    "scrolled": false
   },
   "outputs": [],
   "source": [
    "# We analyze the drivers who are not in a hurry, are accompanied by a friend or partner, \n",
    "# and go to the coffee house more than 1 to 3 times a month.\n",
    "cof_df_yes = cof_df.query(\"(destination == 'No Urgent Place' & (passanger == 'Friend(s)' | passanger == 'Partner') & (CoffeeHouse == '1~3' | CoffeeHouse == '4~8' | CoffeeHouse == 'gt8'))\")\n",
    "cof_df_no = cof_df.query(\"not(destination == 'No Urgent Place' & (passanger == 'Friend(s)' | passanger == 'Partner') & (CoffeeHouse == '1~3' | CoffeeHouse == '4~8' | CoffeeHouse == 'gt8'))\")"
   ]
  },
  {
   "cell_type": "code",
   "execution_count": 188,
   "metadata": {},
   "outputs": [],
   "source": [
    "# Calculate the acceptance rate for each group\n",
    "cof_df_yes_rate = cof_df_yes[\"Y\"].mean()*100\n",
    "cof_df_no_rate = cof_df_no[\"Y\"].mean()*100"
   ]
  },
  {
   "cell_type": "code",
   "execution_count": 189,
   "metadata": {
    "scrolled": true
   },
   "outputs": [
    {
     "name": "stdout",
     "output_type": "stream",
     "text": [
      "- Average acceptance rate for drivers who meet the criteria.:\n",
      " Total data: 684\n",
      " Acceptance: 526\n",
      " Rate: 76.90%\n",
      "\n",
      "- Average acceptance rate for drivers who DONT meet the criteria.:\n",
      " Total data: 3132\n",
      " Acceptance: 1368\n",
      " Rate: 43.67%\n",
      "\n"
     ]
    }
   ],
   "source": [
    "\n",
    "# Print the results\n",
    "print(\"- Average acceptance rate for drivers who meet the criteria.:\")\n",
    "print(\" Total data: \" + str(cof_df_yes[\"Y\"].shape[0]))\n",
    "print(\" Acceptance: \" + str(cof_df_yes[\"Y\"].sum()))\n",
    "print(\" Rate: \" + str(cof_df_yes_rate)[:5] + \"%\\n\")\n",
    "\n",
    "print(\"- Average acceptance rate for drivers who DONT meet the criteria.:\")\n",
    "print(\" Total data: \" + str(cof_df_no[\"Y\"].shape[0]))\n",
    "print(\" Acceptance: \" + str(cof_df_no[\"Y\"].sum()))\n",
    "print(\" Rate: \" + str(cof_df_no_rate)[:5] + \"%\\n\")"
   ]
  },
  {
   "cell_type": "markdown",
   "metadata": {},
   "source": [
    "#### Conclusions for this section\n",
    "We can conclude that the drivers who tend to accept the coupons fulfill the following criteria:\n",
    "- It is possible that they have occupations that involve working late hours, such as in the medical field or as students.\n",
    "- They are not in a rush to go anywhere.\n",
    "- They have either a friend or their partner as passengers.\n",
    "- They go to the coffee house more than 1 to 3 times a month."
   ]
  },
  {
   "cell_type": "markdown",
   "metadata": {},
   "source": [
    "### Data analysis for \"Restaurant(<20)\"\n",
    "Now we will analyze the most interesting relationships and behaviors for \"Restaurant(<20)\"."
   ]
  },
  {
   "cell_type": "code",
   "execution_count": 190,
   "metadata": {},
   "outputs": [],
   "source": [
    "# Create a new DataFrame that contains just the Restaurant(<20) coupons\n",
    "res_l_df  = data.query(\"coupon == 'Restaurant(<20)'\")"
   ]
  },
  {
   "cell_type": "code",
   "execution_count": 191,
   "metadata": {
    "scrolled": false
   },
   "outputs": [],
   "source": [
    "# Group data by occupation\n",
    "occ_count_res_l_df = coy_df.groupby(\"occupation\")[[\"Y\"]].mean().reset_index()"
   ]
  },
  {
   "cell_type": "code",
   "execution_count": 192,
   "metadata": {
    "scrolled": false
   },
   "outputs": [
    {
     "data": {
      "application/vnd.plotly.v1+json": {
       "config": {
        "plotlyServerURL": "https://plot.ly"
       },
       "data": [
        {
         "alignmentgroup": "True",
         "bingroup": "x",
         "histfunc": "sum",
         "hovertemplate": "Occupation=%{x}<br>sum of Y=%{y}<extra></extra>",
         "legendgroup": "",
         "marker": {
          "color": "#636efa",
          "pattern": {
           "shape": ""
          }
         },
         "name": "",
         "offsetgroup": "",
         "orientation": "v",
         "showlegend": false,
         "type": "histogram",
         "x": [
          "Life Physical Social Science",
          "Legal",
          "Installation Maintenance & Repair",
          "Architecture & Engineering",
          "Student",
          "Arts Design Entertainment Sports & Media",
          "Education&Training&Library",
          "Retired",
          "Computer & Mathematical",
          "Sales & Related",
          "Community & Social Services",
          "Unemployed",
          "Office & Administrative Support",
          "Management",
          "Farming Fishing & Forestry",
          "Business & Financial",
          "Personal Care & Service",
          "Transportation & Material Moving",
          "Food Preparation & Serving Related",
          "Healthcare Support",
          "Production Occupations",
          "Healthcare Practitioners & Technical",
          "Construction & Extraction",
          "Protective Service",
          "Building & Grounds Cleaning & Maintenance"
         ],
         "xaxis": "x",
         "y": [
          0.5,
          0.5365853658536586,
          0.625,
          0.6333333333333333,
          0.6745762711864407,
          0.693069306930693,
          0.7012195121951219,
          0.7023809523809523,
          0.7125984251968503,
          0.7171717171717171,
          0.7272727272727273,
          0.7521613832853026,
          0.7627118644067796,
          0.7941176470588235,
          0.8,
          0.8080808080808081,
          0.8125,
          0.8157894736842105,
          0.8275862068965517,
          0.8333333333333334,
          0.8571428571428571,
          0.925,
          0.9642857142857143,
          0.967741935483871,
          1
         ],
         "yaxis": "y"
        }
       ],
       "layout": {
        "barmode": "group",
        "legend": {
         "tracegroupgap": 0
        },
        "template": {
         "data": {
          "bar": [
           {
            "error_x": {
             "color": "#2a3f5f"
            },
            "error_y": {
             "color": "#2a3f5f"
            },
            "marker": {
             "line": {
              "color": "#E5ECF6",
              "width": 0.5
             },
             "pattern": {
              "fillmode": "overlay",
              "size": 10,
              "solidity": 0.2
             }
            },
            "type": "bar"
           }
          ],
          "barpolar": [
           {
            "marker": {
             "line": {
              "color": "#E5ECF6",
              "width": 0.5
             },
             "pattern": {
              "fillmode": "overlay",
              "size": 10,
              "solidity": 0.2
             }
            },
            "type": "barpolar"
           }
          ],
          "carpet": [
           {
            "aaxis": {
             "endlinecolor": "#2a3f5f",
             "gridcolor": "white",
             "linecolor": "white",
             "minorgridcolor": "white",
             "startlinecolor": "#2a3f5f"
            },
            "baxis": {
             "endlinecolor": "#2a3f5f",
             "gridcolor": "white",
             "linecolor": "white",
             "minorgridcolor": "white",
             "startlinecolor": "#2a3f5f"
            },
            "type": "carpet"
           }
          ],
          "choropleth": [
           {
            "colorbar": {
             "outlinewidth": 0,
             "ticks": ""
            },
            "type": "choropleth"
           }
          ],
          "contour": [
           {
            "colorbar": {
             "outlinewidth": 0,
             "ticks": ""
            },
            "colorscale": [
             [
              0,
              "#0d0887"
             ],
             [
              0.1111111111111111,
              "#46039f"
             ],
             [
              0.2222222222222222,
              "#7201a8"
             ],
             [
              0.3333333333333333,
              "#9c179e"
             ],
             [
              0.4444444444444444,
              "#bd3786"
             ],
             [
              0.5555555555555556,
              "#d8576b"
             ],
             [
              0.6666666666666666,
              "#ed7953"
             ],
             [
              0.7777777777777778,
              "#fb9f3a"
             ],
             [
              0.8888888888888888,
              "#fdca26"
             ],
             [
              1,
              "#f0f921"
             ]
            ],
            "type": "contour"
           }
          ],
          "contourcarpet": [
           {
            "colorbar": {
             "outlinewidth": 0,
             "ticks": ""
            },
            "type": "contourcarpet"
           }
          ],
          "heatmap": [
           {
            "colorbar": {
             "outlinewidth": 0,
             "ticks": ""
            },
            "colorscale": [
             [
              0,
              "#0d0887"
             ],
             [
              0.1111111111111111,
              "#46039f"
             ],
             [
              0.2222222222222222,
              "#7201a8"
             ],
             [
              0.3333333333333333,
              "#9c179e"
             ],
             [
              0.4444444444444444,
              "#bd3786"
             ],
             [
              0.5555555555555556,
              "#d8576b"
             ],
             [
              0.6666666666666666,
              "#ed7953"
             ],
             [
              0.7777777777777778,
              "#fb9f3a"
             ],
             [
              0.8888888888888888,
              "#fdca26"
             ],
             [
              1,
              "#f0f921"
             ]
            ],
            "type": "heatmap"
           }
          ],
          "heatmapgl": [
           {
            "colorbar": {
             "outlinewidth": 0,
             "ticks": ""
            },
            "colorscale": [
             [
              0,
              "#0d0887"
             ],
             [
              0.1111111111111111,
              "#46039f"
             ],
             [
              0.2222222222222222,
              "#7201a8"
             ],
             [
              0.3333333333333333,
              "#9c179e"
             ],
             [
              0.4444444444444444,
              "#bd3786"
             ],
             [
              0.5555555555555556,
              "#d8576b"
             ],
             [
              0.6666666666666666,
              "#ed7953"
             ],
             [
              0.7777777777777778,
              "#fb9f3a"
             ],
             [
              0.8888888888888888,
              "#fdca26"
             ],
             [
              1,
              "#f0f921"
             ]
            ],
            "type": "heatmapgl"
           }
          ],
          "histogram": [
           {
            "marker": {
             "pattern": {
              "fillmode": "overlay",
              "size": 10,
              "solidity": 0.2
             }
            },
            "type": "histogram"
           }
          ],
          "histogram2d": [
           {
            "colorbar": {
             "outlinewidth": 0,
             "ticks": ""
            },
            "colorscale": [
             [
              0,
              "#0d0887"
             ],
             [
              0.1111111111111111,
              "#46039f"
             ],
             [
              0.2222222222222222,
              "#7201a8"
             ],
             [
              0.3333333333333333,
              "#9c179e"
             ],
             [
              0.4444444444444444,
              "#bd3786"
             ],
             [
              0.5555555555555556,
              "#d8576b"
             ],
             [
              0.6666666666666666,
              "#ed7953"
             ],
             [
              0.7777777777777778,
              "#fb9f3a"
             ],
             [
              0.8888888888888888,
              "#fdca26"
             ],
             [
              1,
              "#f0f921"
             ]
            ],
            "type": "histogram2d"
           }
          ],
          "histogram2dcontour": [
           {
            "colorbar": {
             "outlinewidth": 0,
             "ticks": ""
            },
            "colorscale": [
             [
              0,
              "#0d0887"
             ],
             [
              0.1111111111111111,
              "#46039f"
             ],
             [
              0.2222222222222222,
              "#7201a8"
             ],
             [
              0.3333333333333333,
              "#9c179e"
             ],
             [
              0.4444444444444444,
              "#bd3786"
             ],
             [
              0.5555555555555556,
              "#d8576b"
             ],
             [
              0.6666666666666666,
              "#ed7953"
             ],
             [
              0.7777777777777778,
              "#fb9f3a"
             ],
             [
              0.8888888888888888,
              "#fdca26"
             ],
             [
              1,
              "#f0f921"
             ]
            ],
            "type": "histogram2dcontour"
           }
          ],
          "mesh3d": [
           {
            "colorbar": {
             "outlinewidth": 0,
             "ticks": ""
            },
            "type": "mesh3d"
           }
          ],
          "parcoords": [
           {
            "line": {
             "colorbar": {
              "outlinewidth": 0,
              "ticks": ""
             }
            },
            "type": "parcoords"
           }
          ],
          "pie": [
           {
            "automargin": true,
            "type": "pie"
           }
          ],
          "scatter": [
           {
            "fillpattern": {
             "fillmode": "overlay",
             "size": 10,
             "solidity": 0.2
            },
            "type": "scatter"
           }
          ],
          "scatter3d": [
           {
            "line": {
             "colorbar": {
              "outlinewidth": 0,
              "ticks": ""
             }
            },
            "marker": {
             "colorbar": {
              "outlinewidth": 0,
              "ticks": ""
             }
            },
            "type": "scatter3d"
           }
          ],
          "scattercarpet": [
           {
            "marker": {
             "colorbar": {
              "outlinewidth": 0,
              "ticks": ""
             }
            },
            "type": "scattercarpet"
           }
          ],
          "scattergeo": [
           {
            "marker": {
             "colorbar": {
              "outlinewidth": 0,
              "ticks": ""
             }
            },
            "type": "scattergeo"
           }
          ],
          "scattergl": [
           {
            "marker": {
             "colorbar": {
              "outlinewidth": 0,
              "ticks": ""
             }
            },
            "type": "scattergl"
           }
          ],
          "scattermapbox": [
           {
            "marker": {
             "colorbar": {
              "outlinewidth": 0,
              "ticks": ""
             }
            },
            "type": "scattermapbox"
           }
          ],
          "scatterpolar": [
           {
            "marker": {
             "colorbar": {
              "outlinewidth": 0,
              "ticks": ""
             }
            },
            "type": "scatterpolar"
           }
          ],
          "scatterpolargl": [
           {
            "marker": {
             "colorbar": {
              "outlinewidth": 0,
              "ticks": ""
             }
            },
            "type": "scatterpolargl"
           }
          ],
          "scatterternary": [
           {
            "marker": {
             "colorbar": {
              "outlinewidth": 0,
              "ticks": ""
             }
            },
            "type": "scatterternary"
           }
          ],
          "surface": [
           {
            "colorbar": {
             "outlinewidth": 0,
             "ticks": ""
            },
            "colorscale": [
             [
              0,
              "#0d0887"
             ],
             [
              0.1111111111111111,
              "#46039f"
             ],
             [
              0.2222222222222222,
              "#7201a8"
             ],
             [
              0.3333333333333333,
              "#9c179e"
             ],
             [
              0.4444444444444444,
              "#bd3786"
             ],
             [
              0.5555555555555556,
              "#d8576b"
             ],
             [
              0.6666666666666666,
              "#ed7953"
             ],
             [
              0.7777777777777778,
              "#fb9f3a"
             ],
             [
              0.8888888888888888,
              "#fdca26"
             ],
             [
              1,
              "#f0f921"
             ]
            ],
            "type": "surface"
           }
          ],
          "table": [
           {
            "cells": {
             "fill": {
              "color": "#EBF0F8"
             },
             "line": {
              "color": "white"
             }
            },
            "header": {
             "fill": {
              "color": "#C8D4E3"
             },
             "line": {
              "color": "white"
             }
            },
            "type": "table"
           }
          ]
         },
         "layout": {
          "annotationdefaults": {
           "arrowcolor": "#2a3f5f",
           "arrowhead": 0,
           "arrowwidth": 1
          },
          "autotypenumbers": "strict",
          "coloraxis": {
           "colorbar": {
            "outlinewidth": 0,
            "ticks": ""
           }
          },
          "colorscale": {
           "diverging": [
            [
             0,
             "#8e0152"
            ],
            [
             0.1,
             "#c51b7d"
            ],
            [
             0.2,
             "#de77ae"
            ],
            [
             0.3,
             "#f1b6da"
            ],
            [
             0.4,
             "#fde0ef"
            ],
            [
             0.5,
             "#f7f7f7"
            ],
            [
             0.6,
             "#e6f5d0"
            ],
            [
             0.7,
             "#b8e186"
            ],
            [
             0.8,
             "#7fbc41"
            ],
            [
             0.9,
             "#4d9221"
            ],
            [
             1,
             "#276419"
            ]
           ],
           "sequential": [
            [
             0,
             "#0d0887"
            ],
            [
             0.1111111111111111,
             "#46039f"
            ],
            [
             0.2222222222222222,
             "#7201a8"
            ],
            [
             0.3333333333333333,
             "#9c179e"
            ],
            [
             0.4444444444444444,
             "#bd3786"
            ],
            [
             0.5555555555555556,
             "#d8576b"
            ],
            [
             0.6666666666666666,
             "#ed7953"
            ],
            [
             0.7777777777777778,
             "#fb9f3a"
            ],
            [
             0.8888888888888888,
             "#fdca26"
            ],
            [
             1,
             "#f0f921"
            ]
           ],
           "sequentialminus": [
            [
             0,
             "#0d0887"
            ],
            [
             0.1111111111111111,
             "#46039f"
            ],
            [
             0.2222222222222222,
             "#7201a8"
            ],
            [
             0.3333333333333333,
             "#9c179e"
            ],
            [
             0.4444444444444444,
             "#bd3786"
            ],
            [
             0.5555555555555556,
             "#d8576b"
            ],
            [
             0.6666666666666666,
             "#ed7953"
            ],
            [
             0.7777777777777778,
             "#fb9f3a"
            ],
            [
             0.8888888888888888,
             "#fdca26"
            ],
            [
             1,
             "#f0f921"
            ]
           ]
          },
          "colorway": [
           "#636efa",
           "#EF553B",
           "#00cc96",
           "#ab63fa",
           "#FFA15A",
           "#19d3f3",
           "#FF6692",
           "#B6E880",
           "#FF97FF",
           "#FECB52"
          ],
          "font": {
           "color": "#2a3f5f"
          },
          "geo": {
           "bgcolor": "white",
           "lakecolor": "white",
           "landcolor": "#E5ECF6",
           "showlakes": true,
           "showland": true,
           "subunitcolor": "white"
          },
          "hoverlabel": {
           "align": "left"
          },
          "hovermode": "closest",
          "mapbox": {
           "style": "light"
          },
          "paper_bgcolor": "white",
          "plot_bgcolor": "#E5ECF6",
          "polar": {
           "angularaxis": {
            "gridcolor": "white",
            "linecolor": "white",
            "ticks": ""
           },
           "bgcolor": "#E5ECF6",
           "radialaxis": {
            "gridcolor": "white",
            "linecolor": "white",
            "ticks": ""
           }
          },
          "scene": {
           "xaxis": {
            "backgroundcolor": "#E5ECF6",
            "gridcolor": "white",
            "gridwidth": 2,
            "linecolor": "white",
            "showbackground": true,
            "ticks": "",
            "zerolinecolor": "white"
           },
           "yaxis": {
            "backgroundcolor": "#E5ECF6",
            "gridcolor": "white",
            "gridwidth": 2,
            "linecolor": "white",
            "showbackground": true,
            "ticks": "",
            "zerolinecolor": "white"
           },
           "zaxis": {
            "backgroundcolor": "#E5ECF6",
            "gridcolor": "white",
            "gridwidth": 2,
            "linecolor": "white",
            "showbackground": true,
            "ticks": "",
            "zerolinecolor": "white"
           }
          },
          "shapedefaults": {
           "line": {
            "color": "#2a3f5f"
           }
          },
          "ternary": {
           "aaxis": {
            "gridcolor": "white",
            "linecolor": "white",
            "ticks": ""
           },
           "baxis": {
            "gridcolor": "white",
            "linecolor": "white",
            "ticks": ""
           },
           "bgcolor": "#E5ECF6",
           "caxis": {
            "gridcolor": "white",
            "linecolor": "white",
            "ticks": ""
           }
          },
          "title": {
           "x": 0.05
          },
          "xaxis": {
           "automargin": true,
           "gridcolor": "white",
           "linecolor": "white",
           "ticks": "",
           "title": {
            "standoff": 15
           },
           "zerolinecolor": "white",
           "zerolinewidth": 2
          },
          "yaxis": {
           "automargin": true,
           "gridcolor": "white",
           "linecolor": "white",
           "ticks": "",
           "title": {
            "standoff": 15
           },
           "zerolinecolor": "white",
           "zerolinewidth": 2
          }
         }
        },
        "title": {
         "text": "Number of Interviews vs Occupation for Restaurant(<20)"
        },
        "xaxis": {
         "anchor": "y",
         "domain": [
          0,
          1
         ],
         "title": {
          "text": "Occupation"
         }
        },
        "yaxis": {
         "anchor": "x",
         "domain": [
          0,
          1
         ],
         "title": {
          "text": "sum of Y"
         }
        }
       }
      },
      "text/html": [
       "<div>                            <div id=\"c084d0b1-7b96-4949-bdbf-fc52fd25e179\" class=\"plotly-graph-div\" style=\"height:525px; width:100%;\"></div>            <script type=\"text/javascript\">                require([\"plotly\"], function(Plotly) {                    window.PLOTLYENV=window.PLOTLYENV || {};                                    if (document.getElementById(\"c084d0b1-7b96-4949-bdbf-fc52fd25e179\")) {                    Plotly.newPlot(                        \"c084d0b1-7b96-4949-bdbf-fc52fd25e179\",                        [{\"alignmentgroup\":\"True\",\"bingroup\":\"x\",\"histfunc\":\"sum\",\"hovertemplate\":\"Occupation=%{x}<br>sum of Y=%{y}<extra></extra>\",\"legendgroup\":\"\",\"marker\":{\"color\":\"#636efa\",\"pattern\":{\"shape\":\"\"}},\"name\":\"\",\"offsetgroup\":\"\",\"orientation\":\"v\",\"showlegend\":false,\"x\":[\"Life Physical Social Science\",\"Legal\",\"Installation Maintenance & Repair\",\"Architecture & Engineering\",\"Student\",\"Arts Design Entertainment Sports & Media\",\"Education&Training&Library\",\"Retired\",\"Computer & Mathematical\",\"Sales & Related\",\"Community & Social Services\",\"Unemployed\",\"Office & Administrative Support\",\"Management\",\"Farming Fishing & Forestry\",\"Business & Financial\",\"Personal Care & Service\",\"Transportation & Material Moving\",\"Food Preparation & Serving Related\",\"Healthcare Support\",\"Production Occupations\",\"Healthcare Practitioners & Technical\",\"Construction & Extraction\",\"Protective Service\",\"Building & Grounds Cleaning & Maintenance\"],\"xaxis\":\"x\",\"y\":[0.5,0.5365853658536586,0.625,0.6333333333333333,0.6745762711864407,0.693069306930693,0.7012195121951219,0.7023809523809523,0.7125984251968503,0.7171717171717171,0.7272727272727273,0.7521613832853026,0.7627118644067796,0.7941176470588235,0.8,0.8080808080808081,0.8125,0.8157894736842105,0.8275862068965517,0.8333333333333334,0.8571428571428571,0.925,0.9642857142857143,0.967741935483871,1.0],\"yaxis\":\"y\",\"type\":\"histogram\"}],                        {\"template\":{\"data\":{\"histogram2dcontour\":[{\"type\":\"histogram2dcontour\",\"colorbar\":{\"outlinewidth\":0,\"ticks\":\"\"},\"colorscale\":[[0.0,\"#0d0887\"],[0.1111111111111111,\"#46039f\"],[0.2222222222222222,\"#7201a8\"],[0.3333333333333333,\"#9c179e\"],[0.4444444444444444,\"#bd3786\"],[0.5555555555555556,\"#d8576b\"],[0.6666666666666666,\"#ed7953\"],[0.7777777777777778,\"#fb9f3a\"],[0.8888888888888888,\"#fdca26\"],[1.0,\"#f0f921\"]]}],\"choropleth\":[{\"type\":\"choropleth\",\"colorbar\":{\"outlinewidth\":0,\"ticks\":\"\"}}],\"histogram2d\":[{\"type\":\"histogram2d\",\"colorbar\":{\"outlinewidth\":0,\"ticks\":\"\"},\"colorscale\":[[0.0,\"#0d0887\"],[0.1111111111111111,\"#46039f\"],[0.2222222222222222,\"#7201a8\"],[0.3333333333333333,\"#9c179e\"],[0.4444444444444444,\"#bd3786\"],[0.5555555555555556,\"#d8576b\"],[0.6666666666666666,\"#ed7953\"],[0.7777777777777778,\"#fb9f3a\"],[0.8888888888888888,\"#fdca26\"],[1.0,\"#f0f921\"]]}],\"heatmap\":[{\"type\":\"heatmap\",\"colorbar\":{\"outlinewidth\":0,\"ticks\":\"\"},\"colorscale\":[[0.0,\"#0d0887\"],[0.1111111111111111,\"#46039f\"],[0.2222222222222222,\"#7201a8\"],[0.3333333333333333,\"#9c179e\"],[0.4444444444444444,\"#bd3786\"],[0.5555555555555556,\"#d8576b\"],[0.6666666666666666,\"#ed7953\"],[0.7777777777777778,\"#fb9f3a\"],[0.8888888888888888,\"#fdca26\"],[1.0,\"#f0f921\"]]}],\"heatmapgl\":[{\"type\":\"heatmapgl\",\"colorbar\":{\"outlinewidth\":0,\"ticks\":\"\"},\"colorscale\":[[0.0,\"#0d0887\"],[0.1111111111111111,\"#46039f\"],[0.2222222222222222,\"#7201a8\"],[0.3333333333333333,\"#9c179e\"],[0.4444444444444444,\"#bd3786\"],[0.5555555555555556,\"#d8576b\"],[0.6666666666666666,\"#ed7953\"],[0.7777777777777778,\"#fb9f3a\"],[0.8888888888888888,\"#fdca26\"],[1.0,\"#f0f921\"]]}],\"contourcarpet\":[{\"type\":\"contourcarpet\",\"colorbar\":{\"outlinewidth\":0,\"ticks\":\"\"}}],\"contour\":[{\"type\":\"contour\",\"colorbar\":{\"outlinewidth\":0,\"ticks\":\"\"},\"colorscale\":[[0.0,\"#0d0887\"],[0.1111111111111111,\"#46039f\"],[0.2222222222222222,\"#7201a8\"],[0.3333333333333333,\"#9c179e\"],[0.4444444444444444,\"#bd3786\"],[0.5555555555555556,\"#d8576b\"],[0.6666666666666666,\"#ed7953\"],[0.7777777777777778,\"#fb9f3a\"],[0.8888888888888888,\"#fdca26\"],[1.0,\"#f0f921\"]]}],\"surface\":[{\"type\":\"surface\",\"colorbar\":{\"outlinewidth\":0,\"ticks\":\"\"},\"colorscale\":[[0.0,\"#0d0887\"],[0.1111111111111111,\"#46039f\"],[0.2222222222222222,\"#7201a8\"],[0.3333333333333333,\"#9c179e\"],[0.4444444444444444,\"#bd3786\"],[0.5555555555555556,\"#d8576b\"],[0.6666666666666666,\"#ed7953\"],[0.7777777777777778,\"#fb9f3a\"],[0.8888888888888888,\"#fdca26\"],[1.0,\"#f0f921\"]]}],\"mesh3d\":[{\"type\":\"mesh3d\",\"colorbar\":{\"outlinewidth\":0,\"ticks\":\"\"}}],\"scatter\":[{\"fillpattern\":{\"fillmode\":\"overlay\",\"size\":10,\"solidity\":0.2},\"type\":\"scatter\"}],\"parcoords\":[{\"type\":\"parcoords\",\"line\":{\"colorbar\":{\"outlinewidth\":0,\"ticks\":\"\"}}}],\"scatterpolargl\":[{\"type\":\"scatterpolargl\",\"marker\":{\"colorbar\":{\"outlinewidth\":0,\"ticks\":\"\"}}}],\"bar\":[{\"error_x\":{\"color\":\"#2a3f5f\"},\"error_y\":{\"color\":\"#2a3f5f\"},\"marker\":{\"line\":{\"color\":\"#E5ECF6\",\"width\":0.5},\"pattern\":{\"fillmode\":\"overlay\",\"size\":10,\"solidity\":0.2}},\"type\":\"bar\"}],\"scattergeo\":[{\"type\":\"scattergeo\",\"marker\":{\"colorbar\":{\"outlinewidth\":0,\"ticks\":\"\"}}}],\"scatterpolar\":[{\"type\":\"scatterpolar\",\"marker\":{\"colorbar\":{\"outlinewidth\":0,\"ticks\":\"\"}}}],\"histogram\":[{\"marker\":{\"pattern\":{\"fillmode\":\"overlay\",\"size\":10,\"solidity\":0.2}},\"type\":\"histogram\"}],\"scattergl\":[{\"type\":\"scattergl\",\"marker\":{\"colorbar\":{\"outlinewidth\":0,\"ticks\":\"\"}}}],\"scatter3d\":[{\"type\":\"scatter3d\",\"line\":{\"colorbar\":{\"outlinewidth\":0,\"ticks\":\"\"}},\"marker\":{\"colorbar\":{\"outlinewidth\":0,\"ticks\":\"\"}}}],\"scattermapbox\":[{\"type\":\"scattermapbox\",\"marker\":{\"colorbar\":{\"outlinewidth\":0,\"ticks\":\"\"}}}],\"scatterternary\":[{\"type\":\"scatterternary\",\"marker\":{\"colorbar\":{\"outlinewidth\":0,\"ticks\":\"\"}}}],\"scattercarpet\":[{\"type\":\"scattercarpet\",\"marker\":{\"colorbar\":{\"outlinewidth\":0,\"ticks\":\"\"}}}],\"carpet\":[{\"aaxis\":{\"endlinecolor\":\"#2a3f5f\",\"gridcolor\":\"white\",\"linecolor\":\"white\",\"minorgridcolor\":\"white\",\"startlinecolor\":\"#2a3f5f\"},\"baxis\":{\"endlinecolor\":\"#2a3f5f\",\"gridcolor\":\"white\",\"linecolor\":\"white\",\"minorgridcolor\":\"white\",\"startlinecolor\":\"#2a3f5f\"},\"type\":\"carpet\"}],\"table\":[{\"cells\":{\"fill\":{\"color\":\"#EBF0F8\"},\"line\":{\"color\":\"white\"}},\"header\":{\"fill\":{\"color\":\"#C8D4E3\"},\"line\":{\"color\":\"white\"}},\"type\":\"table\"}],\"barpolar\":[{\"marker\":{\"line\":{\"color\":\"#E5ECF6\",\"width\":0.5},\"pattern\":{\"fillmode\":\"overlay\",\"size\":10,\"solidity\":0.2}},\"type\":\"barpolar\"}],\"pie\":[{\"automargin\":true,\"type\":\"pie\"}]},\"layout\":{\"autotypenumbers\":\"strict\",\"colorway\":[\"#636efa\",\"#EF553B\",\"#00cc96\",\"#ab63fa\",\"#FFA15A\",\"#19d3f3\",\"#FF6692\",\"#B6E880\",\"#FF97FF\",\"#FECB52\"],\"font\":{\"color\":\"#2a3f5f\"},\"hovermode\":\"closest\",\"hoverlabel\":{\"align\":\"left\"},\"paper_bgcolor\":\"white\",\"plot_bgcolor\":\"#E5ECF6\",\"polar\":{\"bgcolor\":\"#E5ECF6\",\"angularaxis\":{\"gridcolor\":\"white\",\"linecolor\":\"white\",\"ticks\":\"\"},\"radialaxis\":{\"gridcolor\":\"white\",\"linecolor\":\"white\",\"ticks\":\"\"}},\"ternary\":{\"bgcolor\":\"#E5ECF6\",\"aaxis\":{\"gridcolor\":\"white\",\"linecolor\":\"white\",\"ticks\":\"\"},\"baxis\":{\"gridcolor\":\"white\",\"linecolor\":\"white\",\"ticks\":\"\"},\"caxis\":{\"gridcolor\":\"white\",\"linecolor\":\"white\",\"ticks\":\"\"}},\"coloraxis\":{\"colorbar\":{\"outlinewidth\":0,\"ticks\":\"\"}},\"colorscale\":{\"sequential\":[[0.0,\"#0d0887\"],[0.1111111111111111,\"#46039f\"],[0.2222222222222222,\"#7201a8\"],[0.3333333333333333,\"#9c179e\"],[0.4444444444444444,\"#bd3786\"],[0.5555555555555556,\"#d8576b\"],[0.6666666666666666,\"#ed7953\"],[0.7777777777777778,\"#fb9f3a\"],[0.8888888888888888,\"#fdca26\"],[1.0,\"#f0f921\"]],\"sequentialminus\":[[0.0,\"#0d0887\"],[0.1111111111111111,\"#46039f\"],[0.2222222222222222,\"#7201a8\"],[0.3333333333333333,\"#9c179e\"],[0.4444444444444444,\"#bd3786\"],[0.5555555555555556,\"#d8576b\"],[0.6666666666666666,\"#ed7953\"],[0.7777777777777778,\"#fb9f3a\"],[0.8888888888888888,\"#fdca26\"],[1.0,\"#f0f921\"]],\"diverging\":[[0,\"#8e0152\"],[0.1,\"#c51b7d\"],[0.2,\"#de77ae\"],[0.3,\"#f1b6da\"],[0.4,\"#fde0ef\"],[0.5,\"#f7f7f7\"],[0.6,\"#e6f5d0\"],[0.7,\"#b8e186\"],[0.8,\"#7fbc41\"],[0.9,\"#4d9221\"],[1,\"#276419\"]]},\"xaxis\":{\"gridcolor\":\"white\",\"linecolor\":\"white\",\"ticks\":\"\",\"title\":{\"standoff\":15},\"zerolinecolor\":\"white\",\"automargin\":true,\"zerolinewidth\":2},\"yaxis\":{\"gridcolor\":\"white\",\"linecolor\":\"white\",\"ticks\":\"\",\"title\":{\"standoff\":15},\"zerolinecolor\":\"white\",\"automargin\":true,\"zerolinewidth\":2},\"scene\":{\"xaxis\":{\"backgroundcolor\":\"#E5ECF6\",\"gridcolor\":\"white\",\"linecolor\":\"white\",\"showbackground\":true,\"ticks\":\"\",\"zerolinecolor\":\"white\",\"gridwidth\":2},\"yaxis\":{\"backgroundcolor\":\"#E5ECF6\",\"gridcolor\":\"white\",\"linecolor\":\"white\",\"showbackground\":true,\"ticks\":\"\",\"zerolinecolor\":\"white\",\"gridwidth\":2},\"zaxis\":{\"backgroundcolor\":\"#E5ECF6\",\"gridcolor\":\"white\",\"linecolor\":\"white\",\"showbackground\":true,\"ticks\":\"\",\"zerolinecolor\":\"white\",\"gridwidth\":2}},\"shapedefaults\":{\"line\":{\"color\":\"#2a3f5f\"}},\"annotationdefaults\":{\"arrowcolor\":\"#2a3f5f\",\"arrowhead\":0,\"arrowwidth\":1},\"geo\":{\"bgcolor\":\"white\",\"landcolor\":\"#E5ECF6\",\"subunitcolor\":\"white\",\"showland\":true,\"showlakes\":true,\"lakecolor\":\"white\"},\"title\":{\"x\":0.05},\"mapbox\":{\"style\":\"light\"}}},\"xaxis\":{\"anchor\":\"y\",\"domain\":[0.0,1.0],\"title\":{\"text\":\"Occupation\"}},\"yaxis\":{\"anchor\":\"x\",\"domain\":[0.0,1.0],\"title\":{\"text\":\"sum of Y\"}},\"legend\":{\"tracegroupgap\":0},\"title\":{\"text\":\"Number of Interviews vs Occupation for Restaurant(<20)\"},\"barmode\":\"group\"},                        {\"responsive\": true}                    ).then(function(){\n",
       "                            \n",
       "var gd = document.getElementById('c084d0b1-7b96-4949-bdbf-fc52fd25e179');\n",
       "var x = new MutationObserver(function (mutations, observer) {{\n",
       "        var display = window.getComputedStyle(gd).display;\n",
       "        if (!display || display === 'none') {{\n",
       "            console.log([gd, 'removed!']);\n",
       "            Plotly.purge(gd);\n",
       "            observer.disconnect();\n",
       "        }}\n",
       "}});\n",
       "\n",
       "// Listen for the removal of the full notebook cells\n",
       "var notebookContainer = gd.closest('#notebook-container');\n",
       "if (notebookContainer) {{\n",
       "    x.observe(notebookContainer, {childList: true});\n",
       "}}\n",
       "\n",
       "// Listen for the clearing of the current output cell\n",
       "var outputEl = gd.closest('.output');\n",
       "if (outputEl) {{\n",
       "    x.observe(outputEl, {childList: true});\n",
       "}}\n",
       "\n",
       "                        })                };                });            </script>        </div>"
      ]
     },
     "metadata": {},
     "output_type": "display_data"
    }
   ],
   "source": [
    "# Create a histogram of number of interviews vs Occupation\n",
    "px.histogram(occ_count_res_l_df.sort_values(\"Y\"), x=\"occupation\",y=\"Y\",barmode='group',\n",
    "             title=\"Number of Interviews vs Occupation for Restaurant(<20)\", labels={\"occupation\":\"Occupation\"})"
   ]
  },
  {
   "cell_type": "code",
   "execution_count": 193,
   "metadata": {
    "scrolled": false
   },
   "outputs": [],
   "source": [
    "# We analyze the drivers who are not in a hurry, are not traveling alone, the coupon has more than one day before expiration, \n",
    "# and they are in the time range of 2 PM to 6 PM.\n",
    "res_l_df_yes = res_l_df.query(\"(destination == 'No Urgent Place' & passanger != 'Alone' & expiration == '1d' & (time == '2PM' | time == '6PM'))\")\n",
    "res_l_df_no = res_l_df.query(\"not(destination == 'No Urgent Place' & passanger != 'Alone' & expiration == '1d' & (time == '2PM' | time == '6PM'))\")"
   ]
  },
  {
   "cell_type": "code",
   "execution_count": 194,
   "metadata": {},
   "outputs": [],
   "source": [
    "# Calculate the acceptance rate for each group\n",
    "res_l_df_yes_rate = res_l_df_yes[\"Y\"].mean()*100\n",
    "res_l_df_no_rate = res_l_df_no[\"Y\"].mean()*100"
   ]
  },
  {
   "cell_type": "code",
   "execution_count": 195,
   "metadata": {
    "scrolled": true
   },
   "outputs": [
    {
     "name": "stdout",
     "output_type": "stream",
     "text": [
      "- Average acceptance rate for drivers who meet the criteria.:\n",
      " Total data: 428\n",
      " Acceptance: 379\n",
      " Rate: 88.55%\n",
      "\n",
      "- Average acceptance rate for drivers who DONT meet the criteria.:\n",
      " Total data: 2225\n",
      " Acceptance: 1502\n",
      " Rate: 67.50%\n",
      "\n"
     ]
    }
   ],
   "source": [
    "\n",
    "# Print the results\n",
    "print(\"- Average acceptance rate for drivers who meet the criteria.:\")\n",
    "print(\" Total data: \" + str(res_l_df_yes[\"Y\"].shape[0]))\n",
    "print(\" Acceptance: \" + str(res_l_df_yes[\"Y\"].sum()))\n",
    "print(\" Rate: \" + str(res_l_df_yes_rate)[:5] + \"%\\n\")\n",
    "\n",
    "print(\"- Average acceptance rate for drivers who DONT meet the criteria.:\")\n",
    "print(\" Total data: \" + str(res_l_df_no[\"Y\"].shape[0]))\n",
    "print(\" Acceptance: \" + str(res_l_df_no[\"Y\"].sum()))\n",
    "print(\" Rate: \" + str(res_l_df_no_rate)[:5] + \"%\\n\")"
   ]
  },
  {
   "cell_type": "markdown",
   "metadata": {},
   "source": [
    "#### Conclusions for this section\n",
    "We can conclude that the drivers who tend to accept the coupons fulfill the following criteria:\n",
    "- It is possible that they have occupations in Protective Service, Construction & Extraction, Life Physical Social Science fields.\n",
    "- They are not in a rush to go anywhere.\n",
    "- They are not traveling alone.\n",
    "- The coupon they have expires in one day.\n",
    "- They are in the time range around 2 PM to 6 PM."
   ]
  },
  {
   "cell_type": "markdown",
   "metadata": {},
   "source": [
    "### Data analysis for \"Restaurant(20-50)\"\n",
    "Now we will analyze the most interesting relationships and behaviors for \"Restaurant(20-50)\"."
   ]
  },
  {
   "cell_type": "code",
   "execution_count": 196,
   "metadata": {},
   "outputs": [],
   "source": [
    "# Create a new DataFrame that contains just the Restaurant(20-50) coupons\n",
    "res_o_df = data.query(\"coupon == 'Carry out & Take away'\")"
   ]
  },
  {
   "cell_type": "code",
   "execution_count": 197,
   "metadata": {
    "scrolled": false
   },
   "outputs": [],
   "source": [
    "# Group data by occupation\n",
    "occ_count_res_o_df = res_o_df.groupby(\"occupation\")[[\"Y\"]].mean().reset_index()"
   ]
  },
  {
   "cell_type": "code",
   "execution_count": 198,
   "metadata": {},
   "outputs": [
    {
     "data": {
      "application/vnd.plotly.v1+json": {
       "config": {
        "plotlyServerURL": "https://plot.ly"
       },
       "data": [
        {
         "alignmentgroup": "True",
         "bingroup": "x",
         "histfunc": "sum",
         "hovertemplate": "Occupation=%{x}<br>sum of Y=%{y}<extra></extra>",
         "legendgroup": "",
         "marker": {
          "color": "#636efa",
          "pattern": {
           "shape": ""
          }
         },
         "name": "",
         "offsetgroup": "",
         "orientation": "v",
         "showlegend": false,
         "type": "histogram",
         "x": [
          "Life Physical Social Science",
          "Legal",
          "Installation Maintenance & Repair",
          "Architecture & Engineering",
          "Student",
          "Arts Design Entertainment Sports & Media",
          "Education&Training&Library",
          "Retired",
          "Computer & Mathematical",
          "Sales & Related",
          "Community & Social Services",
          "Unemployed",
          "Office & Administrative Support",
          "Management",
          "Farming Fishing & Forestry",
          "Business & Financial",
          "Personal Care & Service",
          "Transportation & Material Moving",
          "Food Preparation & Serving Related",
          "Healthcare Support",
          "Production Occupations",
          "Healthcare Practitioners & Technical",
          "Construction & Extraction",
          "Protective Service",
          "Building & Grounds Cleaning & Maintenance"
         ],
         "xaxis": "x",
         "y": [
          0.5,
          0.5365853658536586,
          0.625,
          0.6333333333333333,
          0.6745762711864407,
          0.693069306930693,
          0.7012195121951219,
          0.7023809523809523,
          0.7125984251968503,
          0.7171717171717171,
          0.7272727272727273,
          0.7521613832853026,
          0.7627118644067796,
          0.7941176470588235,
          0.8,
          0.8080808080808081,
          0.8125,
          0.8157894736842105,
          0.8275862068965517,
          0.8333333333333334,
          0.8571428571428571,
          0.925,
          0.9642857142857143,
          0.967741935483871,
          1
         ],
         "yaxis": "y"
        }
       ],
       "layout": {
        "barmode": "group",
        "legend": {
         "tracegroupgap": 0
        },
        "template": {
         "data": {
          "bar": [
           {
            "error_x": {
             "color": "#2a3f5f"
            },
            "error_y": {
             "color": "#2a3f5f"
            },
            "marker": {
             "line": {
              "color": "#E5ECF6",
              "width": 0.5
             },
             "pattern": {
              "fillmode": "overlay",
              "size": 10,
              "solidity": 0.2
             }
            },
            "type": "bar"
           }
          ],
          "barpolar": [
           {
            "marker": {
             "line": {
              "color": "#E5ECF6",
              "width": 0.5
             },
             "pattern": {
              "fillmode": "overlay",
              "size": 10,
              "solidity": 0.2
             }
            },
            "type": "barpolar"
           }
          ],
          "carpet": [
           {
            "aaxis": {
             "endlinecolor": "#2a3f5f",
             "gridcolor": "white",
             "linecolor": "white",
             "minorgridcolor": "white",
             "startlinecolor": "#2a3f5f"
            },
            "baxis": {
             "endlinecolor": "#2a3f5f",
             "gridcolor": "white",
             "linecolor": "white",
             "minorgridcolor": "white",
             "startlinecolor": "#2a3f5f"
            },
            "type": "carpet"
           }
          ],
          "choropleth": [
           {
            "colorbar": {
             "outlinewidth": 0,
             "ticks": ""
            },
            "type": "choropleth"
           }
          ],
          "contour": [
           {
            "colorbar": {
             "outlinewidth": 0,
             "ticks": ""
            },
            "colorscale": [
             [
              0,
              "#0d0887"
             ],
             [
              0.1111111111111111,
              "#46039f"
             ],
             [
              0.2222222222222222,
              "#7201a8"
             ],
             [
              0.3333333333333333,
              "#9c179e"
             ],
             [
              0.4444444444444444,
              "#bd3786"
             ],
             [
              0.5555555555555556,
              "#d8576b"
             ],
             [
              0.6666666666666666,
              "#ed7953"
             ],
             [
              0.7777777777777778,
              "#fb9f3a"
             ],
             [
              0.8888888888888888,
              "#fdca26"
             ],
             [
              1,
              "#f0f921"
             ]
            ],
            "type": "contour"
           }
          ],
          "contourcarpet": [
           {
            "colorbar": {
             "outlinewidth": 0,
             "ticks": ""
            },
            "type": "contourcarpet"
           }
          ],
          "heatmap": [
           {
            "colorbar": {
             "outlinewidth": 0,
             "ticks": ""
            },
            "colorscale": [
             [
              0,
              "#0d0887"
             ],
             [
              0.1111111111111111,
              "#46039f"
             ],
             [
              0.2222222222222222,
              "#7201a8"
             ],
             [
              0.3333333333333333,
              "#9c179e"
             ],
             [
              0.4444444444444444,
              "#bd3786"
             ],
             [
              0.5555555555555556,
              "#d8576b"
             ],
             [
              0.6666666666666666,
              "#ed7953"
             ],
             [
              0.7777777777777778,
              "#fb9f3a"
             ],
             [
              0.8888888888888888,
              "#fdca26"
             ],
             [
              1,
              "#f0f921"
             ]
            ],
            "type": "heatmap"
           }
          ],
          "heatmapgl": [
           {
            "colorbar": {
             "outlinewidth": 0,
             "ticks": ""
            },
            "colorscale": [
             [
              0,
              "#0d0887"
             ],
             [
              0.1111111111111111,
              "#46039f"
             ],
             [
              0.2222222222222222,
              "#7201a8"
             ],
             [
              0.3333333333333333,
              "#9c179e"
             ],
             [
              0.4444444444444444,
              "#bd3786"
             ],
             [
              0.5555555555555556,
              "#d8576b"
             ],
             [
              0.6666666666666666,
              "#ed7953"
             ],
             [
              0.7777777777777778,
              "#fb9f3a"
             ],
             [
              0.8888888888888888,
              "#fdca26"
             ],
             [
              1,
              "#f0f921"
             ]
            ],
            "type": "heatmapgl"
           }
          ],
          "histogram": [
           {
            "marker": {
             "pattern": {
              "fillmode": "overlay",
              "size": 10,
              "solidity": 0.2
             }
            },
            "type": "histogram"
           }
          ],
          "histogram2d": [
           {
            "colorbar": {
             "outlinewidth": 0,
             "ticks": ""
            },
            "colorscale": [
             [
              0,
              "#0d0887"
             ],
             [
              0.1111111111111111,
              "#46039f"
             ],
             [
              0.2222222222222222,
              "#7201a8"
             ],
             [
              0.3333333333333333,
              "#9c179e"
             ],
             [
              0.4444444444444444,
              "#bd3786"
             ],
             [
              0.5555555555555556,
              "#d8576b"
             ],
             [
              0.6666666666666666,
              "#ed7953"
             ],
             [
              0.7777777777777778,
              "#fb9f3a"
             ],
             [
              0.8888888888888888,
              "#fdca26"
             ],
             [
              1,
              "#f0f921"
             ]
            ],
            "type": "histogram2d"
           }
          ],
          "histogram2dcontour": [
           {
            "colorbar": {
             "outlinewidth": 0,
             "ticks": ""
            },
            "colorscale": [
             [
              0,
              "#0d0887"
             ],
             [
              0.1111111111111111,
              "#46039f"
             ],
             [
              0.2222222222222222,
              "#7201a8"
             ],
             [
              0.3333333333333333,
              "#9c179e"
             ],
             [
              0.4444444444444444,
              "#bd3786"
             ],
             [
              0.5555555555555556,
              "#d8576b"
             ],
             [
              0.6666666666666666,
              "#ed7953"
             ],
             [
              0.7777777777777778,
              "#fb9f3a"
             ],
             [
              0.8888888888888888,
              "#fdca26"
             ],
             [
              1,
              "#f0f921"
             ]
            ],
            "type": "histogram2dcontour"
           }
          ],
          "mesh3d": [
           {
            "colorbar": {
             "outlinewidth": 0,
             "ticks": ""
            },
            "type": "mesh3d"
           }
          ],
          "parcoords": [
           {
            "line": {
             "colorbar": {
              "outlinewidth": 0,
              "ticks": ""
             }
            },
            "type": "parcoords"
           }
          ],
          "pie": [
           {
            "automargin": true,
            "type": "pie"
           }
          ],
          "scatter": [
           {
            "fillpattern": {
             "fillmode": "overlay",
             "size": 10,
             "solidity": 0.2
            },
            "type": "scatter"
           }
          ],
          "scatter3d": [
           {
            "line": {
             "colorbar": {
              "outlinewidth": 0,
              "ticks": ""
             }
            },
            "marker": {
             "colorbar": {
              "outlinewidth": 0,
              "ticks": ""
             }
            },
            "type": "scatter3d"
           }
          ],
          "scattercarpet": [
           {
            "marker": {
             "colorbar": {
              "outlinewidth": 0,
              "ticks": ""
             }
            },
            "type": "scattercarpet"
           }
          ],
          "scattergeo": [
           {
            "marker": {
             "colorbar": {
              "outlinewidth": 0,
              "ticks": ""
             }
            },
            "type": "scattergeo"
           }
          ],
          "scattergl": [
           {
            "marker": {
             "colorbar": {
              "outlinewidth": 0,
              "ticks": ""
             }
            },
            "type": "scattergl"
           }
          ],
          "scattermapbox": [
           {
            "marker": {
             "colorbar": {
              "outlinewidth": 0,
              "ticks": ""
             }
            },
            "type": "scattermapbox"
           }
          ],
          "scatterpolar": [
           {
            "marker": {
             "colorbar": {
              "outlinewidth": 0,
              "ticks": ""
             }
            },
            "type": "scatterpolar"
           }
          ],
          "scatterpolargl": [
           {
            "marker": {
             "colorbar": {
              "outlinewidth": 0,
              "ticks": ""
             }
            },
            "type": "scatterpolargl"
           }
          ],
          "scatterternary": [
           {
            "marker": {
             "colorbar": {
              "outlinewidth": 0,
              "ticks": ""
             }
            },
            "type": "scatterternary"
           }
          ],
          "surface": [
           {
            "colorbar": {
             "outlinewidth": 0,
             "ticks": ""
            },
            "colorscale": [
             [
              0,
              "#0d0887"
             ],
             [
              0.1111111111111111,
              "#46039f"
             ],
             [
              0.2222222222222222,
              "#7201a8"
             ],
             [
              0.3333333333333333,
              "#9c179e"
             ],
             [
              0.4444444444444444,
              "#bd3786"
             ],
             [
              0.5555555555555556,
              "#d8576b"
             ],
             [
              0.6666666666666666,
              "#ed7953"
             ],
             [
              0.7777777777777778,
              "#fb9f3a"
             ],
             [
              0.8888888888888888,
              "#fdca26"
             ],
             [
              1,
              "#f0f921"
             ]
            ],
            "type": "surface"
           }
          ],
          "table": [
           {
            "cells": {
             "fill": {
              "color": "#EBF0F8"
             },
             "line": {
              "color": "white"
             }
            },
            "header": {
             "fill": {
              "color": "#C8D4E3"
             },
             "line": {
              "color": "white"
             }
            },
            "type": "table"
           }
          ]
         },
         "layout": {
          "annotationdefaults": {
           "arrowcolor": "#2a3f5f",
           "arrowhead": 0,
           "arrowwidth": 1
          },
          "autotypenumbers": "strict",
          "coloraxis": {
           "colorbar": {
            "outlinewidth": 0,
            "ticks": ""
           }
          },
          "colorscale": {
           "diverging": [
            [
             0,
             "#8e0152"
            ],
            [
             0.1,
             "#c51b7d"
            ],
            [
             0.2,
             "#de77ae"
            ],
            [
             0.3,
             "#f1b6da"
            ],
            [
             0.4,
             "#fde0ef"
            ],
            [
             0.5,
             "#f7f7f7"
            ],
            [
             0.6,
             "#e6f5d0"
            ],
            [
             0.7,
             "#b8e186"
            ],
            [
             0.8,
             "#7fbc41"
            ],
            [
             0.9,
             "#4d9221"
            ],
            [
             1,
             "#276419"
            ]
           ],
           "sequential": [
            [
             0,
             "#0d0887"
            ],
            [
             0.1111111111111111,
             "#46039f"
            ],
            [
             0.2222222222222222,
             "#7201a8"
            ],
            [
             0.3333333333333333,
             "#9c179e"
            ],
            [
             0.4444444444444444,
             "#bd3786"
            ],
            [
             0.5555555555555556,
             "#d8576b"
            ],
            [
             0.6666666666666666,
             "#ed7953"
            ],
            [
             0.7777777777777778,
             "#fb9f3a"
            ],
            [
             0.8888888888888888,
             "#fdca26"
            ],
            [
             1,
             "#f0f921"
            ]
           ],
           "sequentialminus": [
            [
             0,
             "#0d0887"
            ],
            [
             0.1111111111111111,
             "#46039f"
            ],
            [
             0.2222222222222222,
             "#7201a8"
            ],
            [
             0.3333333333333333,
             "#9c179e"
            ],
            [
             0.4444444444444444,
             "#bd3786"
            ],
            [
             0.5555555555555556,
             "#d8576b"
            ],
            [
             0.6666666666666666,
             "#ed7953"
            ],
            [
             0.7777777777777778,
             "#fb9f3a"
            ],
            [
             0.8888888888888888,
             "#fdca26"
            ],
            [
             1,
             "#f0f921"
            ]
           ]
          },
          "colorway": [
           "#636efa",
           "#EF553B",
           "#00cc96",
           "#ab63fa",
           "#FFA15A",
           "#19d3f3",
           "#FF6692",
           "#B6E880",
           "#FF97FF",
           "#FECB52"
          ],
          "font": {
           "color": "#2a3f5f"
          },
          "geo": {
           "bgcolor": "white",
           "lakecolor": "white",
           "landcolor": "#E5ECF6",
           "showlakes": true,
           "showland": true,
           "subunitcolor": "white"
          },
          "hoverlabel": {
           "align": "left"
          },
          "hovermode": "closest",
          "mapbox": {
           "style": "light"
          },
          "paper_bgcolor": "white",
          "plot_bgcolor": "#E5ECF6",
          "polar": {
           "angularaxis": {
            "gridcolor": "white",
            "linecolor": "white",
            "ticks": ""
           },
           "bgcolor": "#E5ECF6",
           "radialaxis": {
            "gridcolor": "white",
            "linecolor": "white",
            "ticks": ""
           }
          },
          "scene": {
           "xaxis": {
            "backgroundcolor": "#E5ECF6",
            "gridcolor": "white",
            "gridwidth": 2,
            "linecolor": "white",
            "showbackground": true,
            "ticks": "",
            "zerolinecolor": "white"
           },
           "yaxis": {
            "backgroundcolor": "#E5ECF6",
            "gridcolor": "white",
            "gridwidth": 2,
            "linecolor": "white",
            "showbackground": true,
            "ticks": "",
            "zerolinecolor": "white"
           },
           "zaxis": {
            "backgroundcolor": "#E5ECF6",
            "gridcolor": "white",
            "gridwidth": 2,
            "linecolor": "white",
            "showbackground": true,
            "ticks": "",
            "zerolinecolor": "white"
           }
          },
          "shapedefaults": {
           "line": {
            "color": "#2a3f5f"
           }
          },
          "ternary": {
           "aaxis": {
            "gridcolor": "white",
            "linecolor": "white",
            "ticks": ""
           },
           "baxis": {
            "gridcolor": "white",
            "linecolor": "white",
            "ticks": ""
           },
           "bgcolor": "#E5ECF6",
           "caxis": {
            "gridcolor": "white",
            "linecolor": "white",
            "ticks": ""
           }
          },
          "title": {
           "x": 0.05
          },
          "xaxis": {
           "automargin": true,
           "gridcolor": "white",
           "linecolor": "white",
           "ticks": "",
           "title": {
            "standoff": 15
           },
           "zerolinecolor": "white",
           "zerolinewidth": 2
          },
          "yaxis": {
           "automargin": true,
           "gridcolor": "white",
           "linecolor": "white",
           "ticks": "",
           "title": {
            "standoff": 15
           },
           "zerolinecolor": "white",
           "zerolinewidth": 2
          }
         }
        },
        "title": {
         "text": "Number of Interviews vs Occupation for Restaurant(20-50)"
        },
        "xaxis": {
         "anchor": "y",
         "domain": [
          0,
          1
         ],
         "title": {
          "text": "Occupation"
         }
        },
        "yaxis": {
         "anchor": "x",
         "domain": [
          0,
          1
         ],
         "title": {
          "text": "sum of Y"
         }
        }
       }
      },
      "text/html": [
       "<div>                            <div id=\"7cbf2cf9-66ab-4f33-b9c9-92bda71559ca\" class=\"plotly-graph-div\" style=\"height:525px; width:100%;\"></div>            <script type=\"text/javascript\">                require([\"plotly\"], function(Plotly) {                    window.PLOTLYENV=window.PLOTLYENV || {};                                    if (document.getElementById(\"7cbf2cf9-66ab-4f33-b9c9-92bda71559ca\")) {                    Plotly.newPlot(                        \"7cbf2cf9-66ab-4f33-b9c9-92bda71559ca\",                        [{\"alignmentgroup\":\"True\",\"bingroup\":\"x\",\"histfunc\":\"sum\",\"hovertemplate\":\"Occupation=%{x}<br>sum of Y=%{y}<extra></extra>\",\"legendgroup\":\"\",\"marker\":{\"color\":\"#636efa\",\"pattern\":{\"shape\":\"\"}},\"name\":\"\",\"offsetgroup\":\"\",\"orientation\":\"v\",\"showlegend\":false,\"x\":[\"Life Physical Social Science\",\"Legal\",\"Installation Maintenance & Repair\",\"Architecture & Engineering\",\"Student\",\"Arts Design Entertainment Sports & Media\",\"Education&Training&Library\",\"Retired\",\"Computer & Mathematical\",\"Sales & Related\",\"Community & Social Services\",\"Unemployed\",\"Office & Administrative Support\",\"Management\",\"Farming Fishing & Forestry\",\"Business & Financial\",\"Personal Care & Service\",\"Transportation & Material Moving\",\"Food Preparation & Serving Related\",\"Healthcare Support\",\"Production Occupations\",\"Healthcare Practitioners & Technical\",\"Construction & Extraction\",\"Protective Service\",\"Building & Grounds Cleaning & Maintenance\"],\"xaxis\":\"x\",\"y\":[0.5,0.5365853658536586,0.625,0.6333333333333333,0.6745762711864407,0.693069306930693,0.7012195121951219,0.7023809523809523,0.7125984251968503,0.7171717171717171,0.7272727272727273,0.7521613832853026,0.7627118644067796,0.7941176470588235,0.8,0.8080808080808081,0.8125,0.8157894736842105,0.8275862068965517,0.8333333333333334,0.8571428571428571,0.925,0.9642857142857143,0.967741935483871,1.0],\"yaxis\":\"y\",\"type\":\"histogram\"}],                        {\"template\":{\"data\":{\"histogram2dcontour\":[{\"type\":\"histogram2dcontour\",\"colorbar\":{\"outlinewidth\":0,\"ticks\":\"\"},\"colorscale\":[[0.0,\"#0d0887\"],[0.1111111111111111,\"#46039f\"],[0.2222222222222222,\"#7201a8\"],[0.3333333333333333,\"#9c179e\"],[0.4444444444444444,\"#bd3786\"],[0.5555555555555556,\"#d8576b\"],[0.6666666666666666,\"#ed7953\"],[0.7777777777777778,\"#fb9f3a\"],[0.8888888888888888,\"#fdca26\"],[1.0,\"#f0f921\"]]}],\"choropleth\":[{\"type\":\"choropleth\",\"colorbar\":{\"outlinewidth\":0,\"ticks\":\"\"}}],\"histogram2d\":[{\"type\":\"histogram2d\",\"colorbar\":{\"outlinewidth\":0,\"ticks\":\"\"},\"colorscale\":[[0.0,\"#0d0887\"],[0.1111111111111111,\"#46039f\"],[0.2222222222222222,\"#7201a8\"],[0.3333333333333333,\"#9c179e\"],[0.4444444444444444,\"#bd3786\"],[0.5555555555555556,\"#d8576b\"],[0.6666666666666666,\"#ed7953\"],[0.7777777777777778,\"#fb9f3a\"],[0.8888888888888888,\"#fdca26\"],[1.0,\"#f0f921\"]]}],\"heatmap\":[{\"type\":\"heatmap\",\"colorbar\":{\"outlinewidth\":0,\"ticks\":\"\"},\"colorscale\":[[0.0,\"#0d0887\"],[0.1111111111111111,\"#46039f\"],[0.2222222222222222,\"#7201a8\"],[0.3333333333333333,\"#9c179e\"],[0.4444444444444444,\"#bd3786\"],[0.5555555555555556,\"#d8576b\"],[0.6666666666666666,\"#ed7953\"],[0.7777777777777778,\"#fb9f3a\"],[0.8888888888888888,\"#fdca26\"],[1.0,\"#f0f921\"]]}],\"heatmapgl\":[{\"type\":\"heatmapgl\",\"colorbar\":{\"outlinewidth\":0,\"ticks\":\"\"},\"colorscale\":[[0.0,\"#0d0887\"],[0.1111111111111111,\"#46039f\"],[0.2222222222222222,\"#7201a8\"],[0.3333333333333333,\"#9c179e\"],[0.4444444444444444,\"#bd3786\"],[0.5555555555555556,\"#d8576b\"],[0.6666666666666666,\"#ed7953\"],[0.7777777777777778,\"#fb9f3a\"],[0.8888888888888888,\"#fdca26\"],[1.0,\"#f0f921\"]]}],\"contourcarpet\":[{\"type\":\"contourcarpet\",\"colorbar\":{\"outlinewidth\":0,\"ticks\":\"\"}}],\"contour\":[{\"type\":\"contour\",\"colorbar\":{\"outlinewidth\":0,\"ticks\":\"\"},\"colorscale\":[[0.0,\"#0d0887\"],[0.1111111111111111,\"#46039f\"],[0.2222222222222222,\"#7201a8\"],[0.3333333333333333,\"#9c179e\"],[0.4444444444444444,\"#bd3786\"],[0.5555555555555556,\"#d8576b\"],[0.6666666666666666,\"#ed7953\"],[0.7777777777777778,\"#fb9f3a\"],[0.8888888888888888,\"#fdca26\"],[1.0,\"#f0f921\"]]}],\"surface\":[{\"type\":\"surface\",\"colorbar\":{\"outlinewidth\":0,\"ticks\":\"\"},\"colorscale\":[[0.0,\"#0d0887\"],[0.1111111111111111,\"#46039f\"],[0.2222222222222222,\"#7201a8\"],[0.3333333333333333,\"#9c179e\"],[0.4444444444444444,\"#bd3786\"],[0.5555555555555556,\"#d8576b\"],[0.6666666666666666,\"#ed7953\"],[0.7777777777777778,\"#fb9f3a\"],[0.8888888888888888,\"#fdca26\"],[1.0,\"#f0f921\"]]}],\"mesh3d\":[{\"type\":\"mesh3d\",\"colorbar\":{\"outlinewidth\":0,\"ticks\":\"\"}}],\"scatter\":[{\"fillpattern\":{\"fillmode\":\"overlay\",\"size\":10,\"solidity\":0.2},\"type\":\"scatter\"}],\"parcoords\":[{\"type\":\"parcoords\",\"line\":{\"colorbar\":{\"outlinewidth\":0,\"ticks\":\"\"}}}],\"scatterpolargl\":[{\"type\":\"scatterpolargl\",\"marker\":{\"colorbar\":{\"outlinewidth\":0,\"ticks\":\"\"}}}],\"bar\":[{\"error_x\":{\"color\":\"#2a3f5f\"},\"error_y\":{\"color\":\"#2a3f5f\"},\"marker\":{\"line\":{\"color\":\"#E5ECF6\",\"width\":0.5},\"pattern\":{\"fillmode\":\"overlay\",\"size\":10,\"solidity\":0.2}},\"type\":\"bar\"}],\"scattergeo\":[{\"type\":\"scattergeo\",\"marker\":{\"colorbar\":{\"outlinewidth\":0,\"ticks\":\"\"}}}],\"scatterpolar\":[{\"type\":\"scatterpolar\",\"marker\":{\"colorbar\":{\"outlinewidth\":0,\"ticks\":\"\"}}}],\"histogram\":[{\"marker\":{\"pattern\":{\"fillmode\":\"overlay\",\"size\":10,\"solidity\":0.2}},\"type\":\"histogram\"}],\"scattergl\":[{\"type\":\"scattergl\",\"marker\":{\"colorbar\":{\"outlinewidth\":0,\"ticks\":\"\"}}}],\"scatter3d\":[{\"type\":\"scatter3d\",\"line\":{\"colorbar\":{\"outlinewidth\":0,\"ticks\":\"\"}},\"marker\":{\"colorbar\":{\"outlinewidth\":0,\"ticks\":\"\"}}}],\"scattermapbox\":[{\"type\":\"scattermapbox\",\"marker\":{\"colorbar\":{\"outlinewidth\":0,\"ticks\":\"\"}}}],\"scatterternary\":[{\"type\":\"scatterternary\",\"marker\":{\"colorbar\":{\"outlinewidth\":0,\"ticks\":\"\"}}}],\"scattercarpet\":[{\"type\":\"scattercarpet\",\"marker\":{\"colorbar\":{\"outlinewidth\":0,\"ticks\":\"\"}}}],\"carpet\":[{\"aaxis\":{\"endlinecolor\":\"#2a3f5f\",\"gridcolor\":\"white\",\"linecolor\":\"white\",\"minorgridcolor\":\"white\",\"startlinecolor\":\"#2a3f5f\"},\"baxis\":{\"endlinecolor\":\"#2a3f5f\",\"gridcolor\":\"white\",\"linecolor\":\"white\",\"minorgridcolor\":\"white\",\"startlinecolor\":\"#2a3f5f\"},\"type\":\"carpet\"}],\"table\":[{\"cells\":{\"fill\":{\"color\":\"#EBF0F8\"},\"line\":{\"color\":\"white\"}},\"header\":{\"fill\":{\"color\":\"#C8D4E3\"},\"line\":{\"color\":\"white\"}},\"type\":\"table\"}],\"barpolar\":[{\"marker\":{\"line\":{\"color\":\"#E5ECF6\",\"width\":0.5},\"pattern\":{\"fillmode\":\"overlay\",\"size\":10,\"solidity\":0.2}},\"type\":\"barpolar\"}],\"pie\":[{\"automargin\":true,\"type\":\"pie\"}]},\"layout\":{\"autotypenumbers\":\"strict\",\"colorway\":[\"#636efa\",\"#EF553B\",\"#00cc96\",\"#ab63fa\",\"#FFA15A\",\"#19d3f3\",\"#FF6692\",\"#B6E880\",\"#FF97FF\",\"#FECB52\"],\"font\":{\"color\":\"#2a3f5f\"},\"hovermode\":\"closest\",\"hoverlabel\":{\"align\":\"left\"},\"paper_bgcolor\":\"white\",\"plot_bgcolor\":\"#E5ECF6\",\"polar\":{\"bgcolor\":\"#E5ECF6\",\"angularaxis\":{\"gridcolor\":\"white\",\"linecolor\":\"white\",\"ticks\":\"\"},\"radialaxis\":{\"gridcolor\":\"white\",\"linecolor\":\"white\",\"ticks\":\"\"}},\"ternary\":{\"bgcolor\":\"#E5ECF6\",\"aaxis\":{\"gridcolor\":\"white\",\"linecolor\":\"white\",\"ticks\":\"\"},\"baxis\":{\"gridcolor\":\"white\",\"linecolor\":\"white\",\"ticks\":\"\"},\"caxis\":{\"gridcolor\":\"white\",\"linecolor\":\"white\",\"ticks\":\"\"}},\"coloraxis\":{\"colorbar\":{\"outlinewidth\":0,\"ticks\":\"\"}},\"colorscale\":{\"sequential\":[[0.0,\"#0d0887\"],[0.1111111111111111,\"#46039f\"],[0.2222222222222222,\"#7201a8\"],[0.3333333333333333,\"#9c179e\"],[0.4444444444444444,\"#bd3786\"],[0.5555555555555556,\"#d8576b\"],[0.6666666666666666,\"#ed7953\"],[0.7777777777777778,\"#fb9f3a\"],[0.8888888888888888,\"#fdca26\"],[1.0,\"#f0f921\"]],\"sequentialminus\":[[0.0,\"#0d0887\"],[0.1111111111111111,\"#46039f\"],[0.2222222222222222,\"#7201a8\"],[0.3333333333333333,\"#9c179e\"],[0.4444444444444444,\"#bd3786\"],[0.5555555555555556,\"#d8576b\"],[0.6666666666666666,\"#ed7953\"],[0.7777777777777778,\"#fb9f3a\"],[0.8888888888888888,\"#fdca26\"],[1.0,\"#f0f921\"]],\"diverging\":[[0,\"#8e0152\"],[0.1,\"#c51b7d\"],[0.2,\"#de77ae\"],[0.3,\"#f1b6da\"],[0.4,\"#fde0ef\"],[0.5,\"#f7f7f7\"],[0.6,\"#e6f5d0\"],[0.7,\"#b8e186\"],[0.8,\"#7fbc41\"],[0.9,\"#4d9221\"],[1,\"#276419\"]]},\"xaxis\":{\"gridcolor\":\"white\",\"linecolor\":\"white\",\"ticks\":\"\",\"title\":{\"standoff\":15},\"zerolinecolor\":\"white\",\"automargin\":true,\"zerolinewidth\":2},\"yaxis\":{\"gridcolor\":\"white\",\"linecolor\":\"white\",\"ticks\":\"\",\"title\":{\"standoff\":15},\"zerolinecolor\":\"white\",\"automargin\":true,\"zerolinewidth\":2},\"scene\":{\"xaxis\":{\"backgroundcolor\":\"#E5ECF6\",\"gridcolor\":\"white\",\"linecolor\":\"white\",\"showbackground\":true,\"ticks\":\"\",\"zerolinecolor\":\"white\",\"gridwidth\":2},\"yaxis\":{\"backgroundcolor\":\"#E5ECF6\",\"gridcolor\":\"white\",\"linecolor\":\"white\",\"showbackground\":true,\"ticks\":\"\",\"zerolinecolor\":\"white\",\"gridwidth\":2},\"zaxis\":{\"backgroundcolor\":\"#E5ECF6\",\"gridcolor\":\"white\",\"linecolor\":\"white\",\"showbackground\":true,\"ticks\":\"\",\"zerolinecolor\":\"white\",\"gridwidth\":2}},\"shapedefaults\":{\"line\":{\"color\":\"#2a3f5f\"}},\"annotationdefaults\":{\"arrowcolor\":\"#2a3f5f\",\"arrowhead\":0,\"arrowwidth\":1},\"geo\":{\"bgcolor\":\"white\",\"landcolor\":\"#E5ECF6\",\"subunitcolor\":\"white\",\"showland\":true,\"showlakes\":true,\"lakecolor\":\"white\"},\"title\":{\"x\":0.05},\"mapbox\":{\"style\":\"light\"}}},\"xaxis\":{\"anchor\":\"y\",\"domain\":[0.0,1.0],\"title\":{\"text\":\"Occupation\"}},\"yaxis\":{\"anchor\":\"x\",\"domain\":[0.0,1.0],\"title\":{\"text\":\"sum of Y\"}},\"legend\":{\"tracegroupgap\":0},\"title\":{\"text\":\"Number of Interviews vs Occupation for Restaurant(20-50)\"},\"barmode\":\"group\"},                        {\"responsive\": true}                    ).then(function(){\n",
       "                            \n",
       "var gd = document.getElementById('7cbf2cf9-66ab-4f33-b9c9-92bda71559ca');\n",
       "var x = new MutationObserver(function (mutations, observer) {{\n",
       "        var display = window.getComputedStyle(gd).display;\n",
       "        if (!display || display === 'none') {{\n",
       "            console.log([gd, 'removed!']);\n",
       "            Plotly.purge(gd);\n",
       "            observer.disconnect();\n",
       "        }}\n",
       "}});\n",
       "\n",
       "// Listen for the removal of the full notebook cells\n",
       "var notebookContainer = gd.closest('#notebook-container');\n",
       "if (notebookContainer) {{\n",
       "    x.observe(notebookContainer, {childList: true});\n",
       "}}\n",
       "\n",
       "// Listen for the clearing of the current output cell\n",
       "var outputEl = gd.closest('.output');\n",
       "if (outputEl) {{\n",
       "    x.observe(outputEl, {childList: true});\n",
       "}}\n",
       "\n",
       "                        })                };                });            </script>        </div>"
      ]
     },
     "metadata": {},
     "output_type": "display_data"
    }
   ],
   "source": [
    "# Create a histogram of number of interviews vs Occupation\n",
    "px.histogram(occ_count_res_o_df.sort_values(\"Y\"), x=\"occupation\",y=\"Y\",barmode='group',\n",
    "             title=\"Number of Interviews vs Occupation for Restaurant(20-50)\", labels={\"occupation\":\"Occupation\"})"
   ]
  },
  {
   "cell_type": "code",
   "execution_count": 199,
   "metadata": {
    "scrolled": false
   },
   "outputs": [],
   "source": [
    "#We analyze the drivers who are not traveling alone, have a coupon that expires in one day, \n",
    "# are in the time range of 10 AM to 2 PM, and go to the coffee house 1 to 3 times a month.\n",
    "res_o_df_yes = res_o_df.query(\"(passanger != 'Alone' & expiration == '1d' & (time == '10AM' | time == '2PM') & CoffeeHouse == '1~3')\")\n",
    "res_o_df_no = res_o_df.query(\"not(passanger != 'Alone' & expiration == '1d' & (time == '10AM' | time == '2PM') & CoffeeHouse == '1~3')\")"
   ]
  },
  {
   "cell_type": "code",
   "execution_count": 200,
   "metadata": {},
   "outputs": [],
   "source": [
    "# Calculate the acceptance rate for each group\n",
    "res_o_df_yes_rate = res_o_df_yes[\"Y\"].mean()*100\n",
    "res_o_df_no_rate = res_o_df_no[\"Y\"].mean()*100"
   ]
  },
  {
   "cell_type": "code",
   "execution_count": 201,
   "metadata": {
    "scrolled": true
   },
   "outputs": [
    {
     "name": "stdout",
     "output_type": "stream",
     "text": [
      "- Average acceptance rate for drivers who meet the criteria.:\n",
      " Total data: 84\n",
      " Acceptance: 71\n",
      " Rate: 84.52%\n",
      "\n",
      "- Average acceptance rate for drivers who DONT meet the criteria.:\n",
      " Total data: 2196\n",
      " Acceptance: 1611\n",
      " Rate: 73.36%\n",
      "\n"
     ]
    }
   ],
   "source": [
    "\n",
    "# Print the results\n",
    "print(\"- Average acceptance rate for drivers who meet the criteria.:\")\n",
    "print(\" Total data: \" + str(res_o_df_yes[\"Y\"].shape[0]))\n",
    "print(\" Acceptance: \" + str(res_o_df_yes[\"Y\"].sum()))\n",
    "print(\" Rate: \" + str(res_o_df_yes_rate)[:5] + \"%\\n\")\n",
    "\n",
    "print(\"- Average acceptance rate for drivers who DONT meet the criteria.:\")\n",
    "print(\" Total data: \" + str(res_o_df_no[\"Y\"].shape[0]))\n",
    "print(\" Acceptance: \" + str(res_o_df_no[\"Y\"].sum()))\n",
    "print(\" Rate: \" + str(res_o_df_no_rate)[:5] + \"%\\n\")"
   ]
  },
  {
   "cell_type": "markdown",
   "metadata": {},
   "source": [
    "#### Conclusions for this section\n",
    "We can conclude that the drivers who tend to accept the coupons fulfill the following criteria:\n",
    "- It is possible that they have occupations in Protective Service, Construction & Extraction, Life Physical Social Science fields, which is interestingly similar to the \"Restaurant(<20)\" category.\n",
    "- They are not traveling alone.\n",
    "- The coupon they have expires in one day.\n",
    "- They are in the time range around 2 PM to 10 AM.\n",
    "- They go to the coffee house 1 to 3 times a month."
   ]
  },
  {
   "cell_type": "markdown",
   "metadata": {},
   "source": [
    "## General Conclusion\n",
    "Based on the analysis conducted on different coupon types, certain conclusions can be drawn for each category. For example:\n",
    "\n",
    "- Bar Coupons: Regular visitors to bars, aged below 30, and not accompanied by children are more likely to accept bar coupons.\n",
    "- Time of Acceptance: The hours between 10 AM and 6 PM have the highest availability for accepting coupons.\n",
    "- Weather Impact: Sunny days have a higher acceptance rate compared to other weather conditions.\n",
    "- Traffic Flow: Sunny days attract more traffic from drivers.\n",
    "- Carry Out & Take Away Coupons: Customers who are not in a hurry or going home, do not have children, and have occupations such as Construction & Extraction, Protective Service, or Building & Grounds Cleaning & Maintenance are more likely to accept these coupons.\n",
    "- Coffee House Coupons: Customers who are not in a rush, have either a friend or partner as a passenger, and visit coffee houses more than 1 to 3 times a month are more likely to accept these coupons.\n",
    "- Restaurant (<20) Coupons: Customers who are not in a rush, not traveling alone, have a coupon expiring in one day, and are in the time range of 2 PM to 6 PM are more likely to accept these coupons.\n",
    "- Restaurant (<50) Coupons: Customers who have occupations in Protective Service, Construction & Extraction, or Life Physical Social Science fields, are not traveling alone, have a coupon expiring in one day, and are in the time range of 2 PM to 10 AM are more likely to accept these coupons."
   ]
  },
  {
   "cell_type": "markdown",
   "metadata": {},
   "source": [
    "**GitHub Repo:** [Coupon-Acceptance-Prediction](https://github.com/JuanDiegoSuarezLondono/Coupon-Acceptance-Prediction)"
   ]
  }
 ],
 "metadata": {
  "kernelspec": {
   "display_name": "Python 3 (ipykernel)",
   "language": "python",
   "name": "python3"
  },
  "language_info": {
   "codemirror_mode": {
    "name": "ipython",
    "version": 3
   },
   "file_extension": ".py",
   "mimetype": "text/x-python",
   "name": "python",
   "nbconvert_exporter": "python",
   "pygments_lexer": "ipython3",
   "version": "3.10.9"
  },
  "widgets": {
   "application/vnd.jupyter.widget-state+json": {
    "state": {},
    "version_major": 2,
    "version_minor": 0
   }
  }
 },
 "nbformat": 4,
 "nbformat_minor": 4
}
